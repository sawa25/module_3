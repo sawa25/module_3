{
 "cells": [
  {
   "cell_type": "markdown",
   "metadata": {},
   "source": [
    "![](https://www.pata.org/wp-content/uploads/2014/09/TripAdvisor_Logo-300x119.png)\n",
    "# Predict TripAdvisor Rating\n",
    "## В этом соревновании нам предстоит предсказать рейтинг ресторана в TripAdvisor\n",
    "**По ходу задачи:**\n",
    "* Прокачаем работу с pandas\n",
    "* Научимся работать с Kaggle Notebooks\n",
    "* Поймем как делать предобработку различных данных\n",
    "* Научимся работать с пропущенными данными (Nan)\n",
    "* Познакомимся с различными видами кодирования признаков\n",
    "* Немного попробуем [Feature Engineering](https://ru.wikipedia.org/wiki/Конструирование_признаков) (генерировать новые признаки)\n",
    "* И совсем немного затронем ML\n",
    "* И многое другое...   \n",
    "\n",
    "\n",
    "\n",
    "### И самое важное, все это вы сможете сделать самостоятельно!\n",
    "\n",
    "*Этот Ноутбук являетсся Примером/Шаблоном к этому соревнованию (Baseline) и не служит готовым решением!*   \n",
    "Вы можете использовать его как основу для построения своего решения.\n",
    "\n",
    "> что такое baseline решение, зачем оно нужно и почему предоставлять baseline к соревнованию стало важным стандартом на kaggle и других площадках.   \n",
    "**baseline** создается больше как шаблон, где можно посмотреть как происходит обращение с входящими данными и что нужно получить на выходе. При этом МЛ начинка может быть достаточно простой, просто для примера. Это помогает быстрее приступить к самому МЛ, а не тратить ценное время на чисто инженерные задачи. \n",
    "Также baseline являеться хорошей опорной точкой по метрике. Если твое решение хуже baseline - ты явно делаешь что-то не то и стоит попробовать другой путь) \n",
    "\n",
    "В контексте нашего соревнования baseline идет с небольшими примерами того, что можно делать с данными, и с инструкцией, что делать дальше, чтобы улучшить результат.  Вообще готовым решением это сложно назвать, так как используются всего 2 самых простых признака (а остальные исключаются)."
   ]
  },
  {
   "cell_type": "markdown",
   "metadata": {},
   "source": [
    "# import"
   ]
  },
  {
   "cell_type": "code",
   "execution_count": 1,
   "metadata": {
    "_cell_guid": "b1076dfc-b9ad-4769-8c92-a6c4dae69d19",
    "_uuid": "8f2839f25d086af736a60e9eeb907d3b93b6e0e5",
    "execution": {
     "iopub.execute_input": "2021-09-08T16:43:17.310504Z",
     "iopub.status.busy": "2021-09-08T16:43:17.310145Z",
     "iopub.status.idle": "2021-09-08T16:43:17.325232Z",
     "shell.execute_reply": "2021-09-08T16:43:17.324203Z",
     "shell.execute_reply.started": "2021-09-08T16:43:17.310446Z"
    }
   },
   "outputs": [
    {
     "name": "stdout",
     "output_type": "stream",
     "text": [
      "kaggle/input\\sf-dst-restaurant-rating\\kaggle_task.csv\n",
      "kaggle/input\\sf-dst-restaurant-rating\\kaggle_task.csv.zip\n",
      "kaggle/input\\sf-dst-restaurant-rating\\main_task.csv\n",
      "kaggle/input\\sf-dst-restaurant-rating\\main_task.csv.zip\n",
      "kaggle/input\\sf-dst-restaurant-rating\\sample_submission.csv\n",
      "kaggle/input\\sf-dst-restaurant-rating\\submission.csv\n"
     ]
    }
   ],
   "source": [
    "# This Python 3 environment comes with many helpful analytics libraries installed\n",
    "# It is defined by the kaggle/python docker image: https://github.com/kaggle/docker-python\n",
    "# For example, here's several helpful packages to load in\n",
    "\n",
    "import os\n",
    "from sklearn.model_selection import train_test_split\n",
    "import sys\n",
    "from datetime import datetime, timedelta\n",
    "import math\n",
    "import numpy as np  # linear algebra_\n",
    "import pandas as pd  # data processing, CSV file I/O (e.g. pd.read_csv)\n",
    "\n",
    "import matplotlib.pyplot as plt\n",
    "import seaborn as sns\n",
    "%matplotlib inline\n",
    "\n",
    "# Загружаем специальный удобный инструмент для разделения датасета:\n",
    "\n",
    "# Input data files are available in the \"../input/\" directory.\n",
    "# For example, running this (by clicking run or pressing Shift+Enter) will list all files under the input directory\n",
    "\n",
    "for dirname, _, filenames in os.walk('kaggle/input'):\n",
    "    for filename in filenames:\n",
    "        print(os.path.join(dirname, filename))\n",
    "\n",
    "# Any results you write to the current directory are saved as output."
   ]
  },
  {
   "cell_type": "code",
   "execution_count": 2,
   "metadata": {
    "execution": {
     "iopub.execute_input": "2021-09-08T16:43:17.327606Z",
     "iopub.status.busy": "2021-09-08T16:43:17.327324Z",
     "iopub.status.idle": "2021-09-08T16:43:17.338064Z",
     "shell.execute_reply": "2021-09-08T16:43:17.337250Z",
     "shell.execute_reply.started": "2021-09-08T16:43:17.327566Z"
    }
   },
   "outputs": [],
   "source": [
    "# всегда фиксируйте RANDOM_SEED, чтобы ваши эксперименты были воспроизводимы!\n",
    "RANDOM_SEED = 42"
   ]
  },
  {
   "cell_type": "code",
   "execution_count": 3,
   "metadata": {
    "execution": {
     "iopub.execute_input": "2021-09-08T16:43:17.344091Z",
     "iopub.status.busy": "2021-09-08T16:43:17.343590Z",
     "iopub.status.idle": "2021-09-08T16:43:19.784972Z",
     "shell.execute_reply": "2021-09-08T16:43:19.783687Z",
     "shell.execute_reply.started": "2021-09-08T16:43:17.344035Z"
    }
   },
   "outputs": [],
   "source": [
    "# зафиксируем версию пакетов, чтобы эксперименты были воспроизводимы:\n",
    "!pip freeze > requirements.txt"
   ]
  },
  {
   "cell_type": "markdown",
   "metadata": {},
   "source": [
    "# DATA"
   ]
  },
  {
   "cell_type": "code",
   "execution_count": 96,
   "metadata": {
    "_cell_guid": "79c7e3d0-c299-4dcb-8224-4455121ee9b0",
    "_uuid": "d629ff2d2480ee46fbb7e2d37f6b5fab8052498a",
    "execution": {
     "iopub.execute_input": "2021-09-08T16:43:19.788298Z",
     "iopub.status.busy": "2021-09-08T16:43:19.787873Z",
     "iopub.status.idle": "2021-09-08T16:43:20.078373Z",
     "shell.execute_reply": "2021-09-08T16:43:20.077534Z",
     "shell.execute_reply.started": "2021-09-08T16:43:19.788225Z"
    }
   },
   "outputs": [],
   "source": [
    "DATA_DIR = 'kaggle/input/sf-dst-restaurant-rating/'\n",
    "df_train = pd.read_csv(DATA_DIR+'/main_task.csv')\n",
    "df_test = pd.read_csv(DATA_DIR+'/kaggle_task.csv')\n",
    "sample_submission = pd.read_csv(DATA_DIR+'/sample_submission.csv')"
   ]
  },
  {
   "cell_type": "code",
   "execution_count": 5,
   "metadata": {
    "execution": {
     "iopub.execute_input": "2021-09-08T16:43:20.082548Z",
     "iopub.status.busy": "2021-09-08T16:43:20.082178Z",
     "iopub.status.idle": "2021-09-08T16:43:20.122673Z",
     "shell.execute_reply": "2021-09-08T16:43:20.121363Z",
     "shell.execute_reply.started": "2021-09-08T16:43:20.082495Z"
    }
   },
   "outputs": [
    {
     "name": "stdout",
     "output_type": "stream",
     "text": [
      "<class 'pandas.core.frame.DataFrame'>\n",
      "RangeIndex: 40000 entries, 0 to 39999\n",
      "Data columns (total 10 columns):\n",
      " #   Column             Non-Null Count  Dtype  \n",
      "---  ------             --------------  -----  \n",
      " 0   Restaurant_id      40000 non-null  object \n",
      " 1   City               40000 non-null  object \n",
      " 2   Cuisine Style      30717 non-null  object \n",
      " 3   Ranking            40000 non-null  float64\n",
      " 4   Rating             40000 non-null  float64\n",
      " 5   Price Range        26114 non-null  object \n",
      " 6   Number of Reviews  37457 non-null  float64\n",
      " 7   Reviews            40000 non-null  object \n",
      " 8   URL_TA             40000 non-null  object \n",
      " 9   ID_TA              40000 non-null  object \n",
      "dtypes: float64(3), object(7)\n",
      "memory usage: 3.1+ MB\n"
     ]
    }
   ],
   "source": [
    "df_train.info()"
   ]
  },
  {
   "cell_type": "code",
   "execution_count": 6,
   "metadata": {
    "execution": {
     "iopub.execute_input": "2021-09-08T16:43:20.124775Z",
     "iopub.status.busy": "2021-09-08T16:43:20.124484Z",
     "iopub.status.idle": "2021-09-08T16:43:20.155711Z",
     "shell.execute_reply": "2021-09-08T16:43:20.154091Z",
     "shell.execute_reply.started": "2021-09-08T16:43:20.124728Z"
    }
   },
   "outputs": [
    {
     "data": {
      "text/html": [
       "<div>\n",
       "<style scoped>\n",
       "    .dataframe tbody tr th:only-of-type {\n",
       "        vertical-align: middle;\n",
       "    }\n",
       "\n",
       "    .dataframe tbody tr th {\n",
       "        vertical-align: top;\n",
       "    }\n",
       "\n",
       "    .dataframe thead th {\n",
       "        text-align: right;\n",
       "    }\n",
       "</style>\n",
       "<table border=\"1\" class=\"dataframe\">\n",
       "  <thead>\n",
       "    <tr style=\"text-align: right;\">\n",
       "      <th></th>\n",
       "      <th>Restaurant_id</th>\n",
       "      <th>City</th>\n",
       "      <th>Cuisine Style</th>\n",
       "      <th>Ranking</th>\n",
       "      <th>Rating</th>\n",
       "      <th>Price Range</th>\n",
       "      <th>Number of Reviews</th>\n",
       "      <th>Reviews</th>\n",
       "      <th>URL_TA</th>\n",
       "      <th>ID_TA</th>\n",
       "    </tr>\n",
       "  </thead>\n",
       "  <tbody>\n",
       "    <tr>\n",
       "      <th>0</th>\n",
       "      <td>id_5569</td>\n",
       "      <td>Paris</td>\n",
       "      <td>['European', 'French', 'International']</td>\n",
       "      <td>5570.0</td>\n",
       "      <td>3.5</td>\n",
       "      <td>$$ - $$$</td>\n",
       "      <td>194.0</td>\n",
       "      <td>[['Good food at your doorstep', 'A good hotel ...</td>\n",
       "      <td>/Restaurant_Review-g187147-d1912643-Reviews-R_...</td>\n",
       "      <td>d1912643</td>\n",
       "    </tr>\n",
       "    <tr>\n",
       "      <th>1</th>\n",
       "      <td>id_1535</td>\n",
       "      <td>Stockholm</td>\n",
       "      <td>NaN</td>\n",
       "      <td>1537.0</td>\n",
       "      <td>4.0</td>\n",
       "      <td>NaN</td>\n",
       "      <td>10.0</td>\n",
       "      <td>[['Unique cuisine', 'Delicious Nepalese food']...</td>\n",
       "      <td>/Restaurant_Review-g189852-d7992032-Reviews-Bu...</td>\n",
       "      <td>d7992032</td>\n",
       "    </tr>\n",
       "  </tbody>\n",
       "</table>\n",
       "</div>"
      ],
      "text/plain": [
       "  Restaurant_id       City                            Cuisine Style  Ranking  \\\n",
       "0       id_5569      Paris  ['European', 'French', 'International']   5570.0   \n",
       "1       id_1535  Stockholm                                      NaN   1537.0   \n",
       "\n",
       "   Rating Price Range  Number of Reviews  \\\n",
       "0     3.5    $$ - $$$              194.0   \n",
       "1     4.0         NaN               10.0   \n",
       "\n",
       "                                             Reviews  \\\n",
       "0  [['Good food at your doorstep', 'A good hotel ...   \n",
       "1  [['Unique cuisine', 'Delicious Nepalese food']...   \n",
       "\n",
       "                                              URL_TA     ID_TA  \n",
       "0  /Restaurant_Review-g187147-d1912643-Reviews-R_...  d1912643  \n",
       "1  /Restaurant_Review-g189852-d7992032-Reviews-Bu...  d7992032  "
      ]
     },
     "execution_count": 6,
     "metadata": {},
     "output_type": "execute_result"
    }
   ],
   "source": [
    "df_train.head(2)"
   ]
  },
  {
   "cell_type": "code",
   "execution_count": 7,
   "metadata": {
    "execution": {
     "iopub.execute_input": "2021-09-08T16:43:20.160847Z",
     "iopub.status.busy": "2021-09-08T16:43:20.160462Z",
     "iopub.status.idle": "2021-09-08T16:43:20.178946Z",
     "shell.execute_reply": "2021-09-08T16:43:20.177895Z",
     "shell.execute_reply.started": "2021-09-08T16:43:20.160778Z"
    }
   },
   "outputs": [
    {
     "name": "stdout",
     "output_type": "stream",
     "text": [
      "<class 'pandas.core.frame.DataFrame'>\n",
      "RangeIndex: 10000 entries, 0 to 9999\n",
      "Data columns (total 9 columns):\n",
      " #   Column             Non-Null Count  Dtype  \n",
      "---  ------             --------------  -----  \n",
      " 0   Restaurant_id      10000 non-null  object \n",
      " 1   City               10000 non-null  object \n",
      " 2   Cuisine Style      7693 non-null   object \n",
      " 3   Ranking            10000 non-null  float64\n",
      " 4   Price Range        6525 non-null   object \n",
      " 5   Number of Reviews  9343 non-null   float64\n",
      " 6   Reviews            9998 non-null   object \n",
      " 7   URL_TA             10000 non-null  object \n",
      " 8   ID_TA              10000 non-null  object \n",
      "dtypes: float64(2), object(7)\n",
      "memory usage: 703.2+ KB\n"
     ]
    }
   ],
   "source": [
    "df_test.info()"
   ]
  },
  {
   "cell_type": "code",
   "execution_count": 8,
   "metadata": {
    "execution": {
     "iopub.execute_input": "2021-09-08T16:43:20.182682Z",
     "iopub.status.busy": "2021-09-08T16:43:20.182403Z",
     "iopub.status.idle": "2021-09-08T16:43:20.201561Z",
     "shell.execute_reply": "2021-09-08T16:43:20.200356Z",
     "shell.execute_reply.started": "2021-09-08T16:43:20.182635Z"
    }
   },
   "outputs": [
    {
     "data": {
      "text/html": [
       "<div>\n",
       "<style scoped>\n",
       "    .dataframe tbody tr th:only-of-type {\n",
       "        vertical-align: middle;\n",
       "    }\n",
       "\n",
       "    .dataframe tbody tr th {\n",
       "        vertical-align: top;\n",
       "    }\n",
       "\n",
       "    .dataframe thead th {\n",
       "        text-align: right;\n",
       "    }\n",
       "</style>\n",
       "<table border=\"1\" class=\"dataframe\">\n",
       "  <thead>\n",
       "    <tr style=\"text-align: right;\">\n",
       "      <th></th>\n",
       "      <th>Restaurant_id</th>\n",
       "      <th>City</th>\n",
       "      <th>Cuisine Style</th>\n",
       "      <th>Ranking</th>\n",
       "      <th>Price Range</th>\n",
       "      <th>Number of Reviews</th>\n",
       "      <th>Reviews</th>\n",
       "      <th>URL_TA</th>\n",
       "      <th>ID_TA</th>\n",
       "    </tr>\n",
       "  </thead>\n",
       "  <tbody>\n",
       "    <tr>\n",
       "      <th>0</th>\n",
       "      <td>id_0</td>\n",
       "      <td>Paris</td>\n",
       "      <td>['Bar', 'Pub']</td>\n",
       "      <td>12963.0</td>\n",
       "      <td>$$ - $$$</td>\n",
       "      <td>4.0</td>\n",
       "      <td>[[], []]</td>\n",
       "      <td>/Restaurant_Review-g187147-d10746918-Reviews-L...</td>\n",
       "      <td>d10746918</td>\n",
       "    </tr>\n",
       "    <tr>\n",
       "      <th>1</th>\n",
       "      <td>id_1</td>\n",
       "      <td>Helsinki</td>\n",
       "      <td>['European', 'Scandinavian', 'Gluten Free Opti...</td>\n",
       "      <td>106.0</td>\n",
       "      <td>$$ - $$$</td>\n",
       "      <td>97.0</td>\n",
       "      <td>[['Very good reviews!', 'Fine dining in Hakani...</td>\n",
       "      <td>/Restaurant_Review-g189934-d6674944-Reviews-Ra...</td>\n",
       "      <td>d6674944</td>\n",
       "    </tr>\n",
       "  </tbody>\n",
       "</table>\n",
       "</div>"
      ],
      "text/plain": [
       "  Restaurant_id      City                                      Cuisine Style  \\\n",
       "0          id_0     Paris                                     ['Bar', 'Pub']   \n",
       "1          id_1  Helsinki  ['European', 'Scandinavian', 'Gluten Free Opti...   \n",
       "\n",
       "   Ranking Price Range  Number of Reviews  \\\n",
       "0  12963.0    $$ - $$$                4.0   \n",
       "1    106.0    $$ - $$$               97.0   \n",
       "\n",
       "                                             Reviews  \\\n",
       "0                                           [[], []]   \n",
       "1  [['Very good reviews!', 'Fine dining in Hakani...   \n",
       "\n",
       "                                              URL_TA      ID_TA  \n",
       "0  /Restaurant_Review-g187147-d10746918-Reviews-L...  d10746918  \n",
       "1  /Restaurant_Review-g189934-d6674944-Reviews-Ra...   d6674944  "
      ]
     },
     "execution_count": 8,
     "metadata": {},
     "output_type": "execute_result"
    }
   ],
   "source": [
    "df_test.head(2)"
   ]
  },
  {
   "cell_type": "code",
   "execution_count": 9,
   "metadata": {
    "execution": {
     "iopub.execute_input": "2021-09-08T16:43:20.203517Z",
     "iopub.status.busy": "2021-09-08T16:43:20.203210Z",
     "iopub.status.idle": "2021-09-08T16:43:20.216888Z",
     "shell.execute_reply": "2021-09-08T16:43:20.216012Z",
     "shell.execute_reply.started": "2021-09-08T16:43:20.203470Z"
    }
   },
   "outputs": [
    {
     "data": {
      "text/html": [
       "<div>\n",
       "<style scoped>\n",
       "    .dataframe tbody tr th:only-of-type {\n",
       "        vertical-align: middle;\n",
       "    }\n",
       "\n",
       "    .dataframe tbody tr th {\n",
       "        vertical-align: top;\n",
       "    }\n",
       "\n",
       "    .dataframe thead th {\n",
       "        text-align: right;\n",
       "    }\n",
       "</style>\n",
       "<table border=\"1\" class=\"dataframe\">\n",
       "  <thead>\n",
       "    <tr style=\"text-align: right;\">\n",
       "      <th></th>\n",
       "      <th>Restaurant_id</th>\n",
       "      <th>Rating</th>\n",
       "    </tr>\n",
       "  </thead>\n",
       "  <tbody>\n",
       "    <tr>\n",
       "      <th>0</th>\n",
       "      <td>id_0</td>\n",
       "      <td>2.0</td>\n",
       "    </tr>\n",
       "    <tr>\n",
       "      <th>1</th>\n",
       "      <td>id_1</td>\n",
       "      <td>2.5</td>\n",
       "    </tr>\n",
       "    <tr>\n",
       "      <th>2</th>\n",
       "      <td>id_2</td>\n",
       "      <td>4.0</td>\n",
       "    </tr>\n",
       "    <tr>\n",
       "      <th>3</th>\n",
       "      <td>id_3</td>\n",
       "      <td>1.0</td>\n",
       "    </tr>\n",
       "    <tr>\n",
       "      <th>4</th>\n",
       "      <td>id_4</td>\n",
       "      <td>4.0</td>\n",
       "    </tr>\n",
       "  </tbody>\n",
       "</table>\n",
       "</div>"
      ],
      "text/plain": [
       "  Restaurant_id  Rating\n",
       "0          id_0     2.0\n",
       "1          id_1     2.5\n",
       "2          id_2     4.0\n",
       "3          id_3     1.0\n",
       "4          id_4     4.0"
      ]
     },
     "execution_count": 9,
     "metadata": {},
     "output_type": "execute_result"
    }
   ],
   "source": [
    "sample_submission.head(5)"
   ]
  },
  {
   "cell_type": "code",
   "execution_count": 10,
   "metadata": {
    "execution": {
     "iopub.execute_input": "2021-09-08T16:43:20.218507Z",
     "iopub.status.busy": "2021-09-08T16:43:20.218237Z",
     "iopub.status.idle": "2021-09-08T16:43:20.235091Z",
     "shell.execute_reply": "2021-09-08T16:43:20.234174Z",
     "shell.execute_reply.started": "2021-09-08T16:43:20.218463Z"
    }
   },
   "outputs": [
    {
     "name": "stdout",
     "output_type": "stream",
     "text": [
      "<class 'pandas.core.frame.DataFrame'>\n",
      "RangeIndex: 10000 entries, 0 to 9999\n",
      "Data columns (total 2 columns):\n",
      " #   Column         Non-Null Count  Dtype  \n",
      "---  ------         --------------  -----  \n",
      " 0   Restaurant_id  10000 non-null  object \n",
      " 1   Rating         10000 non-null  float64\n",
      "dtypes: float64(1), object(1)\n",
      "memory usage: 156.4+ KB\n"
     ]
    }
   ],
   "source": [
    "sample_submission.info()"
   ]
  },
  {
   "cell_type": "code",
   "execution_count": 97,
   "metadata": {
    "execution": {
     "iopub.execute_input": "2021-09-08T16:43:20.237241Z",
     "iopub.status.busy": "2021-09-08T16:43:20.236810Z",
     "iopub.status.idle": "2021-09-08T16:43:20.290946Z",
     "shell.execute_reply": "2021-09-08T16:43:20.290011Z",
     "shell.execute_reply.started": "2021-09-08T16:43:20.237179Z"
    }
   },
   "outputs": [
    {
     "data": {
      "text/html": [
       "<div>\n",
       "<style scoped>\n",
       "    .dataframe tbody tr th:only-of-type {\n",
       "        vertical-align: middle;\n",
       "    }\n",
       "\n",
       "    .dataframe tbody tr th {\n",
       "        vertical-align: top;\n",
       "    }\n",
       "\n",
       "    .dataframe thead th {\n",
       "        text-align: right;\n",
       "    }\n",
       "</style>\n",
       "<table border=\"1\" class=\"dataframe\">\n",
       "  <thead>\n",
       "    <tr style=\"text-align: right;\">\n",
       "      <th></th>\n",
       "      <th>Restaurant_id</th>\n",
       "      <th>City</th>\n",
       "      <th>Cuisine Style</th>\n",
       "      <th>Ranking</th>\n",
       "      <th>Price Range</th>\n",
       "      <th>Number of Reviews</th>\n",
       "      <th>Reviews</th>\n",
       "      <th>URL_TA</th>\n",
       "      <th>ID_TA</th>\n",
       "      <th>sample</th>\n",
       "      <th>Rating</th>\n",
       "    </tr>\n",
       "  </thead>\n",
       "  <tbody>\n",
       "    <tr>\n",
       "      <th>0</th>\n",
       "      <td>id_0</td>\n",
       "      <td>Paris</td>\n",
       "      <td>['Bar', 'Pub']</td>\n",
       "      <td>12963.0</td>\n",
       "      <td>$$ - $$$</td>\n",
       "      <td>4.0</td>\n",
       "      <td>[[], []]</td>\n",
       "      <td>/Restaurant_Review-g187147-d10746918-Reviews-L...</td>\n",
       "      <td>d10746918</td>\n",
       "      <td>0</td>\n",
       "      <td>0.0</td>\n",
       "    </tr>\n",
       "    <tr>\n",
       "      <th>1</th>\n",
       "      <td>id_1</td>\n",
       "      <td>Helsinki</td>\n",
       "      <td>['European', 'Scandinavian', 'Gluten Free Opti...</td>\n",
       "      <td>106.0</td>\n",
       "      <td>$$ - $$$</td>\n",
       "      <td>97.0</td>\n",
       "      <td>[['Very good reviews!', 'Fine dining in Hakani...</td>\n",
       "      <td>/Restaurant_Review-g189934-d6674944-Reviews-Ra...</td>\n",
       "      <td>d6674944</td>\n",
       "      <td>0</td>\n",
       "      <td>0.0</td>\n",
       "    </tr>\n",
       "    <tr>\n",
       "      <th>2</th>\n",
       "      <td>id_2</td>\n",
       "      <td>Edinburgh</td>\n",
       "      <td>['Vegetarian Friendly']</td>\n",
       "      <td>810.0</td>\n",
       "      <td>$$ - $$$</td>\n",
       "      <td>28.0</td>\n",
       "      <td>[['Better than the Links', 'Ivy Black'], ['12/...</td>\n",
       "      <td>/Restaurant_Review-g186525-d13129638-Reviews-B...</td>\n",
       "      <td>d13129638</td>\n",
       "      <td>0</td>\n",
       "      <td>0.0</td>\n",
       "    </tr>\n",
       "    <tr>\n",
       "      <th>3</th>\n",
       "      <td>id_3</td>\n",
       "      <td>London</td>\n",
       "      <td>['Italian', 'Mediterranean', 'European', 'Vege...</td>\n",
       "      <td>1669.0</td>\n",
       "      <td>$$$$</td>\n",
       "      <td>202.0</td>\n",
       "      <td>[['Most exquisite', 'Delicious and authentic']...</td>\n",
       "      <td>/Restaurant_Review-g186338-d680417-Reviews-Qui...</td>\n",
       "      <td>d680417</td>\n",
       "      <td>0</td>\n",
       "      <td>0.0</td>\n",
       "    </tr>\n",
       "    <tr>\n",
       "      <th>4</th>\n",
       "      <td>id_4</td>\n",
       "      <td>Bratislava</td>\n",
       "      <td>['Italian', 'Mediterranean', 'European', 'Seaf...</td>\n",
       "      <td>37.0</td>\n",
       "      <td>$$$$</td>\n",
       "      <td>162.0</td>\n",
       "      <td>[['Always the best in bratislava', 'Very good ...</td>\n",
       "      <td>/Restaurant_Review-g274924-d1112354-Reviews-Ma...</td>\n",
       "      <td>d1112354</td>\n",
       "      <td>0</td>\n",
       "      <td>0.0</td>\n",
       "    </tr>\n",
       "  </tbody>\n",
       "</table>\n",
       "</div>"
      ],
      "text/plain": [
       "  Restaurant_id        City  \\\n",
       "0          id_0       Paris   \n",
       "1          id_1    Helsinki   \n",
       "2          id_2   Edinburgh   \n",
       "3          id_3      London   \n",
       "4          id_4  Bratislava   \n",
       "\n",
       "                                       Cuisine Style  Ranking Price Range  \\\n",
       "0                                     ['Bar', 'Pub']  12963.0    $$ - $$$   \n",
       "1  ['European', 'Scandinavian', 'Gluten Free Opti...    106.0    $$ - $$$   \n",
       "2                            ['Vegetarian Friendly']    810.0    $$ - $$$   \n",
       "3  ['Italian', 'Mediterranean', 'European', 'Vege...   1669.0        $$$$   \n",
       "4  ['Italian', 'Mediterranean', 'European', 'Seaf...     37.0        $$$$   \n",
       "\n",
       "   Number of Reviews                                            Reviews  \\\n",
       "0                4.0                                           [[], []]   \n",
       "1               97.0  [['Very good reviews!', 'Fine dining in Hakani...   \n",
       "2               28.0  [['Better than the Links', 'Ivy Black'], ['12/...   \n",
       "3              202.0  [['Most exquisite', 'Delicious and authentic']...   \n",
       "4              162.0  [['Always the best in bratislava', 'Very good ...   \n",
       "\n",
       "                                              URL_TA      ID_TA  sample  \\\n",
       "0  /Restaurant_Review-g187147-d10746918-Reviews-L...  d10746918       0   \n",
       "1  /Restaurant_Review-g189934-d6674944-Reviews-Ra...   d6674944       0   \n",
       "2  /Restaurant_Review-g186525-d13129638-Reviews-B...  d13129638       0   \n",
       "3  /Restaurant_Review-g186338-d680417-Reviews-Qui...    d680417       0   \n",
       "4  /Restaurant_Review-g274924-d1112354-Reviews-Ma...   d1112354       0   \n",
       "\n",
       "   Rating  \n",
       "0     0.0  \n",
       "1     0.0  \n",
       "2     0.0  \n",
       "3     0.0  \n",
       "4     0.0  "
      ]
     },
     "execution_count": 97,
     "metadata": {},
     "output_type": "execute_result"
    }
   ],
   "source": [
    "# ВАЖНО! дря корректной обработки признаков объединяем трейн и тест в один датасет\n",
    "df_train['sample'] = 1 # помечаем где у нас трейн\n",
    "df_test['sample'] = 0 # помечаем где у нас тест\n",
    "df_test['Rating'] = 0 # в тесте у нас нет значения Rating, мы его должны предсказать, по этому пока просто заполняем нулями\n",
    "\n",
    "data = df_test.append(df_train, sort=False) # объединяем\n",
    "data[:5]"
   ]
  },
  {
   "cell_type": "code",
   "execution_count": 98,
   "metadata": {
    "execution": {
     "iopub.execute_input": "2021-09-08T16:43:20.292576Z",
     "iopub.status.busy": "2021-09-08T16:43:20.292320Z",
     "iopub.status.idle": "2021-09-08T16:43:20.333074Z",
     "shell.execute_reply": "2021-09-08T16:43:20.331971Z",
     "shell.execute_reply.started": "2021-09-08T16:43:20.292533Z"
    }
   },
   "outputs": [
    {
     "data": {
      "text/html": [
       "<div>\n",
       "<style scoped>\n",
       "    .dataframe tbody tr th:only-of-type {\n",
       "        vertical-align: middle;\n",
       "    }\n",
       "\n",
       "    .dataframe tbody tr th {\n",
       "        vertical-align: top;\n",
       "    }\n",
       "\n",
       "    .dataframe thead th {\n",
       "        text-align: right;\n",
       "    }\n",
       "</style>\n",
       "<table border=\"1\" class=\"dataframe\">\n",
       "  <thead>\n",
       "    <tr style=\"text-align: right;\">\n",
       "      <th></th>\n",
       "      <th>Restaurant_id</th>\n",
       "      <th>City</th>\n",
       "      <th>Cuisine Style</th>\n",
       "      <th>Ranking</th>\n",
       "      <th>Price Range</th>\n",
       "      <th>Number of Reviews</th>\n",
       "      <th>Reviews</th>\n",
       "      <th>URL_TA</th>\n",
       "      <th>ID_TA</th>\n",
       "      <th>sample</th>\n",
       "      <th>Rating</th>\n",
       "    </tr>\n",
       "  </thead>\n",
       "  <tbody>\n",
       "    <tr>\n",
       "      <th>0</th>\n",
       "      <td>id_0</td>\n",
       "      <td>Paris</td>\n",
       "      <td>['Bar', 'Pub']</td>\n",
       "      <td>12963.0</td>\n",
       "      <td>$$ - $$$</td>\n",
       "      <td>4.0</td>\n",
       "      <td>[[], []]</td>\n",
       "      <td>/Restaurant_Review-g187147-d10746918-Reviews-L...</td>\n",
       "      <td>d10746918</td>\n",
       "      <td>0</td>\n",
       "      <td>0.0</td>\n",
       "    </tr>\n",
       "    <tr>\n",
       "      <th>1</th>\n",
       "      <td>id_1</td>\n",
       "      <td>Helsinki</td>\n",
       "      <td>['European', 'Scandinavian', 'Gluten Free Opti...</td>\n",
       "      <td>106.0</td>\n",
       "      <td>$$ - $$$</td>\n",
       "      <td>97.0</td>\n",
       "      <td>[['Very good reviews!', 'Fine dining in Hakani...</td>\n",
       "      <td>/Restaurant_Review-g189934-d6674944-Reviews-Ra...</td>\n",
       "      <td>d6674944</td>\n",
       "      <td>0</td>\n",
       "      <td>0.0</td>\n",
       "    </tr>\n",
       "    <tr>\n",
       "      <th>2</th>\n",
       "      <td>id_2</td>\n",
       "      <td>Edinburgh</td>\n",
       "      <td>['Vegetarian Friendly']</td>\n",
       "      <td>810.0</td>\n",
       "      <td>$$ - $$$</td>\n",
       "      <td>28.0</td>\n",
       "      <td>[['Better than the Links', 'Ivy Black'], ['12/...</td>\n",
       "      <td>/Restaurant_Review-g186525-d13129638-Reviews-B...</td>\n",
       "      <td>d13129638</td>\n",
       "      <td>0</td>\n",
       "      <td>0.0</td>\n",
       "    </tr>\n",
       "    <tr>\n",
       "      <th>3</th>\n",
       "      <td>id_3</td>\n",
       "      <td>London</td>\n",
       "      <td>['Italian', 'Mediterranean', 'European', 'Vege...</td>\n",
       "      <td>1669.0</td>\n",
       "      <td>$$$$</td>\n",
       "      <td>202.0</td>\n",
       "      <td>[['Most exquisite', 'Delicious and authentic']...</td>\n",
       "      <td>/Restaurant_Review-g186338-d680417-Reviews-Qui...</td>\n",
       "      <td>d680417</td>\n",
       "      <td>0</td>\n",
       "      <td>0.0</td>\n",
       "    </tr>\n",
       "    <tr>\n",
       "      <th>4</th>\n",
       "      <td>id_4</td>\n",
       "      <td>Bratislava</td>\n",
       "      <td>['Italian', 'Mediterranean', 'European', 'Seaf...</td>\n",
       "      <td>37.0</td>\n",
       "      <td>$$$$</td>\n",
       "      <td>162.0</td>\n",
       "      <td>[['Always the best in bratislava', 'Very good ...</td>\n",
       "      <td>/Restaurant_Review-g274924-d1112354-Reviews-Ma...</td>\n",
       "      <td>d1112354</td>\n",
       "      <td>0</td>\n",
       "      <td>0.0</td>\n",
       "    </tr>\n",
       "  </tbody>\n",
       "</table>\n",
       "</div>"
      ],
      "text/plain": [
       "  Restaurant_id        City  \\\n",
       "0          id_0       Paris   \n",
       "1          id_1    Helsinki   \n",
       "2          id_2   Edinburgh   \n",
       "3          id_3      London   \n",
       "4          id_4  Bratislava   \n",
       "\n",
       "                                       Cuisine Style  Ranking Price Range  \\\n",
       "0                                     ['Bar', 'Pub']  12963.0    $$ - $$$   \n",
       "1  ['European', 'Scandinavian', 'Gluten Free Opti...    106.0    $$ - $$$   \n",
       "2                            ['Vegetarian Friendly']    810.0    $$ - $$$   \n",
       "3  ['Italian', 'Mediterranean', 'European', 'Vege...   1669.0        $$$$   \n",
       "4  ['Italian', 'Mediterranean', 'European', 'Seaf...     37.0        $$$$   \n",
       "\n",
       "   Number of Reviews                                            Reviews  \\\n",
       "0                4.0                                           [[], []]   \n",
       "1               97.0  [['Very good reviews!', 'Fine dining in Hakani...   \n",
       "2               28.0  [['Better than the Links', 'Ivy Black'], ['12/...   \n",
       "3              202.0  [['Most exquisite', 'Delicious and authentic']...   \n",
       "4              162.0  [['Always the best in bratislava', 'Very good ...   \n",
       "\n",
       "                                              URL_TA      ID_TA  sample  \\\n",
       "0  /Restaurant_Review-g187147-d10746918-Reviews-L...  d10746918       0   \n",
       "1  /Restaurant_Review-g189934-d6674944-Reviews-Ra...   d6674944       0   \n",
       "2  /Restaurant_Review-g186525-d13129638-Reviews-B...  d13129638       0   \n",
       "3  /Restaurant_Review-g186338-d680417-Reviews-Qui...    d680417       0   \n",
       "4  /Restaurant_Review-g274924-d1112354-Reviews-Ma...   d1112354       0   \n",
       "\n",
       "   Rating  \n",
       "0     0.0  \n",
       "1     0.0  \n",
       "2     0.0  \n",
       "3     0.0  \n",
       "4     0.0  "
      ]
     },
     "execution_count": 98,
     "metadata": {},
     "output_type": "execute_result"
    }
   ],
   "source": [
    "data=data.reset_index(drop=True)\n",
    "data[:5]"
   ]
  },
  {
   "cell_type": "code",
   "execution_count": 13,
   "metadata": {
    "execution": {
     "iopub.execute_input": "2021-09-08T16:43:20.334917Z",
     "iopub.status.busy": "2021-09-08T16:43:20.334635Z",
     "iopub.status.idle": "2021-09-08T16:43:20.380805Z",
     "shell.execute_reply": "2021-09-08T16:43:20.379676Z",
     "shell.execute_reply.started": "2021-09-08T16:43:20.334873Z"
    }
   },
   "outputs": [
    {
     "name": "stdout",
     "output_type": "stream",
     "text": [
      "<class 'pandas.core.frame.DataFrame'>\n",
      "RangeIndex: 50000 entries, 0 to 49999\n",
      "Data columns (total 11 columns):\n",
      " #   Column             Non-Null Count  Dtype  \n",
      "---  ------             --------------  -----  \n",
      " 0   Restaurant_id      50000 non-null  object \n",
      " 1   City               50000 non-null  object \n",
      " 2   Cuisine Style      38410 non-null  object \n",
      " 3   Ranking            50000 non-null  float64\n",
      " 4   Price Range        32639 non-null  object \n",
      " 5   Number of Reviews  46800 non-null  float64\n",
      " 6   Reviews            49998 non-null  object \n",
      " 7   URL_TA             50000 non-null  object \n",
      " 8   ID_TA              50000 non-null  object \n",
      " 9   sample             50000 non-null  int64  \n",
      " 10  Rating             50000 non-null  float64\n",
      "dtypes: float64(3), int64(1), object(7)\n",
      "memory usage: 4.2+ MB\n"
     ]
    }
   ],
   "source": [
    "data.info()"
   ]
  },
  {
   "cell_type": "markdown",
   "metadata": {},
   "source": [
    "Подробнее по признакам:\n",
    "* City: Город \n",
    "* Cuisine Style: Кухня\n",
    "* Ranking: Ранг ресторана относительно других ресторанов в этом городе\n",
    "* Price Range: Цены в ресторане в 3 категориях\n",
    "* Number of Reviews: Количество отзывов\n",
    "* Reviews: 2 последних отзыва и даты этих отзывов\n",
    "* URL_TA: страница ресторана на 'www.tripadvisor.com' \n",
    "* ID_TA: ID ресторана в TripAdvisor\n",
    "* Rating: Рейтинг ресторана"
   ]
  },
  {
   "cell_type": "code",
   "execution_count": 14,
   "metadata": {
    "execution": {
     "iopub.execute_input": "2021-09-08T16:43:20.382991Z",
     "iopub.status.busy": "2021-09-08T16:43:20.382706Z",
     "iopub.status.idle": "2021-09-08T16:43:20.404520Z",
     "shell.execute_reply": "2021-09-08T16:43:20.403618Z",
     "shell.execute_reply.started": "2021-09-08T16:43:20.382945Z"
    }
   },
   "outputs": [
    {
     "data": {
      "text/html": [
       "<div>\n",
       "<style scoped>\n",
       "    .dataframe tbody tr th:only-of-type {\n",
       "        vertical-align: middle;\n",
       "    }\n",
       "\n",
       "    .dataframe tbody tr th {\n",
       "        vertical-align: top;\n",
       "    }\n",
       "\n",
       "    .dataframe thead th {\n",
       "        text-align: right;\n",
       "    }\n",
       "</style>\n",
       "<table border=\"1\" class=\"dataframe\">\n",
       "  <thead>\n",
       "    <tr style=\"text-align: right;\">\n",
       "      <th></th>\n",
       "      <th>Restaurant_id</th>\n",
       "      <th>City</th>\n",
       "      <th>Cuisine Style</th>\n",
       "      <th>Ranking</th>\n",
       "      <th>Price Range</th>\n",
       "      <th>Number of Reviews</th>\n",
       "      <th>Reviews</th>\n",
       "      <th>URL_TA</th>\n",
       "      <th>ID_TA</th>\n",
       "      <th>sample</th>\n",
       "      <th>Rating</th>\n",
       "    </tr>\n",
       "  </thead>\n",
       "  <tbody>\n",
       "    <tr>\n",
       "      <th>8600</th>\n",
       "      <td>id_8600</td>\n",
       "      <td>Lyon</td>\n",
       "      <td>['French']</td>\n",
       "      <td>920.0</td>\n",
       "      <td>NaN</td>\n",
       "      <td>24.0</td>\n",
       "      <td>[[], []]</td>\n",
       "      <td>/Restaurant_Review-g187265-d6773412-Reviews-Ca...</td>\n",
       "      <td>d6773412</td>\n",
       "      <td>0</td>\n",
       "      <td>0.0</td>\n",
       "    </tr>\n",
       "    <tr>\n",
       "      <th>20200</th>\n",
       "      <td>id_4787</td>\n",
       "      <td>London</td>\n",
       "      <td>['Cafe', 'British', 'Vegetarian Friendly', 'Gl...</td>\n",
       "      <td>4796.0</td>\n",
       "      <td>$$ - $$$</td>\n",
       "      <td>131.0</td>\n",
       "      <td>[['Nice but a bit pricy', 'Excellent Lunch'], ...</td>\n",
       "      <td>/Restaurant_Review-g186338-d733358-Reviews-Cha...</td>\n",
       "      <td>d733358</td>\n",
       "      <td>1</td>\n",
       "      <td>4.0</td>\n",
       "    </tr>\n",
       "    <tr>\n",
       "      <th>18562</th>\n",
       "      <td>id_1042</td>\n",
       "      <td>Amsterdam</td>\n",
       "      <td>['Italian', 'Pizza', 'European', 'Vegetarian F...</td>\n",
       "      <td>1045.0</td>\n",
       "      <td>$$ - $$$</td>\n",
       "      <td>167.0</td>\n",
       "      <td>[['Love this place!', 'Cool'], ['10/07/2017', ...</td>\n",
       "      <td>/Restaurant_Review-g188590-d4071620-Reviews-Tr...</td>\n",
       "      <td>d4071620</td>\n",
       "      <td>1</td>\n",
       "      <td>4.0</td>\n",
       "    </tr>\n",
       "    <tr>\n",
       "      <th>4328</th>\n",
       "      <td>id_4328</td>\n",
       "      <td>Brussels</td>\n",
       "      <td>['Belgian', 'Cafe', 'European', 'Vegetarian Fr...</td>\n",
       "      <td>46.0</td>\n",
       "      <td>$$ - $$$</td>\n",
       "      <td>128.0</td>\n",
       "      <td>[['Quite Intriguing Drinks', 'Relaxing morning...</td>\n",
       "      <td>/Restaurant_Review-g188644-d8700988-Reviews-Ka...</td>\n",
       "      <td>d8700988</td>\n",
       "      <td>0</td>\n",
       "      <td>0.0</td>\n",
       "    </tr>\n",
       "    <tr>\n",
       "      <th>48102</th>\n",
       "      <td>id_1218</td>\n",
       "      <td>Copenhagen</td>\n",
       "      <td>['European', 'Danish']</td>\n",
       "      <td>1220.0</td>\n",
       "      <td>$$ - $$$</td>\n",
       "      <td>33.0</td>\n",
       "      <td>[['Surprise next to a shopping centre.', 'Exce...</td>\n",
       "      <td>/Restaurant_Review-g806262-d4131515-Reviews-Ca...</td>\n",
       "      <td>d4131515</td>\n",
       "      <td>1</td>\n",
       "      <td>3.5</td>\n",
       "    </tr>\n",
       "  </tbody>\n",
       "</table>\n",
       "</div>"
      ],
      "text/plain": [
       "      Restaurant_id        City  \\\n",
       "8600        id_8600        Lyon   \n",
       "20200       id_4787      London   \n",
       "18562       id_1042   Amsterdam   \n",
       "4328        id_4328    Brussels   \n",
       "48102       id_1218  Copenhagen   \n",
       "\n",
       "                                           Cuisine Style  Ranking Price Range  \\\n",
       "8600                                          ['French']    920.0         NaN   \n",
       "20200  ['Cafe', 'British', 'Vegetarian Friendly', 'Gl...   4796.0    $$ - $$$   \n",
       "18562  ['Italian', 'Pizza', 'European', 'Vegetarian F...   1045.0    $$ - $$$   \n",
       "4328   ['Belgian', 'Cafe', 'European', 'Vegetarian Fr...     46.0    $$ - $$$   \n",
       "48102                             ['European', 'Danish']   1220.0    $$ - $$$   \n",
       "\n",
       "       Number of Reviews                                            Reviews  \\\n",
       "8600                24.0                                           [[], []]   \n",
       "20200              131.0  [['Nice but a bit pricy', 'Excellent Lunch'], ...   \n",
       "18562              167.0  [['Love this place!', 'Cool'], ['10/07/2017', ...   \n",
       "4328               128.0  [['Quite Intriguing Drinks', 'Relaxing morning...   \n",
       "48102               33.0  [['Surprise next to a shopping centre.', 'Exce...   \n",
       "\n",
       "                                                  URL_TA     ID_TA  sample  \\\n",
       "8600   /Restaurant_Review-g187265-d6773412-Reviews-Ca...  d6773412       0   \n",
       "20200  /Restaurant_Review-g186338-d733358-Reviews-Cha...   d733358       1   \n",
       "18562  /Restaurant_Review-g188590-d4071620-Reviews-Tr...  d4071620       1   \n",
       "4328   /Restaurant_Review-g188644-d8700988-Reviews-Ka...  d8700988       0   \n",
       "48102  /Restaurant_Review-g806262-d4131515-Reviews-Ca...  d4131515       1   \n",
       "\n",
       "       Rating  \n",
       "8600      0.0  \n",
       "20200     4.0  \n",
       "18562     4.0  \n",
       "4328      0.0  \n",
       "48102     3.5  "
      ]
     },
     "execution_count": 14,
     "metadata": {},
     "output_type": "execute_result"
    }
   ],
   "source": [
    "data.sample(5)"
   ]
  },
  {
   "cell_type": "code",
   "execution_count": 15,
   "metadata": {
    "execution": {
     "iopub.execute_input": "2021-09-08T16:43:20.406489Z",
     "iopub.status.busy": "2021-09-08T16:43:20.406199Z",
     "iopub.status.idle": "2021-09-08T16:43:20.418843Z",
     "shell.execute_reply": "2021-09-08T16:43:20.417571Z",
     "shell.execute_reply.started": "2021-09-08T16:43:20.406421Z"
    }
   },
   "outputs": [
    {
     "data": {
      "text/plain": [
       "\"[['Better than the Links', 'Ivy Black'], ['12/28/2017', '12/06/2017']]\""
      ]
     },
     "execution_count": 15,
     "metadata": {},
     "output_type": "execute_result"
    }
   ],
   "source": [
    "data.Reviews[2]"
   ]
  },
  {
   "cell_type": "markdown",
   "metadata": {},
   "source": [
    "Как видим, большинство признаков у нас требует очистки и предварительной обработки."
   ]
  },
  {
   "cell_type": "markdown",
   "metadata": {},
   "source": [
    "# Cleaning and Prepping Data\n",
    "Обычно данные содержат в себе кучу мусора, который необходимо почистить, для того чтобы привести их в приемлемый формат. Чистка данных — это необходимый этап решения почти любой реальной задачи.   \n",
    "![](https://analyticsindiamag.com/wp-content/uploads/2018/01/data-cleaning.png)"
   ]
  },
  {
   "cell_type": "markdown",
   "metadata": {},
   "source": [
    "## 1. Обработка NAN \n",
    "У наличия пропусков могут быть разные причины, но пропуски нужно либо заполнить, либо исключить из набора полностью. Но с пропусками нужно быть внимательным, **даже отсутствие информации может быть важным признаком!**   \n",
    "По этому перед обработкой NAN лучше вынести информацию о наличии пропуска как отдельный признак "
   ]
  },
  {
   "cell_type": "code",
   "execution_count": 16,
   "metadata": {
    "execution": {
     "iopub.execute_input": "2021-09-08T16:43:20.421188Z",
     "iopub.status.busy": "2021-09-08T16:43:20.420622Z",
     "iopub.status.idle": "2021-09-08T16:43:20.428723Z",
     "shell.execute_reply": "2021-09-08T16:43:20.428009Z",
     "shell.execute_reply.started": "2021-09-08T16:43:20.421131Z"
    }
   },
   "outputs": [],
   "source": [
    "# Для примера я возьму столбец Number of Reviews\n",
    "data['Number_of_Reviews_isNAN'] = pd.isna(data['Number of Reviews']).astype('uint8')"
   ]
  },
  {
   "cell_type": "code",
   "execution_count": 17,
   "metadata": {
    "execution": {
     "iopub.execute_input": "2021-09-08T16:43:20.431017Z",
     "iopub.status.busy": "2021-09-08T16:43:20.430622Z",
     "iopub.status.idle": "2021-09-08T16:43:20.443079Z",
     "shell.execute_reply": "2021-09-08T16:43:20.442069Z",
     "shell.execute_reply.started": "2021-09-08T16:43:20.430947Z"
    }
   },
   "outputs": [
    {
     "data": {
      "text/plain": [
       "0    46800\n",
       "1     3200\n",
       "Name: Number_of_Reviews_isNAN, dtype: int64"
      ]
     },
     "execution_count": 17,
     "metadata": {},
     "output_type": "execute_result"
    }
   ],
   "source": [
    "data['Number_of_Reviews_isNAN'].value_counts()"
   ]
  },
  {
   "cell_type": "code",
   "execution_count": 18,
   "metadata": {
    "execution": {
     "iopub.execute_input": "2021-09-08T16:43:20.445107Z",
     "iopub.status.busy": "2021-09-08T16:43:20.444699Z",
     "iopub.status.idle": "2021-09-08T16:43:20.460389Z",
     "shell.execute_reply": "2021-09-08T16:43:20.459259Z",
     "shell.execute_reply.started": "2021-09-08T16:43:20.445043Z"
    }
   },
   "outputs": [
    {
     "data": {
      "text/plain": [
       "count    46800.000000\n",
       "mean       124.471197\n",
       "std        294.114345\n",
       "min          2.000000\n",
       "25%          9.000000\n",
       "50%         33.000000\n",
       "75%        115.000000\n",
       "max       9660.000000\n",
       "Name: Number of Reviews, dtype: float64"
      ]
     },
     "execution_count": 18,
     "metadata": {},
     "output_type": "execute_result"
    }
   ],
   "source": [
    "data['Number of Reviews'].describe()"
   ]
  },
  {
   "cell_type": "code",
   "execution_count": 19,
   "metadata": {
    "execution": {
     "iopub.execute_input": "2021-09-08T16:43:20.462633Z",
     "iopub.status.busy": "2021-09-08T16:43:20.462238Z",
     "iopub.status.idle": "2021-09-08T16:43:20.468449Z",
     "shell.execute_reply": "2021-09-08T16:43:20.467328Z",
     "shell.execute_reply.started": "2021-09-08T16:43:20.462565Z"
    }
   },
   "outputs": [],
   "source": [
    "# Далее заполняем пропуски 0, вы можете попробовать заполнением средним или средним по городу и тд...\n",
    "data['Number of Reviews'].fillna(0, inplace=True)"
   ]
  },
  {
   "cell_type": "code",
   "execution_count": null,
   "metadata": {},
   "outputs": [],
   "source": [
    "#с Number of Reviews работа позже"
   ]
  },
  {
   "cell_type": "markdown",
   "metadata": {},
   "source": [
    "### 2. Обработка признаков\n",
    "Для начала посмотрим какие признаки у нас могут быть категориальными."
   ]
  },
  {
   "cell_type": "code",
   "execution_count": 20,
   "metadata": {
    "execution": {
     "iopub.execute_input": "2021-09-08T16:43:20.470386Z",
     "iopub.status.busy": "2021-09-08T16:43:20.469989Z",
     "iopub.status.idle": "2021-09-08T16:43:20.610261Z",
     "shell.execute_reply": "2021-09-08T16:43:20.609058Z",
     "shell.execute_reply.started": "2021-09-08T16:43:20.470324Z"
    }
   },
   "outputs": [
    {
     "data": {
      "text/plain": [
       "Restaurant_id              13094\n",
       "City                          31\n",
       "Cuisine Style              10732\n",
       "Ranking                    12975\n",
       "Price Range                    4\n",
       "Number of Reviews           1574\n",
       "Reviews                    41858\n",
       "URL_TA                     49963\n",
       "ID_TA                      49963\n",
       "sample                         2\n",
       "Rating                        10\n",
       "Number_of_Reviews_isNAN        2\n",
       "dtype: int64"
      ]
     },
     "execution_count": 20,
     "metadata": {},
     "output_type": "execute_result"
    }
   ],
   "source": [
    "data.nunique(dropna=False)"
   ]
  },
  {
   "cell_type": "markdown",
   "metadata": {},
   "source": [
    "Какие признаки можно считать категориальными?"
   ]
  },
  {
   "cell_type": "markdown",
   "metadata": {},
   "source": [
    "Для кодирования категориальных признаков есть множество подходов:\n",
    "* Label Encoding\n",
    "* One-Hot Encoding\n",
    "* Target Encoding\n",
    "* Hashing\n",
    "\n",
    "Выбор кодирования зависит от признака и выбраной модели.\n",
    "Не будем сейчас сильно погружаться в эту тематику, давайте посмотрим лучше пример с One-Hot Encoding:\n",
    "![](https://i.imgur.com/mtimFxh.png)"
   ]
  },
  {
   "cell_type": "code",
   "execution_count": 21,
   "metadata": {},
   "outputs": [
    {
     "data": {
      "text/html": [
       "<div>\n",
       "<style scoped>\n",
       "    .dataframe tbody tr th:only-of-type {\n",
       "        vertical-align: middle;\n",
       "    }\n",
       "\n",
       "    .dataframe tbody tr th {\n",
       "        vertical-align: top;\n",
       "    }\n",
       "\n",
       "    .dataframe thead th {\n",
       "        text-align: right;\n",
       "    }\n",
       "</style>\n",
       "<table border=\"1\" class=\"dataframe\">\n",
       "  <thead>\n",
       "    <tr style=\"text-align: right;\">\n",
       "      <th></th>\n",
       "      <th>Restaurant_id</th>\n",
       "      <th>City</th>\n",
       "      <th>Cuisine Style</th>\n",
       "      <th>Ranking</th>\n",
       "      <th>Price Range</th>\n",
       "      <th>Number of Reviews</th>\n",
       "      <th>Reviews</th>\n",
       "      <th>URL_TA</th>\n",
       "      <th>ID_TA</th>\n",
       "      <th>sample</th>\n",
       "      <th>Rating</th>\n",
       "      <th>Number_of_Reviews_isNAN</th>\n",
       "      <th>City_</th>\n",
       "    </tr>\n",
       "  </thead>\n",
       "  <tbody>\n",
       "    <tr>\n",
       "      <th>0</th>\n",
       "      <td>id_0</td>\n",
       "      <td>Paris</td>\n",
       "      <td>['Bar', 'Pub']</td>\n",
       "      <td>12963.0</td>\n",
       "      <td>$$ - $$$</td>\n",
       "      <td>4.0</td>\n",
       "      <td>[[], []]</td>\n",
       "      <td>/Restaurant_Review-g187147-d10746918-Reviews-L...</td>\n",
       "      <td>d10746918</td>\n",
       "      <td>0</td>\n",
       "      <td>0.0</td>\n",
       "      <td>0</td>\n",
       "      <td>Paris</td>\n",
       "    </tr>\n",
       "    <tr>\n",
       "      <th>1</th>\n",
       "      <td>id_1</td>\n",
       "      <td>Helsinki</td>\n",
       "      <td>['European', 'Scandinavian', 'Gluten Free Opti...</td>\n",
       "      <td>106.0</td>\n",
       "      <td>$$ - $$$</td>\n",
       "      <td>97.0</td>\n",
       "      <td>[['Very good reviews!', 'Fine dining in Hakani...</td>\n",
       "      <td>/Restaurant_Review-g189934-d6674944-Reviews-Ra...</td>\n",
       "      <td>d6674944</td>\n",
       "      <td>0</td>\n",
       "      <td>0.0</td>\n",
       "      <td>0</td>\n",
       "      <td>Helsinki</td>\n",
       "    </tr>\n",
       "  </tbody>\n",
       "</table>\n",
       "</div>"
      ],
      "text/plain": [
       "  Restaurant_id      City                                      Cuisine Style  \\\n",
       "0          id_0     Paris                                     ['Bar', 'Pub']   \n",
       "1          id_1  Helsinki  ['European', 'Scandinavian', 'Gluten Free Opti...   \n",
       "\n",
       "   Ranking Price Range  Number of Reviews  \\\n",
       "0  12963.0    $$ - $$$                4.0   \n",
       "1    106.0    $$ - $$$               97.0   \n",
       "\n",
       "                                             Reviews  \\\n",
       "0                                           [[], []]   \n",
       "1  [['Very good reviews!', 'Fine dining in Hakani...   \n",
       "\n",
       "                                              URL_TA      ID_TA  sample  \\\n",
       "0  /Restaurant_Review-g187147-d10746918-Reviews-L...  d10746918       0   \n",
       "1  /Restaurant_Review-g189934-d6674944-Reviews-Ra...   d6674944       0   \n",
       "\n",
       "   Rating  Number_of_Reviews_isNAN     City_  \n",
       "0     0.0                        0     Paris  \n",
       "1     0.0                        0  Helsinki  "
      ]
     },
     "execution_count": 21,
     "metadata": {},
     "output_type": "execute_result"
    }
   ],
   "source": [
    "data['City_']=data['City'] #сохранить копию столбеца, а то после думми он удаляется\n",
    "data[:2]"
   ]
  },
  {
   "cell_type": "code",
   "execution_count": null,
   "metadata": {},
   "outputs": [],
   "source": []
  },
  {
   "cell_type": "code",
   "execution_count": null,
   "metadata": {},
   "outputs": [],
   "source": []
  },
  {
   "cell_type": "code",
   "execution_count": null,
   "metadata": {},
   "outputs": [],
   "source": []
  },
  {
   "cell_type": "code",
   "execution_count": 22,
   "metadata": {
    "execution": {
     "iopub.execute_input": "2021-09-08T16:43:20.612115Z",
     "iopub.status.busy": "2021-09-08T16:43:20.611782Z",
     "iopub.status.idle": "2021-09-08T16:43:20.647401Z",
     "shell.execute_reply": "2021-09-08T16:43:20.646234Z",
     "shell.execute_reply.started": "2021-09-08T16:43:20.612057Z"
    }
   },
   "outputs": [],
   "source": [
    "# для One-Hot Encoding в pandas есть готовая функция - get_dummies. Особенно радует параметр dummy_na\n",
    "data = pd.get_dummies(data, columns=['City', ], dummy_na=True)"
   ]
  },
  {
   "cell_type": "code",
   "execution_count": 24,
   "metadata": {
    "execution": {
     "iopub.execute_input": "2021-09-08T16:43:20.686184Z",
     "iopub.status.busy": "2021-09-08T16:43:20.685917Z",
     "iopub.status.idle": "2021-09-08T16:43:20.733044Z",
     "shell.execute_reply": "2021-09-08T16:43:20.731822Z",
     "shell.execute_reply.started": "2021-09-08T16:43:20.686147Z"
    }
   },
   "outputs": [
    {
     "data": {
      "text/plain": [
       "7872     Oporto\n",
       "22345     Paris\n",
       "Name: City_, dtype: object"
      ]
     },
     "execution_count": 24,
     "metadata": {},
     "output_type": "execute_result"
    }
   ],
   "source": [
    "data['City_'].sample(2)"
   ]
  },
  {
   "cell_type": "markdown",
   "metadata": {},
   "source": [
    "#### Возьмем следующий признак \"Price Range\"."
   ]
  },
  {
   "cell_type": "code",
   "execution_count": 214,
   "metadata": {
    "execution": {
     "iopub.execute_input": "2021-09-08T16:43:20.734901Z",
     "iopub.status.busy": "2021-09-08T16:43:20.734614Z",
     "iopub.status.idle": "2021-09-08T16:43:20.755117Z",
     "shell.execute_reply": "2021-09-08T16:43:20.753934Z",
     "shell.execute_reply.started": "2021-09-08T16:43:20.734854Z"
    }
   },
   "outputs": [
    {
     "data": {
      "text/plain": [
       "['$$ - $$$', nan, '$', '$$$$']"
      ]
     },
     "execution_count": 214,
     "metadata": {},
     "output_type": "execute_result"
    }
   ],
   "source": [
    "pr=data['Price Range'].value_counts(dropna=False).index.tolist()\n",
    "pr\n"
   ]
  },
  {
   "cell_type": "markdown",
   "metadata": {},
   "source": [
    "\n",
    "По описанию 'Price Range' это - Цены в ресторане.  \n",
    "Их можно поставить по возрастанию (значит это не категориальный признак). А это значит, что их можно заменить последовательными числами, например 1,2,3  \n",
    "*Попробуйте сделать обработку этого признака уже самостоятельно!*"
   ]
  },
  {
   "cell_type": "code",
   "execution_count": 25,
   "metadata": {
    "execution": {
     "iopub.execute_input": "2021-09-08T16:43:20.757333Z",
     "iopub.status.busy": "2021-09-08T16:43:20.757022Z",
     "iopub.status.idle": "2021-09-08T16:43:20.857110Z",
     "shell.execute_reply": "2021-09-08T16:43:20.856340Z",
     "shell.execute_reply.started": "2021-09-08T16:43:20.757277Z"
    }
   },
   "outputs": [
    {
     "data": {
      "text/html": [
       "<div>\n",
       "<style scoped>\n",
       "    .dataframe tbody tr th:only-of-type {\n",
       "        vertical-align: middle;\n",
       "    }\n",
       "\n",
       "    .dataframe tbody tr th {\n",
       "        vertical-align: top;\n",
       "    }\n",
       "\n",
       "    .dataframe thead th {\n",
       "        text-align: right;\n",
       "    }\n",
       "</style>\n",
       "<table border=\"1\" class=\"dataframe\">\n",
       "  <thead>\n",
       "    <tr style=\"text-align: right;\">\n",
       "      <th></th>\n",
       "      <th>Restaurant_id</th>\n",
       "      <th>Cuisine Style</th>\n",
       "      <th>Ranking</th>\n",
       "      <th>Price Range</th>\n",
       "      <th>Number of Reviews</th>\n",
       "      <th>Reviews</th>\n",
       "      <th>URL_TA</th>\n",
       "      <th>ID_TA</th>\n",
       "      <th>sample</th>\n",
       "      <th>Rating</th>\n",
       "      <th>...</th>\n",
       "      <th>City_Oporto</th>\n",
       "      <th>City_Oslo</th>\n",
       "      <th>City_Paris</th>\n",
       "      <th>City_Prague</th>\n",
       "      <th>City_Rome</th>\n",
       "      <th>City_Stockholm</th>\n",
       "      <th>City_Vienna</th>\n",
       "      <th>City_Warsaw</th>\n",
       "      <th>City_Zurich</th>\n",
       "      <th>City_nan</th>\n",
       "    </tr>\n",
       "  </thead>\n",
       "  <tbody>\n",
       "    <tr>\n",
       "      <th>38717</th>\n",
       "      <td>id_1182</td>\n",
       "      <td>NaN</td>\n",
       "      <td>1183.0</td>\n",
       "      <td>-1</td>\n",
       "      <td>22.0</td>\n",
       "      <td>[['Good place for smokers', 'Very nice place; ...</td>\n",
       "      <td>/Restaurant_Review-g274856-d7088246-Reviews-Pr...</td>\n",
       "      <td>d7088246</td>\n",
       "      <td>1</td>\n",
       "      <td>3.5</td>\n",
       "      <td>...</td>\n",
       "      <td>0</td>\n",
       "      <td>0</td>\n",
       "      <td>0</td>\n",
       "      <td>0</td>\n",
       "      <td>0</td>\n",
       "      <td>0</td>\n",
       "      <td>0</td>\n",
       "      <td>1</td>\n",
       "      <td>0</td>\n",
       "      <td>0</td>\n",
       "    </tr>\n",
       "    <tr>\n",
       "      <th>42308</th>\n",
       "      <td>id_8351</td>\n",
       "      <td>['Cafe']</td>\n",
       "      <td>8360.0</td>\n",
       "      <td>0</td>\n",
       "      <td>13.0</td>\n",
       "      <td>[['Delicious lunch!', 'Nice little cafe'], ['0...</td>\n",
       "      <td>/Restaurant_Review-g186338-d1017664-Reviews-Ph...</td>\n",
       "      <td>d1017664</td>\n",
       "      <td>1</td>\n",
       "      <td>4.5</td>\n",
       "      <td>...</td>\n",
       "      <td>0</td>\n",
       "      <td>0</td>\n",
       "      <td>0</td>\n",
       "      <td>0</td>\n",
       "      <td>0</td>\n",
       "      <td>0</td>\n",
       "      <td>0</td>\n",
       "      <td>0</td>\n",
       "      <td>0</td>\n",
       "      <td>0</td>\n",
       "    </tr>\n",
       "    <tr>\n",
       "      <th>45691</th>\n",
       "      <td>id_2056</td>\n",
       "      <td>['Cafe', 'Asian', 'Thai', 'Middle Eastern', 'V...</td>\n",
       "      <td>2060.0</td>\n",
       "      <td>1</td>\n",
       "      <td>120.0</td>\n",
       "      <td>[['Great service, great food, great atmospher....</td>\n",
       "      <td>/Restaurant_Review-g186338-d2720705-Reviews-St...</td>\n",
       "      <td>d2720705</td>\n",
       "      <td>1</td>\n",
       "      <td>4.5</td>\n",
       "      <td>...</td>\n",
       "      <td>0</td>\n",
       "      <td>0</td>\n",
       "      <td>0</td>\n",
       "      <td>0</td>\n",
       "      <td>0</td>\n",
       "      <td>0</td>\n",
       "      <td>0</td>\n",
       "      <td>0</td>\n",
       "      <td>0</td>\n",
       "      <td>0</td>\n",
       "    </tr>\n",
       "    <tr>\n",
       "      <th>24558</th>\n",
       "      <td>id_13641</td>\n",
       "      <td>['Indian', 'Bangladeshi', 'Halal']</td>\n",
       "      <td>13651.0</td>\n",
       "      <td>1</td>\n",
       "      <td>48.0</td>\n",
       "      <td>[['Good food, Quirky Decor', 'Misogynistic Ser...</td>\n",
       "      <td>/Restaurant_Review-g186338-d1317844-Reviews-Ca...</td>\n",
       "      <td>d1317844</td>\n",
       "      <td>1</td>\n",
       "      <td>3.0</td>\n",
       "      <td>...</td>\n",
       "      <td>0</td>\n",
       "      <td>0</td>\n",
       "      <td>0</td>\n",
       "      <td>0</td>\n",
       "      <td>0</td>\n",
       "      <td>0</td>\n",
       "      <td>0</td>\n",
       "      <td>0</td>\n",
       "      <td>0</td>\n",
       "      <td>0</td>\n",
       "    </tr>\n",
       "    <tr>\n",
       "      <th>27438</th>\n",
       "      <td>id_2049</td>\n",
       "      <td>['African', 'Ethiopian', 'Vegetarian Friendly'...</td>\n",
       "      <td>2050.0</td>\n",
       "      <td>1</td>\n",
       "      <td>211.0</td>\n",
       "      <td>[['Authentic food at a price.', 'Would recomme...</td>\n",
       "      <td>/Restaurant_Review-g187497-d1020220-Reviews-Ab...</td>\n",
       "      <td>d1020220</td>\n",
       "      <td>1</td>\n",
       "      <td>4.0</td>\n",
       "      <td>...</td>\n",
       "      <td>0</td>\n",
       "      <td>0</td>\n",
       "      <td>0</td>\n",
       "      <td>0</td>\n",
       "      <td>0</td>\n",
       "      <td>0</td>\n",
       "      <td>0</td>\n",
       "      <td>0</td>\n",
       "      <td>0</td>\n",
       "      <td>0</td>\n",
       "    </tr>\n",
       "  </tbody>\n",
       "</table>\n",
       "<p>5 rows × 44 columns</p>\n",
       "</div>"
      ],
      "text/plain": [
       "      Restaurant_id                                      Cuisine Style  \\\n",
       "38717       id_1182                                                NaN   \n",
       "42308       id_8351                                           ['Cafe']   \n",
       "45691       id_2056  ['Cafe', 'Asian', 'Thai', 'Middle Eastern', 'V...   \n",
       "24558      id_13641                 ['Indian', 'Bangladeshi', 'Halal']   \n",
       "27438       id_2049  ['African', 'Ethiopian', 'Vegetarian Friendly'...   \n",
       "\n",
       "       Ranking  Price Range  Number of Reviews  \\\n",
       "38717   1183.0           -1               22.0   \n",
       "42308   8360.0            0               13.0   \n",
       "45691   2060.0            1              120.0   \n",
       "24558  13651.0            1               48.0   \n",
       "27438   2050.0            1              211.0   \n",
       "\n",
       "                                                 Reviews  \\\n",
       "38717  [['Good place for smokers', 'Very nice place; ...   \n",
       "42308  [['Delicious lunch!', 'Nice little cafe'], ['0...   \n",
       "45691  [['Great service, great food, great atmospher....   \n",
       "24558  [['Good food, Quirky Decor', 'Misogynistic Ser...   \n",
       "27438  [['Authentic food at a price.', 'Would recomme...   \n",
       "\n",
       "                                                  URL_TA     ID_TA  sample  \\\n",
       "38717  /Restaurant_Review-g274856-d7088246-Reviews-Pr...  d7088246       1   \n",
       "42308  /Restaurant_Review-g186338-d1017664-Reviews-Ph...  d1017664       1   \n",
       "45691  /Restaurant_Review-g186338-d2720705-Reviews-St...  d2720705       1   \n",
       "24558  /Restaurant_Review-g186338-d1317844-Reviews-Ca...  d1317844       1   \n",
       "27438  /Restaurant_Review-g187497-d1020220-Reviews-Ab...  d1020220       1   \n",
       "\n",
       "       Rating  ...  City_Oporto City_Oslo  City_Paris  City_Prague  City_Rome  \\\n",
       "38717     3.5  ...            0         0           0            0          0   \n",
       "42308     4.5  ...            0         0           0            0          0   \n",
       "45691     4.5  ...            0         0           0            0          0   \n",
       "24558     3.0  ...            0         0           0            0          0   \n",
       "27438     4.0  ...            0         0           0            0          0   \n",
       "\n",
       "       City_Stockholm  City_Vienna  City_Warsaw  City_Zurich  City_nan  \n",
       "38717               0            0            1            0         0  \n",
       "42308               0            0            0            0         0  \n",
       "45691               0            0            0            0         0  \n",
       "24558               0            0            0            0         0  \n",
       "27438               0            0            0            0         0  \n",
       "\n",
       "[5 rows x 44 columns]"
      ]
     },
     "execution_count": 25,
     "metadata": {},
     "output_type": "execute_result"
    }
   ],
   "source": [
    "# Ваша обработка 'Price Range'\n",
    "def pr_adpt(x):  # сопоставление последовательным числам признака разброса цен\n",
    "    if str(x).startswith('$$ -'):\n",
    "        return 1\n",
    "    if str(x).startswith('nan'): #первая проба - присвоение пропущенным значениям -1\n",
    "        return -1\n",
    "    if x == '$':\n",
    "        return 0\n",
    "    else:\n",
    "        return 2  # для самых больших цен\n",
    "\n",
    "\n",
    "data['Price Range'] = data['Price Range'].apply(pr_adpt)\n",
    "data.sample(5)"
   ]
  },
  {
   "cell_type": "markdown",
   "metadata": {},
   "source": [
    "> Для некоторых алгоритмов МЛ даже для не категориальных признаков можно применить One-Hot Encoding, и это может улучшить качество модели. Пробуйте разные подходы к кодированию признака - никто не знает заранее, что может взлететь."
   ]
  },
  {
   "cell_type": "markdown",
   "metadata": {},
   "source": [
    "### Обработать другие признаки вы должны самостоятельно!\n",
    "Для обработки других признаков вам возможно придется даже написать свою функцию, а может даже и не одну, но в этом и есть ваша практика в этом модуле!     \n",
    "Следуя подсказкам в модуле вы сможете более подробно узнать, как сделать эти приобразования."
   ]
  },
  {
   "cell_type": "code",
   "execution_count": 26,
   "metadata": {
    "execution": {
     "iopub.execute_input": "2021-09-08T16:43:20.858920Z",
     "iopub.status.busy": "2021-09-08T16:43:20.858427Z",
     "iopub.status.idle": "2021-09-08T16:43:20.861809Z",
     "shell.execute_reply": "2021-09-08T16:43:20.861056Z",
     "shell.execute_reply.started": "2021-09-08T16:43:20.858859Z"
    }
   },
   "outputs": [],
   "source": [
    "# тут ваш код на обработку других признаков\n",
    "# .....\n"
   ]
  },
  {
   "cell_type": "code",
   "execution_count": 99,
   "metadata": {
    "execution": {
     "iopub.execute_input": "2021-09-08T16:43:20.863470Z",
     "iopub.status.busy": "2021-09-08T16:43:20.863072Z",
     "iopub.status.idle": "2021-09-08T16:44:09.876981Z",
     "shell.execute_reply": "2021-09-08T16:44:09.876114Z",
     "shell.execute_reply.started": "2021-09-08T16:43:20.863431Z"
    }
   },
   "outputs": [
    {
     "name": "stdout",
     "output_type": "stream",
     "text": [
      "Counter({\"'Vegetarian Friendly'\": 14021, \"'European'\": 12561, 'kuh1': 11590, \"'Mediterranean'\": 7820, \"'Italian'\": 7433, \"'Vegan Options'\": 5684, \"'Gluten Free Options'\": 5185, \"'Bar'\": 4094, \"'French'\": 3970, \"'Asian'\": 3786, \"'Pizza'\": 3502, \"'Spanish'\": 3456, \"'Pub'\": 3058, \"'Cafe'\": 2883, \"'Fast Food'\": 2122, \"'British'\": 1992, \"'International'\": 1966, \"'Seafood'\": 1878, \"'Japanese'\": 1860, \"'Central European'\": 1727, \"'American'\": 1642, \"'Sushi'\": 1450, \"'Chinese'\": 1446, \"'Portuguese'\": 1385, \"'Indian'\": 1328, \"'Middle Eastern'\": 980, \"'Thai'\": 923, \"'Wine Bar'\": 877, \"'German'\": 820, \"'Halal'\": 773, \"'Greek'\": 768, \"'Healthy'\": 758, \"'Fusion'\": 748, \"'Czech'\": 745, \"'Steakhouse'\": 729, \"'Barbecue'\": 710, \"'Contemporary'\": 652, \"'Soups'\": 630, \"'Eastern European'\": 629, \"'Vietnamese'\": 622, \"'Grill'\": 617, \"'Gastropub'\": 608, \"'Turkish'\": 574, \"'Mexican'\": 572, \"'South American'\": 490, \"'Delicatessen'\": 473, \"'Austrian'\": 462, \"'Polish'\": 453, \"'Scandinavian'\": 449, \"'Hungarian'\": 444, \"'Lebanese'\": 397, \"'Diner'\": 375, \"'Latin'\": 373, \"'Dutch'\": 368, \"'Irish'\": 352, \"'Street Food'\": 336, \"'Belgian'\": 335, \"'Brew Pub'\": 299, \"'Danish'\": 225, \"'Swiss'\": 223, \"'Swedish'\": 223, \"'Argentinean'\": 214, \"'Korean'\": 206, \"'Scottish'\": 199, \"'African'\": 193, \"'Moroccan'\": 173, \"'Central American'\": 168, \"'Brazilian'\": 152, \"'Pakistani'\": 140, \"'Peruvian'\": 130, \"'Caribbean'\": 124, \"'Nepali'\": 121, \"'Balti'\": 104, \"'Bangladeshi'\": 100, \"'Norwegian'\": 96, \"'Israeli'\": 90, \"'Slovenian'\": 85, \"'Persian'\": 77, \"'Indonesian'\": 71, \"'Russian'\": 66, \"'Arabic'\": 58, \"'Kosher'\": 56, \"'Ethiopian'\": 51, \"'Venezuelan'\": 51, \"'Malaysian'\": 38, \"'Australian'\": 36, \"'Jamaican'\": 36, \"'Croatian'\": 33, \"'Cuban'\": 32, \"'Colombian'\": 30, \"'Sri Lankan'\": 30, \"'Taiwanese'\": 30, \"'Tibetan'\": 29, \"'Afghani'\": 27, \"'Cajun & Creole'\": 27, \"'Southwestern'\": 24, \"'Egyptian'\": 24, \"'Tunisian'\": 23, \"'Hawaiian'\": 23, \"'Cambodian'\": 22, \"'Singaporean'\": 21, \"'Mongolian'\": 20, \"'Ukrainian'\": 20, \"'Georgian'\": 18, \"'Armenian'\": 17, \"'Filipino'\": 17, \"'Chilean'\": 16, \"'Romanian'\": 13, \"'Minority Chinese'\": 12, \"'Central Asian'\": 12, \"'Ecuadorean'\": 8, \"'Albanian'\": 8, \"'Canadian'\": 7, \"'New Zealand'\": 7, \"'Native American'\": 5, \"'Uzbek'\": 5, \"'Caucasian'\": 4, \"'Welsh'\": 3, \"'Azerbaijani'\": 3, \"'Yunnan'\": 2, \"'Polynesian'\": 2, \"'Fujian'\": 2, \"'Salvadoran'\": 1, \"'Xinjiang'\": 1, \"'Burmese'\": 1, \"'Latvian'\": 1}) 126\n"
     ]
    }
   ],
   "source": [
    "# работа с кухнями\n",
    "from collections import Counter\n",
    "dff = data\n",
    "# убрать квадратные скобки из столбца\n",
    "zz = dff['Cuisine Style'].str.replace('[[\\]]', '', regex=True)\n",
    "# заполнить отсутствие кухонь одной условной кухней\n",
    "zz.fillna('kuh1', inplace=True)\n",
    "# убрать лишние пробелы в названиях кухонь\n",
    "dff['Cuisine Style'] = zz.apply(\n",
    "    lambda x: \",\".join(map(str.strip, x.split(','))))\n",
    "# посчитать разнообразие кухонь и частоту употребления\n",
    "ss = pd.Series(dff['Cuisine Style'].str.cat(sep=',').split(','))\n",
    "cnt = Counter(ss)\n",
    "print(cnt, len(cnt))"
   ]
  },
  {
   "cell_type": "code",
   "execution_count": 28,
   "metadata": {},
   "outputs": [
    {
     "data": {
      "text/html": [
       "<div>\n",
       "<style scoped>\n",
       "    .dataframe tbody tr th:only-of-type {\n",
       "        vertical-align: middle;\n",
       "    }\n",
       "\n",
       "    .dataframe tbody tr th {\n",
       "        vertical-align: top;\n",
       "    }\n",
       "\n",
       "    .dataframe thead th {\n",
       "        text-align: right;\n",
       "    }\n",
       "</style>\n",
       "<table border=\"1\" class=\"dataframe\">\n",
       "  <thead>\n",
       "    <tr style=\"text-align: right;\">\n",
       "      <th></th>\n",
       "      <th>Restaurant_id</th>\n",
       "      <th>Cuisine Style</th>\n",
       "      <th>Ranking</th>\n",
       "      <th>Price Range</th>\n",
       "      <th>Number of Reviews</th>\n",
       "      <th>Reviews</th>\n",
       "      <th>URL_TA</th>\n",
       "      <th>ID_TA</th>\n",
       "      <th>sample</th>\n",
       "      <th>Rating</th>\n",
       "      <th>...</th>\n",
       "      <th>City_Paris</th>\n",
       "      <th>City_Prague</th>\n",
       "      <th>City_Rome</th>\n",
       "      <th>City_Stockholm</th>\n",
       "      <th>City_Vienna</th>\n",
       "      <th>City_Warsaw</th>\n",
       "      <th>City_Zurich</th>\n",
       "      <th>City_nan</th>\n",
       "      <th>Cuisinepopul</th>\n",
       "      <th>Cuisinecnt</th>\n",
       "    </tr>\n",
       "  </thead>\n",
       "  <tbody>\n",
       "    <tr>\n",
       "      <th>47245</th>\n",
       "      <td>id_2635</td>\n",
       "      <td>kuh1</td>\n",
       "      <td>2641.0</td>\n",
       "      <td>-1</td>\n",
       "      <td>5.0</td>\n",
       "      <td>[['decent traditional czech cusine'], ['04/20/...</td>\n",
       "      <td>/Restaurant_Review-g274707-d4767482-Reviews-Na...</td>\n",
       "      <td>d4767482</td>\n",
       "      <td>1</td>\n",
       "      <td>4.5</td>\n",
       "      <td>...</td>\n",
       "      <td>0</td>\n",
       "      <td>1</td>\n",
       "      <td>0</td>\n",
       "      <td>0</td>\n",
       "      <td>0</td>\n",
       "      <td>0</td>\n",
       "      <td>0</td>\n",
       "      <td>0</td>\n",
       "      <td>11590</td>\n",
       "      <td>1</td>\n",
       "    </tr>\n",
       "    <tr>\n",
       "      <th>46912</th>\n",
       "      <td>id_8099</td>\n",
       "      <td>'Fast Food','Mexican','American'</td>\n",
       "      <td>8106.0</td>\n",
       "      <td>0</td>\n",
       "      <td>52.0</td>\n",
       "      <td>[['Average Experience', 'good and cosy but not...</td>\n",
       "      <td>/Restaurant_Review-g187514-d3795117-Reviews-Pe...</td>\n",
       "      <td>d3795117</td>\n",
       "      <td>1</td>\n",
       "      <td>2.5</td>\n",
       "      <td>...</td>\n",
       "      <td>0</td>\n",
       "      <td>0</td>\n",
       "      <td>0</td>\n",
       "      <td>0</td>\n",
       "      <td>0</td>\n",
       "      <td>0</td>\n",
       "      <td>0</td>\n",
       "      <td>0</td>\n",
       "      <td>4336</td>\n",
       "      <td>3</td>\n",
       "    </tr>\n",
       "    <tr>\n",
       "      <th>7899</th>\n",
       "      <td>id_7899</td>\n",
       "      <td>'American','Fast Food'</td>\n",
       "      <td>1002.0</td>\n",
       "      <td>0</td>\n",
       "      <td>25.0</td>\n",
       "      <td>[['The Ritz of McDonalds', 'Like any other'], ...</td>\n",
       "      <td>/Restaurant_Review-g274887-d4802533-Reviews-Mc...</td>\n",
       "      <td>d4802533</td>\n",
       "      <td>0</td>\n",
       "      <td>0.0</td>\n",
       "      <td>...</td>\n",
       "      <td>0</td>\n",
       "      <td>0</td>\n",
       "      <td>0</td>\n",
       "      <td>0</td>\n",
       "      <td>0</td>\n",
       "      <td>0</td>\n",
       "      <td>0</td>\n",
       "      <td>0</td>\n",
       "      <td>3764</td>\n",
       "      <td>2</td>\n",
       "    </tr>\n",
       "    <tr>\n",
       "      <th>24022</th>\n",
       "      <td>id_2484</td>\n",
       "      <td>'Polish','European'</td>\n",
       "      <td>2486.0</td>\n",
       "      <td>1</td>\n",
       "      <td>11.0</td>\n",
       "      <td>[['Trying real pierogi in Vienna', 'One time a...</td>\n",
       "      <td>/Restaurant_Review-g190454-d6413536-Reviews-Pi...</td>\n",
       "      <td>d6413536</td>\n",
       "      <td>1</td>\n",
       "      <td>4.0</td>\n",
       "      <td>...</td>\n",
       "      <td>0</td>\n",
       "      <td>0</td>\n",
       "      <td>0</td>\n",
       "      <td>0</td>\n",
       "      <td>1</td>\n",
       "      <td>0</td>\n",
       "      <td>0</td>\n",
       "      <td>0</td>\n",
       "      <td>13014</td>\n",
       "      <td>2</td>\n",
       "    </tr>\n",
       "    <tr>\n",
       "      <th>48159</th>\n",
       "      <td>id_285</td>\n",
       "      <td>'Pizza','Fast Food'</td>\n",
       "      <td>286.0</td>\n",
       "      <td>0</td>\n",
       "      <td>42.0</td>\n",
       "      <td>[['good pizza . good price . bad service.', 'v...</td>\n",
       "      <td>/Restaurant_Review-g189934-d6884326-Reviews-Ba...</td>\n",
       "      <td>d6884326</td>\n",
       "      <td>1</td>\n",
       "      <td>4.0</td>\n",
       "      <td>...</td>\n",
       "      <td>0</td>\n",
       "      <td>0</td>\n",
       "      <td>0</td>\n",
       "      <td>0</td>\n",
       "      <td>0</td>\n",
       "      <td>0</td>\n",
       "      <td>0</td>\n",
       "      <td>0</td>\n",
       "      <td>5624</td>\n",
       "      <td>2</td>\n",
       "    </tr>\n",
       "  </tbody>\n",
       "</table>\n",
       "<p>5 rows × 46 columns</p>\n",
       "</div>"
      ],
      "text/plain": [
       "      Restaurant_id                     Cuisine Style  Ranking  Price Range  \\\n",
       "47245       id_2635                              kuh1   2641.0           -1   \n",
       "46912       id_8099  'Fast Food','Mexican','American'   8106.0            0   \n",
       "7899        id_7899            'American','Fast Food'   1002.0            0   \n",
       "24022       id_2484               'Polish','European'   2486.0            1   \n",
       "48159        id_285               'Pizza','Fast Food'    286.0            0   \n",
       "\n",
       "       Number of Reviews                                            Reviews  \\\n",
       "47245                5.0  [['decent traditional czech cusine'], ['04/20/...   \n",
       "46912               52.0  [['Average Experience', 'good and cosy but not...   \n",
       "7899                25.0  [['The Ritz of McDonalds', 'Like any other'], ...   \n",
       "24022               11.0  [['Trying real pierogi in Vienna', 'One time a...   \n",
       "48159               42.0  [['good pizza . good price . bad service.', 'v...   \n",
       "\n",
       "                                                  URL_TA     ID_TA  sample  \\\n",
       "47245  /Restaurant_Review-g274707-d4767482-Reviews-Na...  d4767482       1   \n",
       "46912  /Restaurant_Review-g187514-d3795117-Reviews-Pe...  d3795117       1   \n",
       "7899   /Restaurant_Review-g274887-d4802533-Reviews-Mc...  d4802533       0   \n",
       "24022  /Restaurant_Review-g190454-d6413536-Reviews-Pi...  d6413536       1   \n",
       "48159  /Restaurant_Review-g189934-d6884326-Reviews-Ba...  d6884326       1   \n",
       "\n",
       "       Rating  ...  City_Paris City_Prague  City_Rome  City_Stockholm  \\\n",
       "47245     4.5  ...           0           1          0               0   \n",
       "46912     2.5  ...           0           0          0               0   \n",
       "7899      0.0  ...           0           0          0               0   \n",
       "24022     4.0  ...           0           0          0               0   \n",
       "48159     4.0  ...           0           0          0               0   \n",
       "\n",
       "       City_Vienna  City_Warsaw  City_Zurich  City_nan  Cuisinepopul  \\\n",
       "47245            0            0            0         0         11590   \n",
       "46912            0            0            0         0          4336   \n",
       "7899             0            0            0         0          3764   \n",
       "24022            1            0            0         0         13014   \n",
       "48159            0            0            0         0          5624   \n",
       "\n",
       "       Cuisinecnt  \n",
       "47245           1  \n",
       "46912           3  \n",
       "7899            2  \n",
       "24022           2  \n",
       "48159           2  \n",
       "\n",
       "[5 rows x 46 columns]"
      ]
     },
     "execution_count": 28,
     "metadata": {},
     "output_type": "execute_result"
    }
   ],
   "source": [
    "def calcpopular(x):\n",
    "    sumcuspop = 0\n",
    "    cntcus = 0\n",
    "    for i in cnt.keys():  # сложить \"популярность\"(насколько часто кухня практикуется во всех ресторанах) кухонь, присутствующих в ресторане\n",
    "        if i in x:\n",
    "            sumcuspop += cnt[i]\n",
    "            cntcus += 1\n",
    "\n",
    "    return pd.DataFrame(list(zip([sumcuspop], [cntcus])), columns=['R1', 'R2']).iloc[0]\n",
    "\n",
    "\n",
    "# из предположения о популярности кухни  по количеству ее присутствия в ресторанах добавить свойство популярности Cuisinepopul\n",
    "# а так же добавить свойство разнообразия Cuisinecnt - равное количеству разных кухонь\n",
    "data[['Cuisinepopul', 'Cuisinecnt']] = dff['Cuisine Style'].apply(calcpopular)\n",
    "data.sample(2)"
   ]
  },
  {
   "cell_type": "code",
   "execution_count": 102,
   "metadata": {},
   "outputs": [
    {
     "data": {
      "text/html": [
       "<div>\n",
       "<style scoped>\n",
       "    .dataframe tbody tr th:only-of-type {\n",
       "        vertical-align: middle;\n",
       "    }\n",
       "\n",
       "    .dataframe tbody tr th {\n",
       "        vertical-align: top;\n",
       "    }\n",
       "\n",
       "    .dataframe thead th {\n",
       "        text-align: right;\n",
       "    }\n",
       "</style>\n",
       "<table border=\"1\" class=\"dataframe\">\n",
       "  <thead>\n",
       "    <tr style=\"text-align: right;\">\n",
       "      <th></th>\n",
       "      <th>Restaurant_id</th>\n",
       "      <th>City</th>\n",
       "      <th>Cuisine Style</th>\n",
       "      <th>Ranking</th>\n",
       "      <th>Price Range</th>\n",
       "      <th>Number of Reviews</th>\n",
       "      <th>Reviews</th>\n",
       "      <th>URL_TA</th>\n",
       "      <th>ID_TA</th>\n",
       "      <th>sample</th>\n",
       "      <th>Rating</th>\n",
       "    </tr>\n",
       "  </thead>\n",
       "  <tbody>\n",
       "    <tr>\n",
       "      <th>0</th>\n",
       "      <td>id_0</td>\n",
       "      <td>Paris</td>\n",
       "      <td>'Bar','Pub'</td>\n",
       "      <td>12963.0</td>\n",
       "      <td>$$ - $$$</td>\n",
       "      <td>4.0</td>\n",
       "      <td>[[], []]</td>\n",
       "      <td>/Restaurant_Review-g187147-d10746918-Reviews-L...</td>\n",
       "      <td>d10746918</td>\n",
       "      <td>0</td>\n",
       "      <td>0.0</td>\n",
       "    </tr>\n",
       "    <tr>\n",
       "      <th>1</th>\n",
       "      <td>id_1</td>\n",
       "      <td>Helsinki</td>\n",
       "      <td>'European','Scandinavian','Gluten Free Options...</td>\n",
       "      <td>106.0</td>\n",
       "      <td>$$ - $$$</td>\n",
       "      <td>97.0</td>\n",
       "      <td>[['Very good reviews!', 'Fine dining in Hakani...</td>\n",
       "      <td>/Restaurant_Review-g189934-d6674944-Reviews-Ra...</td>\n",
       "      <td>d6674944</td>\n",
       "      <td>0</td>\n",
       "      <td>0.0</td>\n",
       "    </tr>\n",
       "  </tbody>\n",
       "</table>\n",
       "</div>"
      ],
      "text/plain": [
       "  Restaurant_id      City                                      Cuisine Style  \\\n",
       "0          id_0     Paris                                        'Bar','Pub'   \n",
       "1          id_1  Helsinki  'European','Scandinavian','Gluten Free Options...   \n",
       "\n",
       "   Ranking Price Range  Number of Reviews  \\\n",
       "0  12963.0    $$ - $$$                4.0   \n",
       "1    106.0    $$ - $$$               97.0   \n",
       "\n",
       "                                             Reviews  \\\n",
       "0                                           [[], []]   \n",
       "1  [['Very good reviews!', 'Fine dining in Hakani...   \n",
       "\n",
       "                                              URL_TA      ID_TA  sample  \\\n",
       "0  /Restaurant_Review-g187147-d10746918-Reviews-L...  d10746918       0   \n",
       "1  /Restaurant_Review-g189934-d6674944-Reviews-Ra...   d6674944       0   \n",
       "\n",
       "   Rating  \n",
       "0     0.0  \n",
       "1     0.0  "
      ]
     },
     "execution_count": 102,
     "metadata": {},
     "output_type": "execute_result"
    }
   ],
   "source": [
    "dff[:2]"
   ]
  },
  {
   "cell_type": "code",
   "execution_count": 101,
   "metadata": {},
   "outputs": [
    {
     "name": "stderr",
     "output_type": "stream",
     "text": [
      "<ipython-input-101-16fe103a083d>:3: SettingWithCopyWarning: \n",
      "A value is trying to be set on a copy of a slice from a DataFrame.\n",
      "Try using .loc[row_indexer,col_indexer] = value instead\n",
      "\n",
      "See the caveats in the documentation: https://pandas.pydata.org/pandas-docs/stable/user_guide/indexing.html#returning-a-view-versus-a-copy\n",
      "  tmp['Cuisine Style']=tmp.apply(lambda x: str(x['Cuisine Style']).replace(\",\",\"|\"),axis=1)\n"
     ]
    },
    {
     "data": {
      "text/html": [
       "<div>\n",
       "<style scoped>\n",
       "    .dataframe tbody tr th:only-of-type {\n",
       "        vertical-align: middle;\n",
       "    }\n",
       "\n",
       "    .dataframe tbody tr th {\n",
       "        vertical-align: top;\n",
       "    }\n",
       "\n",
       "    .dataframe thead th {\n",
       "        text-align: right;\n",
       "    }\n",
       "</style>\n",
       "<table border=\"1\" class=\"dataframe\">\n",
       "  <thead>\n",
       "    <tr style=\"text-align: right;\">\n",
       "      <th></th>\n",
       "      <th>'Gluten Free Options...\\nName: Cuisine Style, dtype: object&gt;</th>\n",
       "      <th>'Pub'\\n1    'European'</th>\n",
       "      <th>'Scandinavian'</th>\n",
       "      <th>&lt;bound method IndexOpsMixin.tolist of 0                                          'Bar'</th>\n",
       "    </tr>\n",
       "  </thead>\n",
       "  <tbody>\n",
       "    <tr>\n",
       "      <th>0</th>\n",
       "      <td>1</td>\n",
       "      <td>1</td>\n",
       "      <td>1</td>\n",
       "      <td>1</td>\n",
       "    </tr>\n",
       "  </tbody>\n",
       "</table>\n",
       "</div>"
      ],
      "text/plain": [
       "   'Gluten Free Options...\\nName: Cuisine Style, dtype: object>  \\\n",
       "0                                                  1              \n",
       "\n",
       "   'Pub'\\n1    'European'  'Scandinavian'  \\\n",
       "0                       1               1   \n",
       "\n",
       "   <bound method IndexOpsMixin.tolist of 0                                          'Bar'  \n",
       "0                                                  1                                       "
      ]
     },
     "metadata": {},
     "output_type": "display_data"
    }
   ],
   "source": [
    "tmp=dff[:2]\n",
    "#tmp=tmp['Cuisine Style'].apply(lambda x: pd.Series([x]).str.get_dummies(sep=','))\n",
    "tmp['Cuisine Style']=tmp.apply(lambda x: str(x['Cuisine Style']).replace(\",\",\"|\"),axis=1)\n",
    "tmp=pd.Series(tmp['Cuisine Style'].tolist).str.get_dummies()\n",
    "display(tmp)"
   ]
  },
  {
   "cell_type": "code",
   "execution_count": 29,
   "metadata": {
    "execution": {
     "iopub.execute_input": "2021-09-08T16:44:09.890543Z",
     "iopub.status.busy": "2021-09-08T16:44:09.890162Z",
     "iopub.status.idle": "2021-09-08T16:46:39.210916Z",
     "shell.execute_reply": "2021-09-08T16:46:39.209890Z",
     "shell.execute_reply.started": "2021-09-08T16:44:09.890476Z"
    }
   },
   "outputs": [
    {
     "name": "stderr",
     "output_type": "stream",
     "text": [
      "C:\\Users\\Sawa\\anaconda3\\lib\\site-packages\\numpy\\core\\_asarray.py:83: VisibleDeprecationWarning: Creating an ndarray from ragged nested sequences (which is a list-or-tuple of lists-or-tuples-or ndarrays with different lengths or shapes) is deprecated. If you meant to do this, you must specify 'dtype=object' when creating the ndarray\n",
      "  return array(a, dtype, copy=False, order=order)\n"
     ]
    },
    {
     "data": {
      "text/html": [
       "<div>\n",
       "<style scoped>\n",
       "    .dataframe tbody tr th:only-of-type {\n",
       "        vertical-align: middle;\n",
       "    }\n",
       "\n",
       "    .dataframe tbody tr th {\n",
       "        vertical-align: top;\n",
       "    }\n",
       "\n",
       "    .dataframe thead th {\n",
       "        text-align: right;\n",
       "    }\n",
       "</style>\n",
       "<table border=\"1\" class=\"dataframe\">\n",
       "  <thead>\n",
       "    <tr style=\"text-align: right;\">\n",
       "      <th></th>\n",
       "      <th>Restaurant_id</th>\n",
       "      <th>Cuisine Style</th>\n",
       "      <th>Ranking</th>\n",
       "      <th>Price Range</th>\n",
       "      <th>Number of Reviews</th>\n",
       "      <th>Reviews</th>\n",
       "      <th>URL_TA</th>\n",
       "      <th>ID_TA</th>\n",
       "      <th>sample</th>\n",
       "      <th>Rating</th>\n",
       "      <th>...</th>\n",
       "      <th>City_Warsaw</th>\n",
       "      <th>City_Zurich</th>\n",
       "      <th>City_nan</th>\n",
       "      <th>Cuisinepopul</th>\n",
       "      <th>Cuisinecnt</th>\n",
       "      <th>RevF</th>\n",
       "      <th>RevL</th>\n",
       "      <th>revcolor</th>\n",
       "      <th>difffirstlastrev</th>\n",
       "      <th>difflast</th>\n",
       "    </tr>\n",
       "  </thead>\n",
       "  <tbody>\n",
       "    <tr>\n",
       "      <th>4912</th>\n",
       "      <td>id_4912</td>\n",
       "      <td>'Asian','Taiwanese','Vietnamese'</td>\n",
       "      <td>6115.0</td>\n",
       "      <td>0</td>\n",
       "      <td>16.0</td>\n",
       "      <td>[['great home made food', 'The place to be if ...</td>\n",
       "      <td>/Restaurant_Review-g187147-d1328307-Reviews-Op...</td>\n",
       "      <td>d1328307</td>\n",
       "      <td>0</td>\n",
       "      <td>0.0</td>\n",
       "      <td>...</td>\n",
       "      <td>0</td>\n",
       "      <td>0</td>\n",
       "      <td>0</td>\n",
       "      <td>4438</td>\n",
       "      <td>3</td>\n",
       "      <td>2016-07-28</td>\n",
       "      <td>2016-11-11</td>\n",
       "      <td>1</td>\n",
       "      <td>106</td>\n",
       "      <td>472</td>\n",
       "    </tr>\n",
       "    <tr>\n",
       "      <th>35957</th>\n",
       "      <td>id_5675</td>\n",
       "      <td>'European','French','Portuguese'</td>\n",
       "      <td>5676.0</td>\n",
       "      <td>1</td>\n",
       "      <td>40.0</td>\n",
       "      <td>[['Great Food and Prices, Friendly Environmen....</td>\n",
       "      <td>/Restaurant_Review-g187147-d3736244-Reviews-Le...</td>\n",
       "      <td>d3736244</td>\n",
       "      <td>1</td>\n",
       "      <td>4.0</td>\n",
       "      <td>...</td>\n",
       "      <td>0</td>\n",
       "      <td>0</td>\n",
       "      <td>0</td>\n",
       "      <td>17916</td>\n",
       "      <td>3</td>\n",
       "      <td>2017-07-19</td>\n",
       "      <td>2017-10-30</td>\n",
       "      <td>2</td>\n",
       "      <td>103</td>\n",
       "      <td>119</td>\n",
       "    </tr>\n",
       "    <tr>\n",
       "      <th>40178</th>\n",
       "      <td>id_1038</td>\n",
       "      <td>'Vegetarian Friendly','Vegan Options','Gluten ...</td>\n",
       "      <td>1039.0</td>\n",
       "      <td>-1</td>\n",
       "      <td>43.0</td>\n",
       "      <td>[['Great food and prices', 'Good food, fun ide...</td>\n",
       "      <td>/Restaurant_Review-g189852-d12716741-Reviews-P...</td>\n",
       "      <td>d12716741</td>\n",
       "      <td>1</td>\n",
       "      <td>3.5</td>\n",
       "      <td>...</td>\n",
       "      <td>0</td>\n",
       "      <td>0</td>\n",
       "      <td>0</td>\n",
       "      <td>24890</td>\n",
       "      <td>3</td>\n",
       "      <td>2017-11-15</td>\n",
       "      <td>2018-01-06</td>\n",
       "      <td>3</td>\n",
       "      <td>52</td>\n",
       "      <td>51</td>\n",
       "    </tr>\n",
       "  </tbody>\n",
       "</table>\n",
       "<p>3 rows × 51 columns</p>\n",
       "</div>"
      ],
      "text/plain": [
       "      Restaurant_id                                      Cuisine Style  \\\n",
       "4912        id_4912                   'Asian','Taiwanese','Vietnamese'   \n",
       "35957       id_5675                   'European','French','Portuguese'   \n",
       "40178       id_1038  'Vegetarian Friendly','Vegan Options','Gluten ...   \n",
       "\n",
       "       Ranking  Price Range  Number of Reviews  \\\n",
       "4912    6115.0            0               16.0   \n",
       "35957   5676.0            1               40.0   \n",
       "40178   1039.0           -1               43.0   \n",
       "\n",
       "                                                 Reviews  \\\n",
       "4912   [['great home made food', 'The place to be if ...   \n",
       "35957  [['Great Food and Prices, Friendly Environmen....   \n",
       "40178  [['Great food and prices', 'Good food, fun ide...   \n",
       "\n",
       "                                                  URL_TA      ID_TA  sample  \\\n",
       "4912   /Restaurant_Review-g187147-d1328307-Reviews-Op...   d1328307       0   \n",
       "35957  /Restaurant_Review-g187147-d3736244-Reviews-Le...   d3736244       1   \n",
       "40178  /Restaurant_Review-g189852-d12716741-Reviews-P...  d12716741       1   \n",
       "\n",
       "       Rating  ...  City_Warsaw City_Zurich  City_nan  Cuisinepopul  \\\n",
       "4912      0.0  ...            0           0         0          4438   \n",
       "35957     4.0  ...            0           0         0         17916   \n",
       "40178     3.5  ...            0           0         0         24890   \n",
       "\n",
       "       Cuisinecnt       RevF       RevL  revcolor  difffirstlastrev  difflast  \n",
       "4912            3 2016-07-28 2016-11-11         1               106       472  \n",
       "35957           3 2017-07-19 2017-10-30         2               103       119  \n",
       "40178           3 2017-11-15 2018-01-06         3                52        51  \n",
       "\n",
       "[3 rows x 51 columns]"
      ]
     },
     "execution_count": 29,
     "metadata": {},
     "output_type": "execute_result"
    }
   ],
   "source": [
    "# работа с Reviews: обработка дат и характера(цвета) отзывов\n",
    "nicerev = list(map(str.upper, ['Cosy', 'fair', 'Charming', 'Cool', 'Decent', 'pleasant', 'Perfect', 'tasty', 'highly recommended', 'Ideal', 'Amazing', 'Fantastic', 'Great',\n",
    "                               'good', 'fine', 'nice', 'Delicious', 'honest', 'Decent', 'Not bad', 'tasty', 'Quick', 'best', 'exellent', 'Wonderful', 'Top', 'Beautiful', 'High quality', 'LOVE', 'Friendl']))\n",
    "badrev = list(map(str.upper, ['avoid', 'Incompetent', 'Poor', 'Overpriced', 'Terrible',\n",
    "                              'not enjoy', 'disaster', 'doubt', 'bad', 'Unpleasant', 'Needy', 'No better']))\n",
    "\n",
    "debcnt = -1  # для отладки счетчик строк, где произошла ошибка\n",
    "\n",
    "\n",
    "def todtdt(intrp1):  # обработка вложенных списков посредством eval\n",
    "    bb = 0\n",
    "    global debcnt\n",
    "    try:\n",
    "        debcnt += 1\n",
    "        # обработка строки intrp1.Reviews вида [[отзыв отзыв],[дата дата]]\n",
    "        if (intrp1.Reviews is None) or (str(intrp1.Reviews) == 'nan'):\n",
    "            # math.isnan(intrp1.Reviews) or\n",
    "            # замена пропусков на древнюю дату 1970\n",
    "            bb = np.asarray([[], [\"01/01/1970\"]])\n",
    "        else:\n",
    "            bb = eval(\"np.asarray({})\".format(\n",
    "                str(intrp1.Reviews).replace('nan', '\"01/01/1970\"')))\n",
    "        # обработка отзывов\n",
    "        revcolor = 0\n",
    "\n",
    "        def lookcolor(x):  # для положительных отзывов - увеличение, для отрицательных - уменьшение счетчика\n",
    "            nonlocal revcolor\n",
    "            for xx in nicerev:\n",
    "                if xx in x.upper():\n",
    "                    revcolor += 1\n",
    "            for xx in badrev:\n",
    "                if xx in x.upper():\n",
    "                    revcolor -= 1\n",
    "            return revcolor\n",
    "\n",
    "        list(map(lookcolor, bb[0]))\n",
    "\n",
    "        # обработка дат\n",
    "        aa = np.fromiter(map(lambda x: datetime.strptime(\n",
    "            x, '%m/%d/%Y'), bb[1]), dtype='datetime64[D]')\n",
    "        # заменить отсутствующие данные на древнюю дату 1970г.\n",
    "        if aa.shape[0] == 0:\n",
    "            aa = np.asarray([np.datetime64('1970-01-01')])\n",
    "        aa.sort()\n",
    "        return pd.DataFrame(list(zip([aa[0]], [aa[-1]], [revcolor])), columns=['R1', 'R2', 'R3']).iloc[0]\n",
    "    except Exception:  # вывод информации для понимания, в какой строке и почему код не сработал\n",
    "        print(\"bb\", bb, \"debcnt\", debcnt, \"intrp.Reviews\", intrp1.Reviews, str(\n",
    "            intrp1.Reviews), \"tttttype\", type(intrp1.Reviews))\n",
    "        print(\"Unexpected error:\", sys.exc_info()[0])\n",
    "        raise Exception\n",
    "\n",
    "\n",
    "# добавить столбцы с датами двух последних отзывов и \"цветом\" отзывов\n",
    "\n",
    "dff[['RevF', 'RevL', 'revcolor']] = dff.apply(todtdt, axis=1)\n",
    "\n",
    "# найти даты самых древних и свежих отзывов\n",
    "RevF = dff[dff.RevF != np.datetime64('1970-01-01')]['RevF'].min()\n",
    "RevL = dff['RevL'].max()\n",
    "\n",
    "\n",
    "def RevFL(x):  # вычислить признаки количества дней между двумя последними отзывами и\n",
    "    # \"свежесть\" последнего отзыва по сравнению с наиболее свежим среди всех ресторанов RevL\n",
    "    # где были пропуски  сравнивать с древней датой\n",
    "    RevLcurent = x.RevL\n",
    "    if x.RevF == np.datetime64('1970-01-01'):\n",
    "        RevLcurent = x.RevF  # сохранить для вычисления \"свежести\" последнего отзыва\n",
    "        x.RevF = RevF\n",
    "        x.RevL = RevL\n",
    "    return pd.DataFrame(list(zip([x.RevF], [x.RevL], [np.timedelta64(x.RevL-x.RevF, 'D').astype(int)], [np.timedelta64(RevL-RevLcurent, 'D').astype(int)]))).iloc[0]\n",
    "\n",
    "\n",
    "# для изначально отсутствующих данных установить самый большой интервал между отзывами difffirstlastrev, что должно предположительно снижать рейтинг\n",
    "# а так же вычислить свежесть отзыва difflast (для отсутствующих данных установить большую древность (от 1970 года), что тоже предположительно уменьшает рейтинг)\n",
    "data[['RevF', 'RevL', 'difffirstlastrev', 'difflast']] = dff.apply(\n",
    "    RevFL, axis=1)\n",
    "\n",
    "data.sample(3)"
   ]
  },
  {
   "cell_type": "markdown",
   "metadata": {},
   "source": [
    "# EDA \n",
    "[Exploratory Data Analysis](https://ru.wikipedia.org/wiki/Разведочный_анализ_данных) - Анализ данных\n",
    "На этом этапе мы строим графики, ищем закономерности, аномалии, выбросы или связи между признаками.\n",
    "В общем цель этого этапа понять, что эти данные могут нам дать и как признаки могут быть взаимосвязаны между собой.\n",
    "Понимание изначальных признаков позволит сгенерировать новые, более сильные и, тем самым, сделать нашу модель лучше.\n",
    "![](https://miro.medium.com/max/2598/1*RXdMb7Uk6mGqWqPguHULaQ.png)"
   ]
  },
  {
   "cell_type": "markdown",
   "metadata": {},
   "source": [
    "### Посмотрим распределение признака"
   ]
  },
  {
   "cell_type": "code",
   "execution_count": 30,
   "metadata": {
    "execution": {
     "iopub.execute_input": "2021-09-08T16:46:39.212703Z",
     "iopub.status.busy": "2021-09-08T16:46:39.212442Z",
     "iopub.status.idle": "2021-09-08T16:46:39.706987Z",
     "shell.execute_reply": "2021-09-08T16:46:39.705720Z",
     "shell.execute_reply.started": "2021-09-08T16:46:39.212659Z"
    }
   },
   "outputs": [
    {
     "data": {
      "text/plain": [
       "<AxesSubplot:>"
      ]
     },
     "execution_count": 30,
     "metadata": {},
     "output_type": "execute_result"
    },
    {
     "data": {
      "image/png": "[encoded data removed]",
      "text/plain": [
       "<Figure size 720x504 with 1 Axes>"
      ]
     },
     "metadata": {
      "needs_background": "light"
     },
     "output_type": "display_data"
    }
   ],
   "source": [
    "plt.rcParams['figure.figsize'] = (10,7)\n",
    "df_train['Ranking'].hist(bins=100)"
   ]
  },
  {
   "cell_type": "markdown",
   "metadata": {},
   "source": [
    "У нас много ресторанов, которые не дотягивают и до 2500 места в своем городе, а что там по городам?"
   ]
  },
  {
   "cell_type": "code",
   "execution_count": 31,
   "metadata": {
    "execution": {
     "iopub.execute_input": "2021-09-08T16:46:39.709601Z",
     "iopub.status.busy": "2021-09-08T16:46:39.709006Z",
     "iopub.status.idle": "2021-09-08T16:46:40.082587Z",
     "shell.execute_reply": "2021-09-08T16:46:40.081687Z",
     "shell.execute_reply.started": "2021-09-08T16:46:39.709389Z"
    }
   },
   "outputs": [
    {
     "data": {
      "text/plain": [
       "<AxesSubplot:>"
      ]
     },
     "execution_count": 31,
     "metadata": {},
     "output_type": "execute_result"
    },
    {
     "data": {
      "image/png": "[encoded data removed]",
      "text/plain": [
       "<Figure size 720x504 with 1 Axes>"
      ]
     },
     "metadata": {
      "needs_background": "light"
     },
     "output_type": "display_data"
    }
   ],
   "source": [
    "df_train['City'].value_counts(ascending=True).plot(kind='barh')"
   ]
  },
  {
   "cell_type": "markdown",
   "metadata": {},
   "source": [
    "А кто-то говорил, что французы любят поесть=) Посмотрим, как изменится распределение в большом городе:"
   ]
  },
  {
   "cell_type": "code",
   "execution_count": 32,
   "metadata": {
    "execution": {
     "iopub.execute_input": "2021-09-08T16:46:40.084788Z",
     "iopub.status.busy": "2021-09-08T16:46:40.084213Z",
     "iopub.status.idle": "2021-09-08T16:46:40.525892Z",
     "shell.execute_reply": "2021-09-08T16:46:40.524967Z",
     "shell.execute_reply.started": "2021-09-08T16:46:40.084723Z"
    }
   },
   "outputs": [
    {
     "data": {
      "text/plain": [
       "<AxesSubplot:>"
      ]
     },
     "execution_count": 32,
     "metadata": {},
     "output_type": "execute_result"
    },
    {
     "data": {
      "image/png": "[encoded data removed]",
      "text/plain": [
       "<Figure size 720x504 with 1 Axes>"
      ]
     },
     "metadata": {
      "needs_background": "light"
     },
     "output_type": "display_data"
    }
   ],
   "source": [
    "df_train['Ranking'][df_train['City'] =='London'].hist(bins=100)"
   ]
  },
  {
   "cell_type": "code",
   "execution_count": null,
   "metadata": {},
   "outputs": [],
   "source": []
  },
  {
   "cell_type": "code",
   "execution_count": 33,
   "metadata": {
    "execution": {
     "iopub.execute_input": "2021-09-08T16:46:40.528071Z",
     "iopub.status.busy": "2021-09-08T16:46:40.527513Z",
     "iopub.status.idle": "2021-09-08T16:46:43.100788Z",
     "shell.execute_reply": "2021-09-08T16:46:43.099954Z",
     "shell.execute_reply.started": "2021-09-08T16:46:40.528009Z"
    }
   },
   "outputs": [
    {
     "data": {
      "image/png": "[encoded data removed]",
      "text/plain": [
       "<Figure size 720x504 with 1 Axes>"
      ]
     },
     "metadata": {
      "needs_background": "light"
     },
     "output_type": "display_data"
    }
   ],
   "source": [
    "# посмотрим на топ 10 городов\n",
    "for x in (df_train['City'].value_counts())[0:10].index:\n",
    "    df_train['Ranking'][df_train['City'] == x].hist(bins=100)\n",
    "plt.show()"
   ]
  },
  {
   "cell_type": "markdown",
   "metadata": {},
   "source": [
    "Получается, что Ranking имеет нормальное распределение, просто в больших городах больше ресторанов, из-за мы этого имеем смещение.\n",
    "\n",
    ">Подумайте как из этого можно сделать признак для вашей модели. Я покажу вам пример, как визуализация помогает находить взаимосвязи. А далее действуйте без подсказок =) \n"
   ]
  },
  {
   "cell_type": "code",
   "execution_count": 34,
   "metadata": {},
   "outputs": [
    {
     "data": {
      "text/html": [
       "<div>\n",
       "<style scoped>\n",
       "    .dataframe tbody tr th:only-of-type {\n",
       "        vertical-align: middle;\n",
       "    }\n",
       "\n",
       "    .dataframe tbody tr th {\n",
       "        vertical-align: top;\n",
       "    }\n",
       "\n",
       "    .dataframe thead th {\n",
       "        text-align: right;\n",
       "    }\n",
       "</style>\n",
       "<table border=\"1\" class=\"dataframe\">\n",
       "  <thead>\n",
       "    <tr style=\"text-align: right;\">\n",
       "      <th></th>\n",
       "      <th>count</th>\n",
       "      <th>mean</th>\n",
       "      <th>std</th>\n",
       "      <th>min</th>\n",
       "      <th>25%</th>\n",
       "      <th>50%</th>\n",
       "      <th>75%</th>\n",
       "      <th>max</th>\n",
       "      <th>lin</th>\n",
       "    </tr>\n",
       "    <tr>\n",
       "      <th>City_</th>\n",
       "      <th></th>\n",
       "      <th></th>\n",
       "      <th></th>\n",
       "      <th></th>\n",
       "      <th></th>\n",
       "      <th></th>\n",
       "      <th></th>\n",
       "      <th></th>\n",
       "      <th></th>\n",
       "    </tr>\n",
       "  </thead>\n",
       "  <tbody>\n",
       "    <tr>\n",
       "      <th>Ljubljana</th>\n",
       "      <td>222.0</td>\n",
       "      <td>234.509009</td>\n",
       "      <td>136.371954</td>\n",
       "      <td>3.0</td>\n",
       "      <td>118.25</td>\n",
       "      <td>230.5</td>\n",
       "      <td>354.25</td>\n",
       "      <td>468.0</td>\n",
       "      <td>2.108108</td>\n",
       "    </tr>\n",
       "    <tr>\n",
       "      <th>Luxembourg</th>\n",
       "      <td>263.0</td>\n",
       "      <td>308.159696</td>\n",
       "      <td>180.032856</td>\n",
       "      <td>2.0</td>\n",
       "      <td>154.50</td>\n",
       "      <td>314.0</td>\n",
       "      <td>469.50</td>\n",
       "      <td>621.0</td>\n",
       "      <td>2.361217</td>\n",
       "    </tr>\n",
       "    <tr>\n",
       "      <th>Bratislava</th>\n",
       "      <td>380.0</td>\n",
       "      <td>462.428947</td>\n",
       "      <td>254.272873</td>\n",
       "      <td>3.0</td>\n",
       "      <td>250.75</td>\n",
       "      <td>478.5</td>\n",
       "      <td>675.25</td>\n",
       "      <td>889.0</td>\n",
       "      <td>2.339474</td>\n",
       "    </tr>\n",
       "    <tr>\n",
       "      <th>Oslo</th>\n",
       "      <td>488.0</td>\n",
       "      <td>552.569672</td>\n",
       "      <td>327.988605</td>\n",
       "      <td>1.0</td>\n",
       "      <td>274.50</td>\n",
       "      <td>529.5</td>\n",
       "      <td>834.25</td>\n",
       "      <td>1137.0</td>\n",
       "      <td>2.329918</td>\n",
       "    </tr>\n",
       "    <tr>\n",
       "      <th>Helsinki</th>\n",
       "      <td>475.0</td>\n",
       "      <td>564.231579</td>\n",
       "      <td>326.252609</td>\n",
       "      <td>4.0</td>\n",
       "      <td>281.50</td>\n",
       "      <td>564.0</td>\n",
       "      <td>831.50</td>\n",
       "      <td>1141.0</td>\n",
       "      <td>2.402105</td>\n",
       "    </tr>\n",
       "    <tr>\n",
       "      <th>Krakow</th>\n",
       "      <td>554.0</td>\n",
       "      <td>616.267148</td>\n",
       "      <td>357.832799</td>\n",
       "      <td>1.0</td>\n",
       "      <td>305.50</td>\n",
       "      <td>614.0</td>\n",
       "      <td>917.50</td>\n",
       "      <td>1244.0</td>\n",
       "      <td>2.245487</td>\n",
       "    </tr>\n",
       "    <tr>\n",
       "      <th>Geneva</th>\n",
       "      <td>590.0</td>\n",
       "      <td>713.227119</td>\n",
       "      <td>409.801740</td>\n",
       "      <td>3.0</td>\n",
       "      <td>357.50</td>\n",
       "      <td>710.5</td>\n",
       "      <td>1067.50</td>\n",
       "      <td>1413.0</td>\n",
       "      <td>2.394915</td>\n",
       "    </tr>\n",
       "    <tr>\n",
       "      <th>Oporto</th>\n",
       "      <td>642.0</td>\n",
       "      <td>752.034268</td>\n",
       "      <td>426.344754</td>\n",
       "      <td>4.0</td>\n",
       "      <td>377.25</td>\n",
       "      <td>758.0</td>\n",
       "      <td>1107.50</td>\n",
       "      <td>1484.0</td>\n",
       "      <td>2.311526</td>\n",
       "    </tr>\n",
       "    <tr>\n",
       "      <th>Zurich</th>\n",
       "      <td>685.0</td>\n",
       "      <td>794.280292</td>\n",
       "      <td>464.525263</td>\n",
       "      <td>2.0</td>\n",
       "      <td>401.00</td>\n",
       "      <td>777.0</td>\n",
       "      <td>1211.00</td>\n",
       "      <td>1601.0</td>\n",
       "      <td>2.337226</td>\n",
       "    </tr>\n",
       "    <tr>\n",
       "      <th>Edinburgh</th>\n",
       "      <td>745.0</td>\n",
       "      <td>885.130201</td>\n",
       "      <td>514.386876</td>\n",
       "      <td>1.0</td>\n",
       "      <td>448.00</td>\n",
       "      <td>903.0</td>\n",
       "      <td>1331.00</td>\n",
       "      <td>1766.0</td>\n",
       "      <td>2.370470</td>\n",
       "    </tr>\n",
       "    <tr>\n",
       "      <th>Athens</th>\n",
       "      <td>776.0</td>\n",
       "      <td>880.213918</td>\n",
       "      <td>496.941674</td>\n",
       "      <td>3.0</td>\n",
       "      <td>468.75</td>\n",
       "      <td>871.5</td>\n",
       "      <td>1293.75</td>\n",
       "      <td>1787.0</td>\n",
       "      <td>2.302835</td>\n",
       "    </tr>\n",
       "    <tr>\n",
       "      <th>Dublin</th>\n",
       "      <td>836.0</td>\n",
       "      <td>972.127990</td>\n",
       "      <td>553.079742</td>\n",
       "      <td>4.0</td>\n",
       "      <td>497.75</td>\n",
       "      <td>981.5</td>\n",
       "      <td>1432.25</td>\n",
       "      <td>1960.0</td>\n",
       "      <td>2.344498</td>\n",
       "    </tr>\n",
       "    <tr>\n",
       "      <th>Copenhagen</th>\n",
       "      <td>819.0</td>\n",
       "      <td>982.147741</td>\n",
       "      <td>569.147493</td>\n",
       "      <td>3.0</td>\n",
       "      <td>484.00</td>\n",
       "      <td>987.0</td>\n",
       "      <td>1471.00</td>\n",
       "      <td>1964.0</td>\n",
       "      <td>2.398046</td>\n",
       "    </tr>\n",
       "    <tr>\n",
       "      <th>Warsaw</th>\n",
       "      <td>925.0</td>\n",
       "      <td>1055.193514</td>\n",
       "      <td>624.497608</td>\n",
       "      <td>1.0</td>\n",
       "      <td>521.00</td>\n",
       "      <td>1036.0</td>\n",
       "      <td>1603.00</td>\n",
       "      <td>2154.0</td>\n",
       "      <td>2.328649</td>\n",
       "    </tr>\n",
       "    <tr>\n",
       "      <th>Budapest</th>\n",
       "      <td>1021.0</td>\n",
       "      <td>1219.061704</td>\n",
       "      <td>703.457090</td>\n",
       "      <td>1.0</td>\n",
       "      <td>631.00</td>\n",
       "      <td>1199.0</td>\n",
       "      <td>1827.00</td>\n",
       "      <td>2440.0</td>\n",
       "      <td>2.389814</td>\n",
       "    </tr>\n",
       "    <tr>\n",
       "      <th>Stockholm</th>\n",
       "      <td>1033.0</td>\n",
       "      <td>1237.482091</td>\n",
       "      <td>722.385716</td>\n",
       "      <td>1.0</td>\n",
       "      <td>602.00</td>\n",
       "      <td>1281.0</td>\n",
       "      <td>1874.00</td>\n",
       "      <td>2464.0</td>\n",
       "      <td>2.385286</td>\n",
       "    </tr>\n",
       "    <tr>\n",
       "      <th>Lyon</th>\n",
       "      <td>1126.0</td>\n",
       "      <td>1303.902309</td>\n",
       "      <td>756.506271</td>\n",
       "      <td>1.0</td>\n",
       "      <td>657.50</td>\n",
       "      <td>1274.5</td>\n",
       "      <td>1943.50</td>\n",
       "      <td>2666.0</td>\n",
       "      <td>2.367673</td>\n",
       "    </tr>\n",
       "    <tr>\n",
       "      <th>Hamburg</th>\n",
       "      <td>1186.0</td>\n",
       "      <td>1375.409781</td>\n",
       "      <td>792.985678</td>\n",
       "      <td>1.0</td>\n",
       "      <td>663.00</td>\n",
       "      <td>1394.0</td>\n",
       "      <td>2050.75</td>\n",
       "      <td>2737.0</td>\n",
       "      <td>2.307757</td>\n",
       "    </tr>\n",
       "    <tr>\n",
       "      <th>Munich</th>\n",
       "      <td>1145.0</td>\n",
       "      <td>1370.297817</td>\n",
       "      <td>805.135934</td>\n",
       "      <td>3.0</td>\n",
       "      <td>679.00</td>\n",
       "      <td>1353.0</td>\n",
       "      <td>2074.00</td>\n",
       "      <td>2763.0</td>\n",
       "      <td>2.413100</td>\n",
       "    </tr>\n",
       "    <tr>\n",
       "      <th>Brussels</th>\n",
       "      <td>1314.0</td>\n",
       "      <td>1541.901826</td>\n",
       "      <td>866.585639</td>\n",
       "      <td>3.0</td>\n",
       "      <td>806.25</td>\n",
       "      <td>1566.0</td>\n",
       "      <td>2287.75</td>\n",
       "      <td>3006.0</td>\n",
       "      <td>2.287671</td>\n",
       "    </tr>\n",
       "    <tr>\n",
       "      <th>Amsterdam</th>\n",
       "      <td>1372.0</td>\n",
       "      <td>1591.589650</td>\n",
       "      <td>939.209664</td>\n",
       "      <td>1.0</td>\n",
       "      <td>789.00</td>\n",
       "      <td>1582.5</td>\n",
       "      <td>2407.50</td>\n",
       "      <td>3254.0</td>\n",
       "      <td>2.371720</td>\n",
       "    </tr>\n",
       "    <tr>\n",
       "      <th>Vienna</th>\n",
       "      <td>1443.0</td>\n",
       "      <td>1711.275814</td>\n",
       "      <td>989.809056</td>\n",
       "      <td>1.0</td>\n",
       "      <td>869.00</td>\n",
       "      <td>1701.0</td>\n",
       "      <td>2567.00</td>\n",
       "      <td>3444.0</td>\n",
       "      <td>2.386694</td>\n",
       "    </tr>\n",
       "    <tr>\n",
       "      <th>Lisbon</th>\n",
       "      <td>1647.0</td>\n",
       "      <td>1867.330298</td>\n",
       "      <td>1070.662647</td>\n",
       "      <td>1.0</td>\n",
       "      <td>926.00</td>\n",
       "      <td>1901.0</td>\n",
       "      <td>2795.00</td>\n",
       "      <td>3717.0</td>\n",
       "      <td>2.256831</td>\n",
       "    </tr>\n",
       "    <tr>\n",
       "      <th>Prague</th>\n",
       "      <td>1816.0</td>\n",
       "      <td>2086.979626</td>\n",
       "      <td>1200.638960</td>\n",
       "      <td>2.0</td>\n",
       "      <td>1030.75</td>\n",
       "      <td>2089.5</td>\n",
       "      <td>3124.50</td>\n",
       "      <td>4188.0</td>\n",
       "      <td>2.306167</td>\n",
       "    </tr>\n",
       "    <tr>\n",
       "      <th>Rome</th>\n",
       "      <td>2589.0</td>\n",
       "      <td>2970.733102</td>\n",
       "      <td>1716.999034</td>\n",
       "      <td>1.0</td>\n",
       "      <td>1465.00</td>\n",
       "      <td>2972.0</td>\n",
       "      <td>4475.00</td>\n",
       "      <td>5948.0</td>\n",
       "      <td>2.297412</td>\n",
       "    </tr>\n",
       "    <tr>\n",
       "      <th>Milan</th>\n",
       "      <td>2694.0</td>\n",
       "      <td>3106.027840</td>\n",
       "      <td>1799.400356</td>\n",
       "      <td>1.0</td>\n",
       "      <td>1533.00</td>\n",
       "      <td>3081.5</td>\n",
       "      <td>4628.25</td>\n",
       "      <td>6275.0</td>\n",
       "      <td>2.329250</td>\n",
       "    </tr>\n",
       "    <tr>\n",
       "      <th>Berlin</th>\n",
       "      <td>2705.0</td>\n",
       "      <td>3255.417745</td>\n",
       "      <td>1816.592006</td>\n",
       "      <td>2.0</td>\n",
       "      <td>1705.00</td>\n",
       "      <td>3282.0</td>\n",
       "      <td>4805.00</td>\n",
       "      <td>6372.0</td>\n",
       "      <td>2.355638</td>\n",
       "    </tr>\n",
       "    <tr>\n",
       "      <th>Barcelona</th>\n",
       "      <td>3395.0</td>\n",
       "      <td>3879.422680</td>\n",
       "      <td>2264.719813</td>\n",
       "      <td>5.0</td>\n",
       "      <td>1866.00</td>\n",
       "      <td>3861.0</td>\n",
       "      <td>5857.00</td>\n",
       "      <td>7796.0</td>\n",
       "      <td>2.296318</td>\n",
       "    </tr>\n",
       "    <tr>\n",
       "      <th>Madrid</th>\n",
       "      <td>3813.0</td>\n",
       "      <td>4388.516391</td>\n",
       "      <td>2527.656287</td>\n",
       "      <td>1.0</td>\n",
       "      <td>2207.00</td>\n",
       "      <td>4363.0</td>\n",
       "      <td>6586.00</td>\n",
       "      <td>8809.0</td>\n",
       "      <td>2.310254</td>\n",
       "    </tr>\n",
       "    <tr>\n",
       "      <th>Paris</th>\n",
       "      <td>6108.0</td>\n",
       "      <td>6938.557138</td>\n",
       "      <td>4039.932752</td>\n",
       "      <td>3.0</td>\n",
       "      <td>3450.75</td>\n",
       "      <td>6860.5</td>\n",
       "      <td>10417.75</td>\n",
       "      <td>13986.0</td>\n",
       "      <td>2.289784</td>\n",
       "    </tr>\n",
       "    <tr>\n",
       "      <th>London</th>\n",
       "      <td>7193.0</td>\n",
       "      <td>8169.707354</td>\n",
       "      <td>4723.964027</td>\n",
       "      <td>1.0</td>\n",
       "      <td>4101.00</td>\n",
       "      <td>8092.0</td>\n",
       "      <td>12282.00</td>\n",
       "      <td>16444.0</td>\n",
       "      <td>2.286111</td>\n",
       "    </tr>\n",
       "  </tbody>\n",
       "</table>\n",
       "</div>"
      ],
      "text/plain": [
       "             count         mean          std  min      25%     50%       75%  \\\n",
       "City_                                                                          \n",
       "Ljubljana    222.0   234.509009   136.371954  3.0   118.25   230.5    354.25   \n",
       "Luxembourg   263.0   308.159696   180.032856  2.0   154.50   314.0    469.50   \n",
       "Bratislava   380.0   462.428947   254.272873  3.0   250.75   478.5    675.25   \n",
       "Oslo         488.0   552.569672   327.988605  1.0   274.50   529.5    834.25   \n",
       "Helsinki     475.0   564.231579   326.252609  4.0   281.50   564.0    831.50   \n",
       "Krakow       554.0   616.267148   357.832799  1.0   305.50   614.0    917.50   \n",
       "Geneva       590.0   713.227119   409.801740  3.0   357.50   710.5   1067.50   \n",
       "Oporto       642.0   752.034268   426.344754  4.0   377.25   758.0   1107.50   \n",
       "Zurich       685.0   794.280292   464.525263  2.0   401.00   777.0   1211.00   \n",
       "Edinburgh    745.0   885.130201   514.386876  1.0   448.00   903.0   1331.00   \n",
       "Athens       776.0   880.213918   496.941674  3.0   468.75   871.5   1293.75   \n",
       "Dublin       836.0   972.127990   553.079742  4.0   497.75   981.5   1432.25   \n",
       "Copenhagen   819.0   982.147741   569.147493  3.0   484.00   987.0   1471.00   \n",
       "Warsaw       925.0  1055.193514   624.497608  1.0   521.00  1036.0   1603.00   \n",
       "Budapest    1021.0  1219.061704   703.457090  1.0   631.00  1199.0   1827.00   \n",
       "Stockholm   1033.0  1237.482091   722.385716  1.0   602.00  1281.0   1874.00   \n",
       "Lyon        1126.0  1303.902309   756.506271  1.0   657.50  1274.5   1943.50   \n",
       "Hamburg     1186.0  1375.409781   792.985678  1.0   663.00  1394.0   2050.75   \n",
       "Munich      1145.0  1370.297817   805.135934  3.0   679.00  1353.0   2074.00   \n",
       "Brussels    1314.0  1541.901826   866.585639  3.0   806.25  1566.0   2287.75   \n",
       "Amsterdam   1372.0  1591.589650   939.209664  1.0   789.00  1582.5   2407.50   \n",
       "Vienna      1443.0  1711.275814   989.809056  1.0   869.00  1701.0   2567.00   \n",
       "Lisbon      1647.0  1867.330298  1070.662647  1.0   926.00  1901.0   2795.00   \n",
       "Prague      1816.0  2086.979626  1200.638960  2.0  1030.75  2089.5   3124.50   \n",
       "Rome        2589.0  2970.733102  1716.999034  1.0  1465.00  2972.0   4475.00   \n",
       "Milan       2694.0  3106.027840  1799.400356  1.0  1533.00  3081.5   4628.25   \n",
       "Berlin      2705.0  3255.417745  1816.592006  2.0  1705.00  3282.0   4805.00   \n",
       "Barcelona   3395.0  3879.422680  2264.719813  5.0  1866.00  3861.0   5857.00   \n",
       "Madrid      3813.0  4388.516391  2527.656287  1.0  2207.00  4363.0   6586.00   \n",
       "Paris       6108.0  6938.557138  4039.932752  3.0  3450.75  6860.5  10417.75   \n",
       "London      7193.0  8169.707354  4723.964027  1.0  4101.00  8092.0  12282.00   \n",
       "\n",
       "                max       lin  \n",
       "City_                          \n",
       "Ljubljana     468.0  2.108108  \n",
       "Luxembourg    621.0  2.361217  \n",
       "Bratislava    889.0  2.339474  \n",
       "Oslo         1137.0  2.329918  \n",
       "Helsinki     1141.0  2.402105  \n",
       "Krakow       1244.0  2.245487  \n",
       "Geneva       1413.0  2.394915  \n",
       "Oporto       1484.0  2.311526  \n",
       "Zurich       1601.0  2.337226  \n",
       "Edinburgh    1766.0  2.370470  \n",
       "Athens       1787.0  2.302835  \n",
       "Dublin       1960.0  2.344498  \n",
       "Copenhagen   1964.0  2.398046  \n",
       "Warsaw       2154.0  2.328649  \n",
       "Budapest     2440.0  2.389814  \n",
       "Stockholm    2464.0  2.385286  \n",
       "Lyon         2666.0  2.367673  \n",
       "Hamburg      2737.0  2.307757  \n",
       "Munich       2763.0  2.413100  \n",
       "Brussels     3006.0  2.287671  \n",
       "Amsterdam    3254.0  2.371720  \n",
       "Vienna       3444.0  2.386694  \n",
       "Lisbon       3717.0  2.256831  \n",
       "Prague       4188.0  2.306167  \n",
       "Rome         5948.0  2.297412  \n",
       "Milan        6275.0  2.329250  \n",
       "Berlin       6372.0  2.355638  \n",
       "Barcelona    7796.0  2.296318  \n",
       "Madrid       8809.0  2.310254  \n",
       "Paris       13986.0  2.289784  \n",
       "London      16444.0  2.286111  "
      ]
     },
     "execution_count": 34,
     "metadata": {},
     "output_type": "execute_result"
    }
   ],
   "source": [
    "df_look=data.groupby(['City_'])['Ranking'].describe().sort_values(by='max')\n",
    "df_look['lin']=df_look.apply(lambda x: x['max'] / x['count'],axis=1)\n",
    "df_look\n"
   ]
  },
  {
   "cell_type": "code",
   "execution_count": 36,
   "metadata": {},
   "outputs": [
    {
     "data": {
      "image/png": "[encoded data removed]",
      "text/plain": [
       "<Figure size 720x504 with 1 Axes>"
      ]
     },
     "metadata": {
      "needs_background": "light"
     },
     "output_type": "display_data"
    }
   ],
   "source": [
    "#максимальный ранкинг пропорционален (столбец lin выше) количеству ресторанов в городе\n",
    "#создать универсальный признак, адекватно сопоставимый для любого города\n",
    "data['newRanking']=data.apply(lambda x: x['Ranking'] / df_look.loc[x.City_]['count'],axis=1)\n",
    "\n",
    "for x in (data['City_'].value_counts())[0:10].index:\n",
    "    data['newRanking'][data['City_'] == x].hist(bins=100)\n",
    "plt.show()"
   ]
  },
  {
   "cell_type": "markdown",
   "metadata": {},
   "source": [
    "### Посмотрим распределение целевой переменной"
   ]
  },
  {
   "cell_type": "code",
   "execution_count": 37,
   "metadata": {
    "execution": {
     "iopub.execute_input": "2021-09-08T16:46:43.107742Z",
     "iopub.status.busy": "2021-09-08T16:46:43.107250Z",
     "iopub.status.idle": "2021-09-08T16:46:43.319761Z",
     "shell.execute_reply": "2021-09-08T16:46:43.319020Z",
     "shell.execute_reply.started": "2021-09-08T16:46:43.107677Z"
    }
   },
   "outputs": [
    {
     "data": {
      "text/plain": [
       "<AxesSubplot:>"
      ]
     },
     "execution_count": 37,
     "metadata": {},
     "output_type": "execute_result"
    },
    {
     "data": {
      "image/png": "[encoded data removed]",
      "text/plain": [
       "<Figure size 720x504 with 1 Axes>"
      ]
     },
     "metadata": {
      "needs_background": "light"
     },
     "output_type": "display_data"
    }
   ],
   "source": [
    "df_train['Rating'].value_counts(ascending=True).plot(kind='barh')"
   ]
  },
  {
   "cell_type": "markdown",
   "metadata": {},
   "source": [
    "### Посмотрим распределение целевой переменной относительно признака"
   ]
  },
  {
   "cell_type": "code",
   "execution_count": 38,
   "metadata": {
    "execution": {
     "iopub.execute_input": "2021-09-08T16:46:43.322083Z",
     "iopub.status.busy": "2021-09-08T16:46:43.321519Z",
     "iopub.status.idle": "2021-09-08T16:46:43.758623Z",
     "shell.execute_reply": "2021-09-08T16:46:43.757733Z",
     "shell.execute_reply.started": "2021-09-08T16:46:43.322021Z"
    }
   },
   "outputs": [
    {
     "data": {
      "text/plain": [
       "<AxesSubplot:>"
      ]
     },
     "execution_count": 38,
     "metadata": {},
     "output_type": "execute_result"
    },
    {
     "data": {
      "image/png": "[encoded data removed]",
      "text/plain": [
       "<Figure size 720x504 with 1 Axes>"
      ]
     },
     "metadata": {
      "needs_background": "light"
     },
     "output_type": "display_data"
    }
   ],
   "source": [
    "df_train['Ranking'][df_train['Rating'] == 5].hist(bins=100)"
   ]
  },
  {
   "cell_type": "code",
   "execution_count": 80,
   "metadata": {},
   "outputs": [
    {
     "data": {
      "text/plain": [
       "<AxesSubplot:>"
      ]
     },
     "execution_count": 80,
     "metadata": {},
     "output_type": "execute_result"
    },
    {
     "data": {
      "image/png": "[encoded data removed]",
      "text/plain": [
       "<Figure size 720x720 with 1 Axes>"
      ]
     },
     "metadata": {
      "needs_background": "light"
     },
     "output_type": "display_data"
    }
   ],
   "source": [
    "data['newRanking'][data['Rating'] == 5].hist(bins=100)"
   ]
  },
  {
   "cell_type": "code",
   "execution_count": 81,
   "metadata": {},
   "outputs": [
    {
     "data": {
      "text/plain": [
       "count    50000.000000\n",
       "mean         1.155723\n",
       "std          0.667952\n",
       "min          0.000139\n",
       "25%          0.577355\n",
       "50%          1.151105\n",
       "75%          1.732897\n",
       "max          2.413100\n",
       "Name: newRanking, dtype: float64"
      ]
     },
     "execution_count": 81,
     "metadata": {},
     "output_type": "execute_result"
    }
   ],
   "source": [
    "data['newRanking'].describe()"
   ]
  },
  {
   "cell_type": "code",
   "execution_count": 226,
   "metadata": {
    "execution": {
     "iopub.execute_input": "2021-09-08T16:46:43.760671Z",
     "iopub.status.busy": "2021-09-08T16:46:43.760147Z",
     "iopub.status.idle": "2021-09-08T16:46:44.194028Z",
     "shell.execute_reply": "2021-09-08T16:46:44.193088Z",
     "shell.execute_reply.started": "2021-09-08T16:46:43.760612Z"
    }
   },
   "outputs": [
    {
     "data": {
      "text/plain": [
       "<AxesSubplot:>"
      ]
     },
     "execution_count": 226,
     "metadata": {},
     "output_type": "execute_result"
    },
    {
     "data": {
      "image/png": "[encoded data removed]",
      "text/plain": [
       "<Figure size 720x504 with 1 Axes>"
      ]
     },
     "metadata": {
      "needs_background": "light"
     },
     "output_type": "display_data"
    }
   ],
   "source": [
    "df_train['Ranking'][df_train['Rating'] < 4].hist(bins=100)"
   ]
  },
  {
   "cell_type": "code",
   "execution_count": 39,
   "metadata": {},
   "outputs": [
    {
     "data": {
      "text/plain": [
       "<AxesSubplot:>"
      ]
     },
     "execution_count": 39,
     "metadata": {},
     "output_type": "execute_result"
    },
    {
     "data": {
      "image/png": "[encoded data removed]",
      "text/plain": [
       "<Figure size 720x504 with 1 Axes>"
      ]
     },
     "metadata": {
      "needs_background": "light"
     },
     "output_type": "display_data"
    }
   ],
   "source": [
    "data['newRanking'].hist(bins=100)"
   ]
  },
  {
   "cell_type": "markdown",
   "metadata": {},
   "source": [
    "### И один из моих любимых - [корреляция признаков](https://ru.wikipedia.org/wiki/Корреляция)\n",
    "На этом графике уже сейчас вы сможете заметить, как признаки связаны между собой и с целевой переменной."
   ]
  },
  {
   "cell_type": "code",
   "execution_count": 40,
   "metadata": {
    "execution": {
     "iopub.execute_input": "2021-09-08T16:46:44.196314Z",
     "iopub.status.busy": "2021-09-08T16:46:44.195796Z",
     "iopub.status.idle": "2021-09-08T16:46:45.410000Z",
     "shell.execute_reply": "2021-09-08T16:46:45.408850Z",
     "shell.execute_reply.started": "2021-09-08T16:46:44.196100Z"
    }
   },
   "outputs": [
    {
     "data": {
      "text/plain": [
       "<AxesSubplot:>"
      ]
     },
     "execution_count": 40,
     "metadata": {},
     "output_type": "execute_result"
    },
    {
     "data": {
      "image/png": "[encoded data removed]",
      "text/plain": [
       "<Figure size 1080x720 with 2 Axes>"
      ]
     },
     "metadata": {
      "needs_background": "light"
     },
     "output_type": "display_data"
    }
   ],
   "source": [
    "plt.rcParams['figure.figsize'] = (15,10)\n",
    "sns.heatmap(data.drop(['sample'], axis=1).corr(),)"
   ]
  },
  {
   "cell_type": "code",
   "execution_count": null,
   "metadata": {},
   "outputs": [],
   "source": []
  },
  {
   "cell_type": "markdown",
   "metadata": {},
   "source": [
    "Вообще благодаря визуализации в этом датасете можно узнать много интересных фактов, например:\n",
    "* где больше Пицерий в Мадриде или Лондоне?\n",
    "* в каком городе кухня ресторанов более разнообразна?\n",
    "\n",
    "придумайте свои вопрос и найдите на него ответ в данных)"
   ]
  },
  {
   "cell_type": "markdown",
   "metadata": {},
   "source": [
    "# Data Preprocessing\n",
    "Теперь, для удобства и воспроизводимости кода, завернем всю обработку в одну большую функцию."
   ]
  },
  {
   "cell_type": "code",
   "execution_count": 228,
   "metadata": {
    "execution": {
     "iopub.execute_input": "2021-09-08T16:46:45.412136Z",
     "iopub.status.busy": "2021-09-08T16:46:45.411624Z",
     "iopub.status.idle": "2021-09-08T16:46:45.416449Z",
     "shell.execute_reply": "2021-09-08T16:46:45.415648Z",
     "shell.execute_reply.started": "2021-09-08T16:46:45.411918Z"
    }
   },
   "outputs": [],
   "source": [
    "# # на всякий случай, заново подгружаем данные\n",
    "# df_train = pd.read_csv(DATA_DIR+'/main_task.csv')\n",
    "# df_test = pd.read_csv(DATA_DIR+'/kaggle_task.csv')\n",
    "# df_train['sample'] = 1 # помечаем где у нас трейн\n",
    "# df_test['sample'] = 0 # помечаем где у нас тест\n",
    "# df_test['Rating'] = 0 # в тесте у нас нет значения Rating, мы его должны предсказать, по этому пока просто заполняем нулями\n",
    "\n",
    "# data = df_test.append(df_train, sort=False).reset_index(drop=True) # объединяем\n",
    "# data.info()"
   ]
  },
  {
   "cell_type": "code",
   "execution_count": 229,
   "metadata": {
    "execution": {
     "iopub.execute_input": "2021-09-08T16:46:45.418421Z",
     "iopub.status.busy": "2021-09-08T16:46:45.417920Z",
     "iopub.status.idle": "2021-09-08T16:46:45.430496Z",
     "shell.execute_reply": "2021-09-08T16:46:45.429601Z",
     "shell.execute_reply.started": "2021-09-08T16:46:45.418366Z"
    }
   },
   "outputs": [],
   "source": [
    "def preproc_data(df_input):\n",
    "    '''includes several functions to pre-process the predictor data.'''\n",
    "    \n",
    "    df_output = df_input.copy()\n",
    "    \n",
    "    # ################### 1. Предобработка ############################################################## \n",
    "    # убираем не нужные для модели признаки\n",
    "    df_output.drop(['Restaurant_id','ID_TA',], axis = 1, inplace=True)\n",
    "    \n",
    "    \n",
    "    # ################### 2. NAN ############################################################## \n",
    "    # Далее заполняем пропуски, вы можете попробовать заполнением средним или средним по городу и тд...\n",
    "    df_output['Number of Reviews'].fillna(0, inplace=True)\n",
    "    # тут ваш код по обработке NAN\n",
    "    # ....\n",
    "    \n",
    "    \n",
    "    # ################### 3. Encoding ############################################################## \n",
    "    # для One-Hot Encoding в pandas есть готовая функция - get_dummies. Особенно радует параметр dummy_na\n",
    "    df_output = pd.get_dummies(df_output, columns=[ 'City',], dummy_na=True)\n",
    "    # тут ваш код не Encoding фитчей\n",
    "    # ....\n",
    "    \n",
    "    \n",
    "    # ################### 4. Feature Engineering ####################################################\n",
    "    # тут ваш код не генерацию новых фитчей\n",
    "    # ....\n",
    "    \n",
    "    \n",
    "    # ################### 5. Clean #################################################### \n",
    "    # убираем признаки которые еще не успели обработать, \n",
    "    # модель на признаках с dtypes \"object\" обучаться не будет, просто выберим их и удалим\n",
    "    object_columns = [s for s in df_output.columns if df_output[s].dtypes == 'object']\n",
    "    df_output.drop(object_columns, axis = 1, inplace=True)\n",
    "    \n",
    "    return df_output"
   ]
  },
  {
   "cell_type": "markdown",
   "metadata": {},
   "source": [
    ">По хорошему, можно было бы перевести эту большую функцию в класс и разбить на подфункции (согласно ООП). \n",
    "\n",
    "ОТВЕДЕННОГО НА ПРОЕКТ ВРЕМЕНИ НЕДОСТАТОЧНО"
   ]
  },
  {
   "cell_type": "code",
   "execution_count": 41,
   "metadata": {
    "execution": {
     "iopub.execute_input": "2021-09-08T16:46:45.432464Z",
     "iopub.status.busy": "2021-09-08T16:46:45.431959Z",
     "iopub.status.idle": "2021-09-08T16:46:45.488667Z",
     "shell.execute_reply": "2021-09-08T16:46:45.487660Z",
     "shell.execute_reply.started": "2021-09-08T16:46:45.432400Z"
    }
   },
   "outputs": [
    {
     "name": "stdout",
     "output_type": "stream",
     "text": [
      "<class 'pandas.core.frame.DataFrame'>\n",
      "RangeIndex: 50000 entries, 0 to 49999\n",
      "Data columns (total 52 columns):\n",
      " #   Column                   Non-Null Count  Dtype         \n",
      "---  ------                   --------------  -----         \n",
      " 0   Restaurant_id            50000 non-null  object        \n",
      " 1   Cuisine Style            50000 non-null  object        \n",
      " 2   Ranking                  50000 non-null  float64       \n",
      " 3   Price Range              50000 non-null  int64         \n",
      " 4   Number of Reviews        50000 non-null  float64       \n",
      " 5   Reviews                  49998 non-null  object        \n",
      " 6   URL_TA                   50000 non-null  object        \n",
      " 7   ID_TA                    50000 non-null  object        \n",
      " 8   sample                   50000 non-null  int64         \n",
      " 9   Rating                   50000 non-null  float64       \n",
      " 10  Number_of_Reviews_isNAN  50000 non-null  uint8         \n",
      " 11  City_                    50000 non-null  object        \n",
      " 12  City_Amsterdam           50000 non-null  uint8         \n",
      " 13  City_Athens              50000 non-null  uint8         \n",
      " 14  City_Barcelona           50000 non-null  uint8         \n",
      " 15  City_Berlin              50000 non-null  uint8         \n",
      " 16  City_Bratislava          50000 non-null  uint8         \n",
      " 17  City_Brussels            50000 non-null  uint8         \n",
      " 18  City_Budapest            50000 non-null  uint8         \n",
      " 19  City_Copenhagen          50000 non-null  uint8         \n",
      " 20  City_Dublin              50000 non-null  uint8         \n",
      " 21  City_Edinburgh           50000 non-null  uint8         \n",
      " 22  City_Geneva              50000 non-null  uint8         \n",
      " 23  City_Hamburg             50000 non-null  uint8         \n",
      " 24  City_Helsinki            50000 non-null  uint8         \n",
      " 25  City_Krakow              50000 non-null  uint8         \n",
      " 26  City_Lisbon              50000 non-null  uint8         \n",
      " 27  City_Ljubljana           50000 non-null  uint8         \n",
      " 28  City_London              50000 non-null  uint8         \n",
      " 29  City_Luxembourg          50000 non-null  uint8         \n",
      " 30  City_Lyon                50000 non-null  uint8         \n",
      " 31  City_Madrid              50000 non-null  uint8         \n",
      " 32  City_Milan               50000 non-null  uint8         \n",
      " 33  City_Munich              50000 non-null  uint8         \n",
      " 34  City_Oporto              50000 non-null  uint8         \n",
      " 35  City_Oslo                50000 non-null  uint8         \n",
      " 36  City_Paris               50000 non-null  uint8         \n",
      " 37  City_Prague              50000 non-null  uint8         \n",
      " 38  City_Rome                50000 non-null  uint8         \n",
      " 39  City_Stockholm           50000 non-null  uint8         \n",
      " 40  City_Vienna              50000 non-null  uint8         \n",
      " 41  City_Warsaw              50000 non-null  uint8         \n",
      " 42  City_Zurich              50000 non-null  uint8         \n",
      " 43  City_nan                 50000 non-null  uint8         \n",
      " 44  Cuisinepopul             50000 non-null  int64         \n",
      " 45  Cuisinecnt               50000 non-null  int64         \n",
      " 46  RevF                     50000 non-null  datetime64[ns]\n",
      " 47  RevL                     50000 non-null  datetime64[ns]\n",
      " 48  revcolor                 50000 non-null  int64         \n",
      " 49  difffirstlastrev         50000 non-null  int64         \n",
      " 50  difflast                 50000 non-null  int64         \n",
      " 51  newRanking               50000 non-null  float64       \n",
      "dtypes: datetime64[ns](2), float64(4), int64(7), object(6), uint8(33)\n",
      "memory usage: 8.8+ MB\n"
     ]
    }
   ],
   "source": [
    "data.info()"
   ]
  },
  {
   "cell_type": "code",
   "execution_count": 43,
   "metadata": {
    "execution": {
     "iopub.execute_input": "2021-09-08T16:46:45.490039Z",
     "iopub.status.busy": "2021-09-08T16:46:45.489810Z",
     "iopub.status.idle": "2021-09-08T16:46:45.538515Z",
     "shell.execute_reply": "2021-09-08T16:46:45.537492Z",
     "shell.execute_reply.started": "2021-09-08T16:46:45.490005Z"
    }
   },
   "outputs": [
    {
     "name": "stdout",
     "output_type": "stream",
     "text": [
      "dtypes object\n",
      "dtypes object\n",
      "dtypes float64\n",
      "dtypes int64\n",
      "dtypes float64\n",
      "dtypes object\n",
      "dtypes object\n",
      "dtypes object\n",
      "dtypes int64\n",
      "dtypes float64\n",
      "dtypes uint8\n",
      "dtypes object\n",
      "dtypes uint8\n",
      "dtypes uint8\n",
      "dtypes uint8\n",
      "dtypes uint8\n",
      "dtypes uint8\n",
      "dtypes uint8\n",
      "dtypes uint8\n",
      "dtypes uint8\n",
      "dtypes uint8\n",
      "dtypes uint8\n",
      "dtypes uint8\n",
      "dtypes uint8\n",
      "dtypes uint8\n",
      "dtypes uint8\n",
      "dtypes uint8\n",
      "dtypes uint8\n",
      "dtypes uint8\n",
      "dtypes uint8\n",
      "dtypes uint8\n",
      "dtypes uint8\n",
      "dtypes uint8\n",
      "dtypes uint8\n",
      "dtypes uint8\n",
      "dtypes uint8\n",
      "dtypes uint8\n",
      "dtypes uint8\n",
      "dtypes uint8\n",
      "dtypes uint8\n",
      "dtypes uint8\n",
      "dtypes uint8\n",
      "dtypes uint8\n",
      "dtypes uint8\n",
      "dtypes int64\n",
      "dtypes int64\n",
      "dtypes datetime64[ns]\n",
      "dtypes datetime64[ns]\n",
      "dtypes int64\n",
      "dtypes int64\n",
      "dtypes int64\n",
      "dtypes float64\n"
     ]
    }
   ],
   "source": [
    "# удалить нечисловые колонки\n",
    "notnumcol = []\n",
    "yy = map(lambda v, z: [v, z], data.dtypes, data.columns)\n",
    "for xx in yy:\n",
    "    print(\"dtypes\", xx[0].name)\n",
    "    if (xx[0].name == 'object') or (xx[0].name == 'datetime64[ns]'):\n",
    "        # if (xx[0].name!='float64') and (xx[0].name!='uint8') and (xx[0].name!='datetime64[ns]' and (xx[0].name!='int64')):\n",
    "        notnumcol.append(xx[1])\n",
    "# notnumcol.remove('Restaurant_id') #не удалять столбец\n",
    "df_preproc = data.drop(notnumcol, axis=1)\n"
   ]
  },
  {
   "cell_type": "markdown",
   "metadata": {},
   "source": [
    "#### Запускаем и проверяем что получилось"
   ]
  },
  {
   "cell_type": "code",
   "execution_count": 44,
   "metadata": {
    "execution": {
     "iopub.execute_input": "2021-09-08T16:46:45.540037Z",
     "iopub.status.busy": "2021-09-08T16:46:45.539752Z",
     "iopub.status.idle": "2021-09-08T16:46:45.571763Z",
     "shell.execute_reply": "2021-09-08T16:46:45.570980Z",
     "shell.execute_reply.started": "2021-09-08T16:46:45.539987Z"
    }
   },
   "outputs": [
    {
     "data": {
      "text/html": [
       "<div>\n",
       "<style scoped>\n",
       "    .dataframe tbody tr th:only-of-type {\n",
       "        vertical-align: middle;\n",
       "    }\n",
       "\n",
       "    .dataframe tbody tr th {\n",
       "        vertical-align: top;\n",
       "    }\n",
       "\n",
       "    .dataframe thead th {\n",
       "        text-align: right;\n",
       "    }\n",
       "</style>\n",
       "<table border=\"1\" class=\"dataframe\">\n",
       "  <thead>\n",
       "    <tr style=\"text-align: right;\">\n",
       "      <th></th>\n",
       "      <th>Ranking</th>\n",
       "      <th>Price Range</th>\n",
       "      <th>Number of Reviews</th>\n",
       "      <th>sample</th>\n",
       "      <th>Rating</th>\n",
       "      <th>Number_of_Reviews_isNAN</th>\n",
       "      <th>City_Amsterdam</th>\n",
       "      <th>City_Athens</th>\n",
       "      <th>City_Barcelona</th>\n",
       "      <th>City_Berlin</th>\n",
       "      <th>...</th>\n",
       "      <th>City_Vienna</th>\n",
       "      <th>City_Warsaw</th>\n",
       "      <th>City_Zurich</th>\n",
       "      <th>City_nan</th>\n",
       "      <th>Cuisinepopul</th>\n",
       "      <th>Cuisinecnt</th>\n",
       "      <th>revcolor</th>\n",
       "      <th>difffirstlastrev</th>\n",
       "      <th>difflast</th>\n",
       "      <th>newRanking</th>\n",
       "    </tr>\n",
       "  </thead>\n",
       "  <tbody>\n",
       "    <tr>\n",
       "      <th>15844</th>\n",
       "      <td>4638.0</td>\n",
       "      <td>-1</td>\n",
       "      <td>24.0</td>\n",
       "      <td>1</td>\n",
       "      <td>4.0</td>\n",
       "      <td>0</td>\n",
       "      <td>0</td>\n",
       "      <td>0</td>\n",
       "      <td>0</td>\n",
       "      <td>1</td>\n",
       "      <td>...</td>\n",
       "      <td>0</td>\n",
       "      <td>0</td>\n",
       "      <td>0</td>\n",
       "      <td>0</td>\n",
       "      <td>11590</td>\n",
       "      <td>1</td>\n",
       "      <td>2</td>\n",
       "      <td>16</td>\n",
       "      <td>208</td>\n",
       "      <td>1.714603</td>\n",
       "    </tr>\n",
       "    <tr>\n",
       "      <th>23481</th>\n",
       "      <td>2558.0</td>\n",
       "      <td>1</td>\n",
       "      <td>183.0</td>\n",
       "      <td>1</td>\n",
       "      <td>4.0</td>\n",
       "      <td>0</td>\n",
       "      <td>0</td>\n",
       "      <td>0</td>\n",
       "      <td>0</td>\n",
       "      <td>0</td>\n",
       "      <td>...</td>\n",
       "      <td>0</td>\n",
       "      <td>0</td>\n",
       "      <td>0</td>\n",
       "      <td>0</td>\n",
       "      <td>3764</td>\n",
       "      <td>2</td>\n",
       "      <td>2</td>\n",
       "      <td>105</td>\n",
       "      <td>59</td>\n",
       "      <td>0.418795</td>\n",
       "    </tr>\n",
       "  </tbody>\n",
       "</table>\n",
       "<p>2 rows × 44 columns</p>\n",
       "</div>"
      ],
      "text/plain": [
       "       Ranking  Price Range  Number of Reviews  sample  Rating  \\\n",
       "15844   4638.0           -1               24.0       1     4.0   \n",
       "23481   2558.0            1              183.0       1     4.0   \n",
       "\n",
       "       Number_of_Reviews_isNAN  City_Amsterdam  City_Athens  City_Barcelona  \\\n",
       "15844                        0               0            0               0   \n",
       "23481                        0               0            0               0   \n",
       "\n",
       "       City_Berlin  ...  City_Vienna  City_Warsaw  City_Zurich  City_nan  \\\n",
       "15844            1  ...            0            0            0         0   \n",
       "23481            0  ...            0            0            0         0   \n",
       "\n",
       "       Cuisinepopul  Cuisinecnt  revcolor  difffirstlastrev  difflast  \\\n",
       "15844         11590           1         2                16       208   \n",
       "23481          3764           2         2               105        59   \n",
       "\n",
       "       newRanking  \n",
       "15844    1.714603  \n",
       "23481    0.418795  \n",
       "\n",
       "[2 rows x 44 columns]"
      ]
     },
     "execution_count": 44,
     "metadata": {},
     "output_type": "execute_result"
    }
   ],
   "source": [
    "#df_preproc = preproc_data(data)\n",
    "df_preproc.sample(2)"
   ]
  },
  {
   "cell_type": "code",
   "execution_count": 233,
   "metadata": {
    "execution": {
     "iopub.execute_input": "2021-09-08T16:46:45.573209Z",
     "iopub.status.busy": "2021-09-08T16:46:45.572975Z",
     "iopub.status.idle": "2021-09-08T16:46:45.594440Z",
     "shell.execute_reply": "2021-09-08T16:46:45.593508Z",
     "shell.execute_reply.started": "2021-09-08T16:46:45.573169Z"
    }
   },
   "outputs": [
    {
     "name": "stdout",
     "output_type": "stream",
     "text": [
      "<class 'pandas.core.frame.DataFrame'>\n",
      "RangeIndex: 50000 entries, 0 to 49999\n",
      "Data columns (total 44 columns):\n",
      " #   Column                   Non-Null Count  Dtype  \n",
      "---  ------                   --------------  -----  \n",
      " 0   Ranking                  50000 non-null  float64\n",
      " 1   Price Range              50000 non-null  int64  \n",
      " 2   Number of Reviews        50000 non-null  float64\n",
      " 3   sample                   50000 non-null  int64  \n",
      " 4   Rating                   50000 non-null  float64\n",
      " 5   Number_of_Reviews_isNAN  50000 non-null  uint8  \n",
      " 6   newRanking               50000 non-null  float64\n",
      " 7   City_Amsterdam           50000 non-null  uint8  \n",
      " 8   City_Athens              50000 non-null  uint8  \n",
      " 9   City_Barcelona           50000 non-null  uint8  \n",
      " 10  City_Berlin              50000 non-null  uint8  \n",
      " 11  City_Bratislava          50000 non-null  uint8  \n",
      " 12  City_Brussels            50000 non-null  uint8  \n",
      " 13  City_Budapest            50000 non-null  uint8  \n",
      " 14  City_Copenhagen          50000 non-null  uint8  \n",
      " 15  City_Dublin              50000 non-null  uint8  \n",
      " 16  City_Edinburgh           50000 non-null  uint8  \n",
      " 17  City_Geneva              50000 non-null  uint8  \n",
      " 18  City_Hamburg             50000 non-null  uint8  \n",
      " 19  City_Helsinki            50000 non-null  uint8  \n",
      " 20  City_Krakow              50000 non-null  uint8  \n",
      " 21  City_Lisbon              50000 non-null  uint8  \n",
      " 22  City_Ljubljana           50000 non-null  uint8  \n",
      " 23  City_London              50000 non-null  uint8  \n",
      " 24  City_Luxembourg          50000 non-null  uint8  \n",
      " 25  City_Lyon                50000 non-null  uint8  \n",
      " 26  City_Madrid              50000 non-null  uint8  \n",
      " 27  City_Milan               50000 non-null  uint8  \n",
      " 28  City_Munich              50000 non-null  uint8  \n",
      " 29  City_Oporto              50000 non-null  uint8  \n",
      " 30  City_Oslo                50000 non-null  uint8  \n",
      " 31  City_Paris               50000 non-null  uint8  \n",
      " 32  City_Prague              50000 non-null  uint8  \n",
      " 33  City_Rome                50000 non-null  uint8  \n",
      " 34  City_Stockholm           50000 non-null  uint8  \n",
      " 35  City_Vienna              50000 non-null  uint8  \n",
      " 36  City_Warsaw              50000 non-null  uint8  \n",
      " 37  City_Zurich              50000 non-null  uint8  \n",
      " 38  City_nan                 50000 non-null  uint8  \n",
      " 39  Cuisinepopul             50000 non-null  int64  \n",
      " 40  Cuisinecnt               50000 non-null  int64  \n",
      " 41  revcolor                 50000 non-null  int64  \n",
      " 42  difffirstlastrev         50000 non-null  int64  \n",
      " 43  difflast                 50000 non-null  int64  \n",
      "dtypes: float64(4), int64(7), uint8(33)\n",
      "memory usage: 5.8 MB\n"
     ]
    }
   ],
   "source": [
    "df_preproc.info()"
   ]
  },
  {
   "cell_type": "code",
   "execution_count": 234,
   "metadata": {},
   "outputs": [],
   "source": [
    "\n",
    "#Number of Reviews второй (после Ranking) по значимости признак для предсказания рейтинга (видно после первого прогона модели)\n",
    "#и скореллирован с признаками Ranking,Price Range,'Cuisinepopul','Cuisinecnt','difffirstlastrev','difflast'\n",
    "#попробовать предсказать с помощью ML Number of Reviews на основе этих перечисленных????????????\n"
   ]
  },
  {
   "cell_type": "code",
   "execution_count": 45,
   "metadata": {},
   "outputs": [],
   "source": [
    "# Импортируем необходимые библиотеки:\n",
    "from sklearn.ensemble import RandomForestRegressor # инструмент для создания и обучения модели\n",
    "from sklearn import metrics # инструменты для оценки точности модели\n",
    "# Создаём модель (НАСТРОЙКИ НЕ ТРОГАЕМ)\n",
    "model = RandomForestRegressor(n_estimators=100, verbose=1, n_jobs=-1, random_state=RANDOM_SEED)"
   ]
  },
  {
   "cell_type": "code",
   "execution_count": 46,
   "metadata": {},
   "outputs": [],
   "source": [
    "# выбрать данные для обучения, в которых не были пропущены значения\n",
    "train_data1 = df_preproc[df_preproc['Number of Reviews'] != 0]\n",
    "# и данные, где надо бы что-то поставить\n",
    "test_data1 = df_preproc[df_preproc['Number of Reviews'] == 0]"
   ]
  },
  {
   "cell_type": "code",
   "execution_count": 47,
   "metadata": {},
   "outputs": [
    {
     "data": {
      "text/plain": [
       "Index(['Ranking', 'Price Range', 'Number of Reviews', 'sample', 'Rating',\n",
       "       'Number_of_Reviews_isNAN', 'City_Amsterdam', 'City_Athens',\n",
       "       'City_Barcelona', 'City_Berlin', 'City_Bratislava', 'City_Brussels',\n",
       "       'City_Budapest', 'City_Copenhagen', 'City_Dublin', 'City_Edinburgh',\n",
       "       'City_Geneva', 'City_Hamburg', 'City_Helsinki', 'City_Krakow',\n",
       "       'City_Lisbon', 'City_Ljubljana', 'City_London', 'City_Luxembourg',\n",
       "       'City_Lyon', 'City_Madrid', 'City_Milan', 'City_Munich', 'City_Oporto',\n",
       "       'City_Oslo', 'City_Paris', 'City_Prague', 'City_Rome', 'City_Stockholm',\n",
       "       'City_Vienna', 'City_Warsaw', 'City_Zurich', 'City_nan', 'Cuisinepopul',\n",
       "       'Cuisinecnt', 'revcolor', 'difffirstlastrev', 'difflast', 'newRanking'],\n",
       "      dtype='object')"
      ]
     },
     "execution_count": 47,
     "metadata": {},
     "output_type": "execute_result"
    }
   ],
   "source": [
    "df_preproc.columns"
   ]
  },
  {
   "cell_type": "code",
   "execution_count": 48,
   "metadata": {},
   "outputs": [
    {
     "data": {
      "text/plain": [
       "['Number_of_Reviews_isNAN',\n",
       " 'City_nan',\n",
       " 'Number of Reviews',\n",
       " 'Ranking',\n",
       " 'Rating',\n",
       " 'sample']"
      ]
     },
     "execution_count": 48,
     "metadata": {},
     "output_type": "execute_result"
    }
   ],
   "source": [
    "#выбрать колонки, по которым предсказывать Number of Reviews\n",
    "inclcoltmp=['newRanking', 'Price Range','Cuisinepopul','Cuisinecnt', 'City_Amsterdam', 'City_Athens',\n",
    "       'City_Barcelona', 'City_Berlin', 'City_Bratislava', 'City_Brussels',\n",
    "       'City_Budapest', 'City_Copenhagen', 'City_Dublin', 'City_Edinburgh',\n",
    "       'City_Geneva', 'City_Hamburg', 'City_Helsinki', 'City_Krakow',\n",
    "       'City_Lisbon', 'City_Ljubljana', 'City_London', 'City_Luxembourg',\n",
    "       'City_Lyon', 'City_Madrid', 'City_Milan', 'City_Munich', 'City_Oporto',\n",
    "       'City_Oslo', 'City_Paris', 'City_Prague', 'City_Rome', 'City_Stockholm',\n",
    "       'City_Vienna', 'City_Warsaw', 'City_Zurich','difffirstlastrev','difflast','revcolor']\n",
    "exclcoltmp=list(set(df_preproc.columns).difference(set(inclcoltmp)))\n",
    "exclcoltmp #эти исключить"
   ]
  },
  {
   "cell_type": "code",
   "execution_count": 49,
   "metadata": {},
   "outputs": [
    {
     "data": {
      "text/html": [
       "<div>\n",
       "<style scoped>\n",
       "    .dataframe tbody tr th:only-of-type {\n",
       "        vertical-align: middle;\n",
       "    }\n",
       "\n",
       "    .dataframe tbody tr th {\n",
       "        vertical-align: top;\n",
       "    }\n",
       "\n",
       "    .dataframe thead th {\n",
       "        text-align: right;\n",
       "    }\n",
       "</style>\n",
       "<table border=\"1\" class=\"dataframe\">\n",
       "  <thead>\n",
       "    <tr style=\"text-align: right;\">\n",
       "      <th></th>\n",
       "      <th>Ranking</th>\n",
       "      <th>Price Range</th>\n",
       "      <th>Number of Reviews</th>\n",
       "      <th>sample</th>\n",
       "      <th>Rating</th>\n",
       "      <th>Number_of_Reviews_isNAN</th>\n",
       "      <th>City_Amsterdam</th>\n",
       "      <th>City_Athens</th>\n",
       "      <th>City_Barcelona</th>\n",
       "      <th>City_Berlin</th>\n",
       "      <th>...</th>\n",
       "      <th>City_Vienna</th>\n",
       "      <th>City_Warsaw</th>\n",
       "      <th>City_Zurich</th>\n",
       "      <th>City_nan</th>\n",
       "      <th>Cuisinepopul</th>\n",
       "      <th>Cuisinecnt</th>\n",
       "      <th>revcolor</th>\n",
       "      <th>difffirstlastrev</th>\n",
       "      <th>difflast</th>\n",
       "      <th>newRanking</th>\n",
       "    </tr>\n",
       "  </thead>\n",
       "  <tbody>\n",
       "    <tr>\n",
       "      <th>34040</th>\n",
       "      <td>832.0</td>\n",
       "      <td>0</td>\n",
       "      <td>20.0</td>\n",
       "      <td>1</td>\n",
       "      <td>4.0</td>\n",
       "      <td>0</td>\n",
       "      <td>0</td>\n",
       "      <td>1</td>\n",
       "      <td>0</td>\n",
       "      <td>0</td>\n",
       "      <td>...</td>\n",
       "      <td>0</td>\n",
       "      <td>0</td>\n",
       "      <td>0</td>\n",
       "      <td>0</td>\n",
       "      <td>8588</td>\n",
       "      <td>2</td>\n",
       "      <td>2</td>\n",
       "      <td>339</td>\n",
       "      <td>68</td>\n",
       "      <td>1.072165</td>\n",
       "    </tr>\n",
       "    <tr>\n",
       "      <th>16400</th>\n",
       "      <td>11742.0</td>\n",
       "      <td>1</td>\n",
       "      <td>115.0</td>\n",
       "      <td>1</td>\n",
       "      <td>3.5</td>\n",
       "      <td>0</td>\n",
       "      <td>0</td>\n",
       "      <td>0</td>\n",
       "      <td>0</td>\n",
       "      <td>0</td>\n",
       "      <td>...</td>\n",
       "      <td>0</td>\n",
       "      <td>0</td>\n",
       "      <td>0</td>\n",
       "      <td>0</td>\n",
       "      <td>21494</td>\n",
       "      <td>6</td>\n",
       "      <td>1</td>\n",
       "      <td>24</td>\n",
       "      <td>67</td>\n",
       "      <td>1.632420</td>\n",
       "    </tr>\n",
       "    <tr>\n",
       "      <th>15580</th>\n",
       "      <td>4595.0</td>\n",
       "      <td>1</td>\n",
       "      <td>9.0</td>\n",
       "      <td>1</td>\n",
       "      <td>4.5</td>\n",
       "      <td>0</td>\n",
       "      <td>0</td>\n",
       "      <td>0</td>\n",
       "      <td>0</td>\n",
       "      <td>0</td>\n",
       "      <td>...</td>\n",
       "      <td>0</td>\n",
       "      <td>0</td>\n",
       "      <td>0</td>\n",
       "      <td>0</td>\n",
       "      <td>7433</td>\n",
       "      <td>1</td>\n",
       "      <td>0</td>\n",
       "      <td>5059</td>\n",
       "      <td>17588</td>\n",
       "      <td>1.774817</td>\n",
       "    </tr>\n",
       "  </tbody>\n",
       "</table>\n",
       "<p>3 rows × 44 columns</p>\n",
       "</div>"
      ],
      "text/plain": [
       "       Ranking  Price Range  Number of Reviews  sample  Rating  \\\n",
       "34040    832.0            0               20.0       1     4.0   \n",
       "16400  11742.0            1              115.0       1     3.5   \n",
       "15580   4595.0            1                9.0       1     4.5   \n",
       "\n",
       "       Number_of_Reviews_isNAN  City_Amsterdam  City_Athens  City_Barcelona  \\\n",
       "34040                        0               0            1               0   \n",
       "16400                        0               0            0               0   \n",
       "15580                        0               0            0               0   \n",
       "\n",
       "       City_Berlin  ...  City_Vienna  City_Warsaw  City_Zurich  City_nan  \\\n",
       "34040            0  ...            0            0            0         0   \n",
       "16400            0  ...            0            0            0         0   \n",
       "15580            0  ...            0            0            0         0   \n",
       "\n",
       "       Cuisinepopul  Cuisinecnt  revcolor  difffirstlastrev  difflast  \\\n",
       "34040          8588           2         2               339        68   \n",
       "16400         21494           6         1                24        67   \n",
       "15580          7433           1         0              5059     17588   \n",
       "\n",
       "       newRanking  \n",
       "34040    1.072165  \n",
       "16400    1.632420  \n",
       "15580    1.774817  \n",
       "\n",
       "[3 rows x 44 columns]"
      ]
     },
     "execution_count": 49,
     "metadata": {},
     "output_type": "execute_result"
    }
   ],
   "source": [
    "train_data1.sample(3)\n"
   ]
  },
  {
   "cell_type": "code",
   "execution_count": 50,
   "metadata": {},
   "outputs": [
    {
     "data": {
      "text/html": [
       "<div>\n",
       "<style scoped>\n",
       "    .dataframe tbody tr th:only-of-type {\n",
       "        vertical-align: middle;\n",
       "    }\n",
       "\n",
       "    .dataframe tbody tr th {\n",
       "        vertical-align: top;\n",
       "    }\n",
       "\n",
       "    .dataframe thead th {\n",
       "        text-align: right;\n",
       "    }\n",
       "</style>\n",
       "<table border=\"1\" class=\"dataframe\">\n",
       "  <thead>\n",
       "    <tr style=\"text-align: right;\">\n",
       "      <th></th>\n",
       "      <th>Ranking</th>\n",
       "      <th>Price Range</th>\n",
       "      <th>Number of Reviews</th>\n",
       "      <th>sample</th>\n",
       "      <th>Rating</th>\n",
       "      <th>Number_of_Reviews_isNAN</th>\n",
       "      <th>City_Amsterdam</th>\n",
       "      <th>City_Athens</th>\n",
       "      <th>City_Barcelona</th>\n",
       "      <th>City_Berlin</th>\n",
       "      <th>...</th>\n",
       "      <th>City_Vienna</th>\n",
       "      <th>City_Warsaw</th>\n",
       "      <th>City_Zurich</th>\n",
       "      <th>City_nan</th>\n",
       "      <th>Cuisinepopul</th>\n",
       "      <th>Cuisinecnt</th>\n",
       "      <th>revcolor</th>\n",
       "      <th>difffirstlastrev</th>\n",
       "      <th>difflast</th>\n",
       "      <th>newRanking</th>\n",
       "    </tr>\n",
       "  </thead>\n",
       "  <tbody>\n",
       "    <tr>\n",
       "      <th>42152</th>\n",
       "      <td>16031.0</td>\n",
       "      <td>-1</td>\n",
       "      <td>0.0</td>\n",
       "      <td>1</td>\n",
       "      <td>2.0</td>\n",
       "      <td>1</td>\n",
       "      <td>0</td>\n",
       "      <td>0</td>\n",
       "      <td>0</td>\n",
       "      <td>0</td>\n",
       "      <td>...</td>\n",
       "      <td>0</td>\n",
       "      <td>0</td>\n",
       "      <td>0</td>\n",
       "      <td>0</td>\n",
       "      <td>1860</td>\n",
       "      <td>1</td>\n",
       "      <td>-1</td>\n",
       "      <td>0</td>\n",
       "      <td>1794</td>\n",
       "      <td>2.228695</td>\n",
       "    </tr>\n",
       "    <tr>\n",
       "      <th>34992</th>\n",
       "      <td>2565.0</td>\n",
       "      <td>-1</td>\n",
       "      <td>0.0</td>\n",
       "      <td>1</td>\n",
       "      <td>3.0</td>\n",
       "      <td>1</td>\n",
       "      <td>0</td>\n",
       "      <td>0</td>\n",
       "      <td>0</td>\n",
       "      <td>0</td>\n",
       "      <td>...</td>\n",
       "      <td>0</td>\n",
       "      <td>0</td>\n",
       "      <td>0</td>\n",
       "      <td>0</td>\n",
       "      <td>11590</td>\n",
       "      <td>1</td>\n",
       "      <td>0</td>\n",
       "      <td>0</td>\n",
       "      <td>1232</td>\n",
       "      <td>2.240175</td>\n",
       "    </tr>\n",
       "    <tr>\n",
       "      <th>445</th>\n",
       "      <td>12370.0</td>\n",
       "      <td>-1</td>\n",
       "      <td>0.0</td>\n",
       "      <td>0</td>\n",
       "      <td>0.0</td>\n",
       "      <td>1</td>\n",
       "      <td>0</td>\n",
       "      <td>0</td>\n",
       "      <td>0</td>\n",
       "      <td>0</td>\n",
       "      <td>...</td>\n",
       "      <td>0</td>\n",
       "      <td>0</td>\n",
       "      <td>0</td>\n",
       "      <td>0</td>\n",
       "      <td>7433</td>\n",
       "      <td>1</td>\n",
       "      <td>0</td>\n",
       "      <td>0</td>\n",
       "      <td>519</td>\n",
       "      <td>1.719728</td>\n",
       "    </tr>\n",
       "  </tbody>\n",
       "</table>\n",
       "<p>3 rows × 44 columns</p>\n",
       "</div>"
      ],
      "text/plain": [
       "       Ranking  Price Range  Number of Reviews  sample  Rating  \\\n",
       "42152  16031.0           -1                0.0       1     2.0   \n",
       "34992   2565.0           -1                0.0       1     3.0   \n",
       "445    12370.0           -1                0.0       0     0.0   \n",
       "\n",
       "       Number_of_Reviews_isNAN  City_Amsterdam  City_Athens  City_Barcelona  \\\n",
       "42152                        1               0            0               0   \n",
       "34992                        1               0            0               0   \n",
       "445                          1               0            0               0   \n",
       "\n",
       "       City_Berlin  ...  City_Vienna  City_Warsaw  City_Zurich  City_nan  \\\n",
       "42152            0  ...            0            0            0         0   \n",
       "34992            0  ...            0            0            0         0   \n",
       "445              0  ...            0            0            0         0   \n",
       "\n",
       "       Cuisinepopul  Cuisinecnt  revcolor  difffirstlastrev  difflast  \\\n",
       "42152          1860           1        -1                 0      1794   \n",
       "34992         11590           1         0                 0      1232   \n",
       "445            7433           1         0                 0       519   \n",
       "\n",
       "       newRanking  \n",
       "42152    2.228695  \n",
       "34992    2.240175  \n",
       "445      1.719728  \n",
       "\n",
       "[3 rows x 44 columns]"
      ]
     },
     "execution_count": 50,
     "metadata": {},
     "output_type": "execute_result"
    }
   ],
   "source": [
    "test_data1.sample(3)"
   ]
  },
  {
   "cell_type": "code",
   "execution_count": 52,
   "metadata": {},
   "outputs": [
    {
     "name": "stderr",
     "output_type": "stream",
     "text": [
      "[Parallel(n_jobs=-1)]: Using backend ThreadingBackend with 4 concurrent workers.\n",
      "[Parallel(n_jobs=-1)]: Done  42 tasks      | elapsed:    4.6s\n",
      "[Parallel(n_jobs=-1)]: Done 100 out of 100 | elapsed:   10.6s finished\n",
      "[Parallel(n_jobs=4)]: Using backend ThreadingBackend with 4 concurrent workers.\n",
      "[Parallel(n_jobs=4)]: Done  42 tasks      | elapsed:    0.0s\n"
     ]
    },
    {
     "name": "stdout",
     "output_type": "stream",
     "text": [
      "MAE: 78.8697483974359\n"
     ]
    },
    {
     "name": "stderr",
     "output_type": "stream",
     "text": [
      "[Parallel(n_jobs=4)]: Done 100 out of 100 | elapsed:    0.2s finished\n"
     ]
    }
   ],
   "source": [
    "y = train_data1['Number of Reviews'].values            # наш таргет\n",
    "X = train_data1.drop(exclcoltmp, axis=1)\n",
    "# print(y,X)\n",
    "X_train, X_test, y_train, y_test = train_test_split(\n",
    "    X, y, test_size=0.4, random_state=RANDOM_SEED)\n",
    "test_data1.shape, train_data1.shape, X.shape, X_train.shape, X_test.shape\n",
    "model = RandomForestRegressor(\n",
    "    n_estimators=100, verbose=1, n_jobs=-1, random_state=RANDOM_SEED)\n",
    "model.fit(X_train, y_train)\n",
    "y_pred = model.predict(X_test)\n",
    "print('MAE:', metrics.mean_absolute_error(y_test, y_pred))"
   ]
  },
  {
   "cell_type": "code",
   "execution_count": null,
   "metadata": {},
   "outputs": [],
   "source": [
    "#MAE=78 очень большая, фокус не получился"
   ]
  },
  {
   "cell_type": "code",
   "execution_count": 53,
   "metadata": {},
   "outputs": [
    {
     "data": {
      "text/html": [
       "<div>\n",
       "<style scoped>\n",
       "    .dataframe tbody tr th:only-of-type {\n",
       "        vertical-align: middle;\n",
       "    }\n",
       "\n",
       "    .dataframe tbody tr th {\n",
       "        vertical-align: top;\n",
       "    }\n",
       "\n",
       "    .dataframe thead th {\n",
       "        text-align: right;\n",
       "    }\n",
       "</style>\n",
       "<table border=\"1\" class=\"dataframe\">\n",
       "  <thead>\n",
       "    <tr style=\"text-align: right;\">\n",
       "      <th></th>\n",
       "      <th>count</th>\n",
       "      <th>mean</th>\n",
       "      <th>std</th>\n",
       "      <th>min</th>\n",
       "      <th>25%</th>\n",
       "      <th>50%</th>\n",
       "      <th>75%</th>\n",
       "      <th>max</th>\n",
       "    </tr>\n",
       "    <tr>\n",
       "      <th>City_</th>\n",
       "      <th></th>\n",
       "      <th></th>\n",
       "      <th></th>\n",
       "      <th></th>\n",
       "      <th></th>\n",
       "      <th></th>\n",
       "      <th></th>\n",
       "      <th></th>\n",
       "    </tr>\n",
       "  </thead>\n",
       "  <tbody>\n",
       "    <tr>\n",
       "      <th>Luxembourg</th>\n",
       "      <td>263.0</td>\n",
       "      <td>79.152091</td>\n",
       "      <td>116.754847</td>\n",
       "      <td>0.0</td>\n",
       "      <td>7.00</td>\n",
       "      <td>33.0</td>\n",
       "      <td>90.50</td>\n",
       "      <td>652.0</td>\n",
       "    </tr>\n",
       "    <tr>\n",
       "      <th>Hamburg</th>\n",
       "      <td>1186.0</td>\n",
       "      <td>41.191400</td>\n",
       "      <td>86.195302</td>\n",
       "      <td>0.0</td>\n",
       "      <td>4.00</td>\n",
       "      <td>14.0</td>\n",
       "      <td>38.00</td>\n",
       "      <td>845.0</td>\n",
       "    </tr>\n",
       "    <tr>\n",
       "      <th>Oslo</th>\n",
       "      <td>488.0</td>\n",
       "      <td>95.495902</td>\n",
       "      <td>181.422499</td>\n",
       "      <td>0.0</td>\n",
       "      <td>8.00</td>\n",
       "      <td>27.0</td>\n",
       "      <td>92.25</td>\n",
       "      <td>1391.0</td>\n",
       "    </tr>\n",
       "    <tr>\n",
       "      <th>Stockholm</th>\n",
       "      <td>1033.0</td>\n",
       "      <td>69.301065</td>\n",
       "      <td>160.845656</td>\n",
       "      <td>0.0</td>\n",
       "      <td>5.00</td>\n",
       "      <td>16.0</td>\n",
       "      <td>56.00</td>\n",
       "      <td>1461.0</td>\n",
       "    </tr>\n",
       "    <tr>\n",
       "      <th>Helsinki</th>\n",
       "      <td>475.0</td>\n",
       "      <td>62.128421</td>\n",
       "      <td>136.442343</td>\n",
       "      <td>0.0</td>\n",
       "      <td>6.00</td>\n",
       "      <td>18.0</td>\n",
       "      <td>55.00</td>\n",
       "      <td>1488.0</td>\n",
       "    </tr>\n",
       "    <tr>\n",
       "      <th>Geneva</th>\n",
       "      <td>590.0</td>\n",
       "      <td>57.747458</td>\n",
       "      <td>114.076400</td>\n",
       "      <td>0.0</td>\n",
       "      <td>6.25</td>\n",
       "      <td>26.0</td>\n",
       "      <td>67.75</td>\n",
       "      <td>1624.0</td>\n",
       "    </tr>\n",
       "    <tr>\n",
       "      <th>Lyon</th>\n",
       "      <td>1126.0</td>\n",
       "      <td>83.438721</td>\n",
       "      <td>150.628359</td>\n",
       "      <td>0.0</td>\n",
       "      <td>8.25</td>\n",
       "      <td>28.0</td>\n",
       "      <td>89.00</td>\n",
       "      <td>1953.0</td>\n",
       "    </tr>\n",
       "    <tr>\n",
       "      <th>Zurich</th>\n",
       "      <td>685.0</td>\n",
       "      <td>68.275912</td>\n",
       "      <td>124.756212</td>\n",
       "      <td>0.0</td>\n",
       "      <td>7.00</td>\n",
       "      <td>25.0</td>\n",
       "      <td>77.00</td>\n",
       "      <td>1974.0</td>\n",
       "    </tr>\n",
       "    <tr>\n",
       "      <th>Ljubljana</th>\n",
       "      <td>222.0</td>\n",
       "      <td>82.292793</td>\n",
       "      <td>199.504249</td>\n",
       "      <td>0.0</td>\n",
       "      <td>6.00</td>\n",
       "      <td>18.0</td>\n",
       "      <td>58.75</td>\n",
       "      <td>2006.0</td>\n",
       "    </tr>\n",
       "    <tr>\n",
       "      <th>Warsaw</th>\n",
       "      <td>925.0</td>\n",
       "      <td>60.147027</td>\n",
       "      <td>169.850915</td>\n",
       "      <td>0.0</td>\n",
       "      <td>4.00</td>\n",
       "      <td>14.0</td>\n",
       "      <td>40.00</td>\n",
       "      <td>2356.0</td>\n",
       "    </tr>\n",
       "    <tr>\n",
       "      <th>Berlin</th>\n",
       "      <td>2705.0</td>\n",
       "      <td>57.642514</td>\n",
       "      <td>158.706231</td>\n",
       "      <td>0.0</td>\n",
       "      <td>4.00</td>\n",
       "      <td>14.0</td>\n",
       "      <td>45.00</td>\n",
       "      <td>2572.0</td>\n",
       "    </tr>\n",
       "    <tr>\n",
       "      <th>Bratislava</th>\n",
       "      <td>380.0</td>\n",
       "      <td>43.873684</td>\n",
       "      <td>158.891576</td>\n",
       "      <td>0.0</td>\n",
       "      <td>3.00</td>\n",
       "      <td>8.0</td>\n",
       "      <td>23.00</td>\n",
       "      <td>2578.0</td>\n",
       "    </tr>\n",
       "    <tr>\n",
       "      <th>Oporto</th>\n",
       "      <td>642.0</td>\n",
       "      <td>125.163551</td>\n",
       "      <td>290.337557</td>\n",
       "      <td>0.0</td>\n",
       "      <td>6.25</td>\n",
       "      <td>31.0</td>\n",
       "      <td>110.00</td>\n",
       "      <td>3206.0</td>\n",
       "    </tr>\n",
       "    <tr>\n",
       "      <th>Lisbon</th>\n",
       "      <td>1647.0</td>\n",
       "      <td>119.214936</td>\n",
       "      <td>277.058100</td>\n",
       "      <td>0.0</td>\n",
       "      <td>6.00</td>\n",
       "      <td>27.0</td>\n",
       "      <td>101.00</td>\n",
       "      <td>3404.0</td>\n",
       "    </tr>\n",
       "    <tr>\n",
       "      <th>Copenhagen</th>\n",
       "      <td>819.0</td>\n",
       "      <td>89.951160</td>\n",
       "      <td>185.397056</td>\n",
       "      <td>0.0</td>\n",
       "      <td>8.00</td>\n",
       "      <td>28.0</td>\n",
       "      <td>100.50</td>\n",
       "      <td>3426.0</td>\n",
       "    </tr>\n",
       "    <tr>\n",
       "      <th>Dublin</th>\n",
       "      <td>836.0</td>\n",
       "      <td>146.894737</td>\n",
       "      <td>308.630304</td>\n",
       "      <td>0.0</td>\n",
       "      <td>9.00</td>\n",
       "      <td>37.0</td>\n",
       "      <td>144.00</td>\n",
       "      <td>3491.0</td>\n",
       "    </tr>\n",
       "    <tr>\n",
       "      <th>Athens</th>\n",
       "      <td>776.0</td>\n",
       "      <td>87.326031</td>\n",
       "      <td>273.707710</td>\n",
       "      <td>0.0</td>\n",
       "      <td>5.00</td>\n",
       "      <td>18.0</td>\n",
       "      <td>61.00</td>\n",
       "      <td>4234.0</td>\n",
       "    </tr>\n",
       "    <tr>\n",
       "      <th>Prague</th>\n",
       "      <td>1816.0</td>\n",
       "      <td>110.063326</td>\n",
       "      <td>323.978460</td>\n",
       "      <td>0.0</td>\n",
       "      <td>4.00</td>\n",
       "      <td>15.0</td>\n",
       "      <td>64.00</td>\n",
       "      <td>4521.0</td>\n",
       "    </tr>\n",
       "    <tr>\n",
       "      <th>Edinburgh</th>\n",
       "      <td>745.0</td>\n",
       "      <td>231.010738</td>\n",
       "      <td>436.789851</td>\n",
       "      <td>0.0</td>\n",
       "      <td>12.00</td>\n",
       "      <td>66.0</td>\n",
       "      <td>263.00</td>\n",
       "      <td>4567.0</td>\n",
       "    </tr>\n",
       "    <tr>\n",
       "      <th>Krakow</th>\n",
       "      <td>554.0</td>\n",
       "      <td>122.084838</td>\n",
       "      <td>303.990485</td>\n",
       "      <td>0.0</td>\n",
       "      <td>7.00</td>\n",
       "      <td>24.0</td>\n",
       "      <td>108.50</td>\n",
       "      <td>4608.0</td>\n",
       "    </tr>\n",
       "    <tr>\n",
       "      <th>Munich</th>\n",
       "      <td>1145.0</td>\n",
       "      <td>71.952838</td>\n",
       "      <td>198.120221</td>\n",
       "      <td>0.0</td>\n",
       "      <td>7.00</td>\n",
       "      <td>25.0</td>\n",
       "      <td>71.00</td>\n",
       "      <td>4694.0</td>\n",
       "    </tr>\n",
       "    <tr>\n",
       "      <th>Vienna</th>\n",
       "      <td>1443.0</td>\n",
       "      <td>73.949411</td>\n",
       "      <td>224.119404</td>\n",
       "      <td>0.0</td>\n",
       "      <td>5.00</td>\n",
       "      <td>18.0</td>\n",
       "      <td>61.00</td>\n",
       "      <td>4937.0</td>\n",
       "    </tr>\n",
       "    <tr>\n",
       "      <th>Barcelona</th>\n",
       "      <td>3395.0</td>\n",
       "      <td>126.491016</td>\n",
       "      <td>300.092374</td>\n",
       "      <td>0.0</td>\n",
       "      <td>7.00</td>\n",
       "      <td>29.0</td>\n",
       "      <td>117.50</td>\n",
       "      <td>4996.0</td>\n",
       "    </tr>\n",
       "    <tr>\n",
       "      <th>Madrid</th>\n",
       "      <td>3813.0</td>\n",
       "      <td>93.675584</td>\n",
       "      <td>246.045041</td>\n",
       "      <td>0.0</td>\n",
       "      <td>7.00</td>\n",
       "      <td>23.0</td>\n",
       "      <td>82.00</td>\n",
       "      <td>6013.0</td>\n",
       "    </tr>\n",
       "    <tr>\n",
       "      <th>Milan</th>\n",
       "      <td>2694.0</td>\n",
       "      <td>160.115071</td>\n",
       "      <td>316.962831</td>\n",
       "      <td>0.0</td>\n",
       "      <td>9.00</td>\n",
       "      <td>42.0</td>\n",
       "      <td>189.75</td>\n",
       "      <td>6360.0</td>\n",
       "    </tr>\n",
       "    <tr>\n",
       "      <th>Brussels</th>\n",
       "      <td>1314.0</td>\n",
       "      <td>86.724505</td>\n",
       "      <td>249.184489</td>\n",
       "      <td>0.0</td>\n",
       "      <td>6.00</td>\n",
       "      <td>23.0</td>\n",
       "      <td>86.50</td>\n",
       "      <td>6437.0</td>\n",
       "    </tr>\n",
       "    <tr>\n",
       "      <th>Amsterdam</th>\n",
       "      <td>1372.0</td>\n",
       "      <td>141.263848</td>\n",
       "      <td>323.667192</td>\n",
       "      <td>0.0</td>\n",
       "      <td>10.00</td>\n",
       "      <td>40.0</td>\n",
       "      <td>138.00</td>\n",
       "      <td>6777.0</td>\n",
       "    </tr>\n",
       "    <tr>\n",
       "      <th>Budapest</th>\n",
       "      <td>1021.0</td>\n",
       "      <td>145.314398</td>\n",
       "      <td>436.438496</td>\n",
       "      <td>0.0</td>\n",
       "      <td>6.00</td>\n",
       "      <td>19.0</td>\n",
       "      <td>99.00</td>\n",
       "      <td>7575.0</td>\n",
       "    </tr>\n",
       "    <tr>\n",
       "      <th>Paris</th>\n",
       "      <td>6108.0</td>\n",
       "      <td>111.464800</td>\n",
       "      <td>227.497294</td>\n",
       "      <td>0.0</td>\n",
       "      <td>9.00</td>\n",
       "      <td>40.0</td>\n",
       "      <td>123.00</td>\n",
       "      <td>7622.0</td>\n",
       "    </tr>\n",
       "    <tr>\n",
       "      <th>Rome</th>\n",
       "      <td>2589.0</td>\n",
       "      <td>281.280417</td>\n",
       "      <td>485.336456</td>\n",
       "      <td>0.0</td>\n",
       "      <td>31.00</td>\n",
       "      <td>112.0</td>\n",
       "      <td>338.00</td>\n",
       "      <td>8927.0</td>\n",
       "    </tr>\n",
       "    <tr>\n",
       "      <th>London</th>\n",
       "      <td>7193.0</td>\n",
       "      <td>129.816488</td>\n",
       "      <td>321.937972</td>\n",
       "      <td>0.0</td>\n",
       "      <td>7.00</td>\n",
       "      <td>32.0</td>\n",
       "      <td>121.00</td>\n",
       "      <td>9660.0</td>\n",
       "    </tr>\n",
       "  </tbody>\n",
       "</table>\n",
       "</div>"
      ],
      "text/plain": [
       "             count        mean         std  min    25%    50%     75%     max\n",
       "City_                                                                        \n",
       "Luxembourg   263.0   79.152091  116.754847  0.0   7.00   33.0   90.50   652.0\n",
       "Hamburg     1186.0   41.191400   86.195302  0.0   4.00   14.0   38.00   845.0\n",
       "Oslo         488.0   95.495902  181.422499  0.0   8.00   27.0   92.25  1391.0\n",
       "Stockholm   1033.0   69.301065  160.845656  0.0   5.00   16.0   56.00  1461.0\n",
       "Helsinki     475.0   62.128421  136.442343  0.0   6.00   18.0   55.00  1488.0\n",
       "Geneva       590.0   57.747458  114.076400  0.0   6.25   26.0   67.75  1624.0\n",
       "Lyon        1126.0   83.438721  150.628359  0.0   8.25   28.0   89.00  1953.0\n",
       "Zurich       685.0   68.275912  124.756212  0.0   7.00   25.0   77.00  1974.0\n",
       "Ljubljana    222.0   82.292793  199.504249  0.0   6.00   18.0   58.75  2006.0\n",
       "Warsaw       925.0   60.147027  169.850915  0.0   4.00   14.0   40.00  2356.0\n",
       "Berlin      2705.0   57.642514  158.706231  0.0   4.00   14.0   45.00  2572.0\n",
       "Bratislava   380.0   43.873684  158.891576  0.0   3.00    8.0   23.00  2578.0\n",
       "Oporto       642.0  125.163551  290.337557  0.0   6.25   31.0  110.00  3206.0\n",
       "Lisbon      1647.0  119.214936  277.058100  0.0   6.00   27.0  101.00  3404.0\n",
       "Copenhagen   819.0   89.951160  185.397056  0.0   8.00   28.0  100.50  3426.0\n",
       "Dublin       836.0  146.894737  308.630304  0.0   9.00   37.0  144.00  3491.0\n",
       "Athens       776.0   87.326031  273.707710  0.0   5.00   18.0   61.00  4234.0\n",
       "Prague      1816.0  110.063326  323.978460  0.0   4.00   15.0   64.00  4521.0\n",
       "Edinburgh    745.0  231.010738  436.789851  0.0  12.00   66.0  263.00  4567.0\n",
       "Krakow       554.0  122.084838  303.990485  0.0   7.00   24.0  108.50  4608.0\n",
       "Munich      1145.0   71.952838  198.120221  0.0   7.00   25.0   71.00  4694.0\n",
       "Vienna      1443.0   73.949411  224.119404  0.0   5.00   18.0   61.00  4937.0\n",
       "Barcelona   3395.0  126.491016  300.092374  0.0   7.00   29.0  117.50  4996.0\n",
       "Madrid      3813.0   93.675584  246.045041  0.0   7.00   23.0   82.00  6013.0\n",
       "Milan       2694.0  160.115071  316.962831  0.0   9.00   42.0  189.75  6360.0\n",
       "Brussels    1314.0   86.724505  249.184489  0.0   6.00   23.0   86.50  6437.0\n",
       "Amsterdam   1372.0  141.263848  323.667192  0.0  10.00   40.0  138.00  6777.0\n",
       "Budapest    1021.0  145.314398  436.438496  0.0   6.00   19.0   99.00  7575.0\n",
       "Paris       6108.0  111.464800  227.497294  0.0   9.00   40.0  123.00  7622.0\n",
       "Rome        2589.0  281.280417  485.336456  0.0  31.00  112.0  338.00  8927.0\n",
       "London      7193.0  129.816488  321.937972  0.0   7.00   32.0  121.00  9660.0"
      ]
     },
     "execution_count": 53,
     "metadata": {},
     "output_type": "execute_result"
    }
   ],
   "source": [
    "df_look = data.groupby(['City_'])[\n",
    "    'Number of Reviews'].describe().sort_values(by='max')\n",
    "df_look"
   ]
  },
  {
   "cell_type": "code",
   "execution_count": 54,
   "metadata": {},
   "outputs": [
    {
     "data": {
      "text/html": [
       "<div>\n",
       "<style scoped>\n",
       "    .dataframe tbody tr th:only-of-type {\n",
       "        vertical-align: middle;\n",
       "    }\n",
       "\n",
       "    .dataframe tbody tr th {\n",
       "        vertical-align: top;\n",
       "    }\n",
       "\n",
       "    .dataframe thead th {\n",
       "        text-align: right;\n",
       "    }\n",
       "</style>\n",
       "<table border=\"1\" class=\"dataframe\">\n",
       "  <thead>\n",
       "    <tr style=\"text-align: right;\">\n",
       "      <th></th>\n",
       "      <th>Restaurant_id</th>\n",
       "      <th>Cuisine Style</th>\n",
       "      <th>Ranking</th>\n",
       "      <th>Price Range</th>\n",
       "      <th>Number of Reviews</th>\n",
       "      <th>Reviews</th>\n",
       "      <th>URL_TA</th>\n",
       "      <th>ID_TA</th>\n",
       "      <th>sample</th>\n",
       "      <th>Rating</th>\n",
       "      <th>...</th>\n",
       "      <th>City_Zurich</th>\n",
       "      <th>City_nan</th>\n",
       "      <th>Cuisinepopul</th>\n",
       "      <th>Cuisinecnt</th>\n",
       "      <th>RevF</th>\n",
       "      <th>RevL</th>\n",
       "      <th>revcolor</th>\n",
       "      <th>difffirstlastrev</th>\n",
       "      <th>difflast</th>\n",
       "      <th>newRanking</th>\n",
       "    </tr>\n",
       "  </thead>\n",
       "  <tbody>\n",
       "    <tr>\n",
       "      <th>10560</th>\n",
       "      <td>id_1776</td>\n",
       "      <td>'Polish','European'</td>\n",
       "      <td>1777.0</td>\n",
       "      <td>0</td>\n",
       "      <td>3.0</td>\n",
       "      <td>[['Recommended'], ['05/20/2017']]</td>\n",
       "      <td>/Restaurant_Review-g188644-d11445075-Reviews-P...</td>\n",
       "      <td>d11445075</td>\n",
       "      <td>1</td>\n",
       "      <td>4.5</td>\n",
       "      <td>...</td>\n",
       "      <td>0</td>\n",
       "      <td>0</td>\n",
       "      <td>13014</td>\n",
       "      <td>2</td>\n",
       "      <td>2017-05-20</td>\n",
       "      <td>2017-05-20</td>\n",
       "      <td>0</td>\n",
       "      <td>0</td>\n",
       "      <td>282</td>\n",
       "      <td>1.352359</td>\n",
       "    </tr>\n",
       "    <tr>\n",
       "      <th>39216</th>\n",
       "      <td>id_3937</td>\n",
       "      <td>'Italian','Pizza'</td>\n",
       "      <td>3939.0</td>\n",
       "      <td>1</td>\n",
       "      <td>44.0</td>\n",
       "      <td>[['Nice pizza shame about the awful customer.....</td>\n",
       "      <td>/Restaurant_Review-g187514-d4828224-Reviews-Am...</td>\n",
       "      <td>d4828224</td>\n",
       "      <td>1</td>\n",
       "      <td>3.5</td>\n",
       "      <td>...</td>\n",
       "      <td>0</td>\n",
       "      <td>0</td>\n",
       "      <td>10935</td>\n",
       "      <td>2</td>\n",
       "      <td>2014-11-02</td>\n",
       "      <td>2015-10-19</td>\n",
       "      <td>1</td>\n",
       "      <td>351</td>\n",
       "      <td>861</td>\n",
       "      <td>1.033045</td>\n",
       "    </tr>\n",
       "    <tr>\n",
       "      <th>20523</th>\n",
       "      <td>id_1298</td>\n",
       "      <td>'Indian','Vegetarian Friendly','Vegan Options'</td>\n",
       "      <td>1301.0</td>\n",
       "      <td>1</td>\n",
       "      <td>36.0</td>\n",
       "      <td>[['Little Gem!', 'Indian Food Professionals'],...</td>\n",
       "      <td>/Restaurant_Review-g186605-d1902110-Reviews-De...</td>\n",
       "      <td>d1902110</td>\n",
       "      <td>1</td>\n",
       "      <td>4.5</td>\n",
       "      <td>...</td>\n",
       "      <td>0</td>\n",
       "      <td>0</td>\n",
       "      <td>21033</td>\n",
       "      <td>3</td>\n",
       "      <td>2017-09-05</td>\n",
       "      <td>2017-10-22</td>\n",
       "      <td>0</td>\n",
       "      <td>47</td>\n",
       "      <td>127</td>\n",
       "      <td>1.556220</td>\n",
       "    </tr>\n",
       "  </tbody>\n",
       "</table>\n",
       "<p>3 rows × 52 columns</p>\n",
       "</div>"
      ],
      "text/plain": [
       "      Restaurant_id                                   Cuisine Style  Ranking  \\\n",
       "10560       id_1776                             'Polish','European'   1777.0   \n",
       "39216       id_3937                               'Italian','Pizza'   3939.0   \n",
       "20523       id_1298  'Indian','Vegetarian Friendly','Vegan Options'   1301.0   \n",
       "\n",
       "       Price Range  Number of Reviews  \\\n",
       "10560            0                3.0   \n",
       "39216            1               44.0   \n",
       "20523            1               36.0   \n",
       "\n",
       "                                                 Reviews  \\\n",
       "10560                  [['Recommended'], ['05/20/2017']]   \n",
       "39216  [['Nice pizza shame about the awful customer.....   \n",
       "20523  [['Little Gem!', 'Indian Food Professionals'],...   \n",
       "\n",
       "                                                  URL_TA      ID_TA  sample  \\\n",
       "10560  /Restaurant_Review-g188644-d11445075-Reviews-P...  d11445075       1   \n",
       "39216  /Restaurant_Review-g187514-d4828224-Reviews-Am...   d4828224       1   \n",
       "20523  /Restaurant_Review-g186605-d1902110-Reviews-De...   d1902110       1   \n",
       "\n",
       "       Rating  ...  City_Zurich City_nan  Cuisinepopul  Cuisinecnt       RevF  \\\n",
       "10560     4.5  ...            0        0         13014           2 2017-05-20   \n",
       "39216     3.5  ...            0        0         10935           2 2014-11-02   \n",
       "20523     4.5  ...            0        0         21033           3 2017-09-05   \n",
       "\n",
       "            RevL  revcolor  difffirstlastrev  difflast  newRanking  \n",
       "10560 2017-05-20         0                 0       282    1.352359  \n",
       "39216 2015-10-19         1               351       861    1.033045  \n",
       "20523 2017-10-22         0                47       127    1.556220  \n",
       "\n",
       "[3 rows x 52 columns]"
      ]
     },
     "execution_count": 54,
     "metadata": {},
     "output_type": "execute_result"
    }
   ],
   "source": [
    "# заполнить нулевые значения: задать количество просмотров равным среднему для данного города\n",
    "data['Number of Reviews'] = data.apply(\n",
    "    lambda x: df_look.loc[x.City_]['mean'] if x['Number of Reviews'] == 0 else x['Number of Reviews'], axis=1)\n",
    "data.sample(3)"
   ]
  },
  {
   "cell_type": "code",
   "execution_count": 66,
   "metadata": {
    "execution": {
     "iopub.execute_input": "2021-09-08T16:46:45.595863Z",
     "iopub.status.busy": "2021-09-08T16:46:45.595606Z",
     "iopub.status.idle": "2021-09-08T16:46:45.622989Z",
     "shell.execute_reply": "2021-09-08T16:46:45.622089Z",
     "shell.execute_reply.started": "2021-09-08T16:46:45.595801Z"
    }
   },
   "outputs": [],
   "source": [
    "# Теперь выделим тестовую часть\n",
    "train_data = df_preproc.query('sample == 1').drop(['sample'], axis=1)\n",
    "test_data = df_preproc.query('sample == 0').drop(['sample'], axis=1)\n",
    "\n",
    "y = train_data.Rating.values            # наш таргет\n",
    "X = train_data.drop(['Rating', 'Number_of_Reviews_isNAN'], axis=1)"
   ]
  },
  {
   "cell_type": "markdown",
   "metadata": {},
   "source": [
    "**Перед тем как отправлять наши данные на обучение, разделим данные на еще один тест и трейн, для валидации. \n",
    "Это поможет нам проверить, как хорошо наша модель работает, до отправки submissiona на kaggle.**"
   ]
  },
  {
   "cell_type": "code",
   "execution_count": 67,
   "metadata": {
    "execution": {
     "iopub.execute_input": "2021-09-08T16:46:45.624516Z",
     "iopub.status.busy": "2021-09-08T16:46:45.624298Z",
     "iopub.status.idle": "2021-09-08T16:46:45.639641Z",
     "shell.execute_reply": "2021-09-08T16:46:45.638446Z",
     "shell.execute_reply.started": "2021-09-08T16:46:45.624482Z"
    }
   },
   "outputs": [],
   "source": [
    "# Воспользуемся специальной функцие train_test_split для разбивки тестовых данных\n",
    "# выделим 20% данных на валидацию (параметр test_size)\n",
    "X_train, X_test, y_train, y_test = train_test_split(X, y, test_size=0.2, random_state=RANDOM_SEED)"
   ]
  },
  {
   "cell_type": "code",
   "execution_count": 68,
   "metadata": {
    "execution": {
     "iopub.execute_input": "2021-09-08T16:46:45.641703Z",
     "iopub.status.busy": "2021-09-08T16:46:45.641349Z",
     "iopub.status.idle": "2021-09-08T16:46:45.651994Z",
     "shell.execute_reply": "2021-09-08T16:46:45.650925Z",
     "shell.execute_reply.started": "2021-09-08T16:46:45.641638Z"
    }
   },
   "outputs": [
    {
     "data": {
      "text/plain": [
       "((10000, 43), (40000, 43), (40000, 41), (32000, 41), (8000, 41))"
      ]
     },
     "execution_count": 68,
     "metadata": {},
     "output_type": "execute_result"
    }
   ],
   "source": [
    "# проверяем\n",
    "test_data.shape, train_data.shape, X.shape, X_train.shape, X_test.shape"
   ]
  },
  {
   "cell_type": "code",
   "execution_count": 69,
   "metadata": {},
   "outputs": [
    {
     "data": {
      "text/html": [
       "<div>\n",
       "<style scoped>\n",
       "    .dataframe tbody tr th:only-of-type {\n",
       "        vertical-align: middle;\n",
       "    }\n",
       "\n",
       "    .dataframe tbody tr th {\n",
       "        vertical-align: top;\n",
       "    }\n",
       "\n",
       "    .dataframe thead th {\n",
       "        text-align: right;\n",
       "    }\n",
       "</style>\n",
       "<table border=\"1\" class=\"dataframe\">\n",
       "  <thead>\n",
       "    <tr style=\"text-align: right;\">\n",
       "      <th></th>\n",
       "      <th>Ranking</th>\n",
       "      <th>Price Range</th>\n",
       "      <th>Number of Reviews</th>\n",
       "      <th>City_Amsterdam</th>\n",
       "      <th>City_Athens</th>\n",
       "      <th>City_Barcelona</th>\n",
       "      <th>City_Berlin</th>\n",
       "      <th>City_Bratislava</th>\n",
       "      <th>City_Brussels</th>\n",
       "      <th>City_Budapest</th>\n",
       "      <th>...</th>\n",
       "      <th>City_Vienna</th>\n",
       "      <th>City_Warsaw</th>\n",
       "      <th>City_Zurich</th>\n",
       "      <th>City_nan</th>\n",
       "      <th>Cuisinepopul</th>\n",
       "      <th>Cuisinecnt</th>\n",
       "      <th>revcolor</th>\n",
       "      <th>difffirstlastrev</th>\n",
       "      <th>difflast</th>\n",
       "      <th>newRanking</th>\n",
       "    </tr>\n",
       "  </thead>\n",
       "  <tbody>\n",
       "    <tr>\n",
       "      <th>31345</th>\n",
       "      <td>12310.0</td>\n",
       "      <td>-1</td>\n",
       "      <td>11.0</td>\n",
       "      <td>0</td>\n",
       "      <td>0</td>\n",
       "      <td>0</td>\n",
       "      <td>0</td>\n",
       "      <td>0</td>\n",
       "      <td>0</td>\n",
       "      <td>0</td>\n",
       "      <td>...</td>\n",
       "      <td>0</td>\n",
       "      <td>0</td>\n",
       "      <td>0</td>\n",
       "      <td>0</td>\n",
       "      <td>11590</td>\n",
       "      <td>1</td>\n",
       "      <td>1</td>\n",
       "      <td>51</td>\n",
       "      <td>601</td>\n",
       "      <td>1.711386</td>\n",
       "    </tr>\n",
       "    <tr>\n",
       "      <th>19951</th>\n",
       "      <td>1128.0</td>\n",
       "      <td>1</td>\n",
       "      <td>24.0</td>\n",
       "      <td>1</td>\n",
       "      <td>0</td>\n",
       "      <td>0</td>\n",
       "      <td>0</td>\n",
       "      <td>0</td>\n",
       "      <td>0</td>\n",
       "      <td>0</td>\n",
       "      <td>...</td>\n",
       "      <td>0</td>\n",
       "      <td>0</td>\n",
       "      <td>0</td>\n",
       "      <td>0</td>\n",
       "      <td>20297</td>\n",
       "      <td>4</td>\n",
       "      <td>1</td>\n",
       "      <td>9</td>\n",
       "      <td>128</td>\n",
       "      <td>0.822157</td>\n",
       "    </tr>\n",
       "    <tr>\n",
       "      <th>43809</th>\n",
       "      <td>5903.0</td>\n",
       "      <td>-1</td>\n",
       "      <td>13.0</td>\n",
       "      <td>0</td>\n",
       "      <td>0</td>\n",
       "      <td>1</td>\n",
       "      <td>0</td>\n",
       "      <td>0</td>\n",
       "      <td>0</td>\n",
       "      <td>0</td>\n",
       "      <td>...</td>\n",
       "      <td>0</td>\n",
       "      <td>0</td>\n",
       "      <td>0</td>\n",
       "      <td>0</td>\n",
       "      <td>11590</td>\n",
       "      <td>1</td>\n",
       "      <td>1</td>\n",
       "      <td>238</td>\n",
       "      <td>207</td>\n",
       "      <td>1.738733</td>\n",
       "    </tr>\n",
       "  </tbody>\n",
       "</table>\n",
       "<p>3 rows × 41 columns</p>\n",
       "</div>"
      ],
      "text/plain": [
       "       Ranking  Price Range  Number of Reviews  City_Amsterdam  City_Athens  \\\n",
       "31345  12310.0           -1               11.0               0            0   \n",
       "19951   1128.0            1               24.0               1            0   \n",
       "43809   5903.0           -1               13.0               0            0   \n",
       "\n",
       "       City_Barcelona  City_Berlin  City_Bratislava  City_Brussels  \\\n",
       "31345               0            0                0              0   \n",
       "19951               0            0                0              0   \n",
       "43809               1            0                0              0   \n",
       "\n",
       "       City_Budapest  ...  City_Vienna  City_Warsaw  City_Zurich  City_nan  \\\n",
       "31345              0  ...            0            0            0         0   \n",
       "19951              0  ...            0            0            0         0   \n",
       "43809              0  ...            0            0            0         0   \n",
       "\n",
       "       Cuisinepopul  Cuisinecnt  revcolor  difffirstlastrev  difflast  \\\n",
       "31345         11590           1         1                51       601   \n",
       "19951         20297           4         1                 9       128   \n",
       "43809         11590           1         1               238       207   \n",
       "\n",
       "       newRanking  \n",
       "31345    1.711386  \n",
       "19951    0.822157  \n",
       "43809    1.738733  \n",
       "\n",
       "[3 rows x 41 columns]"
      ]
     },
     "execution_count": 69,
     "metadata": {},
     "output_type": "execute_result"
    }
   ],
   "source": [
    "X.sample(3)"
   ]
  },
  {
   "cell_type": "markdown",
   "metadata": {},
   "source": [
    "# Model \n",
    "Сам ML"
   ]
  },
  {
   "cell_type": "code",
   "execution_count": 70,
   "metadata": {
    "execution": {
     "iopub.execute_input": "2021-09-08T16:46:45.670574Z",
     "iopub.status.busy": "2021-09-08T16:46:45.670344Z",
     "iopub.status.idle": "2021-09-08T16:46:54.172503Z",
     "shell.execute_reply": "2021-09-08T16:46:54.171457Z",
     "shell.execute_reply.started": "2021-09-08T16:46:45.670534Z"
    }
   },
   "outputs": [
    {
     "name": "stderr",
     "output_type": "stream",
     "text": [
      "[Parallel(n_jobs=-1)]: Using backend ThreadingBackend with 4 concurrent workers.\n",
      "[Parallel(n_jobs=-1)]: Done  42 tasks      | elapsed:    4.8s\n",
      "[Parallel(n_jobs=-1)]: Done 100 out of 100 | elapsed:   11.0s finished\n",
      "[Parallel(n_jobs=4)]: Using backend ThreadingBackend with 4 concurrent workers.\n",
      "[Parallel(n_jobs=4)]: Done  42 tasks      | elapsed:    0.0s\n",
      "[Parallel(n_jobs=4)]: Done 100 out of 100 | elapsed:    0.0s finished\n"
     ]
    }
   ],
   "source": [
    "# Обучаем модель на тестовом наборе данных\n",
    "model.fit(X_train, y_train)\n",
    "\n",
    "# Используем обученную модель для предсказания рейтинга ресторанов в тестовой выборке.\n",
    "# Предсказанные значения записываем в переменную y_pred\n",
    "y_pred = model.predict(X_test)"
   ]
  },
  {
   "cell_type": "code",
   "execution_count": 71,
   "metadata": {
    "execution": {
     "iopub.execute_input": "2021-09-08T16:46:54.174513Z",
     "iopub.status.busy": "2021-09-08T16:46:54.174159Z",
     "iopub.status.idle": "2021-09-08T16:46:54.181379Z",
     "shell.execute_reply": "2021-09-08T16:46:54.180267Z",
     "shell.execute_reply.started": "2021-09-08T16:46:54.174449Z"
    }
   },
   "outputs": [
    {
     "name": "stdout",
     "output_type": "stream",
     "text": [
      "MAE: 0.203200625\n"
     ]
    }
   ],
   "source": [
    "# Сравниваем предсказанные значения (y_pred) с реальными (y_test), и смотрим насколько они в среднем отличаются\n",
    "# Метрика называется Mean Absolute Error (MAE) и показывает среднее отклонение предсказанных значений от фактических.\n",
    "print('MAE:', metrics.mean_absolute_error(y_test, y_pred))"
   ]
  },
  {
   "cell_type": "code",
   "execution_count": 72,
   "metadata": {
    "execution": {
     "iopub.execute_input": "2021-09-08T16:46:54.182999Z",
     "iopub.status.busy": "2021-09-08T16:46:54.182593Z",
     "iopub.status.idle": "2021-09-08T16:46:54.550429Z",
     "shell.execute_reply": "2021-09-08T16:46:54.549756Z",
     "shell.execute_reply.started": "2021-09-08T16:46:54.182938Z"
    }
   },
   "outputs": [
    {
     "data": {
      "text/plain": [
       "<AxesSubplot:>"
      ]
     },
     "execution_count": 72,
     "metadata": {},
     "output_type": "execute_result"
    },
    {
     "data": {
      "image/png": "[encoded data removed]",
      "text/plain": [
       "<Figure size 720x720 with 1 Axes>"
      ]
     },
     "metadata": {
      "needs_background": "light"
     },
     "output_type": "display_data"
    }
   ],
   "source": [
    "# в RandomForestRegressor есть возможность вывести самые важные признаки для модели\n",
    "plt.rcParams['figure.figsize'] = (10, 10)\n",
    "feat_importances = pd.Series(model.feature_importances_, index=X.columns)\n",
    "feat_importances.nlargest(15).plot(kind='barh')"
   ]
  },
  {
   "cell_type": "markdown",
   "metadata": {},
   "source": [
    "# Submission\n",
    "Если все устраевает - готовим Submission на кагл"
   ]
  },
  {
   "cell_type": "code",
   "execution_count": 73,
   "metadata": {
    "execution": {
     "iopub.execute_input": "2021-09-08T16:46:54.552348Z",
     "iopub.status.busy": "2021-09-08T16:46:54.551828Z",
     "iopub.status.idle": "2021-09-08T16:46:54.583580Z",
     "shell.execute_reply": "2021-09-08T16:46:54.582631Z",
     "shell.execute_reply.started": "2021-09-08T16:46:54.552291Z"
    }
   },
   "outputs": [
    {
     "data": {
      "text/html": [
       "<div>\n",
       "<style scoped>\n",
       "    .dataframe tbody tr th:only-of-type {\n",
       "        vertical-align: middle;\n",
       "    }\n",
       "\n",
       "    .dataframe tbody tr th {\n",
       "        vertical-align: top;\n",
       "    }\n",
       "\n",
       "    .dataframe thead th {\n",
       "        text-align: right;\n",
       "    }\n",
       "</style>\n",
       "<table border=\"1\" class=\"dataframe\">\n",
       "  <thead>\n",
       "    <tr style=\"text-align: right;\">\n",
       "      <th></th>\n",
       "      <th>Ranking</th>\n",
       "      <th>Price Range</th>\n",
       "      <th>Number of Reviews</th>\n",
       "      <th>Rating</th>\n",
       "      <th>Number_of_Reviews_isNAN</th>\n",
       "      <th>City_Amsterdam</th>\n",
       "      <th>City_Athens</th>\n",
       "      <th>City_Barcelona</th>\n",
       "      <th>City_Berlin</th>\n",
       "      <th>City_Bratislava</th>\n",
       "      <th>...</th>\n",
       "      <th>City_Vienna</th>\n",
       "      <th>City_Warsaw</th>\n",
       "      <th>City_Zurich</th>\n",
       "      <th>City_nan</th>\n",
       "      <th>Cuisinepopul</th>\n",
       "      <th>Cuisinecnt</th>\n",
       "      <th>revcolor</th>\n",
       "      <th>difffirstlastrev</th>\n",
       "      <th>difflast</th>\n",
       "      <th>newRanking</th>\n",
       "    </tr>\n",
       "  </thead>\n",
       "  <tbody>\n",
       "    <tr>\n",
       "      <th>6664</th>\n",
       "      <td>13969.0</td>\n",
       "      <td>-1</td>\n",
       "      <td>0.0</td>\n",
       "      <td>0.0</td>\n",
       "      <td>1</td>\n",
       "      <td>0</td>\n",
       "      <td>0</td>\n",
       "      <td>0</td>\n",
       "      <td>0</td>\n",
       "      <td>0</td>\n",
       "      <td>...</td>\n",
       "      <td>0</td>\n",
       "      <td>0</td>\n",
       "      <td>0</td>\n",
       "      <td>0</td>\n",
       "      <td>3970</td>\n",
       "      <td>1</td>\n",
       "      <td>0</td>\n",
       "      <td>5059</td>\n",
       "      <td>17588</td>\n",
       "      <td>2.287001</td>\n",
       "    </tr>\n",
       "    <tr>\n",
       "      <th>6886</th>\n",
       "      <td>2284.0</td>\n",
       "      <td>0</td>\n",
       "      <td>32.0</td>\n",
       "      <td>0.0</td>\n",
       "      <td>0</td>\n",
       "      <td>0</td>\n",
       "      <td>0</td>\n",
       "      <td>0</td>\n",
       "      <td>1</td>\n",
       "      <td>0</td>\n",
       "      <td>...</td>\n",
       "      <td>0</td>\n",
       "      <td>0</td>\n",
       "      <td>0</td>\n",
       "      <td>0</td>\n",
       "      <td>22260</td>\n",
       "      <td>5</td>\n",
       "      <td>3</td>\n",
       "      <td>63</td>\n",
       "      <td>230</td>\n",
       "      <td>0.844362</td>\n",
       "    </tr>\n",
       "    <tr>\n",
       "      <th>3506</th>\n",
       "      <td>15856.0</td>\n",
       "      <td>0</td>\n",
       "      <td>34.0</td>\n",
       "      <td>0.0</td>\n",
       "      <td>0</td>\n",
       "      <td>0</td>\n",
       "      <td>0</td>\n",
       "      <td>0</td>\n",
       "      <td>0</td>\n",
       "      <td>0</td>\n",
       "      <td>...</td>\n",
       "      <td>0</td>\n",
       "      <td>0</td>\n",
       "      <td>0</td>\n",
       "      <td>0</td>\n",
       "      <td>3764</td>\n",
       "      <td>2</td>\n",
       "      <td>1</td>\n",
       "      <td>166</td>\n",
       "      <td>120</td>\n",
       "      <td>2.204365</td>\n",
       "    </tr>\n",
       "  </tbody>\n",
       "</table>\n",
       "<p>3 rows × 43 columns</p>\n",
       "</div>"
      ],
      "text/plain": [
       "      Ranking  Price Range  Number of Reviews  Rating  \\\n",
       "6664  13969.0           -1                0.0     0.0   \n",
       "6886   2284.0            0               32.0     0.0   \n",
       "3506  15856.0            0               34.0     0.0   \n",
       "\n",
       "      Number_of_Reviews_isNAN  City_Amsterdam  City_Athens  City_Barcelona  \\\n",
       "6664                        1               0            0               0   \n",
       "6886                        0               0            0               0   \n",
       "3506                        0               0            0               0   \n",
       "\n",
       "      City_Berlin  City_Bratislava  ...  City_Vienna  City_Warsaw  \\\n",
       "6664            0                0  ...            0            0   \n",
       "6886            1                0  ...            0            0   \n",
       "3506            0                0  ...            0            0   \n",
       "\n",
       "      City_Zurich  City_nan  Cuisinepopul  Cuisinecnt  revcolor  \\\n",
       "6664            0         0          3970           1         0   \n",
       "6886            0         0         22260           5         3   \n",
       "3506            0         0          3764           2         1   \n",
       "\n",
       "      difffirstlastrev  difflast  newRanking  \n",
       "6664              5059     17588    2.287001  \n",
       "6886                63       230    0.844362  \n",
       "3506               166       120    2.204365  \n",
       "\n",
       "[3 rows x 43 columns]"
      ]
     },
     "execution_count": 73,
     "metadata": {},
     "output_type": "execute_result"
    }
   ],
   "source": [
    "test_data.sample(3)"
   ]
  },
  {
   "cell_type": "code",
   "execution_count": 74,
   "metadata": {
    "execution": {
     "iopub.execute_input": "2021-09-08T16:46:54.585592Z",
     "iopub.status.busy": "2021-09-08T16:46:54.585075Z",
     "iopub.status.idle": "2021-09-08T16:46:54.593313Z",
     "shell.execute_reply": "2021-09-08T16:46:54.592408Z",
     "shell.execute_reply.started": "2021-09-08T16:46:54.585536Z"
    }
   },
   "outputs": [],
   "source": [
    "test_data = test_data.drop(['Rating', 'Number_of_Reviews_isNAN'], axis=1)"
   ]
  },
  {
   "cell_type": "code",
   "execution_count": 75,
   "metadata": {
    "execution": {
     "iopub.execute_input": "2021-09-08T16:46:54.595474Z",
     "iopub.status.busy": "2021-09-08T16:46:54.594935Z",
     "iopub.status.idle": "2021-09-08T16:46:54.611966Z",
     "shell.execute_reply": "2021-09-08T16:46:54.610965Z",
     "shell.execute_reply.started": "2021-09-08T16:46:54.595256Z"
    }
   },
   "outputs": [
    {
     "data": {
      "text/html": [
       "<div>\n",
       "<style scoped>\n",
       "    .dataframe tbody tr th:only-of-type {\n",
       "        vertical-align: middle;\n",
       "    }\n",
       "\n",
       "    .dataframe tbody tr th {\n",
       "        vertical-align: top;\n",
       "    }\n",
       "\n",
       "    .dataframe thead th {\n",
       "        text-align: right;\n",
       "    }\n",
       "</style>\n",
       "<table border=\"1\" class=\"dataframe\">\n",
       "  <thead>\n",
       "    <tr style=\"text-align: right;\">\n",
       "      <th></th>\n",
       "      <th>Restaurant_id</th>\n",
       "      <th>Rating</th>\n",
       "    </tr>\n",
       "  </thead>\n",
       "  <tbody>\n",
       "    <tr>\n",
       "      <th>0</th>\n",
       "      <td>id_0</td>\n",
       "      <td>2.0</td>\n",
       "    </tr>\n",
       "    <tr>\n",
       "      <th>1</th>\n",
       "      <td>id_1</td>\n",
       "      <td>2.5</td>\n",
       "    </tr>\n",
       "    <tr>\n",
       "      <th>2</th>\n",
       "      <td>id_2</td>\n",
       "      <td>4.0</td>\n",
       "    </tr>\n",
       "    <tr>\n",
       "      <th>3</th>\n",
       "      <td>id_3</td>\n",
       "      <td>1.0</td>\n",
       "    </tr>\n",
       "    <tr>\n",
       "      <th>4</th>\n",
       "      <td>id_4</td>\n",
       "      <td>4.0</td>\n",
       "    </tr>\n",
       "    <tr>\n",
       "      <th>...</th>\n",
       "      <td>...</td>\n",
       "      <td>...</td>\n",
       "    </tr>\n",
       "    <tr>\n",
       "      <th>9995</th>\n",
       "      <td>id_9995</td>\n",
       "      <td>3.0</td>\n",
       "    </tr>\n",
       "    <tr>\n",
       "      <th>9996</th>\n",
       "      <td>id_9996</td>\n",
       "      <td>1.5</td>\n",
       "    </tr>\n",
       "    <tr>\n",
       "      <th>9997</th>\n",
       "      <td>id_9997</td>\n",
       "      <td>4.5</td>\n",
       "    </tr>\n",
       "    <tr>\n",
       "      <th>9998</th>\n",
       "      <td>id_9998</td>\n",
       "      <td>1.0</td>\n",
       "    </tr>\n",
       "    <tr>\n",
       "      <th>9999</th>\n",
       "      <td>id_9999</td>\n",
       "      <td>2.5</td>\n",
       "    </tr>\n",
       "  </tbody>\n",
       "</table>\n",
       "<p>10000 rows × 2 columns</p>\n",
       "</div>"
      ],
      "text/plain": [
       "     Restaurant_id  Rating\n",
       "0             id_0     2.0\n",
       "1             id_1     2.5\n",
       "2             id_2     4.0\n",
       "3             id_3     1.0\n",
       "4             id_4     4.0\n",
       "...            ...     ...\n",
       "9995       id_9995     3.0\n",
       "9996       id_9996     1.5\n",
       "9997       id_9997     4.5\n",
       "9998       id_9998     1.0\n",
       "9999       id_9999     2.5\n",
       "\n",
       "[10000 rows x 2 columns]"
      ]
     },
     "execution_count": 75,
     "metadata": {},
     "output_type": "execute_result"
    }
   ],
   "source": [
    "sample_submission"
   ]
  },
  {
   "cell_type": "code",
   "execution_count": 76,
   "metadata": {
    "execution": {
     "iopub.execute_input": "2021-09-08T16:46:54.614149Z",
     "iopub.status.busy": "2021-09-08T16:46:54.613781Z",
     "iopub.status.idle": "2021-09-08T16:46:54.725674Z",
     "shell.execute_reply": "2021-09-08T16:46:54.724931Z",
     "shell.execute_reply.started": "2021-09-08T16:46:54.614087Z"
    }
   },
   "outputs": [
    {
     "name": "stderr",
     "output_type": "stream",
     "text": [
      "[Parallel(n_jobs=4)]: Using backend ThreadingBackend with 4 concurrent workers.\n",
      "[Parallel(n_jobs=4)]: Done  42 tasks      | elapsed:    0.0s\n",
      "[Parallel(n_jobs=4)]: Done 100 out of 100 | elapsed:    0.0s finished\n"
     ]
    }
   ],
   "source": [
    "predict_submission = model.predict(test_data)"
   ]
  },
  {
   "cell_type": "code",
   "execution_count": 77,
   "metadata": {
    "execution": {
     "iopub.execute_input": "2021-09-08T16:46:54.727397Z",
     "iopub.status.busy": "2021-09-08T16:46:54.727126Z",
     "iopub.status.idle": "2021-09-08T16:46:54.733039Z",
     "shell.execute_reply": "2021-09-08T16:46:54.731955Z",
     "shell.execute_reply.started": "2021-09-08T16:46:54.727348Z"
    }
   },
   "outputs": [
    {
     "data": {
      "text/plain": [
       "array([3.04 , 4.265, 4.425, ..., 3.065, 4.495, 4.365])"
      ]
     },
     "execution_count": 77,
     "metadata": {},
     "output_type": "execute_result"
    }
   ],
   "source": [
    "predict_submission"
   ]
  },
  {
   "cell_type": "code",
   "execution_count": 78,
   "metadata": {
    "execution": {
     "iopub.execute_input": "2021-09-08T16:46:54.734558Z",
     "iopub.status.busy": "2021-09-08T16:46:54.734220Z",
     "iopub.status.idle": "2021-09-08T16:46:55.246760Z",
     "shell.execute_reply": "2021-09-08T16:46:55.245798Z",
     "shell.execute_reply.started": "2021-09-08T16:46:54.734501Z"
    }
   },
   "outputs": [
    {
     "data": {
      "text/html": [
       "<div>\n",
       "<style scoped>\n",
       "    .dataframe tbody tr th:only-of-type {\n",
       "        vertical-align: middle;\n",
       "    }\n",
       "\n",
       "    .dataframe tbody tr th {\n",
       "        vertical-align: top;\n",
       "    }\n",
       "\n",
       "    .dataframe thead th {\n",
       "        text-align: right;\n",
       "    }\n",
       "</style>\n",
       "<table border=\"1\" class=\"dataframe\">\n",
       "  <thead>\n",
       "    <tr style=\"text-align: right;\">\n",
       "      <th></th>\n",
       "      <th>Restaurant_id</th>\n",
       "      <th>Rating</th>\n",
       "    </tr>\n",
       "  </thead>\n",
       "  <tbody>\n",
       "    <tr>\n",
       "      <th>0</th>\n",
       "      <td>id_0</td>\n",
       "      <td>3.040</td>\n",
       "    </tr>\n",
       "    <tr>\n",
       "      <th>1</th>\n",
       "      <td>id_1</td>\n",
       "      <td>4.265</td>\n",
       "    </tr>\n",
       "    <tr>\n",
       "      <th>2</th>\n",
       "      <td>id_2</td>\n",
       "      <td>4.425</td>\n",
       "    </tr>\n",
       "    <tr>\n",
       "      <th>3</th>\n",
       "      <td>id_3</td>\n",
       "      <td>4.335</td>\n",
       "    </tr>\n",
       "    <tr>\n",
       "      <th>4</th>\n",
       "      <td>id_4</td>\n",
       "      <td>4.485</td>\n",
       "    </tr>\n",
       "    <tr>\n",
       "      <th>5</th>\n",
       "      <td>id_5</td>\n",
       "      <td>4.465</td>\n",
       "    </tr>\n",
       "    <tr>\n",
       "      <th>6</th>\n",
       "      <td>id_6</td>\n",
       "      <td>2.555</td>\n",
       "    </tr>\n",
       "    <tr>\n",
       "      <th>7</th>\n",
       "      <td>id_7</td>\n",
       "      <td>2.410</td>\n",
       "    </tr>\n",
       "    <tr>\n",
       "      <th>8</th>\n",
       "      <td>id_8</td>\n",
       "      <td>4.045</td>\n",
       "    </tr>\n",
       "    <tr>\n",
       "      <th>9</th>\n",
       "      <td>id_9</td>\n",
       "      <td>4.585</td>\n",
       "    </tr>\n",
       "  </tbody>\n",
       "</table>\n",
       "</div>"
      ],
      "text/plain": [
       "  Restaurant_id  Rating\n",
       "0          id_0   3.040\n",
       "1          id_1   4.265\n",
       "2          id_2   4.425\n",
       "3          id_3   4.335\n",
       "4          id_4   4.485\n",
       "5          id_5   4.465\n",
       "6          id_6   2.555\n",
       "7          id_7   2.410\n",
       "8          id_8   4.045\n",
       "9          id_9   4.585"
      ]
     },
     "execution_count": 78,
     "metadata": {},
     "output_type": "execute_result"
    }
   ],
   "source": [
    "sample_submission['Rating'] = predict_submission\n",
    "sample_submission.to_csv('submission.csv', index=False)\n",
    "sample_submission.head(10)"
   ]
  },
  {
   "cell_type": "markdown",
   "metadata": {},
   "source": [
    "# What's next?\n",
    "Или что делать, чтоб улучшить результат:\n",
    "* Обработать оставшиеся признаки в понятный для машины формат\n",
    "* Посмотреть, что еще можно извлечь из признаков\n",
    "* Сгенерировать новые признаки\n",
    "* Подгрузить дополнительные данные, например: по населению или благосостоянию городов\n",
    "* Подобрать состав признаков\n",
    "\n",
    "В общем, процесс творческий и весьма увлекательный! Удачи в соревновании!\n"
   ]
  },
  {
   "cell_type": "code",
   "execution_count": null,
   "metadata": {},
   "outputs": [],
   "source": []
  }
 ],
 "metadata": {
  "kernelspec": {
   "display_name": "Python 3",
   "language": "python",
   "name": "python3"
  },
  "language_info": {
   "codemirror_mode": {
    "name": "ipython",
    "version": 3
   },
   "file_extension": ".py",
   "mimetype": "text/x-python",
   "name": "python",
   "nbconvert_exporter": "python",
   "pygments_lexer": "ipython3",
   "version": "3.8.5"
  }
 },
 "nbformat": 4,
 "nbformat_minor": 4
}
