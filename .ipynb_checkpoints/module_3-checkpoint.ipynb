{
 "cells": [
  {
   "cell_type": "code",
   "execution_count": 327,
   "metadata": {},
   "outputs": [],
   "source": [
    "import numpy as np # для работы с массивами\n",
    "import pandas as pd # для работы DataFrame \n",
    "import seaborn as sns # библиотека для визуализации статистических данных\n",
    "import matplotlib.pyplot as plt # для построения графиков\n",
    "from sklearn.preprocessing import PolynomialFeatures\n",
    "from datetime import datetime, timedelta\n",
    "%matplotlib inline\n"
   ]
  },
  {
   "cell_type": "code",
   "execution_count": 328,
   "metadata": {},
   "outputs": [
    {
     "data": {
      "text/html": [
       "<div>\n",
       "<style scoped>\n",
       "    .dataframe tbody tr th:only-of-type {\n",
       "        vertical-align: middle;\n",
       "    }\n",
       "\n",
       "    .dataframe tbody tr th {\n",
       "        vertical-align: top;\n",
       "    }\n",
       "\n",
       "    .dataframe thead th {\n",
       "        text-align: right;\n",
       "    }\n",
       "</style>\n",
       "<table border=\"1\" class=\"dataframe\">\n",
       "  <thead>\n",
       "    <tr style=\"text-align: right;\">\n",
       "      <th></th>\n",
       "      <th>Restaurant_id</th>\n",
       "      <th>City</th>\n",
       "      <th>Cuisine Style</th>\n",
       "      <th>Ranking</th>\n",
       "      <th>Rating</th>\n",
       "      <th>Price Range</th>\n",
       "      <th>Number of Reviews</th>\n",
       "      <th>Reviews</th>\n",
       "      <th>URL_TA</th>\n",
       "      <th>ID_TA</th>\n",
       "    </tr>\n",
       "  </thead>\n",
       "  <tbody>\n",
       "    <tr>\n",
       "      <th>0</th>\n",
       "      <td>id_5569</td>\n",
       "      <td>Paris</td>\n",
       "      <td>['European', 'French', 'International']</td>\n",
       "      <td>5570.0</td>\n",
       "      <td>3.5</td>\n",
       "      <td>$$ - $$$</td>\n",
       "      <td>194.0</td>\n",
       "      <td>[['Good food at your doorstep', 'A good hotel ...</td>\n",
       "      <td>/Restaurant_Review-g187147-d1912643-Reviews-R_...</td>\n",
       "      <td>d1912643</td>\n",
       "    </tr>\n",
       "    <tr>\n",
       "      <th>1</th>\n",
       "      <td>id_1535</td>\n",
       "      <td>Stockholm</td>\n",
       "      <td>NaN</td>\n",
       "      <td>1537.0</td>\n",
       "      <td>4.0</td>\n",
       "      <td>NaN</td>\n",
       "      <td>10.0</td>\n",
       "      <td>[['Unique cuisine', 'Delicious Nepalese food']...</td>\n",
       "      <td>/Restaurant_Review-g189852-d7992032-Reviews-Bu...</td>\n",
       "      <td>d7992032</td>\n",
       "    </tr>\n",
       "    <tr>\n",
       "      <th>2</th>\n",
       "      <td>id_352</td>\n",
       "      <td>London</td>\n",
       "      <td>['Japanese', 'Sushi', 'Asian', 'Grill', 'Veget...</td>\n",
       "      <td>353.0</td>\n",
       "      <td>4.5</td>\n",
       "      <td>$$$$</td>\n",
       "      <td>688.0</td>\n",
       "      <td>[['Catch up with friends', 'Not exceptional'],...</td>\n",
       "      <td>/Restaurant_Review-g186338-d8632781-Reviews-RO...</td>\n",
       "      <td>d8632781</td>\n",
       "    </tr>\n",
       "    <tr>\n",
       "      <th>3</th>\n",
       "      <td>id_3456</td>\n",
       "      <td>Berlin</td>\n",
       "      <td>NaN</td>\n",
       "      <td>3458.0</td>\n",
       "      <td>5.0</td>\n",
       "      <td>NaN</td>\n",
       "      <td>3.0</td>\n",
       "      <td>[[], []]</td>\n",
       "      <td>/Restaurant_Review-g187323-d1358776-Reviews-Es...</td>\n",
       "      <td>d1358776</td>\n",
       "    </tr>\n",
       "    <tr>\n",
       "      <th>4</th>\n",
       "      <td>id_615</td>\n",
       "      <td>Munich</td>\n",
       "      <td>['German', 'Central European', 'Vegetarian Fri...</td>\n",
       "      <td>621.0</td>\n",
       "      <td>4.0</td>\n",
       "      <td>$$ - $$$</td>\n",
       "      <td>84.0</td>\n",
       "      <td>[['Best place to try a Bavarian food', 'Nice b...</td>\n",
       "      <td>/Restaurant_Review-g187309-d6864963-Reviews-Au...</td>\n",
       "      <td>d6864963</td>\n",
       "    </tr>\n",
       "  </tbody>\n",
       "</table>\n",
       "</div>"
      ],
      "text/plain": [
       "  Restaurant_id       City                                      Cuisine Style  \\\n",
       "0       id_5569      Paris            ['European', 'French', 'International']   \n",
       "1       id_1535  Stockholm                                                NaN   \n",
       "2        id_352     London  ['Japanese', 'Sushi', 'Asian', 'Grill', 'Veget...   \n",
       "3       id_3456     Berlin                                                NaN   \n",
       "4        id_615     Munich  ['German', 'Central European', 'Vegetarian Fri...   \n",
       "\n",
       "   Ranking  Rating Price Range  Number of Reviews  \\\n",
       "0   5570.0     3.5    $$ - $$$              194.0   \n",
       "1   1537.0     4.0         NaN               10.0   \n",
       "2    353.0     4.5        $$$$              688.0   \n",
       "3   3458.0     5.0         NaN                3.0   \n",
       "4    621.0     4.0    $$ - $$$               84.0   \n",
       "\n",
       "                                             Reviews  \\\n",
       "0  [['Good food at your doorstep', 'A good hotel ...   \n",
       "1  [['Unique cuisine', 'Delicious Nepalese food']...   \n",
       "2  [['Catch up with friends', 'Not exceptional'],...   \n",
       "3                                           [[], []]   \n",
       "4  [['Best place to try a Bavarian food', 'Nice b...   \n",
       "\n",
       "                                              URL_TA     ID_TA  \n",
       "0  /Restaurant_Review-g187147-d1912643-Reviews-R_...  d1912643  \n",
       "1  /Restaurant_Review-g189852-d7992032-Reviews-Bu...  d7992032  \n",
       "2  /Restaurant_Review-g186338-d8632781-Reviews-RO...  d8632781  \n",
       "3  /Restaurant_Review-g187323-d1358776-Reviews-Es...  d1358776  \n",
       "4  /Restaurant_Review-g187309-d6864963-Reviews-Au...  d6864963  "
      ]
     },
     "execution_count": 328,
     "metadata": {},
     "output_type": "execute_result"
    }
   ],
   "source": [
    "pd.set_option('display.max_rows', 50) # показывать больше строк\n",
    "pd.set_option('display.max_columns', 50) # показывать больше колонок\n",
    "\n",
    "df = pd.read_csv(\"main_task_new.csv\", low_memory = False)\n",
    "df.head()"
   ]
  },
  {
   "cell_type": "code",
   "execution_count": 329,
   "metadata": {},
   "outputs": [
    {
     "name": "stdout",
     "output_type": "stream",
     "text": [
      "126 Counter({\"'Vegetarian Friendly'\": 11189, \"'European'\": 10060, 'kuh1': 9283, \"'Mediterranean'\": 6277, \"'Italian'\": 5964, \"'Vegan Options'\": 4486, \"'Gluten Free Options'\": 4113, \"'Bar'\": 3297, \"'French'\": 3190, \"'Asian'\": 3011, \"'Pizza'\": 2849, \"'Spanish'\": 2798, \"'Pub'\": 2449, \"'Cafe'\": 2325, \"'Fast Food'\": 1705, \"'British'\": 1595, \"'International'\": 1584, \"'Seafood'\": 1505, \"'Japanese'\": 1464, \"'Central European'\": 1393, \"'American'\": 1315, \"'Sushi'\": 1156, \"'Chinese'\": 1145, \"'Portuguese'\": 1107, \"'Indian'\": 1041, \"'Middle Eastern'\": 782, \"'Thai'\": 743, \"'Wine Bar'\": 697, \"'German'\": 662, \"'Healthy'\": 620, \"'Greek'\": 604, \"'Halal'\": 598, \"'Czech'\": 595, \"'Fusion'\": 577, \"'Steakhouse'\": 573, \"'Barbecue'\": 555, \"'Contemporary'\": 523, \"'Vietnamese'\": 513, \"'Eastern European'\": 496, \"'Soups'\": 494, \"'Grill'\": 490, \"'Gastropub'\": 471, \"'Mexican'\": 445, \"'Turkish'\": 444, \"'Delicatessen'\": 392, \"'Austrian'\": 380, \"'South American'\": 372, \"'Polish'\": 365, \"'Hungarian'\": 352, \"'Scandinavian'\": 342, \"'Lebanese'\": 329, \"'Latin'\": 302, \"'Diner'\": 295, \"'Dutch'\": 294, \"'Irish'\": 284, \"'Belgian'\": 270, \"'Street Food'\": 263, \"'Brew Pub'\": 225, \"'Swiss'\": 178, \"'Danish'\": 177, \"'Swedish'\": 171, \"'Argentinean'\": 169, \"'Korean'\": 167, \"'Scottish'\": 163, \"'African'\": 154, \"'Moroccan'\": 141, \"'Central American'\": 135, \"'Brazilian'\": 127, \"'Pakistani'\": 123, \"'Peruvian'\": 94, \"'Caribbean'\": 93, \"'Nepali'\": 83, \"'Balti'\": 83, \"'Bangladeshi'\": 76, \"'Norwegian'\": 75, \"'Israeli'\": 74, \"'Slovenian'\": 68, \"'Indonesian'\": 59, \"'Russian'\": 58, \"'Persian'\": 53, \"'Arabic'\": 51, \"'Kosher'\": 48, \"'Ethiopian'\": 42, \"'Venezuelan'\": 40, \"'Malaysian'\": 31, \"'Croatian'\": 27, \"'Jamaican'\": 25, \"'Sri Lankan'\": 25, \"'Tibetan'\": 24, \"'Australian'\": 24, \"'Cuban'\": 23, \"'Taiwanese'\": 22, \"'Afghani'\": 22, \"'Hawaiian'\": 21, \"'Tunisian'\": 21, \"'Egyptian'\": 20, \"'Colombian'\": 20, \"'Cambodian'\": 20, \"'Cajun & Creole'\": 20, \"'Singaporean'\": 19, \"'Ukrainian'\": 18, \"'Southwestern'\": 17, \"'Georgian'\": 17, \"'Mongolian'\": 14, \"'Armenian'\": 14, \"'Central Asian'\": 12, \"'Filipino'\": 12, \"'Minority Chinese'\": 11, \"'Romanian'\": 10, \"'Chilean'\": 8, \"'Albanian'\": 8, \"'New Zealand'\": 6, \"'Uzbek'\": 5, \"'Canadian'\": 5, \"'Ecuadorean'\": 4, \"'Caucasian'\": 4, \"'Native American'\": 4, \"'Polynesian'\": 2, \"'Azerbaijani'\": 2, \"'Fujian'\": 2, \"'Welsh'\": 2, \"'Salvadoran'\": 1, \"'Yunnan'\": 1, \"'Xinjiang'\": 1, \"'Burmese'\": 1, \"'Latvian'\": 1})\n"
     ]
    },
    {
     "data": {
      "text/plain": [
       "2.6224"
      ]
     },
     "execution_count": 329,
     "metadata": {},
     "output_type": "execute_result"
    }
   ],
   "source": [
    "#df.info()\n",
    "from collections import Counter\n",
    "dff=df\n",
    "dff\n",
    "zz=dff['Cuisine Style'].str.replace('[[\\]]','',regex=True)\n",
    "zz.fillna('kuh1',inplace=True)\n",
    "\n",
    "\n",
    "# x=\"'European', 'French', 'International'\"\n",
    "# x.split(',')\n",
    "# ss=\",\".join(map(str.strip,x.split(',')))\n",
    "# ss\n",
    "dff['Cuisine Style']=zz.apply(lambda x: \",\".join(map(str.strip,x.split(','))))\n",
    "dff\n",
    "ss=pd.Series(dff['Cuisine Style'].str.cat(sep=',').split(','))\n",
    "# # dff['Cuisine Style']\n",
    "ss\n",
    "# qq=zz.str.cat(sep=',')\n",
    "# cnt=Counter(qq.split(','))\n",
    "cnt=Counter(ss)\n",
    "print(len(cnt),cnt)\n",
    "# Counter(qq.split(',')).most_common(232)\n",
    "# dff['cntcnt']=zz.apply(lambda x: len(x.split(',')))\n",
    "dff['cntcnt']=dff['Cuisine Style'].apply(lambda x: len(x.split(',')))\n",
    "dff['cntcnt'].mean()"
   ]
  },
  {
   "cell_type": "code",
   "execution_count": 189,
   "metadata": {},
   "outputs": [
    {
     "name": "stdout",
     "output_type": "stream",
     "text": [
      "::: ['07/06/2017' '06/19/2016'] <class 'numpy.ndarray'>     07/06/2017 <class 'numpy.str_'>\n",
      "2017-07-06 <class 'numpy.datetime64'>\n",
      "2017-07-06 00:00:00 <class 'datetime.datetime'>\n"
     ]
    }
   ],
   "source": [
    "ss=dff[:2][['Reviews']].iloc[1,0]\n",
    "#print(ss)\n",
    "intrp=ss\n",
    "exec(\"bb=np.asarray({})\".format(intrp))\n",
    "def todtdt(x):\n",
    "    return datetime.strptime(x, '%m/%d/%Y')\n",
    "print(\":::\",bb[1],type(bb[1]),\"   \",bb[1][0],type(bb[1][0]))\n",
    "aa=np.fromiter(map(todtdt,bb[1]),dtype='datetime64[D]')\n",
    "print(aa[0],type(aa[0]))\n",
    "aa=np.asarray(list(map(todtdt,bb[1])))\n",
    "print(aa[0],type(aa[0]))\n",
    "# d = dict.fromkeys(ss[0],ss[1])\n",
    "# d\n",
    "# datetime_list=[]\n",
    "# for qq in aa[1]:\n",
    "#     dt = datetime.strptime(qq, '%m/%d/%Y')\n",
    "#     datetime_list.append(dt)\n",
    "    \n",
    "# datetime_list"
   ]
  },
  {
   "cell_type": "code",
   "execution_count": 330,
   "metadata": {},
   "outputs": [
    {
     "name": "stdout",
     "output_type": "stream",
     "text": [
      "1970-01-01 00:00:00\n",
      "2004-04-21 00:00:00\n",
      "2018-02-26 00:00:00\n"
     ]
    }
   ],
   "source": [
    "dff['Price Range'].unique()\n",
    "dff=df\n",
    "def todtdt(intrp1):\n",
    "    bb=eval(\"np.asarray({})\".format(intrp1.replace('nan','\"01/01/1970\"')))\n",
    "    aa=np.fromiter(map(lambda x: datetime.strptime(x, '%m/%d/%Y'),bb[1]),dtype='datetime64[D]')\n",
    "    if aa.shape[0]==0: aa=np.asarray([np.datetime64('1970-01-01')])\n",
    "    aa.sort()\n",
    "    #print(\"inf\",aa,aa.shape[0])\n",
    "    #print(\"aa:\",aa,type(aa),aa[-1])\n",
    "    #print(\"pd\",pd.DataFrame([aa,aa],columns =['Rev0', 'Rev']).iloc[0])\n",
    "    return pd.DataFrame(list(zip([aa[0]],[aa], [aa[-1]])),columns =['R1', 'R2','R3']).iloc[0]\n",
    "\n",
    "dff[['RevF','Rev','RevL']]=dff['Reviews'].apply(todtdt)\n",
    "\n",
    "#print(\"___\",dff[['Rev0','Rev']],\":::\",type(dff[['Rev0','Rev']].iloc[0]))\n",
    "# dff['Rev'].apply(lambda x: x.sort())\n",
    "# dff['Rev0']=dff['Rev'].apply(lambda x: x[0])\n",
    "#nda=dff['Rev0'].sort_values()\n",
    "print(dff['RevF'].min())\n",
    "print(dff[dff.RevF!=np.datetime64('1970-01-01')]['RevF'].min())\n",
    "print(dff['RevL'].max())\n",
    "#dff['Rev'][:2].values[:0]\n",
    "#dff.info()\n",
    "#dff"
   ]
  },
  {
   "cell_type": "code",
   "execution_count": 331,
   "metadata": {},
   "outputs": [
    {
     "name": "stdout",
     "output_type": "stream",
     "text": [
      "Restaurant_id                                                  id_3135\n",
      "City                                                            Vienna\n",
      "Cuisine Style                                              'Bar','Pub'\n",
      "Ranking                                                           3137\n",
      "Rating                                                               4\n",
      "Price Range                                                          $\n",
      "Number of Reviews                                                    2\n",
      "Reviews              [['Great affordable restaurant'], ['04/21/2004']]\n",
      "URL_TA               /Restaurant_Review-g190454-d694328-Reviews-Bab...\n",
      "ID_TA                                                          d694328\n",
      "cntcnt                                                               2\n",
      "RevF                                               2004-04-21 00:00:00\n",
      "Rev                                                       [2004-04-21]\n",
      "RevL                                               2004-04-21 00:00:00\n",
      "Name: 37913, dtype: object\n",
      "5059 days 00:00:00 <class 'pandas._libs.tslibs.timedeltas.Timedelta'> 5059 days\n"
     ]
    }
   ],
   "source": [
    "print(dff[(dff.RevF<=np.datetime64('2004-04-21')) & (dff.RevF!=np.datetime64('1970-01-01'))].iloc[-1])\n",
    "timedelta=dff['RevL'].max()-dff[dff.RevF!=np.datetime64('1970-01-01')]['RevF'].min()\n",
    "print(timedelta,type(timedelta),np.timedelta64(timedelta, 'D'))"
   ]
  },
  {
   "cell_type": "code",
   "execution_count": 340,
   "metadata": {},
   "outputs": [
    {
     "name": "stdout",
     "output_type": "stream",
     "text": [
      "3207 days 00:00:00\n"
     ]
    }
   ],
   "source": [
    "# RevF=dff['RevF'].value_counts().reset_index()\n",
    "# RevF.columns=['RevF','todrop']\n",
    "# RevF=RevF.sort_values(by='RevF')\n",
    "# print(RevF,type(RevF),RevF.index)\n",
    "\n",
    "# RevL=dff['RevL'].value_counts().reset_index()\n",
    "# RevL.columns=['RevL','todrop']\n",
    "# RevL=RevL.sort_values(by='RevL')\n",
    "# print(RevL,type(RevL),RevL.index)\n",
    "\n",
    "RevDltmax=dff.apply(lambda x: np.timedelta64(x.RevL-x.RevF, 'D'),axis=1).max()\n",
    "print(RevDltmax)"
   ]
  },
  {
   "cell_type": "code",
   "execution_count": 325,
   "metadata": {},
   "outputs": [
    {
     "data": {
      "text/plain": [
       "1970-01-01    6471\n",
       "2018-01-07     522\n",
       "2018-01-03     457\n",
       "2018-01-06     412\n",
       "2018-01-08     392\n",
       "              ... \n",
       "2013-02-15       1\n",
       "2012-05-31       1\n",
       "2011-12-03       1\n",
       "2013-02-05       1\n",
       "2015-03-16       1\n",
       "Name: RevL, Length: 1881, dtype: int64"
      ]
     },
     "execution_count": 325,
     "metadata": {},
     "output_type": "execute_result"
    }
   ],
   "source": [
    "dff['RevL'].value_counts()"
   ]
  },
  {
   "cell_type": "code",
   "execution_count": 66,
   "metadata": {},
   "outputs": [
    {
     "data": {
      "text/plain": [
       "$$ - $$$    18412\n",
       "NaN         13886\n",
       "$            6279\n",
       "$$$$         1423\n",
       "Name: Price Range, dtype: int64"
      ]
     },
     "execution_count": 66,
     "metadata": {},
     "output_type": "execute_result"
    }
   ],
   "source": [
    "df.columns\n",
    "df['Price Range'].sort_values()\n",
    "df['Price Range'].value_counts(dropna=False)"
   ]
  },
  {
   "cell_type": "code",
   "execution_count": 70,
   "metadata": {},
   "outputs": [
    {
     "data": {
      "text/plain": [
       "Index(['Restaurant_id', 'City', 'Cuisine Style', 'Ranking', 'Rating',\n",
       "       'Price Range', 'Number of Reviews', 'Reviews', 'URL_TA', 'ID_TA'],\n",
       "      dtype='object')"
      ]
     },
     "execution_count": 70,
     "metadata": {},
     "output_type": "execute_result"
    }
   ],
   "source": [
    "len(df['City'].unique())\n",
    "df.columns\n",
    "df['Cuisine Style'].str."
   ]
  },
  {
   "cell_type": "code",
   "execution_count": 55,
   "metadata": {},
   "outputs": [
    {
     "name": "stdout",
     "output_type": "stream",
     "text": [
      "{'Ranking': 3676.028525, 'Rating': 3.9930375, 'Number of Reviews': 124.82547988359985}\n",
      "<class 'pandas.core.frame.DataFrame'>\n",
      "RangeIndex: 40000 entries, 0 to 39999\n",
      "Data columns (total 3 columns):\n",
      " #   Column             Non-Null Count  Dtype  \n",
      "---  ------             --------------  -----  \n",
      " 0   Ranking            40000 non-null  float64\n",
      " 1   Rating             40000 non-null  float64\n",
      " 2   Number of Reviews  40000 non-null  float64\n",
      "dtypes: float64(3)\n",
      "memory usage: 937.6 KB\n"
     ]
    }
   ],
   "source": [
    "notnumcol=[]\n",
    "yy = map(lambda v,z : [v,z], df.dtypes,df.columns)\n",
    "for xx in yy:\n",
    "    if xx[0].name!='float64':\n",
    "        notnumcol.append(xx[1])\n",
    "dfnum=df.drop(notnumcol,axis=1)\n",
    "#dfnum.info()\n",
    "values={}\n",
    "for xx in (map(lambda x: [x,dfnum[x].mean()],dfnum.columns)):\n",
    "    values[xx[0]]=xx[1]\n",
    "print(values)\n",
    "#print(dfnum['Ranking'].mode(dropna=True))\n",
    "    \n",
    "dfnum.fillna(value=values,inplace=True)\n",
    "dfnum.info()"
   ]
  },
  {
   "cell_type": "code",
   "execution_count": 24,
   "metadata": {},
   "outputs": [
    {
     "name": "stdout",
     "output_type": "stream",
     "text": [
      "Restaurant_id\n",
      "City\n",
      "Cuisine Style\n",
      "Ranking\n",
      "Rating\n",
      "Price Range\n",
      "Number of Reviews\n",
      "Reviews\n",
      "URL_TA\n",
      "ID_TA\n"
     ]
    }
   ],
   "source": [
    "for i in df.columns:\n",
    "    \n",
    "    print(i)\n",
    "#print(df.dir())\n",
    "#print(df.__dict__)"
   ]
  },
  {
   "cell_type": "code",
   "execution_count": 27,
   "metadata": {},
   "outputs": [
    {
     "name": "stdout",
     "output_type": "stream",
     "text": [
      "[2, 21]\n",
      "[3, 31]\n",
      "[4, 41]\n",
      "[5, 51]\n",
      "[6, 61]\n"
     ]
    }
   ],
   "source": [
    "x = [2, 3, 4, 5, 6]\n",
    "xx = [21, 31, 41, 51, 61]\n",
    "y = map(lambda v,z : [v,z], x,xx)\n",
    "for i in y:\n",
    "    print(i)"
   ]
  },
  {
   "cell_type": "code",
   "execution_count": 3,
   "metadata": {},
   "outputs": [
    {
     "name": "stdout",
     "output_type": "stream",
     "text": [
      "<class 'pandas.core.frame.DataFrame'>\n",
      "RangeIndex: 40000 entries, 0 to 39999\n",
      "Data columns (total 10 columns):\n",
      " #   Column             Non-Null Count  Dtype  \n",
      "---  ------             --------------  -----  \n",
      " 0   Restaurant_id      40000 non-null  object \n",
      " 1   City               40000 non-null  object \n",
      " 2   Cuisine Style      30717 non-null  object \n",
      " 3   Ranking            40000 non-null  float64\n",
      " 4   Rating             40000 non-null  float64\n",
      " 5   Price Range        26114 non-null  object \n",
      " 6   Number of Reviews  37457 non-null  float64\n",
      " 7   Reviews            40000 non-null  object \n",
      " 8   URL_TA             40000 non-null  object \n",
      " 9   ID_TA              40000 non-null  object \n",
      "dtypes: float64(3), object(7)\n",
      "memory usage: 3.1+ MB\n"
     ]
    }
   ],
   "source": [
    "df.info()"
   ]
  }
 ],
 "metadata": {
  "kernelspec": {
   "display_name": "Python 3",
   "language": "python",
   "name": "python3"
  },
  "language_info": {
   "codemirror_mode": {
    "name": "ipython",
    "version": 3
   },
   "file_extension": ".py",
   "mimetype": "text/x-python",
   "name": "python",
   "nbconvert_exporter": "python",
   "pygments_lexer": "ipython3",
   "version": "3.8.5"
  }
 },
 "nbformat": 4,
 "nbformat_minor": 4
}
