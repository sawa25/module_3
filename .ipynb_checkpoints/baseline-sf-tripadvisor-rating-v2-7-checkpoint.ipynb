{
 "cells": [
  {
   "cell_type": "markdown",
   "metadata": {},
   "source": [
    "![](https://www.pata.org/wp-content/uploads/2014/09/TripAdvisor_Logo-300x119.png)\n",
    "# Predict TripAdvisor Rating\n",
    "## В этом соревновании нам предстоит предсказать рейтинг ресторана в TripAdvisor\n",
    "**По ходу задачи:**\n",
    "* Прокачаем работу с pandas\n",
    "* Научимся работать с Kaggle Notebooks\n",
    "* Поймем как делать предобработку различных данных\n",
    "* Научимся работать с пропущенными данными (Nan)\n",
    "* Познакомимся с различными видами кодирования признаков\n",
    "* Немного попробуем [Feature Engineering](https://ru.wikipedia.org/wiki/Конструирование_признаков) (генерировать новые признаки)\n",
    "* И совсем немного затронем ML\n",
    "* И многое другое...   \n",
    "\n",
    "\n",
    "\n",
    "### И самое важное, все это вы сможете сделать самостоятельно!\n",
    "\n",
    "*Этот Ноутбук являетсся Примером/Шаблоном к этому соревнованию (Baseline) и не служит готовым решением!*   \n",
    "Вы можете использовать его как основу для построения своего решения.\n",
    "\n",
    "> что такое baseline решение, зачем оно нужно и почему предоставлять baseline к соревнованию стало важным стандартом на kaggle и других площадках.   \n",
    "**baseline** создается больше как шаблон, где можно посмотреть как происходит обращение с входящими данными и что нужно получить на выходе. При этом МЛ начинка может быть достаточно простой, просто для примера. Это помогает быстрее приступить к самому МЛ, а не тратить ценное время на чисто инженерные задачи. \n",
    "Также baseline являеться хорошей опорной точкой по метрике. Если твое решение хуже baseline - ты явно делаешь что-то не то и стоит попробовать другой путь) \n",
    "\n",
    "В контексте нашего соревнования baseline идет с небольшими примерами того, что можно делать с данными, и с инструкцией, что делать дальше, чтобы улучшить результат.  Вообще готовым решением это сложно назвать, так как используются всего 2 самых простых признака (а остальные исключаются)."
   ]
  },
  {
   "cell_type": "markdown",
   "metadata": {},
   "source": [
    "# import"
   ]
  },
  {
   "cell_type": "code",
   "execution_count": 187,
   "metadata": {
    "_cell_guid": "b1076dfc-b9ad-4769-8c92-a6c4dae69d19",
    "_uuid": "8f2839f25d086af736a60e9eeb907d3b93b6e0e5",
    "execution": {
     "iopub.execute_input": "2021-09-08T16:43:17.310504Z",
     "iopub.status.busy": "2021-09-08T16:43:17.310145Z",
     "iopub.status.idle": "2021-09-08T16:43:17.325232Z",
     "shell.execute_reply": "2021-09-08T16:43:17.324203Z",
     "shell.execute_reply.started": "2021-09-08T16:43:17.310446Z"
    }
   },
   "outputs": [
    {
     "name": "stdout",
     "output_type": "stream",
     "text": [
      "kaggle/input\\sf-dst-restaurant-rating\\kaggle_task.csv\n",
      "kaggle/input\\sf-dst-restaurant-rating\\kaggle_task.csv.zip\n",
      "kaggle/input\\sf-dst-restaurant-rating\\main_task.csv\n",
      "kaggle/input\\sf-dst-restaurant-rating\\main_task.csv.zip\n",
      "kaggle/input\\sf-dst-restaurant-rating\\sample_submission.csv\n"
     ]
    }
   ],
   "source": [
    "# This Python 3 environment comes with many helpful analytics libraries installed\n",
    "# It is defined by the kaggle/python docker image: https://github.com/kaggle/docker-python\n",
    "# For example, here's several helpful packages to load in \n",
    "\n",
    "import sys\n",
    "from datetime import datetime, timedelta\n",
    "import math\n",
    "import numpy as np # linear algebra_\n",
    "import pandas as pd # data processing, CSV file I/O (e.g. pd.read_csv)\n",
    "\n",
    "import matplotlib.pyplot as plt\n",
    "import seaborn as sns \n",
    "%matplotlib inline\n",
    "\n",
    "# Загружаем специальный удобный инструмент для разделения датасета:\n",
    "from sklearn.model_selection import train_test_split\n",
    "\n",
    "# Input data files are available in the \"../input/\" directory.\n",
    "# For example, running this (by clicking run or pressing Shift+Enter) will list all files under the input directory\n",
    "\n",
    "import os\n",
    "for dirname, _, filenames in os.walk('kaggle/input'):\n",
    "    for filename in filenames:\n",
    "        print(os.path.join(dirname, filename))\n",
    "\n",
    "# Any results you write to the current directory are saved as output."
   ]
  },
  {
   "cell_type": "code",
   "execution_count": 188,
   "metadata": {
    "execution": {
     "iopub.execute_input": "2021-09-08T16:43:17.327606Z",
     "iopub.status.busy": "2021-09-08T16:43:17.327324Z",
     "iopub.status.idle": "2021-09-08T16:43:17.338064Z",
     "shell.execute_reply": "2021-09-08T16:43:17.337250Z",
     "shell.execute_reply.started": "2021-09-08T16:43:17.327566Z"
    }
   },
   "outputs": [],
   "source": [
    "# всегда фиксируйте RANDOM_SEED, чтобы ваши эксперименты были воспроизводимы!\n",
    "RANDOM_SEED = 42"
   ]
  },
  {
   "cell_type": "code",
   "execution_count": 189,
   "metadata": {
    "execution": {
     "iopub.execute_input": "2021-09-08T16:43:17.344091Z",
     "iopub.status.busy": "2021-09-08T16:43:17.343590Z",
     "iopub.status.idle": "2021-09-08T16:43:19.784972Z",
     "shell.execute_reply": "2021-09-08T16:43:19.783687Z",
     "shell.execute_reply.started": "2021-09-08T16:43:17.344035Z"
    }
   },
   "outputs": [],
   "source": [
    "# зафиксируем версию пакетов, чтобы эксперименты были воспроизводимы:\n",
    "!pip freeze > requirements.txt"
   ]
  },
  {
   "cell_type": "markdown",
   "metadata": {},
   "source": [
    "# DATA"
   ]
  },
  {
   "cell_type": "code",
   "execution_count": 190,
   "metadata": {
    "_cell_guid": "79c7e3d0-c299-4dcb-8224-4455121ee9b0",
    "_uuid": "d629ff2d2480ee46fbb7e2d37f6b5fab8052498a",
    "execution": {
     "iopub.execute_input": "2021-09-08T16:43:19.788298Z",
     "iopub.status.busy": "2021-09-08T16:43:19.787873Z",
     "iopub.status.idle": "2021-09-08T16:43:20.078373Z",
     "shell.execute_reply": "2021-09-08T16:43:20.077534Z",
     "shell.execute_reply.started": "2021-09-08T16:43:19.788225Z"
    }
   },
   "outputs": [],
   "source": [
    "DATA_DIR = 'kaggle/input/sf-dst-restaurant-rating/'\n",
    "df_train = pd.read_csv(DATA_DIR+'/main_task.csv')\n",
    "df_test = pd.read_csv(DATA_DIR+'/kaggle_task.csv')\n",
    "sample_submission = pd.read_csv(DATA_DIR+'/sample_submission.csv')"
   ]
  },
  {
   "cell_type": "code",
   "execution_count": 191,
   "metadata": {
    "execution": {
     "iopub.execute_input": "2021-09-08T16:43:20.082548Z",
     "iopub.status.busy": "2021-09-08T16:43:20.082178Z",
     "iopub.status.idle": "2021-09-08T16:43:20.122673Z",
     "shell.execute_reply": "2021-09-08T16:43:20.121363Z",
     "shell.execute_reply.started": "2021-09-08T16:43:20.082495Z"
    }
   },
   "outputs": [
    {
     "name": "stdout",
     "output_type": "stream",
     "text": [
      "<class 'pandas.core.frame.DataFrame'>\n",
      "RangeIndex: 40000 entries, 0 to 39999\n",
      "Data columns (total 10 columns):\n",
      " #   Column             Non-Null Count  Dtype  \n",
      "---  ------             --------------  -----  \n",
      " 0   Restaurant_id      40000 non-null  object \n",
      " 1   City               40000 non-null  object \n",
      " 2   Cuisine Style      30717 non-null  object \n",
      " 3   Ranking            40000 non-null  float64\n",
      " 4   Rating             40000 non-null  float64\n",
      " 5   Price Range        26114 non-null  object \n",
      " 6   Number of Reviews  37457 non-null  float64\n",
      " 7   Reviews            40000 non-null  object \n",
      " 8   URL_TA             40000 non-null  object \n",
      " 9   ID_TA              40000 non-null  object \n",
      "dtypes: float64(3), object(7)\n",
      "memory usage: 3.1+ MB\n"
     ]
    }
   ],
   "source": [
    "df_train.info()"
   ]
  },
  {
   "cell_type": "code",
   "execution_count": 192,
   "metadata": {
    "execution": {
     "iopub.execute_input": "2021-09-08T16:43:20.124775Z",
     "iopub.status.busy": "2021-09-08T16:43:20.124484Z",
     "iopub.status.idle": "2021-09-08T16:43:20.155711Z",
     "shell.execute_reply": "2021-09-08T16:43:20.154091Z",
     "shell.execute_reply.started": "2021-09-08T16:43:20.124728Z"
    }
   },
   "outputs": [
    {
     "data": {
      "text/html": [
       "<div>\n",
       "<style scoped>\n",
       "    .dataframe tbody tr th:only-of-type {\n",
       "        vertical-align: middle;\n",
       "    }\n",
       "\n",
       "    .dataframe tbody tr th {\n",
       "        vertical-align: top;\n",
       "    }\n",
       "\n",
       "    .dataframe thead th {\n",
       "        text-align: right;\n",
       "    }\n",
       "</style>\n",
       "<table border=\"1\" class=\"dataframe\">\n",
       "  <thead>\n",
       "    <tr style=\"text-align: right;\">\n",
       "      <th></th>\n",
       "      <th>Restaurant_id</th>\n",
       "      <th>City</th>\n",
       "      <th>Cuisine Style</th>\n",
       "      <th>Ranking</th>\n",
       "      <th>Rating</th>\n",
       "      <th>Price Range</th>\n",
       "      <th>Number of Reviews</th>\n",
       "      <th>Reviews</th>\n",
       "      <th>URL_TA</th>\n",
       "      <th>ID_TA</th>\n",
       "    </tr>\n",
       "  </thead>\n",
       "  <tbody>\n",
       "    <tr>\n",
       "      <th>0</th>\n",
       "      <td>id_5569</td>\n",
       "      <td>Paris</td>\n",
       "      <td>['European', 'French', 'International']</td>\n",
       "      <td>5570.0</td>\n",
       "      <td>3.5</td>\n",
       "      <td>$$ - $$$</td>\n",
       "      <td>194.0</td>\n",
       "      <td>[['Good food at your doorstep', 'A good hotel ...</td>\n",
       "      <td>/Restaurant_Review-g187147-d1912643-Reviews-R_...</td>\n",
       "      <td>d1912643</td>\n",
       "    </tr>\n",
       "    <tr>\n",
       "      <th>1</th>\n",
       "      <td>id_1535</td>\n",
       "      <td>Stockholm</td>\n",
       "      <td>NaN</td>\n",
       "      <td>1537.0</td>\n",
       "      <td>4.0</td>\n",
       "      <td>NaN</td>\n",
       "      <td>10.0</td>\n",
       "      <td>[['Unique cuisine', 'Delicious Nepalese food']...</td>\n",
       "      <td>/Restaurant_Review-g189852-d7992032-Reviews-Bu...</td>\n",
       "      <td>d7992032</td>\n",
       "    </tr>\n",
       "    <tr>\n",
       "      <th>2</th>\n",
       "      <td>id_352</td>\n",
       "      <td>London</td>\n",
       "      <td>['Japanese', 'Sushi', 'Asian', 'Grill', 'Veget...</td>\n",
       "      <td>353.0</td>\n",
       "      <td>4.5</td>\n",
       "      <td>$$$$</td>\n",
       "      <td>688.0</td>\n",
       "      <td>[['Catch up with friends', 'Not exceptional'],...</td>\n",
       "      <td>/Restaurant_Review-g186338-d8632781-Reviews-RO...</td>\n",
       "      <td>d8632781</td>\n",
       "    </tr>\n",
       "    <tr>\n",
       "      <th>3</th>\n",
       "      <td>id_3456</td>\n",
       "      <td>Berlin</td>\n",
       "      <td>NaN</td>\n",
       "      <td>3458.0</td>\n",
       "      <td>5.0</td>\n",
       "      <td>NaN</td>\n",
       "      <td>3.0</td>\n",
       "      <td>[[], []]</td>\n",
       "      <td>/Restaurant_Review-g187323-d1358776-Reviews-Es...</td>\n",
       "      <td>d1358776</td>\n",
       "    </tr>\n",
       "    <tr>\n",
       "      <th>4</th>\n",
       "      <td>id_615</td>\n",
       "      <td>Munich</td>\n",
       "      <td>['German', 'Central European', 'Vegetarian Fri...</td>\n",
       "      <td>621.0</td>\n",
       "      <td>4.0</td>\n",
       "      <td>$$ - $$$</td>\n",
       "      <td>84.0</td>\n",
       "      <td>[['Best place to try a Bavarian food', 'Nice b...</td>\n",
       "      <td>/Restaurant_Review-g187309-d6864963-Reviews-Au...</td>\n",
       "      <td>d6864963</td>\n",
       "    </tr>\n",
       "  </tbody>\n",
       "</table>\n",
       "</div>"
      ],
      "text/plain": [
       "  Restaurant_id       City                                      Cuisine Style  \\\n",
       "0       id_5569      Paris            ['European', 'French', 'International']   \n",
       "1       id_1535  Stockholm                                                NaN   \n",
       "2        id_352     London  ['Japanese', 'Sushi', 'Asian', 'Grill', 'Veget...   \n",
       "3       id_3456     Berlin                                                NaN   \n",
       "4        id_615     Munich  ['German', 'Central European', 'Vegetarian Fri...   \n",
       "\n",
       "   Ranking  Rating Price Range  Number of Reviews  \\\n",
       "0   5570.0     3.5    $$ - $$$              194.0   \n",
       "1   1537.0     4.0         NaN               10.0   \n",
       "2    353.0     4.5        $$$$              688.0   \n",
       "3   3458.0     5.0         NaN                3.0   \n",
       "4    621.0     4.0    $$ - $$$               84.0   \n",
       "\n",
       "                                             Reviews  \\\n",
       "0  [['Good food at your doorstep', 'A good hotel ...   \n",
       "1  [['Unique cuisine', 'Delicious Nepalese food']...   \n",
       "2  [['Catch up with friends', 'Not exceptional'],...   \n",
       "3                                           [[], []]   \n",
       "4  [['Best place to try a Bavarian food', 'Nice b...   \n",
       "\n",
       "                                              URL_TA     ID_TA  \n",
       "0  /Restaurant_Review-g187147-d1912643-Reviews-R_...  d1912643  \n",
       "1  /Restaurant_Review-g189852-d7992032-Reviews-Bu...  d7992032  \n",
       "2  /Restaurant_Review-g186338-d8632781-Reviews-RO...  d8632781  \n",
       "3  /Restaurant_Review-g187323-d1358776-Reviews-Es...  d1358776  \n",
       "4  /Restaurant_Review-g187309-d6864963-Reviews-Au...  d6864963  "
      ]
     },
     "execution_count": 192,
     "metadata": {},
     "output_type": "execute_result"
    }
   ],
   "source": [
    "df_train.head(5)"
   ]
  },
  {
   "cell_type": "code",
   "execution_count": 193,
   "metadata": {
    "execution": {
     "iopub.execute_input": "2021-09-08T16:43:20.160847Z",
     "iopub.status.busy": "2021-09-08T16:43:20.160462Z",
     "iopub.status.idle": "2021-09-08T16:43:20.178946Z",
     "shell.execute_reply": "2021-09-08T16:43:20.177895Z",
     "shell.execute_reply.started": "2021-09-08T16:43:20.160778Z"
    }
   },
   "outputs": [
    {
     "name": "stdout",
     "output_type": "stream",
     "text": [
      "<class 'pandas.core.frame.DataFrame'>\n",
      "RangeIndex: 10000 entries, 0 to 9999\n",
      "Data columns (total 9 columns):\n",
      " #   Column             Non-Null Count  Dtype  \n",
      "---  ------             --------------  -----  \n",
      " 0   Restaurant_id      10000 non-null  object \n",
      " 1   City               10000 non-null  object \n",
      " 2   Cuisine Style      7693 non-null   object \n",
      " 3   Ranking            10000 non-null  float64\n",
      " 4   Price Range        6525 non-null   object \n",
      " 5   Number of Reviews  9343 non-null   float64\n",
      " 6   Reviews            9998 non-null   object \n",
      " 7   URL_TA             10000 non-null  object \n",
      " 8   ID_TA              10000 non-null  object \n",
      "dtypes: float64(2), object(7)\n",
      "memory usage: 703.2+ KB\n"
     ]
    }
   ],
   "source": [
    "df_test.info()"
   ]
  },
  {
   "cell_type": "code",
   "execution_count": 194,
   "metadata": {
    "execution": {
     "iopub.execute_input": "2021-09-08T16:43:20.182682Z",
     "iopub.status.busy": "2021-09-08T16:43:20.182403Z",
     "iopub.status.idle": "2021-09-08T16:43:20.201561Z",
     "shell.execute_reply": "2021-09-08T16:43:20.200356Z",
     "shell.execute_reply.started": "2021-09-08T16:43:20.182635Z"
    }
   },
   "outputs": [
    {
     "data": {
      "text/html": [
       "<div>\n",
       "<style scoped>\n",
       "    .dataframe tbody tr th:only-of-type {\n",
       "        vertical-align: middle;\n",
       "    }\n",
       "\n",
       "    .dataframe tbody tr th {\n",
       "        vertical-align: top;\n",
       "    }\n",
       "\n",
       "    .dataframe thead th {\n",
       "        text-align: right;\n",
       "    }\n",
       "</style>\n",
       "<table border=\"1\" class=\"dataframe\">\n",
       "  <thead>\n",
       "    <tr style=\"text-align: right;\">\n",
       "      <th></th>\n",
       "      <th>Restaurant_id</th>\n",
       "      <th>City</th>\n",
       "      <th>Cuisine Style</th>\n",
       "      <th>Ranking</th>\n",
       "      <th>Price Range</th>\n",
       "      <th>Number of Reviews</th>\n",
       "      <th>Reviews</th>\n",
       "      <th>URL_TA</th>\n",
       "      <th>ID_TA</th>\n",
       "    </tr>\n",
       "  </thead>\n",
       "  <tbody>\n",
       "    <tr>\n",
       "      <th>0</th>\n",
       "      <td>id_0</td>\n",
       "      <td>Paris</td>\n",
       "      <td>['Bar', 'Pub']</td>\n",
       "      <td>12963.0</td>\n",
       "      <td>$$ - $$$</td>\n",
       "      <td>4.0</td>\n",
       "      <td>[[], []]</td>\n",
       "      <td>/Restaurant_Review-g187147-d10746918-Reviews-L...</td>\n",
       "      <td>d10746918</td>\n",
       "    </tr>\n",
       "    <tr>\n",
       "      <th>1</th>\n",
       "      <td>id_1</td>\n",
       "      <td>Helsinki</td>\n",
       "      <td>['European', 'Scandinavian', 'Gluten Free Opti...</td>\n",
       "      <td>106.0</td>\n",
       "      <td>$$ - $$$</td>\n",
       "      <td>97.0</td>\n",
       "      <td>[['Very good reviews!', 'Fine dining in Hakani...</td>\n",
       "      <td>/Restaurant_Review-g189934-d6674944-Reviews-Ra...</td>\n",
       "      <td>d6674944</td>\n",
       "    </tr>\n",
       "    <tr>\n",
       "      <th>2</th>\n",
       "      <td>id_2</td>\n",
       "      <td>Edinburgh</td>\n",
       "      <td>['Vegetarian Friendly']</td>\n",
       "      <td>810.0</td>\n",
       "      <td>$$ - $$$</td>\n",
       "      <td>28.0</td>\n",
       "      <td>[['Better than the Links', 'Ivy Black'], ['12/...</td>\n",
       "      <td>/Restaurant_Review-g186525-d13129638-Reviews-B...</td>\n",
       "      <td>d13129638</td>\n",
       "    </tr>\n",
       "    <tr>\n",
       "      <th>3</th>\n",
       "      <td>id_3</td>\n",
       "      <td>London</td>\n",
       "      <td>['Italian', 'Mediterranean', 'European', 'Vege...</td>\n",
       "      <td>1669.0</td>\n",
       "      <td>$$$$</td>\n",
       "      <td>202.0</td>\n",
       "      <td>[['Most exquisite', 'Delicious and authentic']...</td>\n",
       "      <td>/Restaurant_Review-g186338-d680417-Reviews-Qui...</td>\n",
       "      <td>d680417</td>\n",
       "    </tr>\n",
       "    <tr>\n",
       "      <th>4</th>\n",
       "      <td>id_4</td>\n",
       "      <td>Bratislava</td>\n",
       "      <td>['Italian', 'Mediterranean', 'European', 'Seaf...</td>\n",
       "      <td>37.0</td>\n",
       "      <td>$$$$</td>\n",
       "      <td>162.0</td>\n",
       "      <td>[['Always the best in bratislava', 'Very good ...</td>\n",
       "      <td>/Restaurant_Review-g274924-d1112354-Reviews-Ma...</td>\n",
       "      <td>d1112354</td>\n",
       "    </tr>\n",
       "  </tbody>\n",
       "</table>\n",
       "</div>"
      ],
      "text/plain": [
       "  Restaurant_id        City  \\\n",
       "0          id_0       Paris   \n",
       "1          id_1    Helsinki   \n",
       "2          id_2   Edinburgh   \n",
       "3          id_3      London   \n",
       "4          id_4  Bratislava   \n",
       "\n",
       "                                       Cuisine Style  Ranking Price Range  \\\n",
       "0                                     ['Bar', 'Pub']  12963.0    $$ - $$$   \n",
       "1  ['European', 'Scandinavian', 'Gluten Free Opti...    106.0    $$ - $$$   \n",
       "2                            ['Vegetarian Friendly']    810.0    $$ - $$$   \n",
       "3  ['Italian', 'Mediterranean', 'European', 'Vege...   1669.0        $$$$   \n",
       "4  ['Italian', 'Mediterranean', 'European', 'Seaf...     37.0        $$$$   \n",
       "\n",
       "   Number of Reviews                                            Reviews  \\\n",
       "0                4.0                                           [[], []]   \n",
       "1               97.0  [['Very good reviews!', 'Fine dining in Hakani...   \n",
       "2               28.0  [['Better than the Links', 'Ivy Black'], ['12/...   \n",
       "3              202.0  [['Most exquisite', 'Delicious and authentic']...   \n",
       "4              162.0  [['Always the best in bratislava', 'Very good ...   \n",
       "\n",
       "                                              URL_TA      ID_TA  \n",
       "0  /Restaurant_Review-g187147-d10746918-Reviews-L...  d10746918  \n",
       "1  /Restaurant_Review-g189934-d6674944-Reviews-Ra...   d6674944  \n",
       "2  /Restaurant_Review-g186525-d13129638-Reviews-B...  d13129638  \n",
       "3  /Restaurant_Review-g186338-d680417-Reviews-Qui...    d680417  \n",
       "4  /Restaurant_Review-g274924-d1112354-Reviews-Ma...   d1112354  "
      ]
     },
     "execution_count": 194,
     "metadata": {},
     "output_type": "execute_result"
    }
   ],
   "source": [
    "df_test.head(5)"
   ]
  },
  {
   "cell_type": "code",
   "execution_count": 195,
   "metadata": {
    "execution": {
     "iopub.execute_input": "2021-09-08T16:43:20.203517Z",
     "iopub.status.busy": "2021-09-08T16:43:20.203210Z",
     "iopub.status.idle": "2021-09-08T16:43:20.216888Z",
     "shell.execute_reply": "2021-09-08T16:43:20.216012Z",
     "shell.execute_reply.started": "2021-09-08T16:43:20.203470Z"
    }
   },
   "outputs": [
    {
     "data": {
      "text/html": [
       "<div>\n",
       "<style scoped>\n",
       "    .dataframe tbody tr th:only-of-type {\n",
       "        vertical-align: middle;\n",
       "    }\n",
       "\n",
       "    .dataframe tbody tr th {\n",
       "        vertical-align: top;\n",
       "    }\n",
       "\n",
       "    .dataframe thead th {\n",
       "        text-align: right;\n",
       "    }\n",
       "</style>\n",
       "<table border=\"1\" class=\"dataframe\">\n",
       "  <thead>\n",
       "    <tr style=\"text-align: right;\">\n",
       "      <th></th>\n",
       "      <th>Restaurant_id</th>\n",
       "      <th>Rating</th>\n",
       "    </tr>\n",
       "  </thead>\n",
       "  <tbody>\n",
       "    <tr>\n",
       "      <th>0</th>\n",
       "      <td>id_0</td>\n",
       "      <td>2.0</td>\n",
       "    </tr>\n",
       "    <tr>\n",
       "      <th>1</th>\n",
       "      <td>id_1</td>\n",
       "      <td>2.5</td>\n",
       "    </tr>\n",
       "    <tr>\n",
       "      <th>2</th>\n",
       "      <td>id_2</td>\n",
       "      <td>4.0</td>\n",
       "    </tr>\n",
       "    <tr>\n",
       "      <th>3</th>\n",
       "      <td>id_3</td>\n",
       "      <td>1.0</td>\n",
       "    </tr>\n",
       "    <tr>\n",
       "      <th>4</th>\n",
       "      <td>id_4</td>\n",
       "      <td>4.0</td>\n",
       "    </tr>\n",
       "  </tbody>\n",
       "</table>\n",
       "</div>"
      ],
      "text/plain": [
       "  Restaurant_id  Rating\n",
       "0          id_0     2.0\n",
       "1          id_1     2.5\n",
       "2          id_2     4.0\n",
       "3          id_3     1.0\n",
       "4          id_4     4.0"
      ]
     },
     "execution_count": 195,
     "metadata": {},
     "output_type": "execute_result"
    }
   ],
   "source": [
    "sample_submission.head(5)"
   ]
  },
  {
   "cell_type": "code",
   "execution_count": 196,
   "metadata": {
    "execution": {
     "iopub.execute_input": "2021-09-08T16:43:20.218507Z",
     "iopub.status.busy": "2021-09-08T16:43:20.218237Z",
     "iopub.status.idle": "2021-09-08T16:43:20.235091Z",
     "shell.execute_reply": "2021-09-08T16:43:20.234174Z",
     "shell.execute_reply.started": "2021-09-08T16:43:20.218463Z"
    }
   },
   "outputs": [
    {
     "name": "stdout",
     "output_type": "stream",
     "text": [
      "<class 'pandas.core.frame.DataFrame'>\n",
      "RangeIndex: 10000 entries, 0 to 9999\n",
      "Data columns (total 2 columns):\n",
      " #   Column         Non-Null Count  Dtype  \n",
      "---  ------         --------------  -----  \n",
      " 0   Restaurant_id  10000 non-null  object \n",
      " 1   Rating         10000 non-null  float64\n",
      "dtypes: float64(1), object(1)\n",
      "memory usage: 156.4+ KB\n"
     ]
    }
   ],
   "source": [
    "sample_submission.info()"
   ]
  },
  {
   "cell_type": "code",
   "execution_count": 197,
   "metadata": {
    "execution": {
     "iopub.execute_input": "2021-09-08T16:43:20.237241Z",
     "iopub.status.busy": "2021-09-08T16:43:20.236810Z",
     "iopub.status.idle": "2021-09-08T16:43:20.290946Z",
     "shell.execute_reply": "2021-09-08T16:43:20.290011Z",
     "shell.execute_reply.started": "2021-09-08T16:43:20.237179Z"
    }
   },
   "outputs": [
    {
     "data": {
      "text/html": [
       "<div>\n",
       "<style scoped>\n",
       "    .dataframe tbody tr th:only-of-type {\n",
       "        vertical-align: middle;\n",
       "    }\n",
       "\n",
       "    .dataframe tbody tr th {\n",
       "        vertical-align: top;\n",
       "    }\n",
       "\n",
       "    .dataframe thead th {\n",
       "        text-align: right;\n",
       "    }\n",
       "</style>\n",
       "<table border=\"1\" class=\"dataframe\">\n",
       "  <thead>\n",
       "    <tr style=\"text-align: right;\">\n",
       "      <th></th>\n",
       "      <th>Restaurant_id</th>\n",
       "      <th>City</th>\n",
       "      <th>Cuisine Style</th>\n",
       "      <th>Ranking</th>\n",
       "      <th>Price Range</th>\n",
       "      <th>Number of Reviews</th>\n",
       "      <th>Reviews</th>\n",
       "      <th>URL_TA</th>\n",
       "      <th>ID_TA</th>\n",
       "      <th>sample</th>\n",
       "      <th>Rating</th>\n",
       "    </tr>\n",
       "  </thead>\n",
       "  <tbody>\n",
       "    <tr>\n",
       "      <th>0</th>\n",
       "      <td>id_0</td>\n",
       "      <td>Paris</td>\n",
       "      <td>['Bar', 'Pub']</td>\n",
       "      <td>12963.0</td>\n",
       "      <td>$$ - $$$</td>\n",
       "      <td>4.0</td>\n",
       "      <td>[[], []]</td>\n",
       "      <td>/Restaurant_Review-g187147-d10746918-Reviews-L...</td>\n",
       "      <td>d10746918</td>\n",
       "      <td>0</td>\n",
       "      <td>0.0</td>\n",
       "    </tr>\n",
       "    <tr>\n",
       "      <th>1</th>\n",
       "      <td>id_1</td>\n",
       "      <td>Helsinki</td>\n",
       "      <td>['European', 'Scandinavian', 'Gluten Free Opti...</td>\n",
       "      <td>106.0</td>\n",
       "      <td>$$ - $$$</td>\n",
       "      <td>97.0</td>\n",
       "      <td>[['Very good reviews!', 'Fine dining in Hakani...</td>\n",
       "      <td>/Restaurant_Review-g189934-d6674944-Reviews-Ra...</td>\n",
       "      <td>d6674944</td>\n",
       "      <td>0</td>\n",
       "      <td>0.0</td>\n",
       "    </tr>\n",
       "    <tr>\n",
       "      <th>2</th>\n",
       "      <td>id_2</td>\n",
       "      <td>Edinburgh</td>\n",
       "      <td>['Vegetarian Friendly']</td>\n",
       "      <td>810.0</td>\n",
       "      <td>$$ - $$$</td>\n",
       "      <td>28.0</td>\n",
       "      <td>[['Better than the Links', 'Ivy Black'], ['12/...</td>\n",
       "      <td>/Restaurant_Review-g186525-d13129638-Reviews-B...</td>\n",
       "      <td>d13129638</td>\n",
       "      <td>0</td>\n",
       "      <td>0.0</td>\n",
       "    </tr>\n",
       "    <tr>\n",
       "      <th>3</th>\n",
       "      <td>id_3</td>\n",
       "      <td>London</td>\n",
       "      <td>['Italian', 'Mediterranean', 'European', 'Vege...</td>\n",
       "      <td>1669.0</td>\n",
       "      <td>$$$$</td>\n",
       "      <td>202.0</td>\n",
       "      <td>[['Most exquisite', 'Delicious and authentic']...</td>\n",
       "      <td>/Restaurant_Review-g186338-d680417-Reviews-Qui...</td>\n",
       "      <td>d680417</td>\n",
       "      <td>0</td>\n",
       "      <td>0.0</td>\n",
       "    </tr>\n",
       "    <tr>\n",
       "      <th>4</th>\n",
       "      <td>id_4</td>\n",
       "      <td>Bratislava</td>\n",
       "      <td>['Italian', 'Mediterranean', 'European', 'Seaf...</td>\n",
       "      <td>37.0</td>\n",
       "      <td>$$$$</td>\n",
       "      <td>162.0</td>\n",
       "      <td>[['Always the best in bratislava', 'Very good ...</td>\n",
       "      <td>/Restaurant_Review-g274924-d1112354-Reviews-Ma...</td>\n",
       "      <td>d1112354</td>\n",
       "      <td>0</td>\n",
       "      <td>0.0</td>\n",
       "    </tr>\n",
       "  </tbody>\n",
       "</table>\n",
       "</div>"
      ],
      "text/plain": [
       "  Restaurant_id        City  \\\n",
       "0          id_0       Paris   \n",
       "1          id_1    Helsinki   \n",
       "2          id_2   Edinburgh   \n",
       "3          id_3      London   \n",
       "4          id_4  Bratislava   \n",
       "\n",
       "                                       Cuisine Style  Ranking Price Range  \\\n",
       "0                                     ['Bar', 'Pub']  12963.0    $$ - $$$   \n",
       "1  ['European', 'Scandinavian', 'Gluten Free Opti...    106.0    $$ - $$$   \n",
       "2                            ['Vegetarian Friendly']    810.0    $$ - $$$   \n",
       "3  ['Italian', 'Mediterranean', 'European', 'Vege...   1669.0        $$$$   \n",
       "4  ['Italian', 'Mediterranean', 'European', 'Seaf...     37.0        $$$$   \n",
       "\n",
       "   Number of Reviews                                            Reviews  \\\n",
       "0                4.0                                           [[], []]   \n",
       "1               97.0  [['Very good reviews!', 'Fine dining in Hakani...   \n",
       "2               28.0  [['Better than the Links', 'Ivy Black'], ['12/...   \n",
       "3              202.0  [['Most exquisite', 'Delicious and authentic']...   \n",
       "4              162.0  [['Always the best in bratislava', 'Very good ...   \n",
       "\n",
       "                                              URL_TA      ID_TA  sample  \\\n",
       "0  /Restaurant_Review-g187147-d10746918-Reviews-L...  d10746918       0   \n",
       "1  /Restaurant_Review-g189934-d6674944-Reviews-Ra...   d6674944       0   \n",
       "2  /Restaurant_Review-g186525-d13129638-Reviews-B...  d13129638       0   \n",
       "3  /Restaurant_Review-g186338-d680417-Reviews-Qui...    d680417       0   \n",
       "4  /Restaurant_Review-g274924-d1112354-Reviews-Ma...   d1112354       0   \n",
       "\n",
       "   Rating  \n",
       "0     0.0  \n",
       "1     0.0  \n",
       "2     0.0  \n",
       "3     0.0  \n",
       "4     0.0  "
      ]
     },
     "execution_count": 197,
     "metadata": {},
     "output_type": "execute_result"
    }
   ],
   "source": [
    "# ВАЖНО! дря корректной обработки признаков объединяем трейн и тест в один датасет\n",
    "df_train['sample'] = 1 # помечаем где у нас трейн\n",
    "df_test['sample'] = 0 # помечаем где у нас тест\n",
    "df_test['Rating'] = 0 # в тесте у нас нет значения Rating, мы его должны предсказать, по этому пока просто заполняем нулями\n",
    "\n",
    "data = df_test.append(df_train, sort=False) # объединяем\n",
    "data[:5]"
   ]
  },
  {
   "cell_type": "code",
   "execution_count": 198,
   "metadata": {
    "execution": {
     "iopub.execute_input": "2021-09-08T16:43:20.292576Z",
     "iopub.status.busy": "2021-09-08T16:43:20.292320Z",
     "iopub.status.idle": "2021-09-08T16:43:20.333074Z",
     "shell.execute_reply": "2021-09-08T16:43:20.331971Z",
     "shell.execute_reply.started": "2021-09-08T16:43:20.292533Z"
    }
   },
   "outputs": [
    {
     "data": {
      "text/html": [
       "<div>\n",
       "<style scoped>\n",
       "    .dataframe tbody tr th:only-of-type {\n",
       "        vertical-align: middle;\n",
       "    }\n",
       "\n",
       "    .dataframe tbody tr th {\n",
       "        vertical-align: top;\n",
       "    }\n",
       "\n",
       "    .dataframe thead th {\n",
       "        text-align: right;\n",
       "    }\n",
       "</style>\n",
       "<table border=\"1\" class=\"dataframe\">\n",
       "  <thead>\n",
       "    <tr style=\"text-align: right;\">\n",
       "      <th></th>\n",
       "      <th>Restaurant_id</th>\n",
       "      <th>City</th>\n",
       "      <th>Cuisine Style</th>\n",
       "      <th>Ranking</th>\n",
       "      <th>Price Range</th>\n",
       "      <th>Number of Reviews</th>\n",
       "      <th>Reviews</th>\n",
       "      <th>URL_TA</th>\n",
       "      <th>ID_TA</th>\n",
       "      <th>sample</th>\n",
       "      <th>Rating</th>\n",
       "    </tr>\n",
       "  </thead>\n",
       "  <tbody>\n",
       "    <tr>\n",
       "      <th>0</th>\n",
       "      <td>id_0</td>\n",
       "      <td>Paris</td>\n",
       "      <td>['Bar', 'Pub']</td>\n",
       "      <td>12963.0</td>\n",
       "      <td>$$ - $$$</td>\n",
       "      <td>4.0</td>\n",
       "      <td>[[], []]</td>\n",
       "      <td>/Restaurant_Review-g187147-d10746918-Reviews-L...</td>\n",
       "      <td>d10746918</td>\n",
       "      <td>0</td>\n",
       "      <td>0.0</td>\n",
       "    </tr>\n",
       "    <tr>\n",
       "      <th>1</th>\n",
       "      <td>id_1</td>\n",
       "      <td>Helsinki</td>\n",
       "      <td>['European', 'Scandinavian', 'Gluten Free Opti...</td>\n",
       "      <td>106.0</td>\n",
       "      <td>$$ - $$$</td>\n",
       "      <td>97.0</td>\n",
       "      <td>[['Very good reviews!', 'Fine dining in Hakani...</td>\n",
       "      <td>/Restaurant_Review-g189934-d6674944-Reviews-Ra...</td>\n",
       "      <td>d6674944</td>\n",
       "      <td>0</td>\n",
       "      <td>0.0</td>\n",
       "    </tr>\n",
       "    <tr>\n",
       "      <th>2</th>\n",
       "      <td>id_2</td>\n",
       "      <td>Edinburgh</td>\n",
       "      <td>['Vegetarian Friendly']</td>\n",
       "      <td>810.0</td>\n",
       "      <td>$$ - $$$</td>\n",
       "      <td>28.0</td>\n",
       "      <td>[['Better than the Links', 'Ivy Black'], ['12/...</td>\n",
       "      <td>/Restaurant_Review-g186525-d13129638-Reviews-B...</td>\n",
       "      <td>d13129638</td>\n",
       "      <td>0</td>\n",
       "      <td>0.0</td>\n",
       "    </tr>\n",
       "    <tr>\n",
       "      <th>3</th>\n",
       "      <td>id_3</td>\n",
       "      <td>London</td>\n",
       "      <td>['Italian', 'Mediterranean', 'European', 'Vege...</td>\n",
       "      <td>1669.0</td>\n",
       "      <td>$$$$</td>\n",
       "      <td>202.0</td>\n",
       "      <td>[['Most exquisite', 'Delicious and authentic']...</td>\n",
       "      <td>/Restaurant_Review-g186338-d680417-Reviews-Qui...</td>\n",
       "      <td>d680417</td>\n",
       "      <td>0</td>\n",
       "      <td>0.0</td>\n",
       "    </tr>\n",
       "    <tr>\n",
       "      <th>4</th>\n",
       "      <td>id_4</td>\n",
       "      <td>Bratislava</td>\n",
       "      <td>['Italian', 'Mediterranean', 'European', 'Seaf...</td>\n",
       "      <td>37.0</td>\n",
       "      <td>$$$$</td>\n",
       "      <td>162.0</td>\n",
       "      <td>[['Always the best in bratislava', 'Very good ...</td>\n",
       "      <td>/Restaurant_Review-g274924-d1112354-Reviews-Ma...</td>\n",
       "      <td>d1112354</td>\n",
       "      <td>0</td>\n",
       "      <td>0.0</td>\n",
       "    </tr>\n",
       "  </tbody>\n",
       "</table>\n",
       "</div>"
      ],
      "text/plain": [
       "  Restaurant_id        City  \\\n",
       "0          id_0       Paris   \n",
       "1          id_1    Helsinki   \n",
       "2          id_2   Edinburgh   \n",
       "3          id_3      London   \n",
       "4          id_4  Bratislava   \n",
       "\n",
       "                                       Cuisine Style  Ranking Price Range  \\\n",
       "0                                     ['Bar', 'Pub']  12963.0    $$ - $$$   \n",
       "1  ['European', 'Scandinavian', 'Gluten Free Opti...    106.0    $$ - $$$   \n",
       "2                            ['Vegetarian Friendly']    810.0    $$ - $$$   \n",
       "3  ['Italian', 'Mediterranean', 'European', 'Vege...   1669.0        $$$$   \n",
       "4  ['Italian', 'Mediterranean', 'European', 'Seaf...     37.0        $$$$   \n",
       "\n",
       "   Number of Reviews                                            Reviews  \\\n",
       "0                4.0                                           [[], []]   \n",
       "1               97.0  [['Very good reviews!', 'Fine dining in Hakani...   \n",
       "2               28.0  [['Better than the Links', 'Ivy Black'], ['12/...   \n",
       "3              202.0  [['Most exquisite', 'Delicious and authentic']...   \n",
       "4              162.0  [['Always the best in bratislava', 'Very good ...   \n",
       "\n",
       "                                              URL_TA      ID_TA  sample  \\\n",
       "0  /Restaurant_Review-g187147-d10746918-Reviews-L...  d10746918       0   \n",
       "1  /Restaurant_Review-g189934-d6674944-Reviews-Ra...   d6674944       0   \n",
       "2  /Restaurant_Review-g186525-d13129638-Reviews-B...  d13129638       0   \n",
       "3  /Restaurant_Review-g186338-d680417-Reviews-Qui...    d680417       0   \n",
       "4  /Restaurant_Review-g274924-d1112354-Reviews-Ma...   d1112354       0   \n",
       "\n",
       "   Rating  \n",
       "0     0.0  \n",
       "1     0.0  \n",
       "2     0.0  \n",
       "3     0.0  \n",
       "4     0.0  "
      ]
     },
     "execution_count": 198,
     "metadata": {},
     "output_type": "execute_result"
    }
   ],
   "source": [
    "data=data.reset_index(drop=True)\n",
    "data[:5]"
   ]
  },
  {
   "cell_type": "code",
   "execution_count": 199,
   "metadata": {
    "execution": {
     "iopub.execute_input": "2021-09-08T16:43:20.334917Z",
     "iopub.status.busy": "2021-09-08T16:43:20.334635Z",
     "iopub.status.idle": "2021-09-08T16:43:20.380805Z",
     "shell.execute_reply": "2021-09-08T16:43:20.379676Z",
     "shell.execute_reply.started": "2021-09-08T16:43:20.334873Z"
    }
   },
   "outputs": [
    {
     "name": "stdout",
     "output_type": "stream",
     "text": [
      "<class 'pandas.core.frame.DataFrame'>\n",
      "RangeIndex: 50000 entries, 0 to 49999\n",
      "Data columns (total 11 columns):\n",
      " #   Column             Non-Null Count  Dtype  \n",
      "---  ------             --------------  -----  \n",
      " 0   Restaurant_id      50000 non-null  object \n",
      " 1   City               50000 non-null  object \n",
      " 2   Cuisine Style      38410 non-null  object \n",
      " 3   Ranking            50000 non-null  float64\n",
      " 4   Price Range        32639 non-null  object \n",
      " 5   Number of Reviews  46800 non-null  float64\n",
      " 6   Reviews            49998 non-null  object \n",
      " 7   URL_TA             50000 non-null  object \n",
      " 8   ID_TA              50000 non-null  object \n",
      " 9   sample             50000 non-null  int64  \n",
      " 10  Rating             50000 non-null  float64\n",
      "dtypes: float64(3), int64(1), object(7)\n",
      "memory usage: 4.2+ MB\n"
     ]
    }
   ],
   "source": [
    "data.info()"
   ]
  },
  {
   "cell_type": "markdown",
   "metadata": {},
   "source": [
    "Подробнее по признакам:\n",
    "* City: Город \n",
    "* Cuisine Style: Кухня\n",
    "* Ranking: Ранг ресторана относительно других ресторанов в этом городе\n",
    "* Price Range: Цены в ресторане в 3 категориях\n",
    "* Number of Reviews: Количество отзывов\n",
    "* Reviews: 2 последних отзыва и даты этих отзывов\n",
    "* URL_TA: страница ресторана на 'www.tripadvisor.com' \n",
    "* ID_TA: ID ресторана в TripAdvisor\n",
    "* Rating: Рейтинг ресторана"
   ]
  },
  {
   "cell_type": "code",
   "execution_count": 200,
   "metadata": {
    "execution": {
     "iopub.execute_input": "2021-09-08T16:43:20.382991Z",
     "iopub.status.busy": "2021-09-08T16:43:20.382706Z",
     "iopub.status.idle": "2021-09-08T16:43:20.404520Z",
     "shell.execute_reply": "2021-09-08T16:43:20.403618Z",
     "shell.execute_reply.started": "2021-09-08T16:43:20.382945Z"
    }
   },
   "outputs": [
    {
     "data": {
      "text/html": [
       "<div>\n",
       "<style scoped>\n",
       "    .dataframe tbody tr th:only-of-type {\n",
       "        vertical-align: middle;\n",
       "    }\n",
       "\n",
       "    .dataframe tbody tr th {\n",
       "        vertical-align: top;\n",
       "    }\n",
       "\n",
       "    .dataframe thead th {\n",
       "        text-align: right;\n",
       "    }\n",
       "</style>\n",
       "<table border=\"1\" class=\"dataframe\">\n",
       "  <thead>\n",
       "    <tr style=\"text-align: right;\">\n",
       "      <th></th>\n",
       "      <th>Restaurant_id</th>\n",
       "      <th>City</th>\n",
       "      <th>Cuisine Style</th>\n",
       "      <th>Ranking</th>\n",
       "      <th>Price Range</th>\n",
       "      <th>Number of Reviews</th>\n",
       "      <th>Reviews</th>\n",
       "      <th>URL_TA</th>\n",
       "      <th>ID_TA</th>\n",
       "      <th>sample</th>\n",
       "      <th>Rating</th>\n",
       "    </tr>\n",
       "  </thead>\n",
       "  <tbody>\n",
       "    <tr>\n",
       "      <th>11661</th>\n",
       "      <td>id_392</td>\n",
       "      <td>Stockholm</td>\n",
       "      <td>NaN</td>\n",
       "      <td>393.0</td>\n",
       "      <td>NaN</td>\n",
       "      <td>38.0</td>\n",
       "      <td>[['Great food but slow service and cold food',...</td>\n",
       "      <td>/Restaurant_Review-g189852-d9593971-Reviews-Re...</td>\n",
       "      <td>d9593971</td>\n",
       "      <td>1</td>\n",
       "      <td>4.5</td>\n",
       "    </tr>\n",
       "    <tr>\n",
       "      <th>41211</th>\n",
       "      <td>id_4256</td>\n",
       "      <td>Barcelona</td>\n",
       "      <td>['Cafe']</td>\n",
       "      <td>4257.0</td>\n",
       "      <td>$</td>\n",
       "      <td>3.0</td>\n",
       "      <td>[[], []]</td>\n",
       "      <td>/Restaurant_Review-g187497-d10820978-Reviews-E...</td>\n",
       "      <td>d10820978</td>\n",
       "      <td>1</td>\n",
       "      <td>5.0</td>\n",
       "    </tr>\n",
       "    <tr>\n",
       "      <th>4164</th>\n",
       "      <td>id_4164</td>\n",
       "      <td>Oslo</td>\n",
       "      <td>NaN</td>\n",
       "      <td>576.0</td>\n",
       "      <td>NaN</td>\n",
       "      <td>5.0</td>\n",
       "      <td>[['Fresh tasteful Sushi &amp; Maki´s', 'Great food...</td>\n",
       "      <td>/Restaurant_Review-g190479-d10160278-Reviews-S...</td>\n",
       "      <td>d10160278</td>\n",
       "      <td>0</td>\n",
       "      <td>0.0</td>\n",
       "    </tr>\n",
       "    <tr>\n",
       "      <th>5926</th>\n",
       "      <td>id_5926</td>\n",
       "      <td>Stockholm</td>\n",
       "      <td>['Swedish', 'Gluten Free Options']</td>\n",
       "      <td>134.0</td>\n",
       "      <td>$$ - $$$</td>\n",
       "      <td>556.0</td>\n",
       "      <td>[['Great Food Average Service', 'Great fish'],...</td>\n",
       "      <td>/Restaurant_Review-g189852-d1587516-Reviews-Re...</td>\n",
       "      <td>d1587516</td>\n",
       "      <td>0</td>\n",
       "      <td>0.0</td>\n",
       "    </tr>\n",
       "    <tr>\n",
       "      <th>21197</th>\n",
       "      <td>id_702</td>\n",
       "      <td>Vienna</td>\n",
       "      <td>['Bar', 'Pub', 'Irish', 'Vegetarian Friendly']</td>\n",
       "      <td>703.0</td>\n",
       "      <td>$$ - $$$</td>\n",
       "      <td>42.0</td>\n",
       "      <td>[['Little Gem', 'Great pub'], ['03/04/2017', '...</td>\n",
       "      <td>/Restaurant_Review-g190454-d7386774-Reviews-Th...</td>\n",
       "      <td>d7386774</td>\n",
       "      <td>1</td>\n",
       "      <td>4.0</td>\n",
       "    </tr>\n",
       "  </tbody>\n",
       "</table>\n",
       "</div>"
      ],
      "text/plain": [
       "      Restaurant_id       City  \\\n",
       "11661        id_392  Stockholm   \n",
       "41211       id_4256  Barcelona   \n",
       "4164        id_4164       Oslo   \n",
       "5926        id_5926  Stockholm   \n",
       "21197        id_702     Vienna   \n",
       "\n",
       "                                        Cuisine Style  Ranking Price Range  \\\n",
       "11661                                             NaN    393.0         NaN   \n",
       "41211                                        ['Cafe']   4257.0           $   \n",
       "4164                                              NaN    576.0         NaN   \n",
       "5926               ['Swedish', 'Gluten Free Options']    134.0    $$ - $$$   \n",
       "21197  ['Bar', 'Pub', 'Irish', 'Vegetarian Friendly']    703.0    $$ - $$$   \n",
       "\n",
       "       Number of Reviews                                            Reviews  \\\n",
       "11661               38.0  [['Great food but slow service and cold food',...   \n",
       "41211                3.0                                           [[], []]   \n",
       "4164                 5.0  [['Fresh tasteful Sushi & Maki´s', 'Great food...   \n",
       "5926               556.0  [['Great Food Average Service', 'Great fish'],...   \n",
       "21197               42.0  [['Little Gem', 'Great pub'], ['03/04/2017', '...   \n",
       "\n",
       "                                                  URL_TA      ID_TA  sample  \\\n",
       "11661  /Restaurant_Review-g189852-d9593971-Reviews-Re...   d9593971       1   \n",
       "41211  /Restaurant_Review-g187497-d10820978-Reviews-E...  d10820978       1   \n",
       "4164   /Restaurant_Review-g190479-d10160278-Reviews-S...  d10160278       0   \n",
       "5926   /Restaurant_Review-g189852-d1587516-Reviews-Re...   d1587516       0   \n",
       "21197  /Restaurant_Review-g190454-d7386774-Reviews-Th...   d7386774       1   \n",
       "\n",
       "       Rating  \n",
       "11661     4.5  \n",
       "41211     5.0  \n",
       "4164      0.0  \n",
       "5926      0.0  \n",
       "21197     4.0  "
      ]
     },
     "execution_count": 200,
     "metadata": {},
     "output_type": "execute_result"
    }
   ],
   "source": [
    "data.sample(5)"
   ]
  },
  {
   "cell_type": "code",
   "execution_count": 201,
   "metadata": {
    "execution": {
     "iopub.execute_input": "2021-09-08T16:43:20.406489Z",
     "iopub.status.busy": "2021-09-08T16:43:20.406199Z",
     "iopub.status.idle": "2021-09-08T16:43:20.418843Z",
     "shell.execute_reply": "2021-09-08T16:43:20.417571Z",
     "shell.execute_reply.started": "2021-09-08T16:43:20.406421Z"
    }
   },
   "outputs": [
    {
     "data": {
      "text/plain": [
       "\"[['Better than the Links', 'Ivy Black'], ['12/28/2017', '12/06/2017']]\""
      ]
     },
     "execution_count": 201,
     "metadata": {},
     "output_type": "execute_result"
    }
   ],
   "source": [
    "data.Reviews[2]"
   ]
  },
  {
   "cell_type": "markdown",
   "metadata": {},
   "source": [
    "Как видим, большинство признаков у нас требует очистки и предварительной обработки."
   ]
  },
  {
   "cell_type": "markdown",
   "metadata": {},
   "source": [
    "# Cleaning and Prepping Data\n",
    "Обычно данные содержат в себе кучу мусора, который необходимо почистить, для того чтобы привести их в приемлемый формат. Чистка данных — это необходимый этап решения почти любой реальной задачи.   \n",
    "![](https://analyticsindiamag.com/wp-content/uploads/2018/01/data-cleaning.png)"
   ]
  },
  {
   "cell_type": "markdown",
   "metadata": {},
   "source": [
    "## 1. Обработка NAN \n",
    "У наличия пропусков могут быть разные причины, но пропуски нужно либо заполнить, либо исключить из набора полностью. Но с пропусками нужно быть внимательным, **даже отсутствие информации может быть важным признаком!**   \n",
    "По этому перед обработкой NAN лучше вынести информацию о наличии пропуска как отдельный признак "
   ]
  },
  {
   "cell_type": "code",
   "execution_count": 202,
   "metadata": {
    "execution": {
     "iopub.execute_input": "2021-09-08T16:43:20.421188Z",
     "iopub.status.busy": "2021-09-08T16:43:20.420622Z",
     "iopub.status.idle": "2021-09-08T16:43:20.428723Z",
     "shell.execute_reply": "2021-09-08T16:43:20.428009Z",
     "shell.execute_reply.started": "2021-09-08T16:43:20.421131Z"
    }
   },
   "outputs": [],
   "source": [
    "# Для примера я возьму столбец Number of Reviews\n",
    "data['Number_of_Reviews_isNAN'] = pd.isna(data['Number of Reviews']).astype('uint8')"
   ]
  },
  {
   "cell_type": "code",
   "execution_count": 203,
   "metadata": {
    "execution": {
     "iopub.execute_input": "2021-09-08T16:43:20.431017Z",
     "iopub.status.busy": "2021-09-08T16:43:20.430622Z",
     "iopub.status.idle": "2021-09-08T16:43:20.443079Z",
     "shell.execute_reply": "2021-09-08T16:43:20.442069Z",
     "shell.execute_reply.started": "2021-09-08T16:43:20.430947Z"
    }
   },
   "outputs": [
    {
     "data": {
      "text/plain": [
       "0    46800\n",
       "1     3200\n",
       "Name: Number_of_Reviews_isNAN, dtype: int64"
      ]
     },
     "execution_count": 203,
     "metadata": {},
     "output_type": "execute_result"
    }
   ],
   "source": [
    "data['Number_of_Reviews_isNAN'].value_counts()"
   ]
  },
  {
   "cell_type": "code",
   "execution_count": 204,
   "metadata": {
    "execution": {
     "iopub.execute_input": "2021-09-08T16:43:20.445107Z",
     "iopub.status.busy": "2021-09-08T16:43:20.444699Z",
     "iopub.status.idle": "2021-09-08T16:43:20.460389Z",
     "shell.execute_reply": "2021-09-08T16:43:20.459259Z",
     "shell.execute_reply.started": "2021-09-08T16:43:20.445043Z"
    }
   },
   "outputs": [
    {
     "data": {
      "text/plain": [
       "count    46800.000000\n",
       "mean       124.471197\n",
       "std        294.114345\n",
       "min          2.000000\n",
       "25%          9.000000\n",
       "50%         33.000000\n",
       "75%        115.000000\n",
       "max       9660.000000\n",
       "Name: Number of Reviews, dtype: float64"
      ]
     },
     "execution_count": 204,
     "metadata": {},
     "output_type": "execute_result"
    }
   ],
   "source": [
    "data['Number of Reviews'].describe()"
   ]
  },
  {
   "cell_type": "code",
   "execution_count": 205,
   "metadata": {
    "execution": {
     "iopub.execute_input": "2021-09-08T16:43:20.462633Z",
     "iopub.status.busy": "2021-09-08T16:43:20.462238Z",
     "iopub.status.idle": "2021-09-08T16:43:20.468449Z",
     "shell.execute_reply": "2021-09-08T16:43:20.467328Z",
     "shell.execute_reply.started": "2021-09-08T16:43:20.462565Z"
    }
   },
   "outputs": [],
   "source": [
    "# Далее заполняем пропуски 0, вы можете попробовать заполнением средним или средним по городу и тд...\n",
    "data['Number of Reviews'].fillna(0, inplace=True)"
   ]
  },
  {
   "cell_type": "code",
   "execution_count": null,
   "metadata": {},
   "outputs": [],
   "source": []
  },
  {
   "cell_type": "markdown",
   "metadata": {},
   "source": [
    "### 2. Обработка признаков\n",
    "Для начала посмотрим какие признаки у нас могут быть категориальными."
   ]
  },
  {
   "cell_type": "code",
   "execution_count": 206,
   "metadata": {
    "execution": {
     "iopub.execute_input": "2021-09-08T16:43:20.470386Z",
     "iopub.status.busy": "2021-09-08T16:43:20.469989Z",
     "iopub.status.idle": "2021-09-08T16:43:20.610261Z",
     "shell.execute_reply": "2021-09-08T16:43:20.609058Z",
     "shell.execute_reply.started": "2021-09-08T16:43:20.470324Z"
    }
   },
   "outputs": [
    {
     "data": {
      "text/plain": [
       "Restaurant_id              13094\n",
       "City                          31\n",
       "Cuisine Style              10732\n",
       "Ranking                    12975\n",
       "Price Range                    4\n",
       "Number of Reviews           1574\n",
       "Reviews                    41858\n",
       "URL_TA                     49963\n",
       "ID_TA                      49963\n",
       "sample                         2\n",
       "Rating                        10\n",
       "Number_of_Reviews_isNAN        2\n",
       "dtype: int64"
      ]
     },
     "execution_count": 206,
     "metadata": {},
     "output_type": "execute_result"
    }
   ],
   "source": [
    "data.nunique(dropna=False)"
   ]
  },
  {
   "cell_type": "markdown",
   "metadata": {},
   "source": [
    "Какие признаки можно считать категориальными?"
   ]
  },
  {
   "cell_type": "markdown",
   "metadata": {},
   "source": [
    "Для кодирования категориальных признаков есть множество подходов:\n",
    "* Label Encoding\n",
    "* One-Hot Encoding\n",
    "* Target Encoding\n",
    "* Hashing\n",
    "\n",
    "Выбор кодирования зависит от признака и выбраной модели.\n",
    "Не будем сейчас сильно погружаться в эту тематику, давайте посмотрим лучше пример с One-Hot Encoding:\n",
    "![](https://i.imgur.com/mtimFxh.png)"
   ]
  },
  {
   "cell_type": "code",
   "execution_count": 209,
   "metadata": {},
   "outputs": [
    {
     "data": {
      "text/html": [
       "<div>\n",
       "<style scoped>\n",
       "    .dataframe tbody tr th:only-of-type {\n",
       "        vertical-align: middle;\n",
       "    }\n",
       "\n",
       "    .dataframe tbody tr th {\n",
       "        vertical-align: top;\n",
       "    }\n",
       "\n",
       "    .dataframe thead th {\n",
       "        text-align: right;\n",
       "    }\n",
       "</style>\n",
       "<table border=\"1\" class=\"dataframe\">\n",
       "  <thead>\n",
       "    <tr style=\"text-align: right;\">\n",
       "      <th></th>\n",
       "      <th>Restaurant_id</th>\n",
       "      <th>City</th>\n",
       "      <th>Cuisine Style</th>\n",
       "      <th>Ranking</th>\n",
       "      <th>Price Range</th>\n",
       "      <th>Number of Reviews</th>\n",
       "      <th>Reviews</th>\n",
       "      <th>URL_TA</th>\n",
       "      <th>ID_TA</th>\n",
       "      <th>sample</th>\n",
       "      <th>Rating</th>\n",
       "      <th>Number_of_Reviews_isNAN</th>\n",
       "    </tr>\n",
       "  </thead>\n",
       "  <tbody>\n",
       "    <tr>\n",
       "      <th>31886</th>\n",
       "      <td>id_6543</td>\n",
       "      <td>Madrid</td>\n",
       "      <td>NaN</td>\n",
       "      <td>6546.0</td>\n",
       "      <td>NaN</td>\n",
       "      <td>4.0</td>\n",
       "      <td>[['Friendly pizza restaurant - large menu, ex....</td>\n",
       "      <td>/Restaurant_Review-g187514-d7992860-Reviews-Si...</td>\n",
       "      <td>d7992860</td>\n",
       "      <td>1</td>\n",
       "      <td>3.5</td>\n",
       "      <td>0</td>\n",
       "    </tr>\n",
       "    <tr>\n",
       "      <th>23145</th>\n",
       "      <td>id_883</td>\n",
       "      <td>Budapest</td>\n",
       "      <td>['American', 'Fast Food']</td>\n",
       "      <td>884.0</td>\n",
       "      <td>$$ - $$$</td>\n",
       "      <td>20.0</td>\n",
       "      <td>[['Vary tasty hamburguer', 'Quick bite to eat'...</td>\n",
       "      <td>/Restaurant_Review-g274887-d12322349-Reviews-Z...</td>\n",
       "      <td>d12322349</td>\n",
       "      <td>1</td>\n",
       "      <td>4.0</td>\n",
       "      <td>0</td>\n",
       "    </tr>\n",
       "    <tr>\n",
       "      <th>8399</th>\n",
       "      <td>id_8399</td>\n",
       "      <td>London</td>\n",
       "      <td>['Bar', 'British', 'Pub', 'Vegetarian Friendly']</td>\n",
       "      <td>6900.0</td>\n",
       "      <td>$$ - $$$</td>\n",
       "      <td>28.0</td>\n",
       "      <td>[['Good but could be improved', 'Disappointing...</td>\n",
       "      <td>/Restaurant_Review-g186338-d9462255-Reviews-Fo...</td>\n",
       "      <td>d9462255</td>\n",
       "      <td>0</td>\n",
       "      <td>0.0</td>\n",
       "      <td>0</td>\n",
       "    </tr>\n",
       "  </tbody>\n",
       "</table>\n",
       "</div>"
      ],
      "text/plain": [
       "      Restaurant_id      City  \\\n",
       "31886       id_6543    Madrid   \n",
       "23145        id_883  Budapest   \n",
       "8399        id_8399    London   \n",
       "\n",
       "                                          Cuisine Style  Ranking Price Range  \\\n",
       "31886                                               NaN   6546.0         NaN   \n",
       "23145                         ['American', 'Fast Food']    884.0    $$ - $$$   \n",
       "8399   ['Bar', 'British', 'Pub', 'Vegetarian Friendly']   6900.0    $$ - $$$   \n",
       "\n",
       "       Number of Reviews                                            Reviews  \\\n",
       "31886                4.0  [['Friendly pizza restaurant - large menu, ex....   \n",
       "23145               20.0  [['Vary tasty hamburguer', 'Quick bite to eat'...   \n",
       "8399                28.0  [['Good but could be improved', 'Disappointing...   \n",
       "\n",
       "                                                  URL_TA      ID_TA  sample  \\\n",
       "31886  /Restaurant_Review-g187514-d7992860-Reviews-Si...   d7992860       1   \n",
       "23145  /Restaurant_Review-g274887-d12322349-Reviews-Z...  d12322349       1   \n",
       "8399   /Restaurant_Review-g186338-d9462255-Reviews-Fo...   d9462255       0   \n",
       "\n",
       "       Rating  Number_of_Reviews_isNAN  \n",
       "31886     3.5                        0  \n",
       "23145     4.0                        0  \n",
       "8399      0.0                        0  "
      ]
     },
     "execution_count": 209,
     "metadata": {},
     "output_type": "execute_result"
    }
   ],
   "source": [
    "df_look=data.groupby(['City'])['Number of Reviews'].describe().sort_values(by='max')\n",
    "df_look\n",
    "#задать количество просмотров равным среднемудля данного города\n",
    "data['Number of Reviews']=data.apply(lambda x: df_look.loc[x.City]['mean'] if x['Number of Reviews']==0 else x['Number of Reviews'],axis=1)\n",
    "data.sample(3)"
   ]
  },
  {
   "cell_type": "code",
   "execution_count": 210,
   "metadata": {},
   "outputs": [
    {
     "data": {
      "text/html": [
       "<div>\n",
       "<style scoped>\n",
       "    .dataframe tbody tr th:only-of-type {\n",
       "        vertical-align: middle;\n",
       "    }\n",
       "\n",
       "    .dataframe tbody tr th {\n",
       "        vertical-align: top;\n",
       "    }\n",
       "\n",
       "    .dataframe thead th {\n",
       "        text-align: right;\n",
       "    }\n",
       "</style>\n",
       "<table border=\"1\" class=\"dataframe\">\n",
       "  <thead>\n",
       "    <tr style=\"text-align: right;\">\n",
       "      <th></th>\n",
       "      <th>count</th>\n",
       "      <th>mean</th>\n",
       "      <th>std</th>\n",
       "      <th>min</th>\n",
       "      <th>25%</th>\n",
       "      <th>50%</th>\n",
       "      <th>75%</th>\n",
       "      <th>max</th>\n",
       "      <th>lin</th>\n",
       "    </tr>\n",
       "    <tr>\n",
       "      <th>City</th>\n",
       "      <th></th>\n",
       "      <th></th>\n",
       "      <th></th>\n",
       "      <th></th>\n",
       "      <th></th>\n",
       "      <th></th>\n",
       "      <th></th>\n",
       "      <th></th>\n",
       "      <th></th>\n",
       "    </tr>\n",
       "  </thead>\n",
       "  <tbody>\n",
       "    <tr>\n",
       "      <th>Ljubljana</th>\n",
       "      <td>222.0</td>\n",
       "      <td>234.509009</td>\n",
       "      <td>136.371954</td>\n",
       "      <td>3.0</td>\n",
       "      <td>118.25</td>\n",
       "      <td>230.5</td>\n",
       "      <td>354.25</td>\n",
       "      <td>468.0</td>\n",
       "      <td>2.108108</td>\n",
       "    </tr>\n",
       "    <tr>\n",
       "      <th>Luxembourg</th>\n",
       "      <td>263.0</td>\n",
       "      <td>308.159696</td>\n",
       "      <td>180.032856</td>\n",
       "      <td>2.0</td>\n",
       "      <td>154.50</td>\n",
       "      <td>314.0</td>\n",
       "      <td>469.50</td>\n",
       "      <td>621.0</td>\n",
       "      <td>2.361217</td>\n",
       "    </tr>\n",
       "    <tr>\n",
       "      <th>Bratislava</th>\n",
       "      <td>380.0</td>\n",
       "      <td>462.428947</td>\n",
       "      <td>254.272873</td>\n",
       "      <td>3.0</td>\n",
       "      <td>250.75</td>\n",
       "      <td>478.5</td>\n",
       "      <td>675.25</td>\n",
       "      <td>889.0</td>\n",
       "      <td>2.339474</td>\n",
       "    </tr>\n",
       "    <tr>\n",
       "      <th>Oslo</th>\n",
       "      <td>488.0</td>\n",
       "      <td>552.569672</td>\n",
       "      <td>327.988605</td>\n",
       "      <td>1.0</td>\n",
       "      <td>274.50</td>\n",
       "      <td>529.5</td>\n",
       "      <td>834.25</td>\n",
       "      <td>1137.0</td>\n",
       "      <td>2.329918</td>\n",
       "    </tr>\n",
       "    <tr>\n",
       "      <th>Helsinki</th>\n",
       "      <td>475.0</td>\n",
       "      <td>564.231579</td>\n",
       "      <td>326.252609</td>\n",
       "      <td>4.0</td>\n",
       "      <td>281.50</td>\n",
       "      <td>564.0</td>\n",
       "      <td>831.50</td>\n",
       "      <td>1141.0</td>\n",
       "      <td>2.402105</td>\n",
       "    </tr>\n",
       "    <tr>\n",
       "      <th>Krakow</th>\n",
       "      <td>554.0</td>\n",
       "      <td>616.267148</td>\n",
       "      <td>357.832799</td>\n",
       "      <td>1.0</td>\n",
       "      <td>305.50</td>\n",
       "      <td>614.0</td>\n",
       "      <td>917.50</td>\n",
       "      <td>1244.0</td>\n",
       "      <td>2.245487</td>\n",
       "    </tr>\n",
       "    <tr>\n",
       "      <th>Geneva</th>\n",
       "      <td>590.0</td>\n",
       "      <td>713.227119</td>\n",
       "      <td>409.801740</td>\n",
       "      <td>3.0</td>\n",
       "      <td>357.50</td>\n",
       "      <td>710.5</td>\n",
       "      <td>1067.50</td>\n",
       "      <td>1413.0</td>\n",
       "      <td>2.394915</td>\n",
       "    </tr>\n",
       "    <tr>\n",
       "      <th>Oporto</th>\n",
       "      <td>642.0</td>\n",
       "      <td>752.034268</td>\n",
       "      <td>426.344754</td>\n",
       "      <td>4.0</td>\n",
       "      <td>377.25</td>\n",
       "      <td>758.0</td>\n",
       "      <td>1107.50</td>\n",
       "      <td>1484.0</td>\n",
       "      <td>2.311526</td>\n",
       "    </tr>\n",
       "    <tr>\n",
       "      <th>Zurich</th>\n",
       "      <td>685.0</td>\n",
       "      <td>794.280292</td>\n",
       "      <td>464.525263</td>\n",
       "      <td>2.0</td>\n",
       "      <td>401.00</td>\n",
       "      <td>777.0</td>\n",
       "      <td>1211.00</td>\n",
       "      <td>1601.0</td>\n",
       "      <td>2.337226</td>\n",
       "    </tr>\n",
       "    <tr>\n",
       "      <th>Edinburgh</th>\n",
       "      <td>745.0</td>\n",
       "      <td>885.130201</td>\n",
       "      <td>514.386876</td>\n",
       "      <td>1.0</td>\n",
       "      <td>448.00</td>\n",
       "      <td>903.0</td>\n",
       "      <td>1331.00</td>\n",
       "      <td>1766.0</td>\n",
       "      <td>2.370470</td>\n",
       "    </tr>\n",
       "    <tr>\n",
       "      <th>Athens</th>\n",
       "      <td>776.0</td>\n",
       "      <td>880.213918</td>\n",
       "      <td>496.941674</td>\n",
       "      <td>3.0</td>\n",
       "      <td>468.75</td>\n",
       "      <td>871.5</td>\n",
       "      <td>1293.75</td>\n",
       "      <td>1787.0</td>\n",
       "      <td>2.302835</td>\n",
       "    </tr>\n",
       "    <tr>\n",
       "      <th>Dublin</th>\n",
       "      <td>836.0</td>\n",
       "      <td>972.127990</td>\n",
       "      <td>553.079742</td>\n",
       "      <td>4.0</td>\n",
       "      <td>497.75</td>\n",
       "      <td>981.5</td>\n",
       "      <td>1432.25</td>\n",
       "      <td>1960.0</td>\n",
       "      <td>2.344498</td>\n",
       "    </tr>\n",
       "    <tr>\n",
       "      <th>Copenhagen</th>\n",
       "      <td>819.0</td>\n",
       "      <td>982.147741</td>\n",
       "      <td>569.147493</td>\n",
       "      <td>3.0</td>\n",
       "      <td>484.00</td>\n",
       "      <td>987.0</td>\n",
       "      <td>1471.00</td>\n",
       "      <td>1964.0</td>\n",
       "      <td>2.398046</td>\n",
       "    </tr>\n",
       "    <tr>\n",
       "      <th>Warsaw</th>\n",
       "      <td>925.0</td>\n",
       "      <td>1055.193514</td>\n",
       "      <td>624.497608</td>\n",
       "      <td>1.0</td>\n",
       "      <td>521.00</td>\n",
       "      <td>1036.0</td>\n",
       "      <td>1603.00</td>\n",
       "      <td>2154.0</td>\n",
       "      <td>2.328649</td>\n",
       "    </tr>\n",
       "    <tr>\n",
       "      <th>Budapest</th>\n",
       "      <td>1021.0</td>\n",
       "      <td>1219.061704</td>\n",
       "      <td>703.457090</td>\n",
       "      <td>1.0</td>\n",
       "      <td>631.00</td>\n",
       "      <td>1199.0</td>\n",
       "      <td>1827.00</td>\n",
       "      <td>2440.0</td>\n",
       "      <td>2.389814</td>\n",
       "    </tr>\n",
       "    <tr>\n",
       "      <th>Stockholm</th>\n",
       "      <td>1033.0</td>\n",
       "      <td>1237.482091</td>\n",
       "      <td>722.385716</td>\n",
       "      <td>1.0</td>\n",
       "      <td>602.00</td>\n",
       "      <td>1281.0</td>\n",
       "      <td>1874.00</td>\n",
       "      <td>2464.0</td>\n",
       "      <td>2.385286</td>\n",
       "    </tr>\n",
       "    <tr>\n",
       "      <th>Lyon</th>\n",
       "      <td>1126.0</td>\n",
       "      <td>1303.902309</td>\n",
       "      <td>756.506271</td>\n",
       "      <td>1.0</td>\n",
       "      <td>657.50</td>\n",
       "      <td>1274.5</td>\n",
       "      <td>1943.50</td>\n",
       "      <td>2666.0</td>\n",
       "      <td>2.367673</td>\n",
       "    </tr>\n",
       "    <tr>\n",
       "      <th>Hamburg</th>\n",
       "      <td>1186.0</td>\n",
       "      <td>1375.409781</td>\n",
       "      <td>792.985678</td>\n",
       "      <td>1.0</td>\n",
       "      <td>663.00</td>\n",
       "      <td>1394.0</td>\n",
       "      <td>2050.75</td>\n",
       "      <td>2737.0</td>\n",
       "      <td>2.307757</td>\n",
       "    </tr>\n",
       "    <tr>\n",
       "      <th>Munich</th>\n",
       "      <td>1145.0</td>\n",
       "      <td>1370.297817</td>\n",
       "      <td>805.135934</td>\n",
       "      <td>3.0</td>\n",
       "      <td>679.00</td>\n",
       "      <td>1353.0</td>\n",
       "      <td>2074.00</td>\n",
       "      <td>2763.0</td>\n",
       "      <td>2.413100</td>\n",
       "    </tr>\n",
       "    <tr>\n",
       "      <th>Brussels</th>\n",
       "      <td>1314.0</td>\n",
       "      <td>1541.901826</td>\n",
       "      <td>866.585639</td>\n",
       "      <td>3.0</td>\n",
       "      <td>806.25</td>\n",
       "      <td>1566.0</td>\n",
       "      <td>2287.75</td>\n",
       "      <td>3006.0</td>\n",
       "      <td>2.287671</td>\n",
       "    </tr>\n",
       "    <tr>\n",
       "      <th>Amsterdam</th>\n",
       "      <td>1372.0</td>\n",
       "      <td>1591.589650</td>\n",
       "      <td>939.209664</td>\n",
       "      <td>1.0</td>\n",
       "      <td>789.00</td>\n",
       "      <td>1582.5</td>\n",
       "      <td>2407.50</td>\n",
       "      <td>3254.0</td>\n",
       "      <td>2.371720</td>\n",
       "    </tr>\n",
       "    <tr>\n",
       "      <th>Vienna</th>\n",
       "      <td>1443.0</td>\n",
       "      <td>1711.275814</td>\n",
       "      <td>989.809056</td>\n",
       "      <td>1.0</td>\n",
       "      <td>869.00</td>\n",
       "      <td>1701.0</td>\n",
       "      <td>2567.00</td>\n",
       "      <td>3444.0</td>\n",
       "      <td>2.386694</td>\n",
       "    </tr>\n",
       "    <tr>\n",
       "      <th>Lisbon</th>\n",
       "      <td>1647.0</td>\n",
       "      <td>1867.330298</td>\n",
       "      <td>1070.662647</td>\n",
       "      <td>1.0</td>\n",
       "      <td>926.00</td>\n",
       "      <td>1901.0</td>\n",
       "      <td>2795.00</td>\n",
       "      <td>3717.0</td>\n",
       "      <td>2.256831</td>\n",
       "    </tr>\n",
       "    <tr>\n",
       "      <th>Prague</th>\n",
       "      <td>1816.0</td>\n",
       "      <td>2086.979626</td>\n",
       "      <td>1200.638960</td>\n",
       "      <td>2.0</td>\n",
       "      <td>1030.75</td>\n",
       "      <td>2089.5</td>\n",
       "      <td>3124.50</td>\n",
       "      <td>4188.0</td>\n",
       "      <td>2.306167</td>\n",
       "    </tr>\n",
       "    <tr>\n",
       "      <th>Rome</th>\n",
       "      <td>2589.0</td>\n",
       "      <td>2970.733102</td>\n",
       "      <td>1716.999034</td>\n",
       "      <td>1.0</td>\n",
       "      <td>1465.00</td>\n",
       "      <td>2972.0</td>\n",
       "      <td>4475.00</td>\n",
       "      <td>5948.0</td>\n",
       "      <td>2.297412</td>\n",
       "    </tr>\n",
       "    <tr>\n",
       "      <th>Milan</th>\n",
       "      <td>2694.0</td>\n",
       "      <td>3106.027840</td>\n",
       "      <td>1799.400356</td>\n",
       "      <td>1.0</td>\n",
       "      <td>1533.00</td>\n",
       "      <td>3081.5</td>\n",
       "      <td>4628.25</td>\n",
       "      <td>6275.0</td>\n",
       "      <td>2.329250</td>\n",
       "    </tr>\n",
       "    <tr>\n",
       "      <th>Berlin</th>\n",
       "      <td>2705.0</td>\n",
       "      <td>3255.417745</td>\n",
       "      <td>1816.592006</td>\n",
       "      <td>2.0</td>\n",
       "      <td>1705.00</td>\n",
       "      <td>3282.0</td>\n",
       "      <td>4805.00</td>\n",
       "      <td>6372.0</td>\n",
       "      <td>2.355638</td>\n",
       "    </tr>\n",
       "    <tr>\n",
       "      <th>Barcelona</th>\n",
       "      <td>3395.0</td>\n",
       "      <td>3879.422680</td>\n",
       "      <td>2264.719813</td>\n",
       "      <td>5.0</td>\n",
       "      <td>1866.00</td>\n",
       "      <td>3861.0</td>\n",
       "      <td>5857.00</td>\n",
       "      <td>7796.0</td>\n",
       "      <td>2.296318</td>\n",
       "    </tr>\n",
       "    <tr>\n",
       "      <th>Madrid</th>\n",
       "      <td>3813.0</td>\n",
       "      <td>4388.516391</td>\n",
       "      <td>2527.656287</td>\n",
       "      <td>1.0</td>\n",
       "      <td>2207.00</td>\n",
       "      <td>4363.0</td>\n",
       "      <td>6586.00</td>\n",
       "      <td>8809.0</td>\n",
       "      <td>2.310254</td>\n",
       "    </tr>\n",
       "    <tr>\n",
       "      <th>Paris</th>\n",
       "      <td>6108.0</td>\n",
       "      <td>6938.557138</td>\n",
       "      <td>4039.932752</td>\n",
       "      <td>3.0</td>\n",
       "      <td>3450.75</td>\n",
       "      <td>6860.5</td>\n",
       "      <td>10417.75</td>\n",
       "      <td>13986.0</td>\n",
       "      <td>2.289784</td>\n",
       "    </tr>\n",
       "    <tr>\n",
       "      <th>London</th>\n",
       "      <td>7193.0</td>\n",
       "      <td>8169.707354</td>\n",
       "      <td>4723.964027</td>\n",
       "      <td>1.0</td>\n",
       "      <td>4101.00</td>\n",
       "      <td>8092.0</td>\n",
       "      <td>12282.00</td>\n",
       "      <td>16444.0</td>\n",
       "      <td>2.286111</td>\n",
       "    </tr>\n",
       "  </tbody>\n",
       "</table>\n",
       "</div>"
      ],
      "text/plain": [
       "             count         mean          std  min      25%     50%       75%  \\\n",
       "City                                                                           \n",
       "Ljubljana    222.0   234.509009   136.371954  3.0   118.25   230.5    354.25   \n",
       "Luxembourg   263.0   308.159696   180.032856  2.0   154.50   314.0    469.50   \n",
       "Bratislava   380.0   462.428947   254.272873  3.0   250.75   478.5    675.25   \n",
       "Oslo         488.0   552.569672   327.988605  1.0   274.50   529.5    834.25   \n",
       "Helsinki     475.0   564.231579   326.252609  4.0   281.50   564.0    831.50   \n",
       "Krakow       554.0   616.267148   357.832799  1.0   305.50   614.0    917.50   \n",
       "Geneva       590.0   713.227119   409.801740  3.0   357.50   710.5   1067.50   \n",
       "Oporto       642.0   752.034268   426.344754  4.0   377.25   758.0   1107.50   \n",
       "Zurich       685.0   794.280292   464.525263  2.0   401.00   777.0   1211.00   \n",
       "Edinburgh    745.0   885.130201   514.386876  1.0   448.00   903.0   1331.00   \n",
       "Athens       776.0   880.213918   496.941674  3.0   468.75   871.5   1293.75   \n",
       "Dublin       836.0   972.127990   553.079742  4.0   497.75   981.5   1432.25   \n",
       "Copenhagen   819.0   982.147741   569.147493  3.0   484.00   987.0   1471.00   \n",
       "Warsaw       925.0  1055.193514   624.497608  1.0   521.00  1036.0   1603.00   \n",
       "Budapest    1021.0  1219.061704   703.457090  1.0   631.00  1199.0   1827.00   \n",
       "Stockholm   1033.0  1237.482091   722.385716  1.0   602.00  1281.0   1874.00   \n",
       "Lyon        1126.0  1303.902309   756.506271  1.0   657.50  1274.5   1943.50   \n",
       "Hamburg     1186.0  1375.409781   792.985678  1.0   663.00  1394.0   2050.75   \n",
       "Munich      1145.0  1370.297817   805.135934  3.0   679.00  1353.0   2074.00   \n",
       "Brussels    1314.0  1541.901826   866.585639  3.0   806.25  1566.0   2287.75   \n",
       "Amsterdam   1372.0  1591.589650   939.209664  1.0   789.00  1582.5   2407.50   \n",
       "Vienna      1443.0  1711.275814   989.809056  1.0   869.00  1701.0   2567.00   \n",
       "Lisbon      1647.0  1867.330298  1070.662647  1.0   926.00  1901.0   2795.00   \n",
       "Prague      1816.0  2086.979626  1200.638960  2.0  1030.75  2089.5   3124.50   \n",
       "Rome        2589.0  2970.733102  1716.999034  1.0  1465.00  2972.0   4475.00   \n",
       "Milan       2694.0  3106.027840  1799.400356  1.0  1533.00  3081.5   4628.25   \n",
       "Berlin      2705.0  3255.417745  1816.592006  2.0  1705.00  3282.0   4805.00   \n",
       "Barcelona   3395.0  3879.422680  2264.719813  5.0  1866.00  3861.0   5857.00   \n",
       "Madrid      3813.0  4388.516391  2527.656287  1.0  2207.00  4363.0   6586.00   \n",
       "Paris       6108.0  6938.557138  4039.932752  3.0  3450.75  6860.5  10417.75   \n",
       "London      7193.0  8169.707354  4723.964027  1.0  4101.00  8092.0  12282.00   \n",
       "\n",
       "                max       lin  \n",
       "City                           \n",
       "Ljubljana     468.0  2.108108  \n",
       "Luxembourg    621.0  2.361217  \n",
       "Bratislava    889.0  2.339474  \n",
       "Oslo         1137.0  2.329918  \n",
       "Helsinki     1141.0  2.402105  \n",
       "Krakow       1244.0  2.245487  \n",
       "Geneva       1413.0  2.394915  \n",
       "Oporto       1484.0  2.311526  \n",
       "Zurich       1601.0  2.337226  \n",
       "Edinburgh    1766.0  2.370470  \n",
       "Athens       1787.0  2.302835  \n",
       "Dublin       1960.0  2.344498  \n",
       "Copenhagen   1964.0  2.398046  \n",
       "Warsaw       2154.0  2.328649  \n",
       "Budapest     2440.0  2.389814  \n",
       "Stockholm    2464.0  2.385286  \n",
       "Lyon         2666.0  2.367673  \n",
       "Hamburg      2737.0  2.307757  \n",
       "Munich       2763.0  2.413100  \n",
       "Brussels     3006.0  2.287671  \n",
       "Amsterdam    3254.0  2.371720  \n",
       "Vienna       3444.0  2.386694  \n",
       "Lisbon       3717.0  2.256831  \n",
       "Prague       4188.0  2.306167  \n",
       "Rome         5948.0  2.297412  \n",
       "Milan        6275.0  2.329250  \n",
       "Berlin       6372.0  2.355638  \n",
       "Barcelona    7796.0  2.296318  \n",
       "Madrid       8809.0  2.310254  \n",
       "Paris       13986.0  2.289784  \n",
       "London      16444.0  2.286111  "
      ]
     },
     "execution_count": 210,
     "metadata": {},
     "output_type": "execute_result"
    }
   ],
   "source": [
    "df_look=data.groupby(['City'])['Ranking'].describe().sort_values(by='max')\n",
    "df_look['lin']=df_look.apply(lambda x: x['max'] / x['count'],axis=1)\n",
    "df_look\n",
    "#максимальный ранкинг пропорционален количеству ресторанов в городе"
   ]
  },
  {
   "cell_type": "code",
   "execution_count": 211,
   "metadata": {},
   "outputs": [
    {
     "data": {
      "text/html": [
       "<div>\n",
       "<style scoped>\n",
       "    .dataframe tbody tr th:only-of-type {\n",
       "        vertical-align: middle;\n",
       "    }\n",
       "\n",
       "    .dataframe tbody tr th {\n",
       "        vertical-align: top;\n",
       "    }\n",
       "\n",
       "    .dataframe thead th {\n",
       "        text-align: right;\n",
       "    }\n",
       "</style>\n",
       "<table border=\"1\" class=\"dataframe\">\n",
       "  <thead>\n",
       "    <tr style=\"text-align: right;\">\n",
       "      <th></th>\n",
       "      <th>Restaurant_id</th>\n",
       "      <th>City</th>\n",
       "      <th>Cuisine Style</th>\n",
       "      <th>Ranking</th>\n",
       "      <th>Price Range</th>\n",
       "      <th>Number of Reviews</th>\n",
       "      <th>Reviews</th>\n",
       "      <th>URL_TA</th>\n",
       "      <th>ID_TA</th>\n",
       "      <th>sample</th>\n",
       "      <th>Rating</th>\n",
       "      <th>Number_of_Reviews_isNAN</th>\n",
       "      <th>newRanking</th>\n",
       "    </tr>\n",
       "  </thead>\n",
       "  <tbody>\n",
       "    <tr>\n",
       "      <th>37437</th>\n",
       "      <td>id_3934</td>\n",
       "      <td>Barcelona</td>\n",
       "      <td>NaN</td>\n",
       "      <td>3935.0</td>\n",
       "      <td>NaN</td>\n",
       "      <td>23.0</td>\n",
       "      <td>[[], []]</td>\n",
       "      <td>/Restaurant_Review-g187497-d7736770-Reviews-Re...</td>\n",
       "      <td>d7736770</td>\n",
       "      <td>1</td>\n",
       "      <td>4.0</td>\n",
       "      <td>0</td>\n",
       "      <td>1.159057</td>\n",
       "    </tr>\n",
       "    <tr>\n",
       "      <th>25770</th>\n",
       "      <td>id_205</td>\n",
       "      <td>Prague</td>\n",
       "      <td>['Bar', 'European', 'Pub', 'Czech', 'Central E...</td>\n",
       "      <td>206.0</td>\n",
       "      <td>$$ - $$$</td>\n",
       "      <td>442.0</td>\n",
       "      <td>[['Best meal in Prague', 'Great athmosphere'],...</td>\n",
       "      <td>/Restaurant_Review-g274707-d1896019-Reviews-Ku...</td>\n",
       "      <td>d1896019</td>\n",
       "      <td>1</td>\n",
       "      <td>4.5</td>\n",
       "      <td>0</td>\n",
       "      <td>0.113436</td>\n",
       "    </tr>\n",
       "    <tr>\n",
       "      <th>11599</th>\n",
       "      <td>id_3205</td>\n",
       "      <td>Prague</td>\n",
       "      <td>NaN</td>\n",
       "      <td>3212.0</td>\n",
       "      <td>NaN</td>\n",
       "      <td>6.0</td>\n",
       "      <td>[['Very nice, especially after a good workout'...</td>\n",
       "      <td>/Restaurant_Review-g274707-d9853874-Reviews-No...</td>\n",
       "      <td>d9853874</td>\n",
       "      <td>1</td>\n",
       "      <td>4.0</td>\n",
       "      <td>0</td>\n",
       "      <td>1.768722</td>\n",
       "    </tr>\n",
       "    <tr>\n",
       "      <th>7997</th>\n",
       "      <td>id_7997</td>\n",
       "      <td>Stockholm</td>\n",
       "      <td>['European', 'Swedish']</td>\n",
       "      <td>884.0</td>\n",
       "      <td>$$ - $$$</td>\n",
       "      <td>15.0</td>\n",
       "      <td>[['Eat a blues star....', 'Cool blues bar with...</td>\n",
       "      <td>/Restaurant_Review-g189852-d7092900-Reviews-Bl...</td>\n",
       "      <td>d7092900</td>\n",
       "      <td>0</td>\n",
       "      <td>0.0</td>\n",
       "      <td>0</td>\n",
       "      <td>0.855760</td>\n",
       "    </tr>\n",
       "    <tr>\n",
       "      <th>29192</th>\n",
       "      <td>id_3689</td>\n",
       "      <td>Lisbon</td>\n",
       "      <td>NaN</td>\n",
       "      <td>3694.0</td>\n",
       "      <td>NaN</td>\n",
       "      <td>3.0</td>\n",
       "      <td>[['Possibly the worst croissants of Portugal']...</td>\n",
       "      <td>/Restaurant_Review-g189158-d7355759-Reviews-Ba...</td>\n",
       "      <td>d7355759</td>\n",
       "      <td>1</td>\n",
       "      <td>1.5</td>\n",
       "      <td>0</td>\n",
       "      <td>2.242866</td>\n",
       "    </tr>\n",
       "  </tbody>\n",
       "</table>\n",
       "</div>"
      ],
      "text/plain": [
       "      Restaurant_id       City  \\\n",
       "37437       id_3934  Barcelona   \n",
       "25770        id_205     Prague   \n",
       "11599       id_3205     Prague   \n",
       "7997        id_7997  Stockholm   \n",
       "29192       id_3689     Lisbon   \n",
       "\n",
       "                                           Cuisine Style  Ranking Price Range  \\\n",
       "37437                                                NaN   3935.0         NaN   \n",
       "25770  ['Bar', 'European', 'Pub', 'Czech', 'Central E...    206.0    $$ - $$$   \n",
       "11599                                                NaN   3212.0         NaN   \n",
       "7997                             ['European', 'Swedish']    884.0    $$ - $$$   \n",
       "29192                                                NaN   3694.0         NaN   \n",
       "\n",
       "       Number of Reviews                                            Reviews  \\\n",
       "37437               23.0                                           [[], []]   \n",
       "25770              442.0  [['Best meal in Prague', 'Great athmosphere'],...   \n",
       "11599                6.0  [['Very nice, especially after a good workout'...   \n",
       "7997                15.0  [['Eat a blues star....', 'Cool blues bar with...   \n",
       "29192                3.0  [['Possibly the worst croissants of Portugal']...   \n",
       "\n",
       "                                                  URL_TA     ID_TA  sample  \\\n",
       "37437  /Restaurant_Review-g187497-d7736770-Reviews-Re...  d7736770       1   \n",
       "25770  /Restaurant_Review-g274707-d1896019-Reviews-Ku...  d1896019       1   \n",
       "11599  /Restaurant_Review-g274707-d9853874-Reviews-No...  d9853874       1   \n",
       "7997   /Restaurant_Review-g189852-d7092900-Reviews-Bl...  d7092900       0   \n",
       "29192  /Restaurant_Review-g189158-d7355759-Reviews-Ba...  d7355759       1   \n",
       "\n",
       "       Rating  Number_of_Reviews_isNAN  newRanking  \n",
       "37437     4.0                        0    1.159057  \n",
       "25770     4.5                        0    0.113436  \n",
       "11599     4.0                        0    1.768722  \n",
       "7997      0.0                        0    0.855760  \n",
       "29192     1.5                        0    2.242866  "
      ]
     },
     "execution_count": 211,
     "metadata": {},
     "output_type": "execute_result"
    }
   ],
   "source": [
    "#создать универсальный признак, адекватно сопоставимый для любого города\n",
    "data['newRanking']=data.apply(lambda x: x['Ranking'] / df_look.loc[x.City]['count'],axis=1)\n",
    "#df_look.loc['Ljubljana']['count']\n",
    "data.sample(5)"
   ]
  },
  {
   "cell_type": "code",
   "execution_count": 212,
   "metadata": {
    "execution": {
     "iopub.execute_input": "2021-09-08T16:43:20.612115Z",
     "iopub.status.busy": "2021-09-08T16:43:20.611782Z",
     "iopub.status.idle": "2021-09-08T16:43:20.647401Z",
     "shell.execute_reply": "2021-09-08T16:43:20.646234Z",
     "shell.execute_reply.started": "2021-09-08T16:43:20.612057Z"
    }
   },
   "outputs": [],
   "source": [
    "# для One-Hot Encoding в pandas есть готовая функция - get_dummies. Особенно радует параметр dummy_na\n",
    "data = pd.get_dummies(data, columns=[ 'City',], dummy_na=True)"
   ]
  },
  {
   "cell_type": "code",
   "execution_count": 213,
   "metadata": {
    "execution": {
     "iopub.execute_input": "2021-09-08T16:43:20.686184Z",
     "iopub.status.busy": "2021-09-08T16:43:20.685917Z",
     "iopub.status.idle": "2021-09-08T16:43:20.733044Z",
     "shell.execute_reply": "2021-09-08T16:43:20.731822Z",
     "shell.execute_reply.started": "2021-09-08T16:43:20.686147Z"
    }
   },
   "outputs": [
    {
     "data": {
      "text/html": [
       "<div>\n",
       "<style scoped>\n",
       "    .dataframe tbody tr th:only-of-type {\n",
       "        vertical-align: middle;\n",
       "    }\n",
       "\n",
       "    .dataframe tbody tr th {\n",
       "        vertical-align: top;\n",
       "    }\n",
       "\n",
       "    .dataframe thead th {\n",
       "        text-align: right;\n",
       "    }\n",
       "</style>\n",
       "<table border=\"1\" class=\"dataframe\">\n",
       "  <thead>\n",
       "    <tr style=\"text-align: right;\">\n",
       "      <th></th>\n",
       "      <th>Restaurant_id</th>\n",
       "      <th>Cuisine Style</th>\n",
       "      <th>Ranking</th>\n",
       "      <th>Price Range</th>\n",
       "      <th>Number of Reviews</th>\n",
       "      <th>Reviews</th>\n",
       "      <th>URL_TA</th>\n",
       "      <th>ID_TA</th>\n",
       "      <th>sample</th>\n",
       "      <th>Rating</th>\n",
       "      <th>...</th>\n",
       "      <th>City_Oporto</th>\n",
       "      <th>City_Oslo</th>\n",
       "      <th>City_Paris</th>\n",
       "      <th>City_Prague</th>\n",
       "      <th>City_Rome</th>\n",
       "      <th>City_Stockholm</th>\n",
       "      <th>City_Vienna</th>\n",
       "      <th>City_Warsaw</th>\n",
       "      <th>City_Zurich</th>\n",
       "      <th>City_nan</th>\n",
       "    </tr>\n",
       "  </thead>\n",
       "  <tbody>\n",
       "    <tr>\n",
       "      <th>24452</th>\n",
       "      <td>id_13730</td>\n",
       "      <td>NaN</td>\n",
       "      <td>13740.0</td>\n",
       "      <td>NaN</td>\n",
       "      <td>9.0</td>\n",
       "      <td>[['Great food great service', 'Health hazard?'...</td>\n",
       "      <td>/Restaurant_Review-g186338-d5122091-Reviews-Ra...</td>\n",
       "      <td>d5122091</td>\n",
       "      <td>1</td>\n",
       "      <td>3.5</td>\n",
       "      <td>...</td>\n",
       "      <td>0</td>\n",
       "      <td>0</td>\n",
       "      <td>0</td>\n",
       "      <td>0</td>\n",
       "      <td>0</td>\n",
       "      <td>0</td>\n",
       "      <td>0</td>\n",
       "      <td>0</td>\n",
       "      <td>0</td>\n",
       "      <td>0</td>\n",
       "    </tr>\n",
       "    <tr>\n",
       "      <th>46968</th>\n",
       "      <td>id_12296</td>\n",
       "      <td>['Cafe', 'European', 'Cuban', 'Halal']</td>\n",
       "      <td>12306.0</td>\n",
       "      <td>NaN</td>\n",
       "      <td>4.0</td>\n",
       "      <td>[['JJ', '***Highly Recommend***'], ['06/26/201...</td>\n",
       "      <td>/Restaurant_Review-g186338-d7320838-Reviews-Le...</td>\n",
       "      <td>d7320838</td>\n",
       "      <td>1</td>\n",
       "      <td>5.0</td>\n",
       "      <td>...</td>\n",
       "      <td>0</td>\n",
       "      <td>0</td>\n",
       "      <td>0</td>\n",
       "      <td>0</td>\n",
       "      <td>0</td>\n",
       "      <td>0</td>\n",
       "      <td>0</td>\n",
       "      <td>0</td>\n",
       "      <td>0</td>\n",
       "      <td>0</td>\n",
       "    </tr>\n",
       "    <tr>\n",
       "      <th>18104</th>\n",
       "      <td>id_1758</td>\n",
       "      <td>NaN</td>\n",
       "      <td>1763.0</td>\n",
       "      <td>NaN</td>\n",
       "      <td>3.0</td>\n",
       "      <td>[['Good coffee, great wifi, comfortable chair....</td>\n",
       "      <td>/Restaurant_Review-g189541-d12685743-Reviews-M...</td>\n",
       "      <td>d12685743</td>\n",
       "      <td>1</td>\n",
       "      <td>3.0</td>\n",
       "      <td>...</td>\n",
       "      <td>0</td>\n",
       "      <td>0</td>\n",
       "      <td>0</td>\n",
       "      <td>0</td>\n",
       "      <td>0</td>\n",
       "      <td>0</td>\n",
       "      <td>0</td>\n",
       "      <td>0</td>\n",
       "      <td>0</td>\n",
       "      <td>0</td>\n",
       "    </tr>\n",
       "    <tr>\n",
       "      <th>13818</th>\n",
       "      <td>id_1222</td>\n",
       "      <td>NaN</td>\n",
       "      <td>1228.0</td>\n",
       "      <td>NaN</td>\n",
       "      <td>2.0</td>\n",
       "      <td>[[], []]</td>\n",
       "      <td>/Restaurant_Review-g1096098-d4844339-Reviews-L...</td>\n",
       "      <td>d4844339</td>\n",
       "      <td>1</td>\n",
       "      <td>3.5</td>\n",
       "      <td>...</td>\n",
       "      <td>0</td>\n",
       "      <td>0</td>\n",
       "      <td>0</td>\n",
       "      <td>0</td>\n",
       "      <td>0</td>\n",
       "      <td>0</td>\n",
       "      <td>0</td>\n",
       "      <td>0</td>\n",
       "      <td>0</td>\n",
       "      <td>0</td>\n",
       "    </tr>\n",
       "    <tr>\n",
       "      <th>35718</th>\n",
       "      <td>id_10849</td>\n",
       "      <td>['Moroccan', 'Mediterranean']</td>\n",
       "      <td>10851.0</td>\n",
       "      <td>NaN</td>\n",
       "      <td>4.0</td>\n",
       "      <td>[[], []]</td>\n",
       "      <td>/Restaurant_Review-g187147-d3642353-Reviews-P_...</td>\n",
       "      <td>d3642353</td>\n",
       "      <td>1</td>\n",
       "      <td>4.0</td>\n",
       "      <td>...</td>\n",
       "      <td>0</td>\n",
       "      <td>0</td>\n",
       "      <td>1</td>\n",
       "      <td>0</td>\n",
       "      <td>0</td>\n",
       "      <td>0</td>\n",
       "      <td>0</td>\n",
       "      <td>0</td>\n",
       "      <td>0</td>\n",
       "      <td>0</td>\n",
       "    </tr>\n",
       "  </tbody>\n",
       "</table>\n",
       "<p>5 rows × 44 columns</p>\n",
       "</div>"
      ],
      "text/plain": [
       "      Restaurant_id                           Cuisine Style  Ranking  \\\n",
       "24452      id_13730                                     NaN  13740.0   \n",
       "46968      id_12296  ['Cafe', 'European', 'Cuban', 'Halal']  12306.0   \n",
       "18104       id_1758                                     NaN   1763.0   \n",
       "13818       id_1222                                     NaN   1228.0   \n",
       "35718      id_10849           ['Moroccan', 'Mediterranean']  10851.0   \n",
       "\n",
       "      Price Range  Number of Reviews  \\\n",
       "24452         NaN                9.0   \n",
       "46968         NaN                4.0   \n",
       "18104         NaN                3.0   \n",
       "13818         NaN                2.0   \n",
       "35718         NaN                4.0   \n",
       "\n",
       "                                                 Reviews  \\\n",
       "24452  [['Great food great service', 'Health hazard?'...   \n",
       "46968  [['JJ', '***Highly Recommend***'], ['06/26/201...   \n",
       "18104  [['Good coffee, great wifi, comfortable chair....   \n",
       "13818                                           [[], []]   \n",
       "35718                                           [[], []]   \n",
       "\n",
       "                                                  URL_TA      ID_TA  sample  \\\n",
       "24452  /Restaurant_Review-g186338-d5122091-Reviews-Ra...   d5122091       1   \n",
       "46968  /Restaurant_Review-g186338-d7320838-Reviews-Le...   d7320838       1   \n",
       "18104  /Restaurant_Review-g189541-d12685743-Reviews-M...  d12685743       1   \n",
       "13818  /Restaurant_Review-g1096098-d4844339-Reviews-L...   d4844339       1   \n",
       "35718  /Restaurant_Review-g187147-d3642353-Reviews-P_...   d3642353       1   \n",
       "\n",
       "       Rating  ...  City_Oporto  City_Oslo  City_Paris  City_Prague  \\\n",
       "24452     3.5  ...            0          0           0            0   \n",
       "46968     5.0  ...            0          0           0            0   \n",
       "18104     3.0  ...            0          0           0            0   \n",
       "13818     3.5  ...            0          0           0            0   \n",
       "35718     4.0  ...            0          0           1            0   \n",
       "\n",
       "       City_Rome  City_Stockholm  City_Vienna  City_Warsaw  City_Zurich  \\\n",
       "24452          0               0            0            0            0   \n",
       "46968          0               0            0            0            0   \n",
       "18104          0               0            0            0            0   \n",
       "13818          0               0            0            0            0   \n",
       "35718          0               0            0            0            0   \n",
       "\n",
       "       City_nan  \n",
       "24452         0  \n",
       "46968         0  \n",
       "18104         0  \n",
       "13818         0  \n",
       "35718         0  \n",
       "\n",
       "[5 rows x 44 columns]"
      ]
     },
     "execution_count": 213,
     "metadata": {},
     "output_type": "execute_result"
    }
   ],
   "source": [
    "data.sample(5)"
   ]
  },
  {
   "cell_type": "markdown",
   "metadata": {},
   "source": [
    "#### Возьмем следующий признак \"Price Range\"."
   ]
  },
  {
   "cell_type": "code",
   "execution_count": 214,
   "metadata": {
    "execution": {
     "iopub.execute_input": "2021-09-08T16:43:20.734901Z",
     "iopub.status.busy": "2021-09-08T16:43:20.734614Z",
     "iopub.status.idle": "2021-09-08T16:43:20.755117Z",
     "shell.execute_reply": "2021-09-08T16:43:20.753934Z",
     "shell.execute_reply.started": "2021-09-08T16:43:20.734854Z"
    }
   },
   "outputs": [
    {
     "data": {
      "text/plain": [
       "['$$ - $$$', nan, '$', '$$$$']"
      ]
     },
     "execution_count": 214,
     "metadata": {},
     "output_type": "execute_result"
    }
   ],
   "source": [
    "pr=data['Price Range'].value_counts(dropna=False).index.tolist()\n",
    "pr\n"
   ]
  },
  {
   "cell_type": "markdown",
   "metadata": {},
   "source": [
    "\n",
    "По описанию 'Price Range' это - Цены в ресторане.  \n",
    "Их можно поставить по возрастанию (значит это не категориальный признак). А это значит, что их можно заменить последовательными числами, например 1,2,3  \n",
    "*Попробуйте сделать обработку этого признака уже самостоятельно!*"
   ]
  },
  {
   "cell_type": "code",
   "execution_count": 215,
   "metadata": {
    "execution": {
     "iopub.execute_input": "2021-09-08T16:43:20.757333Z",
     "iopub.status.busy": "2021-09-08T16:43:20.757022Z",
     "iopub.status.idle": "2021-09-08T16:43:20.857110Z",
     "shell.execute_reply": "2021-09-08T16:43:20.856340Z",
     "shell.execute_reply.started": "2021-09-08T16:43:20.757277Z"
    }
   },
   "outputs": [
    {
     "data": {
      "text/html": [
       "<div>\n",
       "<style scoped>\n",
       "    .dataframe tbody tr th:only-of-type {\n",
       "        vertical-align: middle;\n",
       "    }\n",
       "\n",
       "    .dataframe tbody tr th {\n",
       "        vertical-align: top;\n",
       "    }\n",
       "\n",
       "    .dataframe thead th {\n",
       "        text-align: right;\n",
       "    }\n",
       "</style>\n",
       "<table border=\"1\" class=\"dataframe\">\n",
       "  <thead>\n",
       "    <tr style=\"text-align: right;\">\n",
       "      <th></th>\n",
       "      <th>Restaurant_id</th>\n",
       "      <th>Cuisine Style</th>\n",
       "      <th>Ranking</th>\n",
       "      <th>Price Range</th>\n",
       "      <th>Number of Reviews</th>\n",
       "      <th>Reviews</th>\n",
       "      <th>URL_TA</th>\n",
       "      <th>ID_TA</th>\n",
       "      <th>sample</th>\n",
       "      <th>Rating</th>\n",
       "      <th>...</th>\n",
       "      <th>City_Oporto</th>\n",
       "      <th>City_Oslo</th>\n",
       "      <th>City_Paris</th>\n",
       "      <th>City_Prague</th>\n",
       "      <th>City_Rome</th>\n",
       "      <th>City_Stockholm</th>\n",
       "      <th>City_Vienna</th>\n",
       "      <th>City_Warsaw</th>\n",
       "      <th>City_Zurich</th>\n",
       "      <th>City_nan</th>\n",
       "    </tr>\n",
       "  </thead>\n",
       "  <tbody>\n",
       "    <tr>\n",
       "      <th>32605</th>\n",
       "      <td>id_6773</td>\n",
       "      <td>NaN</td>\n",
       "      <td>6774.0</td>\n",
       "      <td>-1</td>\n",
       "      <td>25.000000</td>\n",
       "      <td>[['Passing by', 'The worst food in Barcelona']...</td>\n",
       "      <td>/Restaurant_Review-g187497-d3870549-Reviews-Gr...</td>\n",
       "      <td>d3870549</td>\n",
       "      <td>1</td>\n",
       "      <td>3.5</td>\n",
       "      <td>...</td>\n",
       "      <td>0</td>\n",
       "      <td>0</td>\n",
       "      <td>0</td>\n",
       "      <td>0</td>\n",
       "      <td>0</td>\n",
       "      <td>0</td>\n",
       "      <td>0</td>\n",
       "      <td>0</td>\n",
       "      <td>0</td>\n",
       "      <td>0</td>\n",
       "    </tr>\n",
       "    <tr>\n",
       "      <th>6780</th>\n",
       "      <td>id_6780</td>\n",
       "      <td>NaN</td>\n",
       "      <td>3636.0</td>\n",
       "      <td>-1</td>\n",
       "      <td>119.214936</td>\n",
       "      <td>[[\"Lisboa at it's best\"], ['01/15/2013']]</td>\n",
       "      <td>/Restaurant_Review-g189158-d3648655-Reviews-St...</td>\n",
       "      <td>d3648655</td>\n",
       "      <td>0</td>\n",
       "      <td>0.0</td>\n",
       "      <td>...</td>\n",
       "      <td>0</td>\n",
       "      <td>0</td>\n",
       "      <td>0</td>\n",
       "      <td>0</td>\n",
       "      <td>0</td>\n",
       "      <td>0</td>\n",
       "      <td>0</td>\n",
       "      <td>0</td>\n",
       "      <td>0</td>\n",
       "      <td>0</td>\n",
       "    </tr>\n",
       "    <tr>\n",
       "      <th>25503</th>\n",
       "      <td>id_2671</td>\n",
       "      <td>NaN</td>\n",
       "      <td>2673.0</td>\n",
       "      <td>-1</td>\n",
       "      <td>73.949411</td>\n",
       "      <td>[[], []]</td>\n",
       "      <td>/Restaurant_Review-g190454-d12900993-Reviews-C...</td>\n",
       "      <td>d12900993</td>\n",
       "      <td>1</td>\n",
       "      <td>4.0</td>\n",
       "      <td>...</td>\n",
       "      <td>0</td>\n",
       "      <td>0</td>\n",
       "      <td>0</td>\n",
       "      <td>0</td>\n",
       "      <td>0</td>\n",
       "      <td>0</td>\n",
       "      <td>1</td>\n",
       "      <td>0</td>\n",
       "      <td>0</td>\n",
       "      <td>0</td>\n",
       "    </tr>\n",
       "    <tr>\n",
       "      <th>27361</th>\n",
       "      <td>id_9942</td>\n",
       "      <td>['French', 'Brew Pub', 'Pub', 'Wine Bar', 'Veg...</td>\n",
       "      <td>9944.0</td>\n",
       "      <td>1</td>\n",
       "      <td>77.000000</td>\n",
       "      <td>[['Superb tapas bar', 'Holidays in back'], ['0...</td>\n",
       "      <td>/Restaurant_Review-g187147-d8029814-Reviews-Ma...</td>\n",
       "      <td>d8029814</td>\n",
       "      <td>1</td>\n",
       "      <td>3.5</td>\n",
       "      <td>...</td>\n",
       "      <td>0</td>\n",
       "      <td>0</td>\n",
       "      <td>1</td>\n",
       "      <td>0</td>\n",
       "      <td>0</td>\n",
       "      <td>0</td>\n",
       "      <td>0</td>\n",
       "      <td>0</td>\n",
       "      <td>0</td>\n",
       "      <td>0</td>\n",
       "    </tr>\n",
       "    <tr>\n",
       "      <th>25003</th>\n",
       "      <td>id_611</td>\n",
       "      <td>['Italian', 'Mediterranean', 'European', 'Vege...</td>\n",
       "      <td>612.0</td>\n",
       "      <td>1</td>\n",
       "      <td>488.000000</td>\n",
       "      <td>[['Nice place to business dinner', 'Risotto to...</td>\n",
       "      <td>/Restaurant_Review-g187849-d1081873-Reviews-Tr...</td>\n",
       "      <td>d1081873</td>\n",
       "      <td>1</td>\n",
       "      <td>4.0</td>\n",
       "      <td>...</td>\n",
       "      <td>0</td>\n",
       "      <td>0</td>\n",
       "      <td>0</td>\n",
       "      <td>0</td>\n",
       "      <td>0</td>\n",
       "      <td>0</td>\n",
       "      <td>0</td>\n",
       "      <td>0</td>\n",
       "      <td>0</td>\n",
       "      <td>0</td>\n",
       "    </tr>\n",
       "  </tbody>\n",
       "</table>\n",
       "<p>5 rows × 44 columns</p>\n",
       "</div>"
      ],
      "text/plain": [
       "      Restaurant_id                                      Cuisine Style  \\\n",
       "32605       id_6773                                                NaN   \n",
       "6780        id_6780                                                NaN   \n",
       "25503       id_2671                                                NaN   \n",
       "27361       id_9942  ['French', 'Brew Pub', 'Pub', 'Wine Bar', 'Veg...   \n",
       "25003        id_611  ['Italian', 'Mediterranean', 'European', 'Vege...   \n",
       "\n",
       "       Ranking  Price Range  Number of Reviews  \\\n",
       "32605   6774.0           -1          25.000000   \n",
       "6780    3636.0           -1         119.214936   \n",
       "25503   2673.0           -1          73.949411   \n",
       "27361   9944.0            1          77.000000   \n",
       "25003    612.0            1         488.000000   \n",
       "\n",
       "                                                 Reviews  \\\n",
       "32605  [['Passing by', 'The worst food in Barcelona']...   \n",
       "6780           [[\"Lisboa at it's best\"], ['01/15/2013']]   \n",
       "25503                                           [[], []]   \n",
       "27361  [['Superb tapas bar', 'Holidays in back'], ['0...   \n",
       "25003  [['Nice place to business dinner', 'Risotto to...   \n",
       "\n",
       "                                                  URL_TA      ID_TA  sample  \\\n",
       "32605  /Restaurant_Review-g187497-d3870549-Reviews-Gr...   d3870549       1   \n",
       "6780   /Restaurant_Review-g189158-d3648655-Reviews-St...   d3648655       0   \n",
       "25503  /Restaurant_Review-g190454-d12900993-Reviews-C...  d12900993       1   \n",
       "27361  /Restaurant_Review-g187147-d8029814-Reviews-Ma...   d8029814       1   \n",
       "25003  /Restaurant_Review-g187849-d1081873-Reviews-Tr...   d1081873       1   \n",
       "\n",
       "       Rating  ...  City_Oporto  City_Oslo  City_Paris  City_Prague  \\\n",
       "32605     3.5  ...            0          0           0            0   \n",
       "6780      0.0  ...            0          0           0            0   \n",
       "25503     4.0  ...            0          0           0            0   \n",
       "27361     3.5  ...            0          0           1            0   \n",
       "25003     4.0  ...            0          0           0            0   \n",
       "\n",
       "       City_Rome  City_Stockholm  City_Vienna  City_Warsaw  City_Zurich  \\\n",
       "32605          0               0            0            0            0   \n",
       "6780           0               0            0            0            0   \n",
       "25503          0               0            1            0            0   \n",
       "27361          0               0            0            0            0   \n",
       "25003          0               0            0            0            0   \n",
       "\n",
       "       City_nan  \n",
       "32605         0  \n",
       "6780          0  \n",
       "25503         0  \n",
       "27361         0  \n",
       "25003         0  \n",
       "\n",
       "[5 rows x 44 columns]"
      ]
     },
     "execution_count": 215,
     "metadata": {},
     "output_type": "execute_result"
    }
   ],
   "source": [
    "# Ваша обработка 'Price Range'\n",
    "def pr_adpt(x):\n",
    "    if str(x).startswith('$$ -'): return 1\n",
    "    if str(x).startswith('nan'): return -1\n",
    "    if x=='$': return 0\n",
    "    else: return 2\n",
    "data['Price Range']=data['Price Range'].apply(pr_adpt)\n",
    "data.sample(5)"
   ]
  },
  {
   "cell_type": "markdown",
   "metadata": {},
   "source": [
    "> Для некоторых алгоритмов МЛ даже для не категориальных признаков можно применить One-Hot Encoding, и это может улучшить качество модели. Пробуйте разные подходы к кодированию признака - никто не знает заранее, что может взлететь."
   ]
  },
  {
   "cell_type": "markdown",
   "metadata": {},
   "source": [
    "### Обработать другие признаки вы должны самостоятельно!\n",
    "Для обработки других признаков вам возможно придется даже написать свою функцию, а может даже и не одну, но в этом и есть ваша практика в этом модуле!     \n",
    "Следуя подсказкам в модуле вы сможете более подробно узнать, как сделать эти приобразования."
   ]
  },
  {
   "cell_type": "code",
   "execution_count": 216,
   "metadata": {
    "execution": {
     "iopub.execute_input": "2021-09-08T16:43:20.858920Z",
     "iopub.status.busy": "2021-09-08T16:43:20.858427Z",
     "iopub.status.idle": "2021-09-08T16:43:20.861809Z",
     "shell.execute_reply": "2021-09-08T16:43:20.861056Z",
     "shell.execute_reply.started": "2021-09-08T16:43:20.858859Z"
    }
   },
   "outputs": [
    {
     "data": {
      "text/plain": [
       "28399    1.039622\n",
       "9299     1.906020\n",
       "45122    1.622449\n",
       "34535    0.700957\n",
       "42716    0.098968\n",
       "Name: newRanking, dtype: float64"
      ]
     },
     "execution_count": 216,
     "metadata": {},
     "output_type": "execute_result"
    }
   ],
   "source": [
    "# тут ваш код на обработку других признаков\n",
    "# .....\n",
    "data['newRanking'].sample(5)"
   ]
  },
  {
   "cell_type": "code",
   "execution_count": 217,
   "metadata": {
    "execution": {
     "iopub.execute_input": "2021-09-08T16:43:20.863470Z",
     "iopub.status.busy": "2021-09-08T16:43:20.863072Z",
     "iopub.status.idle": "2021-09-08T16:44:09.876981Z",
     "shell.execute_reply": "2021-09-08T16:44:09.876114Z",
     "shell.execute_reply.started": "2021-09-08T16:43:20.863431Z"
    }
   },
   "outputs": [
    {
     "name": "stdout",
     "output_type": "stream",
     "text": [
      "Counter({\"'Vegetarian Friendly'\": 14021, \"'European'\": 12561, 'kuh1': 11590, \"'Mediterranean'\": 7820, \"'Italian'\": 7433, \"'Vegan Options'\": 5684, \"'Gluten Free Options'\": 5185, \"'Bar'\": 4094, \"'French'\": 3970, \"'Asian'\": 3786, \"'Pizza'\": 3502, \"'Spanish'\": 3456, \"'Pub'\": 3058, \"'Cafe'\": 2883, \"'Fast Food'\": 2122, \"'British'\": 1992, \"'International'\": 1966, \"'Seafood'\": 1878, \"'Japanese'\": 1860, \"'Central European'\": 1727, \"'American'\": 1642, \"'Sushi'\": 1450, \"'Chinese'\": 1446, \"'Portuguese'\": 1385, \"'Indian'\": 1328, \"'Middle Eastern'\": 980, \"'Thai'\": 923, \"'Wine Bar'\": 877, \"'German'\": 820, \"'Halal'\": 773, \"'Greek'\": 768, \"'Healthy'\": 758, \"'Fusion'\": 748, \"'Czech'\": 745, \"'Steakhouse'\": 729, \"'Barbecue'\": 710, \"'Contemporary'\": 652, \"'Soups'\": 630, \"'Eastern European'\": 629, \"'Vietnamese'\": 622, \"'Grill'\": 617, \"'Gastropub'\": 608, \"'Turkish'\": 574, \"'Mexican'\": 572, \"'South American'\": 490, \"'Delicatessen'\": 473, \"'Austrian'\": 462, \"'Polish'\": 453, \"'Scandinavian'\": 449, \"'Hungarian'\": 444, \"'Lebanese'\": 397, \"'Diner'\": 375, \"'Latin'\": 373, \"'Dutch'\": 368, \"'Irish'\": 352, \"'Street Food'\": 336, \"'Belgian'\": 335, \"'Brew Pub'\": 299, \"'Danish'\": 225, \"'Swiss'\": 223, \"'Swedish'\": 223, \"'Argentinean'\": 214, \"'Korean'\": 206, \"'Scottish'\": 199, \"'African'\": 193, \"'Moroccan'\": 173, \"'Central American'\": 168, \"'Brazilian'\": 152, \"'Pakistani'\": 140, \"'Peruvian'\": 130, \"'Caribbean'\": 124, \"'Nepali'\": 121, \"'Balti'\": 104, \"'Bangladeshi'\": 100, \"'Norwegian'\": 96, \"'Israeli'\": 90, \"'Slovenian'\": 85, \"'Persian'\": 77, \"'Indonesian'\": 71, \"'Russian'\": 66, \"'Arabic'\": 58, \"'Kosher'\": 56, \"'Ethiopian'\": 51, \"'Venezuelan'\": 51, \"'Malaysian'\": 38, \"'Australian'\": 36, \"'Jamaican'\": 36, \"'Croatian'\": 33, \"'Cuban'\": 32, \"'Colombian'\": 30, \"'Sri Lankan'\": 30, \"'Taiwanese'\": 30, \"'Tibetan'\": 29, \"'Afghani'\": 27, \"'Cajun & Creole'\": 27, \"'Southwestern'\": 24, \"'Egyptian'\": 24, \"'Tunisian'\": 23, \"'Hawaiian'\": 23, \"'Cambodian'\": 22, \"'Singaporean'\": 21, \"'Mongolian'\": 20, \"'Ukrainian'\": 20, \"'Georgian'\": 18, \"'Armenian'\": 17, \"'Filipino'\": 17, \"'Chilean'\": 16, \"'Romanian'\": 13, \"'Minority Chinese'\": 12, \"'Central Asian'\": 12, \"'Ecuadorean'\": 8, \"'Albanian'\": 8, \"'Canadian'\": 7, \"'New Zealand'\": 7, \"'Native American'\": 5, \"'Uzbek'\": 5, \"'Caucasian'\": 4, \"'Welsh'\": 3, \"'Azerbaijani'\": 3, \"'Yunnan'\": 2, \"'Polynesian'\": 2, \"'Fujian'\": 2, \"'Salvadoran'\": 1, \"'Xinjiang'\": 1, \"'Burmese'\": 1, \"'Latvian'\": 1})\n"
     ]
    }
   ],
   "source": [
    "#работа с кухнями\n",
    "from collections import Counter\n",
    "dff=data\n",
    "#убрать квадратные скобки из столбца\n",
    "zz=dff['Cuisine Style'].str.replace('[[\\]]','',regex=True)\n",
    "#заполнить отсутствие кухонь одной условной кухней\n",
    "zz.fillna('kuh1',inplace=True)\n",
    "#убрать лишние пробелы в названиях кухонь\n",
    "dff['Cuisine Style']=zz.apply(lambda x: \",\".join(map(str.strip,x.split(','))))\n",
    "#посчитать разнообразие кухонь и частоту употребления\n",
    "ss=pd.Series(dff['Cuisine Style'].str.cat(sep=',').split(','))\n",
    "cnt=Counter(ss)\n",
    "print(cnt)"
   ]
  },
  {
   "cell_type": "code",
   "execution_count": 218,
   "metadata": {},
   "outputs": [
    {
     "data": {
      "text/html": [
       "<div>\n",
       "<style scoped>\n",
       "    .dataframe tbody tr th:only-of-type {\n",
       "        vertical-align: middle;\n",
       "    }\n",
       "\n",
       "    .dataframe tbody tr th {\n",
       "        vertical-align: top;\n",
       "    }\n",
       "\n",
       "    .dataframe thead th {\n",
       "        text-align: right;\n",
       "    }\n",
       "</style>\n",
       "<table border=\"1\" class=\"dataframe\">\n",
       "  <thead>\n",
       "    <tr style=\"text-align: right;\">\n",
       "      <th></th>\n",
       "      <th>Restaurant_id</th>\n",
       "      <th>Cuisine Style</th>\n",
       "      <th>Ranking</th>\n",
       "      <th>Price Range</th>\n",
       "      <th>Number of Reviews</th>\n",
       "      <th>Reviews</th>\n",
       "      <th>URL_TA</th>\n",
       "      <th>ID_TA</th>\n",
       "      <th>sample</th>\n",
       "      <th>Rating</th>\n",
       "      <th>...</th>\n",
       "      <th>City_Paris</th>\n",
       "      <th>City_Prague</th>\n",
       "      <th>City_Rome</th>\n",
       "      <th>City_Stockholm</th>\n",
       "      <th>City_Vienna</th>\n",
       "      <th>City_Warsaw</th>\n",
       "      <th>City_Zurich</th>\n",
       "      <th>City_nan</th>\n",
       "      <th>Cuisinepopul</th>\n",
       "      <th>Cuisinecnt</th>\n",
       "    </tr>\n",
       "  </thead>\n",
       "  <tbody>\n",
       "    <tr>\n",
       "      <th>14846</th>\n",
       "      <td>id_569</td>\n",
       "      <td>'European','Danish'</td>\n",
       "      <td>570.0</td>\n",
       "      <td>1</td>\n",
       "      <td>133.0</td>\n",
       "      <td>[['Great Server', 'Restaurant with a view'], [...</td>\n",
       "      <td>/Restaurant_Review-g189541-d1136709-Reviews-Gr...</td>\n",
       "      <td>d1136709</td>\n",
       "      <td>1</td>\n",
       "      <td>3.5</td>\n",
       "      <td>...</td>\n",
       "      <td>0</td>\n",
       "      <td>0</td>\n",
       "      <td>0</td>\n",
       "      <td>0</td>\n",
       "      <td>0</td>\n",
       "      <td>0</td>\n",
       "      <td>0</td>\n",
       "      <td>0</td>\n",
       "      <td>12786</td>\n",
       "      <td>2</td>\n",
       "    </tr>\n",
       "    <tr>\n",
       "      <th>8742</th>\n",
       "      <td>id_8742</td>\n",
       "      <td>'Cafe'</td>\n",
       "      <td>828.0</td>\n",
       "      <td>1</td>\n",
       "      <td>20.0</td>\n",
       "      <td>[['One of the best tea moments ever', 'Best te...</td>\n",
       "      <td>/Restaurant_Review-g189541-d787859-Reviews-Sin...</td>\n",
       "      <td>d787859</td>\n",
       "      <td>0</td>\n",
       "      <td>0.0</td>\n",
       "      <td>...</td>\n",
       "      <td>0</td>\n",
       "      <td>0</td>\n",
       "      <td>0</td>\n",
       "      <td>0</td>\n",
       "      <td>0</td>\n",
       "      <td>0</td>\n",
       "      <td>0</td>\n",
       "      <td>0</td>\n",
       "      <td>2883</td>\n",
       "      <td>1</td>\n",
       "    </tr>\n",
       "    <tr>\n",
       "      <th>20040</th>\n",
       "      <td>id_1951</td>\n",
       "      <td>'Japanese','Sushi','Vegetarian Friendly'</td>\n",
       "      <td>1952.0</td>\n",
       "      <td>2</td>\n",
       "      <td>47.0</td>\n",
       "      <td>[['Great food and great services', 'Really goo...</td>\n",
       "      <td>/Restaurant_Review-g187791-d12538210-Reviews-I...</td>\n",
       "      <td>d12538210</td>\n",
       "      <td>1</td>\n",
       "      <td>4.5</td>\n",
       "      <td>...</td>\n",
       "      <td>0</td>\n",
       "      <td>0</td>\n",
       "      <td>1</td>\n",
       "      <td>0</td>\n",
       "      <td>0</td>\n",
       "      <td>0</td>\n",
       "      <td>0</td>\n",
       "      <td>0</td>\n",
       "      <td>17331</td>\n",
       "      <td>3</td>\n",
       "    </tr>\n",
       "    <tr>\n",
       "      <th>48422</th>\n",
       "      <td>id_969</td>\n",
       "      <td>'Peruvian','Latin','South American','Vegetaria...</td>\n",
       "      <td>970.0</td>\n",
       "      <td>1</td>\n",
       "      <td>542.0</td>\n",
       "      <td>[['Good value for money in Peruvian food', 'A ...</td>\n",
       "      <td>/Restaurant_Review-g187514-d1900739-Reviews-Re...</td>\n",
       "      <td>d1900739</td>\n",
       "      <td>1</td>\n",
       "      <td>3.5</td>\n",
       "      <td>...</td>\n",
       "      <td>0</td>\n",
       "      <td>0</td>\n",
       "      <td>0</td>\n",
       "      <td>0</td>\n",
       "      <td>0</td>\n",
       "      <td>0</td>\n",
       "      <td>0</td>\n",
       "      <td>0</td>\n",
       "      <td>20199</td>\n",
       "      <td>5</td>\n",
       "    </tr>\n",
       "    <tr>\n",
       "      <th>30129</th>\n",
       "      <td>id_4388</td>\n",
       "      <td>'French','Cafe','European','Vegetarian Friendly'</td>\n",
       "      <td>4389.0</td>\n",
       "      <td>-1</td>\n",
       "      <td>93.0</td>\n",
       "      <td>[['Make sure you order only what you need', 'E...</td>\n",
       "      <td>/Restaurant_Review-g187147-d3809033-Reviews-Le...</td>\n",
       "      <td>d3809033</td>\n",
       "      <td>1</td>\n",
       "      <td>4.0</td>\n",
       "      <td>...</td>\n",
       "      <td>1</td>\n",
       "      <td>0</td>\n",
       "      <td>0</td>\n",
       "      <td>0</td>\n",
       "      <td>0</td>\n",
       "      <td>0</td>\n",
       "      <td>0</td>\n",
       "      <td>0</td>\n",
       "      <td>33435</td>\n",
       "      <td>4</td>\n",
       "    </tr>\n",
       "  </tbody>\n",
       "</table>\n",
       "<p>5 rows × 46 columns</p>\n",
       "</div>"
      ],
      "text/plain": [
       "      Restaurant_id                                      Cuisine Style  \\\n",
       "14846        id_569                                'European','Danish'   \n",
       "8742        id_8742                                             'Cafe'   \n",
       "20040       id_1951           'Japanese','Sushi','Vegetarian Friendly'   \n",
       "48422        id_969  'Peruvian','Latin','South American','Vegetaria...   \n",
       "30129       id_4388   'French','Cafe','European','Vegetarian Friendly'   \n",
       "\n",
       "       Ranking  Price Range  Number of Reviews  \\\n",
       "14846    570.0            1              133.0   \n",
       "8742     828.0            1               20.0   \n",
       "20040   1952.0            2               47.0   \n",
       "48422    970.0            1              542.0   \n",
       "30129   4389.0           -1               93.0   \n",
       "\n",
       "                                                 Reviews  \\\n",
       "14846  [['Great Server', 'Restaurant with a view'], [...   \n",
       "8742   [['One of the best tea moments ever', 'Best te...   \n",
       "20040  [['Great food and great services', 'Really goo...   \n",
       "48422  [['Good value for money in Peruvian food', 'A ...   \n",
       "30129  [['Make sure you order only what you need', 'E...   \n",
       "\n",
       "                                                  URL_TA      ID_TA  sample  \\\n",
       "14846  /Restaurant_Review-g189541-d1136709-Reviews-Gr...   d1136709       1   \n",
       "8742   /Restaurant_Review-g189541-d787859-Reviews-Sin...    d787859       0   \n",
       "20040  /Restaurant_Review-g187791-d12538210-Reviews-I...  d12538210       1   \n",
       "48422  /Restaurant_Review-g187514-d1900739-Reviews-Re...   d1900739       1   \n",
       "30129  /Restaurant_Review-g187147-d3809033-Reviews-Le...   d3809033       1   \n",
       "\n",
       "       Rating  ...  City_Paris  City_Prague  City_Rome  City_Stockholm  \\\n",
       "14846     3.5  ...           0            0          0               0   \n",
       "8742      0.0  ...           0            0          0               0   \n",
       "20040     4.5  ...           0            0          1               0   \n",
       "48422     3.5  ...           0            0          0               0   \n",
       "30129     4.0  ...           1            0          0               0   \n",
       "\n",
       "       City_Vienna  City_Warsaw  City_Zurich  City_nan  Cuisinepopul  \\\n",
       "14846            0            0            0         0         12786   \n",
       "8742             0            0            0         0          2883   \n",
       "20040            0            0            0         0         17331   \n",
       "48422            0            0            0         0         20199   \n",
       "30129            0            0            0         0         33435   \n",
       "\n",
       "       Cuisinecnt  \n",
       "14846           2  \n",
       "8742            1  \n",
       "20040           3  \n",
       "48422           5  \n",
       "30129           4  \n",
       "\n",
       "[5 rows x 46 columns]"
      ]
     },
     "execution_count": 218,
     "metadata": {},
     "output_type": "execute_result"
    }
   ],
   "source": [
    "def calcpopular(x):\n",
    "    sumcuspop=0\n",
    "    cntcus=0\n",
    "    for i in cnt.keys(): #сложить \"популярность\"(насколько часто кухня практикуется во всех ресторанах) кухонь, присутствующих в ресторане\n",
    "        if i in x:\n",
    "            sumcuspop+=cnt[i]\n",
    "            cntcus+=1\n",
    "\n",
    "    return pd.DataFrame(list(zip([sumcuspop],[cntcus])),columns =['R1', 'R2']).iloc[0]\n",
    "#из предположения о популярности кухни  по количеству ее присутствия в ресторанах добавить свойство популярности Cuisinepopul\n",
    "#а так же добавить свойство разнообразия Cuisinecnt - равное количеству разных кухонь\n",
    "data[['Cuisinepopul','Cuisinecnt']]=dff['Cuisine Style'].apply(calcpopular)\n",
    "data.sample(5)"
   ]
  },
  {
   "cell_type": "code",
   "execution_count": 219,
   "metadata": {
    "execution": {
     "iopub.execute_input": "2021-09-08T16:44:09.890543Z",
     "iopub.status.busy": "2021-09-08T16:44:09.890162Z",
     "iopub.status.idle": "2021-09-08T16:46:39.210916Z",
     "shell.execute_reply": "2021-09-08T16:46:39.209890Z",
     "shell.execute_reply.started": "2021-09-08T16:44:09.890476Z"
    }
   },
   "outputs": [
    {
     "name": "stderr",
     "output_type": "stream",
     "text": [
      "C:\\Users\\vsevolod.volkov\\anaconda3\\lib\\site-packages\\numpy\\core\\_asarray.py:83: VisibleDeprecationWarning: Creating an ndarray from ragged nested sequences (which is a list-or-tuple of lists-or-tuples-or ndarrays with different lengths or shapes) is deprecated. If you meant to do this, you must specify 'dtype=object' when creating the ndarray\n",
      "  return array(a, dtype, copy=False, order=order)\n"
     ]
    },
    {
     "data": {
      "text/html": [
       "<div>\n",
       "<style scoped>\n",
       "    .dataframe tbody tr th:only-of-type {\n",
       "        vertical-align: middle;\n",
       "    }\n",
       "\n",
       "    .dataframe tbody tr th {\n",
       "        vertical-align: top;\n",
       "    }\n",
       "\n",
       "    .dataframe thead th {\n",
       "        text-align: right;\n",
       "    }\n",
       "</style>\n",
       "<table border=\"1\" class=\"dataframe\">\n",
       "  <thead>\n",
       "    <tr style=\"text-align: right;\">\n",
       "      <th></th>\n",
       "      <th>Restaurant_id</th>\n",
       "      <th>Cuisine Style</th>\n",
       "      <th>Ranking</th>\n",
       "      <th>Price Range</th>\n",
       "      <th>Number of Reviews</th>\n",
       "      <th>Reviews</th>\n",
       "      <th>URL_TA</th>\n",
       "      <th>ID_TA</th>\n",
       "      <th>sample</th>\n",
       "      <th>Rating</th>\n",
       "      <th>...</th>\n",
       "      <th>City_Warsaw</th>\n",
       "      <th>City_Zurich</th>\n",
       "      <th>City_nan</th>\n",
       "      <th>Cuisinepopul</th>\n",
       "      <th>Cuisinecnt</th>\n",
       "      <th>RevF</th>\n",
       "      <th>RevL</th>\n",
       "      <th>revcolor</th>\n",
       "      <th>difffirstlastrev</th>\n",
       "      <th>difflast</th>\n",
       "    </tr>\n",
       "  </thead>\n",
       "  <tbody>\n",
       "    <tr>\n",
       "      <th>19813</th>\n",
       "      <td>id_1702</td>\n",
       "      <td>'Street Food','Mexican','Vegetarian Friendly',...</td>\n",
       "      <td>1705.0</td>\n",
       "      <td>1</td>\n",
       "      <td>254.0</td>\n",
       "      <td>[['Great mexican food with welcoming staff.', ...</td>\n",
       "      <td>/Restaurant_Review-g186338-d6774552-Reviews-Wa...</td>\n",
       "      <td>d6774552</td>\n",
       "      <td>1</td>\n",
       "      <td>4.0</td>\n",
       "      <td>...</td>\n",
       "      <td>0</td>\n",
       "      <td>0</td>\n",
       "      <td>0</td>\n",
       "      <td>20114</td>\n",
       "      <td>4</td>\n",
       "      <td>2017-12-21</td>\n",
       "      <td>2018-01-08</td>\n",
       "      <td>2</td>\n",
       "      <td>18</td>\n",
       "      <td>49</td>\n",
       "    </tr>\n",
       "    <tr>\n",
       "      <th>3184</th>\n",
       "      <td>id_3184</td>\n",
       "      <td>'Italian','Pizza','Seafood','Mediterranean','B...</td>\n",
       "      <td>774.0</td>\n",
       "      <td>1</td>\n",
       "      <td>893.0</td>\n",
       "      <td>[['Waterfront experience', 'Excellent location...</td>\n",
       "      <td>/Restaurant_Review-g187791-d1641052-Reviews-Cu...</td>\n",
       "      <td>d1641052</td>\n",
       "      <td>0</td>\n",
       "      <td>0.0</td>\n",
       "      <td>...</td>\n",
       "      <td>0</td>\n",
       "      <td>0</td>\n",
       "      <td>0</td>\n",
       "      <td>58794</td>\n",
       "      <td>9</td>\n",
       "      <td>2017-07-17</td>\n",
       "      <td>2018-01-04</td>\n",
       "      <td>0</td>\n",
       "      <td>171</td>\n",
       "      <td>53</td>\n",
       "    </tr>\n",
       "    <tr>\n",
       "      <th>17642</th>\n",
       "      <td>id_2130</td>\n",
       "      <td>'Indian'</td>\n",
       "      <td>2132.0</td>\n",
       "      <td>1</td>\n",
       "      <td>3.0</td>\n",
       "      <td>[['closed!', 'I wanted to go to this restauran...</td>\n",
       "      <td>/Restaurant_Review-g274856-d697141-Reviews-Pus...</td>\n",
       "      <td>d697141</td>\n",
       "      <td>1</td>\n",
       "      <td>2.0</td>\n",
       "      <td>...</td>\n",
       "      <td>1</td>\n",
       "      <td>0</td>\n",
       "      <td>0</td>\n",
       "      <td>1328</td>\n",
       "      <td>1</td>\n",
       "      <td>2008-05-18</td>\n",
       "      <td>2010-02-04</td>\n",
       "      <td>0</td>\n",
       "      <td>627</td>\n",
       "      <td>2944</td>\n",
       "    </tr>\n",
       "    <tr>\n",
       "      <th>13591</th>\n",
       "      <td>id_2136</td>\n",
       "      <td>kuh1</td>\n",
       "      <td>2137.0</td>\n",
       "      <td>-1</td>\n",
       "      <td>9.0</td>\n",
       "      <td>[['On my top ten list', 'Pretty average for th...</td>\n",
       "      <td>/Restaurant_Review-g187265-d1327654-Reviews-An...</td>\n",
       "      <td>d1327654</td>\n",
       "      <td>1</td>\n",
       "      <td>4.0</td>\n",
       "      <td>...</td>\n",
       "      <td>0</td>\n",
       "      <td>0</td>\n",
       "      <td>0</td>\n",
       "      <td>11590</td>\n",
       "      <td>1</td>\n",
       "      <td>2010-02-13</td>\n",
       "      <td>2013-10-05</td>\n",
       "      <td>1</td>\n",
       "      <td>1330</td>\n",
       "      <td>1605</td>\n",
       "    </tr>\n",
       "    <tr>\n",
       "      <th>36346</th>\n",
       "      <td>id_741</td>\n",
       "      <td>'Wine Bar','French','Bar','European','Gastropub'</td>\n",
       "      <td>742.0</td>\n",
       "      <td>1</td>\n",
       "      <td>226.0</td>\n",
       "      <td>[['Very good all round experience', 'A very pl...</td>\n",
       "      <td>/Restaurant_Review-g187147-d2219186-Reviews-Le...</td>\n",
       "      <td>d2219186</td>\n",
       "      <td>1</td>\n",
       "      <td>4.5</td>\n",
       "      <td>...</td>\n",
       "      <td>0</td>\n",
       "      <td>0</td>\n",
       "      <td>0</td>\n",
       "      <td>22110</td>\n",
       "      <td>5</td>\n",
       "      <td>2017-04-27</td>\n",
       "      <td>2017-06-23</td>\n",
       "      <td>2</td>\n",
       "      <td>57</td>\n",
       "      <td>248</td>\n",
       "    </tr>\n",
       "  </tbody>\n",
       "</table>\n",
       "<p>5 rows × 51 columns</p>\n",
       "</div>"
      ],
      "text/plain": [
       "      Restaurant_id                                      Cuisine Style  \\\n",
       "19813       id_1702  'Street Food','Mexican','Vegetarian Friendly',...   \n",
       "3184        id_3184  'Italian','Pizza','Seafood','Mediterranean','B...   \n",
       "17642       id_2130                                           'Indian'   \n",
       "13591       id_2136                                               kuh1   \n",
       "36346        id_741   'Wine Bar','French','Bar','European','Gastropub'   \n",
       "\n",
       "       Ranking  Price Range  Number of Reviews  \\\n",
       "19813   1705.0            1              254.0   \n",
       "3184     774.0            1              893.0   \n",
       "17642   2132.0            1                3.0   \n",
       "13591   2137.0           -1                9.0   \n",
       "36346    742.0            1              226.0   \n",
       "\n",
       "                                                 Reviews  \\\n",
       "19813  [['Great mexican food with welcoming staff.', ...   \n",
       "3184   [['Waterfront experience', 'Excellent location...   \n",
       "17642  [['closed!', 'I wanted to go to this restauran...   \n",
       "13591  [['On my top ten list', 'Pretty average for th...   \n",
       "36346  [['Very good all round experience', 'A very pl...   \n",
       "\n",
       "                                                  URL_TA     ID_TA  sample  \\\n",
       "19813  /Restaurant_Review-g186338-d6774552-Reviews-Wa...  d6774552       1   \n",
       "3184   /Restaurant_Review-g187791-d1641052-Reviews-Cu...  d1641052       0   \n",
       "17642  /Restaurant_Review-g274856-d697141-Reviews-Pus...   d697141       1   \n",
       "13591  /Restaurant_Review-g187265-d1327654-Reviews-An...  d1327654       1   \n",
       "36346  /Restaurant_Review-g187147-d2219186-Reviews-Le...  d2219186       1   \n",
       "\n",
       "       Rating  ...  City_Warsaw  City_Zurich  City_nan  Cuisinepopul  \\\n",
       "19813     4.0  ...            0            0         0         20114   \n",
       "3184      0.0  ...            0            0         0         58794   \n",
       "17642     2.0  ...            1            0         0          1328   \n",
       "13591     4.0  ...            0            0         0         11590   \n",
       "36346     4.5  ...            0            0         0         22110   \n",
       "\n",
       "       Cuisinecnt       RevF       RevL  revcolor  difffirstlastrev  difflast  \n",
       "19813           4 2017-12-21 2018-01-08         2                18        49  \n",
       "3184            9 2017-07-17 2018-01-04         0               171        53  \n",
       "17642           1 2008-05-18 2010-02-04         0               627      2944  \n",
       "13591           1 2010-02-13 2013-10-05         1              1330      1605  \n",
       "36346           5 2017-04-27 2017-06-23         2                57       248  \n",
       "\n",
       "[5 rows x 51 columns]"
      ]
     },
     "execution_count": 219,
     "metadata": {},
     "output_type": "execute_result"
    }
   ],
   "source": [
    "#работа с Reviews: обработка дат и характера(цвета) отзывов\n",
    "nicerev=list(map(str.upper,['Cosy','fair','Charming','Cool','Decent','pleasant','Perfect','tasty','highly recommended','Ideal','Amazing','Fantastic','Great','good','fine','nice','Delicious','honest','Decent','Not bad','tasty','Quick','best','exellent','Wonderful','Top','Beautiful','High quality','LOVE','Friendl']))\n",
    "badrev=list(map(str.upper,['avoid','Incompetent','Poor','Overpriced','Terrible','not enjoy','disaster','doubt','bad','Unpleasant','TERRIBLE','Needy','No better']))\n",
    "\n",
    "debcnt=-1\n",
    "def todtdt(intrp1): #обработка вложенных списков посредством eval\n",
    "    bb=0\n",
    "    global debcnt\n",
    "    try:\n",
    "        debcnt+=1\n",
    "        if (intrp1.Reviews is None) or (str(intrp1.Reviews)=='nan') :bb=np.asarray([[],[\"01/01/1970\"]]) #math.isnan(intrp1.Reviews) or \n",
    "        else: bb=eval(\"np.asarray({})\".format(str(intrp1.Reviews).replace('nan','\"01/01/1970\"')))\n",
    "        #print(\"111\",type(intrp1),intrp1,\"bb\",bb)\n",
    "        if bb.shape[0]==0:print(\"sh0\",bb)\n",
    "        if bb.shape[0]==1:print(\"sh1\",bb)\n",
    "        #обработка отзывов\n",
    "        revcolor=0\n",
    "        def lookcolor(x):\n",
    "            nonlocal revcolor\n",
    "            for xx in nicerev:\n",
    "                if xx in x.upper():revcolor+=1\n",
    "            for xx in badrev:\n",
    "                if xx in x.upper():revcolor-=1\n",
    "            return revcolor \n",
    "\n",
    "        list(map(lookcolor,bb[0]))\n",
    "\n",
    "        #обработка дат\n",
    "        aa=np.fromiter(map(lambda x: datetime.strptime(x, '%m/%d/%Y'),bb[1]),dtype='datetime64[D]')\n",
    "        #заменить отсутствующие данные на древнюю дату 1970г.\n",
    "        if aa.shape[0]==0: aa=np.asarray([np.datetime64('1970-01-01')])\n",
    "        aa.sort()\n",
    "        #print(\"222\",aa[0], aa[-1],revcolor)\n",
    "        return pd.DataFrame(list(zip([aa[0]], [aa[-1]],[revcolor])),columns =['R1', 'R2','R3']).iloc[0]\n",
    "    except Exception:\n",
    "        print(\"bb\",bb,\"debcnt\",debcnt,\"intrp.Reviews\",intrp1.Reviews,str(intrp1.Reviews),\"tttttttttttttttype\",type(intrp1.Reviews))\n",
    "        print(\"Unexpected error:\", sys.exc_info()[0])\n",
    "        raise Exception\n",
    "#         return pd.DataFrame(list(zip([0], [0],[0])),columns =['R1', 'R2','R3']).iloc[0]\n",
    "\n",
    "#добавить столбцы с датами двух последних отзывов и \"цветом\" отзывов\n",
    "dff[['RevF','RevL','revcolor']]=dff.apply(todtdt,axis=1) #loc[8168,['Reviews']].\n",
    "\n",
    "#найти даты самых древних и свежих отзывов\n",
    "RevF=dff[dff.RevF!=np.datetime64('1970-01-01')]['RevF'].min()\n",
    "RevL=dff['RevL'].max()\n",
    "\n",
    "def RevFL(x):\n",
    "    #print(\"x\",x)\n",
    "    RevLcurent=x.RevL\n",
    "    if x.RevF==np.datetime64('1970-01-01'):\n",
    "        RevLcurent=x.RevF #сохранить для вычисления \"свежести\" последнего отзыва\n",
    "        x.RevF=RevF\n",
    "        x.RevL=RevL\n",
    "    #print(\"333\",x.RevF,x.RevL,x.RevL-x.RevF,RevL-RevLcurent)\n",
    "    return  pd.DataFrame(list(zip([x.RevF],[x.RevL],[np.timedelta64(x.RevL-x.RevF, 'D').astype(int)],[np.timedelta64(RevL-RevLcurent, 'D').astype(int)]))).iloc[0]\n",
    "#для изначально отсутствующих данных установить самый большой интервал между отзывами difffirstlastrev, что должно предположительно снижать рейтинг\n",
    "#а так же вычислить свежесть отзыва difflast (для отсутствующих данных установить большую древность (от 1970 года), что тоже предположительно уменьшает рейтинг)\n",
    "data[['RevF','RevL','difffirstlastrev','difflast']]=dff.apply(RevFL,axis=1) #.loc[8168,['RevL','RevF']]\n",
    "\n",
    "data.sample(5)"
   ]
  },
  {
   "cell_type": "markdown",
   "metadata": {},
   "source": [
    "# EDA \n",
    "[Exploratory Data Analysis](https://ru.wikipedia.org/wiki/Разведочный_анализ_данных) - Анализ данных\n",
    "На этом этапе мы строим графики, ищем закономерности, аномалии, выбросы или связи между признаками.\n",
    "В общем цель этого этапа понять, что эти данные могут нам дать и как признаки могут быть взаимосвязаны между собой.\n",
    "Понимание изначальных признаков позволит сгенерировать новые, более сильные и, тем самым, сделать нашу модель лучше.\n",
    "![](https://miro.medium.com/max/2598/1*RXdMb7Uk6mGqWqPguHULaQ.png)"
   ]
  },
  {
   "cell_type": "markdown",
   "metadata": {},
   "source": [
    "### Посмотрим распределение признака"
   ]
  },
  {
   "cell_type": "code",
   "execution_count": 220,
   "metadata": {
    "execution": {
     "iopub.execute_input": "2021-09-08T16:46:39.212703Z",
     "iopub.status.busy": "2021-09-08T16:46:39.212442Z",
     "iopub.status.idle": "2021-09-08T16:46:39.706987Z",
     "shell.execute_reply": "2021-09-08T16:46:39.705720Z",
     "shell.execute_reply.started": "2021-09-08T16:46:39.212659Z"
    }
   },
   "outputs": [
    {
     "data": {
      "text/plain": [
       "<AxesSubplot:>"
      ]
     },
     "execution_count": 220,
     "metadata": {},
     "output_type": "execute_result"
    },
    {
     "data": {
      "image/png": "[encoded data removed]",
      "text/plain": [
       "<Figure size 720x504 with 1 Axes>"
      ]
     },
     "metadata": {
      "needs_background": "light"
     },
     "output_type": "display_data"
    }
   ],
   "source": [
    "plt.rcParams['figure.figsize'] = (10,7)\n",
    "df_train['Ranking'].hist(bins=100)"
   ]
  },
  {
   "cell_type": "markdown",
   "metadata": {},
   "source": [
    "У нас много ресторанов, которые не дотягивают и до 2500 места в своем городе, а что там по городам?"
   ]
  },
  {
   "cell_type": "code",
   "execution_count": 221,
   "metadata": {
    "execution": {
     "iopub.execute_input": "2021-09-08T16:46:39.709601Z",
     "iopub.status.busy": "2021-09-08T16:46:39.709006Z",
     "iopub.status.idle": "2021-09-08T16:46:40.082587Z",
     "shell.execute_reply": "2021-09-08T16:46:40.081687Z",
     "shell.execute_reply.started": "2021-09-08T16:46:39.709389Z"
    }
   },
   "outputs": [
    {
     "data": {
      "text/plain": [
       "<AxesSubplot:>"
      ]
     },
     "execution_count": 221,
     "metadata": {},
     "output_type": "execute_result"
    },
    {
     "data": {
      "image/png": "[encoded data removed]",
      "text/plain": [
       "<Figure size 720x504 with 1 Axes>"
      ]
     },
     "metadata": {
      "needs_background": "light"
     },
     "output_type": "display_data"
    }
   ],
   "source": [
    "df_train['City'].value_counts(ascending=True).plot(kind='barh')"
   ]
  },
  {
   "cell_type": "markdown",
   "metadata": {},
   "source": [
    "А кто-то говорил, что французы любят поесть=) Посмотрим, как изменится распределение в большом городе:"
   ]
  },
  {
   "cell_type": "code",
   "execution_count": 222,
   "metadata": {
    "execution": {
     "iopub.execute_input": "2021-09-08T16:46:40.084788Z",
     "iopub.status.busy": "2021-09-08T16:46:40.084213Z",
     "iopub.status.idle": "2021-09-08T16:46:40.525892Z",
     "shell.execute_reply": "2021-09-08T16:46:40.524967Z",
     "shell.execute_reply.started": "2021-09-08T16:46:40.084723Z"
    }
   },
   "outputs": [
    {
     "data": {
      "text/plain": [
       "<AxesSubplot:>"
      ]
     },
     "execution_count": 222,
     "metadata": {},
     "output_type": "execute_result"
    },
    {
     "data": {
      "image/png": "[encoded data removed]",
      "text/plain": [
       "<Figure size 720x504 with 1 Axes>"
      ]
     },
     "metadata": {
      "needs_background": "light"
     },
     "output_type": "display_data"
    }
   ],
   "source": [
    "df_train['Ranking'][df_train['City'] =='London'].hist(bins=100)"
   ]
  },
  {
   "cell_type": "code",
   "execution_count": null,
   "metadata": {},
   "outputs": [],
   "source": []
  },
  {
   "cell_type": "code",
   "execution_count": 223,
   "metadata": {
    "execution": {
     "iopub.execute_input": "2021-09-08T16:46:40.528071Z",
     "iopub.status.busy": "2021-09-08T16:46:40.527513Z",
     "iopub.status.idle": "2021-09-08T16:46:43.100788Z",
     "shell.execute_reply": "2021-09-08T16:46:43.099954Z",
     "shell.execute_reply.started": "2021-09-08T16:46:40.528009Z"
    }
   },
   "outputs": [
    {
     "data": {
      "image/png": "[encoded data removed]",
      "text/plain": [
       "<Figure size 720x504 with 1 Axes>"
      ]
     },
     "metadata": {
      "needs_background": "light"
     },
     "output_type": "display_data"
    }
   ],
   "source": [
    "# посмотрим на топ 10 городов\n",
    "for x in (df_train['City'].value_counts())[0:10].index:\n",
    "    df_train['Ranking'][df_train['City'] == x].hist(bins=100)\n",
    "plt.show()"
   ]
  },
  {
   "cell_type": "markdown",
   "metadata": {},
   "source": [
    "Получается, что Ranking имеет нормальное распределение, просто в больших городах больше ресторанов, из-за мы этого имеем смещение.\n",
    "\n",
    ">Подумайте как из этого можно сделать признак для вашей модели. Я покажу вам пример, как визуализация помогает находить взаимосвязи. А далее действуйте без подсказок =) \n"
   ]
  },
  {
   "cell_type": "markdown",
   "metadata": {},
   "source": [
    "### Посмотрим распределение целевой переменной"
   ]
  },
  {
   "cell_type": "code",
   "execution_count": 224,
   "metadata": {
    "execution": {
     "iopub.execute_input": "2021-09-08T16:46:43.107742Z",
     "iopub.status.busy": "2021-09-08T16:46:43.107250Z",
     "iopub.status.idle": "2021-09-08T16:46:43.319761Z",
     "shell.execute_reply": "2021-09-08T16:46:43.319020Z",
     "shell.execute_reply.started": "2021-09-08T16:46:43.107677Z"
    }
   },
   "outputs": [
    {
     "data": {
      "text/plain": [
       "<AxesSubplot:>"
      ]
     },
     "execution_count": 224,
     "metadata": {},
     "output_type": "execute_result"
    },
    {
     "data": {
      "image/png": "[encoded data removed]",
      "text/plain": [
       "<Figure size 720x504 with 1 Axes>"
      ]
     },
     "metadata": {
      "needs_background": "light"
     },
     "output_type": "display_data"
    }
   ],
   "source": [
    "df_train['Rating'].value_counts(ascending=True).plot(kind='barh')"
   ]
  },
  {
   "cell_type": "markdown",
   "metadata": {},
   "source": [
    "### Посмотрим распределение целевой переменной относительно признака"
   ]
  },
  {
   "cell_type": "code",
   "execution_count": 225,
   "metadata": {
    "execution": {
     "iopub.execute_input": "2021-09-08T16:46:43.322083Z",
     "iopub.status.busy": "2021-09-08T16:46:43.321519Z",
     "iopub.status.idle": "2021-09-08T16:46:43.758623Z",
     "shell.execute_reply": "2021-09-08T16:46:43.757733Z",
     "shell.execute_reply.started": "2021-09-08T16:46:43.322021Z"
    }
   },
   "outputs": [
    {
     "data": {
      "text/plain": [
       "<AxesSubplot:>"
      ]
     },
     "execution_count": 225,
     "metadata": {},
     "output_type": "execute_result"
    },
    {
     "data": {
      "image/png": "[encoded data removed]",
      "text/plain": [
       "<Figure size 720x504 with 1 Axes>"
      ]
     },
     "metadata": {
      "needs_background": "light"
     },
     "output_type": "display_data"
    }
   ],
   "source": [
    "df_train['Ranking'][df_train['Rating'] == 5].hist(bins=100)"
   ]
  },
  {
   "cell_type": "code",
   "execution_count": 226,
   "metadata": {
    "execution": {
     "iopub.execute_input": "2021-09-08T16:46:43.760671Z",
     "iopub.status.busy": "2021-09-08T16:46:43.760147Z",
     "iopub.status.idle": "2021-09-08T16:46:44.194028Z",
     "shell.execute_reply": "2021-09-08T16:46:44.193088Z",
     "shell.execute_reply.started": "2021-09-08T16:46:43.760612Z"
    }
   },
   "outputs": [
    {
     "data": {
      "text/plain": [
       "<AxesSubplot:>"
      ]
     },
     "execution_count": 226,
     "metadata": {},
     "output_type": "execute_result"
    },
    {
     "data": {
      "image/png": "[encoded data removed]",
      "text/plain": [
       "<Figure size 720x504 with 1 Axes>"
      ]
     },
     "metadata": {
      "needs_background": "light"
     },
     "output_type": "display_data"
    }
   ],
   "source": [
    "df_train['Ranking'][df_train['Rating'] < 4].hist(bins=100)"
   ]
  },
  {
   "cell_type": "markdown",
   "metadata": {},
   "source": [
    "### И один из моих любимых - [корреляция признаков](https://ru.wikipedia.org/wiki/Корреляция)\n",
    "На этом графике уже сейчас вы сможете заметить, как признаки связаны между собой и с целевой переменной."
   ]
  },
  {
   "cell_type": "code",
   "execution_count": 227,
   "metadata": {
    "execution": {
     "iopub.execute_input": "2021-09-08T16:46:44.196314Z",
     "iopub.status.busy": "2021-09-08T16:46:44.195796Z",
     "iopub.status.idle": "2021-09-08T16:46:45.410000Z",
     "shell.execute_reply": "2021-09-08T16:46:45.408850Z",
     "shell.execute_reply.started": "2021-09-08T16:46:44.196100Z"
    }
   },
   "outputs": [
    {
     "data": {
      "text/plain": [
       "<AxesSubplot:>"
      ]
     },
     "execution_count": 227,
     "metadata": {},
     "output_type": "execute_result"
    },
    {
     "data": {
      "image/png": "[encoded data removed]",
      "text/plain": [
       "<Figure size 1080x720 with 2 Axes>"
      ]
     },
     "metadata": {
      "needs_background": "light"
     },
     "output_type": "display_data"
    }
   ],
   "source": [
    "plt.rcParams['figure.figsize'] = (15,10)\n",
    "sns.heatmap(data.drop(['sample'], axis=1).corr(),)"
   ]
  },
  {
   "cell_type": "code",
   "execution_count": null,
   "metadata": {},
   "outputs": [],
   "source": []
  },
  {
   "cell_type": "markdown",
   "metadata": {},
   "source": [
    "Вообще благодаря визуализации в этом датасете можно узнать много интересных фактов, например:\n",
    "* где больше Пицерий в Мадриде или Лондоне?\n",
    "* в каком городе кухня ресторанов более разнообразна?\n",
    "\n",
    "придумайте свои вопрос и найдите на него ответ в данных)"
   ]
  },
  {
   "cell_type": "markdown",
   "metadata": {},
   "source": [
    "# Data Preprocessing\n",
    "Теперь, для удобства и воспроизводимости кода, завернем всю обработку в одну большую функцию."
   ]
  },
  {
   "cell_type": "code",
   "execution_count": 228,
   "metadata": {
    "execution": {
     "iopub.execute_input": "2021-09-08T16:46:45.412136Z",
     "iopub.status.busy": "2021-09-08T16:46:45.411624Z",
     "iopub.status.idle": "2021-09-08T16:46:45.416449Z",
     "shell.execute_reply": "2021-09-08T16:46:45.415648Z",
     "shell.execute_reply.started": "2021-09-08T16:46:45.411918Z"
    }
   },
   "outputs": [],
   "source": [
    "# # на всякий случай, заново подгружаем данные\n",
    "# df_train = pd.read_csv(DATA_DIR+'/main_task.csv')\n",
    "# df_test = pd.read_csv(DATA_DIR+'/kaggle_task.csv')\n",
    "# df_train['sample'] = 1 # помечаем где у нас трейн\n",
    "# df_test['sample'] = 0 # помечаем где у нас тест\n",
    "# df_test['Rating'] = 0 # в тесте у нас нет значения Rating, мы его должны предсказать, по этому пока просто заполняем нулями\n",
    "\n",
    "# data = df_test.append(df_train, sort=False).reset_index(drop=True) # объединяем\n",
    "# data.info()"
   ]
  },
  {
   "cell_type": "code",
   "execution_count": 229,
   "metadata": {
    "execution": {
     "iopub.execute_input": "2021-09-08T16:46:45.418421Z",
     "iopub.status.busy": "2021-09-08T16:46:45.417920Z",
     "iopub.status.idle": "2021-09-08T16:46:45.430496Z",
     "shell.execute_reply": "2021-09-08T16:46:45.429601Z",
     "shell.execute_reply.started": "2021-09-08T16:46:45.418366Z"
    }
   },
   "outputs": [],
   "source": [
    "def preproc_data(df_input):\n",
    "    '''includes several functions to pre-process the predictor data.'''\n",
    "    \n",
    "    df_output = df_input.copy()\n",
    "    \n",
    "    # ################### 1. Предобработка ############################################################## \n",
    "    # убираем не нужные для модели признаки\n",
    "    df_output.drop(['Restaurant_id','ID_TA',], axis = 1, inplace=True)\n",
    "    \n",
    "    \n",
    "    # ################### 2. NAN ############################################################## \n",
    "    # Далее заполняем пропуски, вы можете попробовать заполнением средним или средним по городу и тд...\n",
    "    df_output['Number of Reviews'].fillna(0, inplace=True)\n",
    "    # тут ваш код по обработке NAN\n",
    "    # ....\n",
    "    \n",
    "    \n",
    "    # ################### 3. Encoding ############################################################## \n",
    "    # для One-Hot Encoding в pandas есть готовая функция - get_dummies. Особенно радует параметр dummy_na\n",
    "    df_output = pd.get_dummies(df_output, columns=[ 'City',], dummy_na=True)\n",
    "    # тут ваш код не Encoding фитчей\n",
    "    # ....\n",
    "    \n",
    "    \n",
    "    # ################### 4. Feature Engineering ####################################################\n",
    "    # тут ваш код не генерацию новых фитчей\n",
    "    # ....\n",
    "    \n",
    "    \n",
    "    # ################### 5. Clean #################################################### \n",
    "    # убираем признаки которые еще не успели обработать, \n",
    "    # модель на признаках с dtypes \"object\" обучаться не будет, просто выберим их и удалим\n",
    "    object_columns = [s for s in df_output.columns if df_output[s].dtypes == 'object']\n",
    "    df_output.drop(object_columns, axis = 1, inplace=True)\n",
    "    \n",
    "    return df_output"
   ]
  },
  {
   "cell_type": "markdown",
   "metadata": {},
   "source": [
    ">По хорошему, можно было бы перевести эту большую функцию в класс и разбить на подфункции (согласно ООП). "
   ]
  },
  {
   "cell_type": "code",
   "execution_count": 230,
   "metadata": {
    "execution": {
     "iopub.execute_input": "2021-09-08T16:46:45.432464Z",
     "iopub.status.busy": "2021-09-08T16:46:45.431959Z",
     "iopub.status.idle": "2021-09-08T16:46:45.488667Z",
     "shell.execute_reply": "2021-09-08T16:46:45.487660Z",
     "shell.execute_reply.started": "2021-09-08T16:46:45.432400Z"
    }
   },
   "outputs": [
    {
     "name": "stdout",
     "output_type": "stream",
     "text": [
      "<class 'pandas.core.frame.DataFrame'>\n",
      "RangeIndex: 50000 entries, 0 to 49999\n",
      "Data columns (total 51 columns):\n",
      " #   Column                   Non-Null Count  Dtype         \n",
      "---  ------                   --------------  -----         \n",
      " 0   Restaurant_id            50000 non-null  object        \n",
      " 1   Cuisine Style            50000 non-null  object        \n",
      " 2   Ranking                  50000 non-null  float64       \n",
      " 3   Price Range              50000 non-null  int64         \n",
      " 4   Number of Reviews        50000 non-null  float64       \n",
      " 5   Reviews                  49998 non-null  object        \n",
      " 6   URL_TA                   50000 non-null  object        \n",
      " 7   ID_TA                    50000 non-null  object        \n",
      " 8   sample                   50000 non-null  int64         \n",
      " 9   Rating                   50000 non-null  float64       \n",
      " 10  Number_of_Reviews_isNAN  50000 non-null  uint8         \n",
      " 11  newRanking               50000 non-null  float64       \n",
      " 12  City_Amsterdam           50000 non-null  uint8         \n",
      " 13  City_Athens              50000 non-null  uint8         \n",
      " 14  City_Barcelona           50000 non-null  uint8         \n",
      " 15  City_Berlin              50000 non-null  uint8         \n",
      " 16  City_Bratislava          50000 non-null  uint8         \n",
      " 17  City_Brussels            50000 non-null  uint8         \n",
      " 18  City_Budapest            50000 non-null  uint8         \n",
      " 19  City_Copenhagen          50000 non-null  uint8         \n",
      " 20  City_Dublin              50000 non-null  uint8         \n",
      " 21  City_Edinburgh           50000 non-null  uint8         \n",
      " 22  City_Geneva              50000 non-null  uint8         \n",
      " 23  City_Hamburg             50000 non-null  uint8         \n",
      " 24  City_Helsinki            50000 non-null  uint8         \n",
      " 25  City_Krakow              50000 non-null  uint8         \n",
      " 26  City_Lisbon              50000 non-null  uint8         \n",
      " 27  City_Ljubljana           50000 non-null  uint8         \n",
      " 28  City_London              50000 non-null  uint8         \n",
      " 29  City_Luxembourg          50000 non-null  uint8         \n",
      " 30  City_Lyon                50000 non-null  uint8         \n",
      " 31  City_Madrid              50000 non-null  uint8         \n",
      " 32  City_Milan               50000 non-null  uint8         \n",
      " 33  City_Munich              50000 non-null  uint8         \n",
      " 34  City_Oporto              50000 non-null  uint8         \n",
      " 35  City_Oslo                50000 non-null  uint8         \n",
      " 36  City_Paris               50000 non-null  uint8         \n",
      " 37  City_Prague              50000 non-null  uint8         \n",
      " 38  City_Rome                50000 non-null  uint8         \n",
      " 39  City_Stockholm           50000 non-null  uint8         \n",
      " 40  City_Vienna              50000 non-null  uint8         \n",
      " 41  City_Warsaw              50000 non-null  uint8         \n",
      " 42  City_Zurich              50000 non-null  uint8         \n",
      " 43  City_nan                 50000 non-null  uint8         \n",
      " 44  Cuisinepopul             50000 non-null  int64         \n",
      " 45  Cuisinecnt               50000 non-null  int64         \n",
      " 46  RevF                     50000 non-null  datetime64[ns]\n",
      " 47  RevL                     50000 non-null  datetime64[ns]\n",
      " 48  revcolor                 50000 non-null  int64         \n",
      " 49  difffirstlastrev         50000 non-null  int64         \n",
      " 50  difflast                 50000 non-null  int64         \n",
      "dtypes: datetime64[ns](2), float64(4), int64(7), object(5), uint8(33)\n",
      "memory usage: 8.4+ MB\n"
     ]
    }
   ],
   "source": [
    "data.info()"
   ]
  },
  {
   "cell_type": "code",
   "execution_count": 231,
   "metadata": {
    "execution": {
     "iopub.execute_input": "2021-09-08T16:46:45.490039Z",
     "iopub.status.busy": "2021-09-08T16:46:45.489810Z",
     "iopub.status.idle": "2021-09-08T16:46:45.538515Z",
     "shell.execute_reply": "2021-09-08T16:46:45.537492Z",
     "shell.execute_reply.started": "2021-09-08T16:46:45.490005Z"
    }
   },
   "outputs": [
    {
     "name": "stdout",
     "output_type": "stream",
     "text": [
      "dtypes object\n",
      "dtypes object\n",
      "dtypes float64\n",
      "dtypes int64\n",
      "dtypes float64\n",
      "dtypes object\n",
      "dtypes object\n",
      "dtypes object\n",
      "dtypes int64\n",
      "dtypes float64\n",
      "dtypes uint8\n",
      "dtypes float64\n",
      "dtypes uint8\n",
      "dtypes uint8\n",
      "dtypes uint8\n",
      "dtypes uint8\n",
      "dtypes uint8\n",
      "dtypes uint8\n",
      "dtypes uint8\n",
      "dtypes uint8\n",
      "dtypes uint8\n",
      "dtypes uint8\n",
      "dtypes uint8\n",
      "dtypes uint8\n",
      "dtypes uint8\n",
      "dtypes uint8\n",
      "dtypes uint8\n",
      "dtypes uint8\n",
      "dtypes uint8\n",
      "dtypes uint8\n",
      "dtypes uint8\n",
      "dtypes uint8\n",
      "dtypes uint8\n",
      "dtypes uint8\n",
      "dtypes uint8\n",
      "dtypes uint8\n",
      "dtypes uint8\n",
      "dtypes uint8\n",
      "dtypes uint8\n",
      "dtypes uint8\n",
      "dtypes uint8\n",
      "dtypes uint8\n",
      "dtypes uint8\n",
      "dtypes uint8\n",
      "dtypes int64\n",
      "dtypes int64\n",
      "dtypes datetime64[ns]\n",
      "dtypes datetime64[ns]\n",
      "dtypes int64\n",
      "dtypes int64\n",
      "dtypes int64\n"
     ]
    },
    {
     "data": {
      "text/html": [
       "<div>\n",
       "<style scoped>\n",
       "    .dataframe tbody tr th:only-of-type {\n",
       "        vertical-align: middle;\n",
       "    }\n",
       "\n",
       "    .dataframe tbody tr th {\n",
       "        vertical-align: top;\n",
       "    }\n",
       "\n",
       "    .dataframe thead th {\n",
       "        text-align: right;\n",
       "    }\n",
       "</style>\n",
       "<table border=\"1\" class=\"dataframe\">\n",
       "  <thead>\n",
       "    <tr style=\"text-align: right;\">\n",
       "      <th></th>\n",
       "      <th>Ranking</th>\n",
       "      <th>Price Range</th>\n",
       "      <th>Number of Reviews</th>\n",
       "      <th>sample</th>\n",
       "      <th>Rating</th>\n",
       "      <th>Number_of_Reviews_isNAN</th>\n",
       "      <th>newRanking</th>\n",
       "      <th>City_Amsterdam</th>\n",
       "      <th>City_Athens</th>\n",
       "      <th>City_Barcelona</th>\n",
       "      <th>...</th>\n",
       "      <th>City_Stockholm</th>\n",
       "      <th>City_Vienna</th>\n",
       "      <th>City_Warsaw</th>\n",
       "      <th>City_Zurich</th>\n",
       "      <th>City_nan</th>\n",
       "      <th>Cuisinepopul</th>\n",
       "      <th>Cuisinecnt</th>\n",
       "      <th>revcolor</th>\n",
       "      <th>difffirstlastrev</th>\n",
       "      <th>difflast</th>\n",
       "    </tr>\n",
       "  </thead>\n",
       "  <tbody>\n",
       "    <tr>\n",
       "      <th>48869</th>\n",
       "      <td>3182.0</td>\n",
       "      <td>1</td>\n",
       "      <td>47.0</td>\n",
       "      <td>1</td>\n",
       "      <td>4.0</td>\n",
       "      <td>0</td>\n",
       "      <td>1.229046</td>\n",
       "      <td>0</td>\n",
       "      <td>0</td>\n",
       "      <td>0</td>\n",
       "      <td>...</td>\n",
       "      <td>0</td>\n",
       "      <td>0</td>\n",
       "      <td>0</td>\n",
       "      <td>0</td>\n",
       "      <td>0</td>\n",
       "      <td>20633</td>\n",
       "      <td>4</td>\n",
       "      <td>1</td>\n",
       "      <td>85</td>\n",
       "      <td>311</td>\n",
       "    </tr>\n",
       "    <tr>\n",
       "      <th>11465</th>\n",
       "      <td>2528.0</td>\n",
       "      <td>-1</td>\n",
       "      <td>12.0</td>\n",
       "      <td>1</td>\n",
       "      <td>2.5</td>\n",
       "      <td>0</td>\n",
       "      <td>2.245115</td>\n",
       "      <td>0</td>\n",
       "      <td>0</td>\n",
       "      <td>0</td>\n",
       "      <td>...</td>\n",
       "      <td>0</td>\n",
       "      <td>0</td>\n",
       "      <td>0</td>\n",
       "      <td>0</td>\n",
       "      <td>0</td>\n",
       "      <td>11590</td>\n",
       "      <td>1</td>\n",
       "      <td>0</td>\n",
       "      <td>5059</td>\n",
       "      <td>17588</td>\n",
       "    </tr>\n",
       "  </tbody>\n",
       "</table>\n",
       "<p>2 rows × 44 columns</p>\n",
       "</div>"
      ],
      "text/plain": [
       "       Ranking  Price Range  Number of Reviews  sample  Rating  \\\n",
       "48869   3182.0            1               47.0       1     4.0   \n",
       "11465   2528.0           -1               12.0       1     2.5   \n",
       "\n",
       "       Number_of_Reviews_isNAN  newRanking  City_Amsterdam  City_Athens  \\\n",
       "48869                        0    1.229046               0            0   \n",
       "11465                        0    2.245115               0            0   \n",
       "\n",
       "       City_Barcelona  ...  City_Stockholm  City_Vienna  City_Warsaw  \\\n",
       "48869               0  ...               0            0            0   \n",
       "11465               0  ...               0            0            0   \n",
       "\n",
       "       City_Zurich  City_nan  Cuisinepopul  Cuisinecnt  revcolor  \\\n",
       "48869            0         0         20633           4         1   \n",
       "11465            0         0         11590           1         0   \n",
       "\n",
       "       difffirstlastrev  difflast  \n",
       "48869                85       311  \n",
       "11465              5059     17588  \n",
       "\n",
       "[2 rows x 44 columns]"
      ]
     },
     "execution_count": 231,
     "metadata": {},
     "output_type": "execute_result"
    }
   ],
   "source": [
    "#удалить нечисловые колонки\n",
    "notnumcol=[]\n",
    "yy = map(lambda v,z : [v,z], data.dtypes,data.columns)\n",
    "for xx in yy:\n",
    "    print(\"dtypes\",xx[0].name)\n",
    "    if (xx[0].name=='object') or (xx[0].name=='datetime64[ns]'):\n",
    "    #if (xx[0].name!='float64') and (xx[0].name!='uint8') and (xx[0].name!='datetime64[ns]' and (xx[0].name!='int64')):\n",
    "        notnumcol.append(xx[1])\n",
    "#notnumcol.remove('Restaurant_id') #не удалять столбец\n",
    "df_preproc=data.drop(notnumcol,axis=1)\n",
    "df_preproc.sample(2)"
   ]
  },
  {
   "cell_type": "markdown",
   "metadata": {},
   "source": [
    "#### Запускаем и проверяем что получилось"
   ]
  },
  {
   "cell_type": "code",
   "execution_count": 232,
   "metadata": {
    "execution": {
     "iopub.execute_input": "2021-09-08T16:46:45.540037Z",
     "iopub.status.busy": "2021-09-08T16:46:45.539752Z",
     "iopub.status.idle": "2021-09-08T16:46:45.571763Z",
     "shell.execute_reply": "2021-09-08T16:46:45.570980Z",
     "shell.execute_reply.started": "2021-09-08T16:46:45.539987Z"
    }
   },
   "outputs": [
    {
     "data": {
      "text/html": [
       "<div>\n",
       "<style scoped>\n",
       "    .dataframe tbody tr th:only-of-type {\n",
       "        vertical-align: middle;\n",
       "    }\n",
       "\n",
       "    .dataframe tbody tr th {\n",
       "        vertical-align: top;\n",
       "    }\n",
       "\n",
       "    .dataframe thead th {\n",
       "        text-align: right;\n",
       "    }\n",
       "</style>\n",
       "<table border=\"1\" class=\"dataframe\">\n",
       "  <thead>\n",
       "    <tr style=\"text-align: right;\">\n",
       "      <th></th>\n",
       "      <th>Ranking</th>\n",
       "      <th>Price Range</th>\n",
       "      <th>Number of Reviews</th>\n",
       "      <th>sample</th>\n",
       "      <th>Rating</th>\n",
       "      <th>Number_of_Reviews_isNAN</th>\n",
       "      <th>newRanking</th>\n",
       "      <th>City_Amsterdam</th>\n",
       "      <th>City_Athens</th>\n",
       "      <th>City_Barcelona</th>\n",
       "      <th>...</th>\n",
       "      <th>City_Stockholm</th>\n",
       "      <th>City_Vienna</th>\n",
       "      <th>City_Warsaw</th>\n",
       "      <th>City_Zurich</th>\n",
       "      <th>City_nan</th>\n",
       "      <th>Cuisinepopul</th>\n",
       "      <th>Cuisinecnt</th>\n",
       "      <th>revcolor</th>\n",
       "      <th>difffirstlastrev</th>\n",
       "      <th>difflast</th>\n",
       "    </tr>\n",
       "  </thead>\n",
       "  <tbody>\n",
       "    <tr>\n",
       "      <th>27324</th>\n",
       "      <td>10402.0</td>\n",
       "      <td>-1</td>\n",
       "      <td>8.0</td>\n",
       "      <td>1</td>\n",
       "      <td>4.5</td>\n",
       "      <td>0</td>\n",
       "      <td>1.446128</td>\n",
       "      <td>0</td>\n",
       "      <td>0</td>\n",
       "      <td>0</td>\n",
       "      <td>...</td>\n",
       "      <td>0</td>\n",
       "      <td>0</td>\n",
       "      <td>0</td>\n",
       "      <td>0</td>\n",
       "      <td>0</td>\n",
       "      <td>8394</td>\n",
       "      <td>2</td>\n",
       "      <td>2</td>\n",
       "      <td>71</td>\n",
       "      <td>218</td>\n",
       "    </tr>\n",
       "    <tr>\n",
       "      <th>7801</th>\n",
       "      <td>755.0</td>\n",
       "      <td>1</td>\n",
       "      <td>69.0</td>\n",
       "      <td>0</td>\n",
       "      <td>0.0</td>\n",
       "      <td>0</td>\n",
       "      <td>0.659389</td>\n",
       "      <td>0</td>\n",
       "      <td>0</td>\n",
       "      <td>0</td>\n",
       "      <td>...</td>\n",
       "      <td>0</td>\n",
       "      <td>0</td>\n",
       "      <td>0</td>\n",
       "      <td>0</td>\n",
       "      <td>0</td>\n",
       "      <td>2547</td>\n",
       "      <td>2</td>\n",
       "      <td>1</td>\n",
       "      <td>15</td>\n",
       "      <td>760</td>\n",
       "    </tr>\n",
       "  </tbody>\n",
       "</table>\n",
       "<p>2 rows × 44 columns</p>\n",
       "</div>"
      ],
      "text/plain": [
       "       Ranking  Price Range  Number of Reviews  sample  Rating  \\\n",
       "27324  10402.0           -1                8.0       1     4.5   \n",
       "7801     755.0            1               69.0       0     0.0   \n",
       "\n",
       "       Number_of_Reviews_isNAN  newRanking  City_Amsterdam  City_Athens  \\\n",
       "27324                        0    1.446128               0            0   \n",
       "7801                         0    0.659389               0            0   \n",
       "\n",
       "       City_Barcelona  ...  City_Stockholm  City_Vienna  City_Warsaw  \\\n",
       "27324               0  ...               0            0            0   \n",
       "7801                0  ...               0            0            0   \n",
       "\n",
       "       City_Zurich  City_nan  Cuisinepopul  Cuisinecnt  revcolor  \\\n",
       "27324            0         0          8394           2         2   \n",
       "7801             0         0          2547           2         1   \n",
       "\n",
       "       difffirstlastrev  difflast  \n",
       "27324                71       218  \n",
       "7801                 15       760  \n",
       "\n",
       "[2 rows x 44 columns]"
      ]
     },
     "execution_count": 232,
     "metadata": {},
     "output_type": "execute_result"
    }
   ],
   "source": [
    "#df_preproc = preproc_data(data)\n",
    "df_preproc.sample(2)"
   ]
  },
  {
   "cell_type": "code",
   "execution_count": 233,
   "metadata": {
    "execution": {
     "iopub.execute_input": "2021-09-08T16:46:45.573209Z",
     "iopub.status.busy": "2021-09-08T16:46:45.572975Z",
     "iopub.status.idle": "2021-09-08T16:46:45.594440Z",
     "shell.execute_reply": "2021-09-08T16:46:45.593508Z",
     "shell.execute_reply.started": "2021-09-08T16:46:45.573169Z"
    }
   },
   "outputs": [
    {
     "name": "stdout",
     "output_type": "stream",
     "text": [
      "<class 'pandas.core.frame.DataFrame'>\n",
      "RangeIndex: 50000 entries, 0 to 49999\n",
      "Data columns (total 44 columns):\n",
      " #   Column                   Non-Null Count  Dtype  \n",
      "---  ------                   --------------  -----  \n",
      " 0   Ranking                  50000 non-null  float64\n",
      " 1   Price Range              50000 non-null  int64  \n",
      " 2   Number of Reviews        50000 non-null  float64\n",
      " 3   sample                   50000 non-null  int64  \n",
      " 4   Rating                   50000 non-null  float64\n",
      " 5   Number_of_Reviews_isNAN  50000 non-null  uint8  \n",
      " 6   newRanking               50000 non-null  float64\n",
      " 7   City_Amsterdam           50000 non-null  uint8  \n",
      " 8   City_Athens              50000 non-null  uint8  \n",
      " 9   City_Barcelona           50000 non-null  uint8  \n",
      " 10  City_Berlin              50000 non-null  uint8  \n",
      " 11  City_Bratislava          50000 non-null  uint8  \n",
      " 12  City_Brussels            50000 non-null  uint8  \n",
      " 13  City_Budapest            50000 non-null  uint8  \n",
      " 14  City_Copenhagen          50000 non-null  uint8  \n",
      " 15  City_Dublin              50000 non-null  uint8  \n",
      " 16  City_Edinburgh           50000 non-null  uint8  \n",
      " 17  City_Geneva              50000 non-null  uint8  \n",
      " 18  City_Hamburg             50000 non-null  uint8  \n",
      " 19  City_Helsinki            50000 non-null  uint8  \n",
      " 20  City_Krakow              50000 non-null  uint8  \n",
      " 21  City_Lisbon              50000 non-null  uint8  \n",
      " 22  City_Ljubljana           50000 non-null  uint8  \n",
      " 23  City_London              50000 non-null  uint8  \n",
      " 24  City_Luxembourg          50000 non-null  uint8  \n",
      " 25  City_Lyon                50000 non-null  uint8  \n",
      " 26  City_Madrid              50000 non-null  uint8  \n",
      " 27  City_Milan               50000 non-null  uint8  \n",
      " 28  City_Munich              50000 non-null  uint8  \n",
      " 29  City_Oporto              50000 non-null  uint8  \n",
      " 30  City_Oslo                50000 non-null  uint8  \n",
      " 31  City_Paris               50000 non-null  uint8  \n",
      " 32  City_Prague              50000 non-null  uint8  \n",
      " 33  City_Rome                50000 non-null  uint8  \n",
      " 34  City_Stockholm           50000 non-null  uint8  \n",
      " 35  City_Vienna              50000 non-null  uint8  \n",
      " 36  City_Warsaw              50000 non-null  uint8  \n",
      " 37  City_Zurich              50000 non-null  uint8  \n",
      " 38  City_nan                 50000 non-null  uint8  \n",
      " 39  Cuisinepopul             50000 non-null  int64  \n",
      " 40  Cuisinecnt               50000 non-null  int64  \n",
      " 41  revcolor                 50000 non-null  int64  \n",
      " 42  difffirstlastrev         50000 non-null  int64  \n",
      " 43  difflast                 50000 non-null  int64  \n",
      "dtypes: float64(4), int64(7), uint8(33)\n",
      "memory usage: 5.8 MB\n"
     ]
    }
   ],
   "source": [
    "df_preproc.info()"
   ]
  },
  {
   "cell_type": "code",
   "execution_count": 234,
   "metadata": {},
   "outputs": [],
   "source": [
    "\n",
    "#Number of Reviews второй (после Ranking) по значимости признак для предсказания рейтинга\n",
    "#и скореллирован с признаками Ranking,Price Range,'Cuisinepopul','Cuisinecnt','difffirstlastrev','difflast'\n",
    "#попробовать предсказать Number of Reviews на основе этих перечисленных???\n",
    "\n",
    "# Теперь выделим тестовую часть\n",
    "\n",
    "# train_data1 = df_preproc[df_preproc['Number of Reviews'].notna()]\n",
    "# test_data1 = df_preproc[df_preproc['Number of Reviews'].isna()]\n",
    "train_data1 = df_preproc[df_preproc['Number of Reviews']!=0]\n",
    "test_data1 = df_preproc[df_preproc['Number of Reviews']==0]\n",
    "\n"
   ]
  },
  {
   "cell_type": "code",
   "execution_count": 235,
   "metadata": {},
   "outputs": [
    {
     "data": {
      "text/plain": [
       "Index(['Ranking', 'Price Range', 'Number of Reviews', 'sample', 'Rating',\n",
       "       'Number_of_Reviews_isNAN', 'newRanking', 'City_Amsterdam',\n",
       "       'City_Athens', 'City_Barcelona', 'City_Berlin', 'City_Bratislava',\n",
       "       'City_Brussels', 'City_Budapest', 'City_Copenhagen', 'City_Dublin',\n",
       "       'City_Edinburgh', 'City_Geneva', 'City_Hamburg', 'City_Helsinki',\n",
       "       'City_Krakow', 'City_Lisbon', 'City_Ljubljana', 'City_London',\n",
       "       'City_Luxembourg', 'City_Lyon', 'City_Madrid', 'City_Milan',\n",
       "       'City_Munich', 'City_Oporto', 'City_Oslo', 'City_Paris', 'City_Prague',\n",
       "       'City_Rome', 'City_Stockholm', 'City_Vienna', 'City_Warsaw',\n",
       "       'City_Zurich', 'City_nan', 'Cuisinepopul', 'Cuisinecnt', 'revcolor',\n",
       "       'difffirstlastrev', 'difflast'],\n",
       "      dtype='object')"
      ]
     },
     "execution_count": 235,
     "metadata": {},
     "output_type": "execute_result"
    }
   ],
   "source": [
    "df_preproc.columns"
   ]
  },
  {
   "cell_type": "code",
   "execution_count": 236,
   "metadata": {},
   "outputs": [
    {
     "data": {
      "text/plain": [
       "['Ranking',\n",
       " 'Rating',\n",
       " 'Number of Reviews',\n",
       " 'sample',\n",
       " 'City_nan',\n",
       " 'Number_of_Reviews_isNAN']"
      ]
     },
     "execution_count": 236,
     "metadata": {},
     "output_type": "execute_result"
    }
   ],
   "source": [
    "df_preproc.columns\n",
    "inclcoltmp=['newRanking', 'Price Range','Cuisinepopul','Cuisinecnt', 'City_Amsterdam', 'City_Athens',\n",
    "       'City_Barcelona', 'City_Berlin', 'City_Bratislava', 'City_Brussels',\n",
    "       'City_Budapest', 'City_Copenhagen', 'City_Dublin', 'City_Edinburgh',\n",
    "       'City_Geneva', 'City_Hamburg', 'City_Helsinki', 'City_Krakow',\n",
    "       'City_Lisbon', 'City_Ljubljana', 'City_London', 'City_Luxembourg',\n",
    "       'City_Lyon', 'City_Madrid', 'City_Milan', 'City_Munich', 'City_Oporto',\n",
    "       'City_Oslo', 'City_Paris', 'City_Prague', 'City_Rome', 'City_Stockholm',\n",
    "       'City_Vienna', 'City_Warsaw', 'City_Zurich','difffirstlastrev','difflast','revcolor']\n",
    "exclcoltmp=list(set(df_preproc.columns).difference(set(inclcoltmp)))\n",
    "exclcoltmp"
   ]
  },
  {
   "cell_type": "code",
   "execution_count": 237,
   "metadata": {},
   "outputs": [
    {
     "data": {
      "text/html": [
       "<div>\n",
       "<style scoped>\n",
       "    .dataframe tbody tr th:only-of-type {\n",
       "        vertical-align: middle;\n",
       "    }\n",
       "\n",
       "    .dataframe tbody tr th {\n",
       "        vertical-align: top;\n",
       "    }\n",
       "\n",
       "    .dataframe thead th {\n",
       "        text-align: right;\n",
       "    }\n",
       "</style>\n",
       "<table border=\"1\" class=\"dataframe\">\n",
       "  <thead>\n",
       "    <tr style=\"text-align: right;\">\n",
       "      <th></th>\n",
       "      <th>Ranking</th>\n",
       "      <th>Price Range</th>\n",
       "      <th>Number of Reviews</th>\n",
       "      <th>sample</th>\n",
       "      <th>Rating</th>\n",
       "      <th>Number_of_Reviews_isNAN</th>\n",
       "      <th>newRanking</th>\n",
       "      <th>City_Amsterdam</th>\n",
       "      <th>City_Athens</th>\n",
       "      <th>City_Barcelona</th>\n",
       "      <th>...</th>\n",
       "      <th>City_Stockholm</th>\n",
       "      <th>City_Vienna</th>\n",
       "      <th>City_Warsaw</th>\n",
       "      <th>City_Zurich</th>\n",
       "      <th>City_nan</th>\n",
       "      <th>Cuisinepopul</th>\n",
       "      <th>Cuisinecnt</th>\n",
       "      <th>revcolor</th>\n",
       "      <th>difffirstlastrev</th>\n",
       "      <th>difflast</th>\n",
       "    </tr>\n",
       "  </thead>\n",
       "  <tbody>\n",
       "    <tr>\n",
       "      <th>20809</th>\n",
       "      <td>3538.0</td>\n",
       "      <td>-1</td>\n",
       "      <td>57.642514</td>\n",
       "      <td>1</td>\n",
       "      <td>5.0</td>\n",
       "      <td>1</td>\n",
       "      <td>1.307948</td>\n",
       "      <td>0</td>\n",
       "      <td>0</td>\n",
       "      <td>0</td>\n",
       "      <td>...</td>\n",
       "      <td>0</td>\n",
       "      <td>0</td>\n",
       "      <td>0</td>\n",
       "      <td>0</td>\n",
       "      <td>0</td>\n",
       "      <td>18988</td>\n",
       "      <td>5</td>\n",
       "      <td>1</td>\n",
       "      <td>0</td>\n",
       "      <td>105</td>\n",
       "    </tr>\n",
       "    <tr>\n",
       "      <th>44075</th>\n",
       "      <td>749.0</td>\n",
       "      <td>2</td>\n",
       "      <td>314.000000</td>\n",
       "      <td>1</td>\n",
       "      <td>4.5</td>\n",
       "      <td>0</td>\n",
       "      <td>0.104129</td>\n",
       "      <td>0</td>\n",
       "      <td>0</td>\n",
       "      <td>0</td>\n",
       "      <td>...</td>\n",
       "      <td>0</td>\n",
       "      <td>0</td>\n",
       "      <td>0</td>\n",
       "      <td>0</td>\n",
       "      <td>0</td>\n",
       "      <td>33759</td>\n",
       "      <td>4</td>\n",
       "      <td>1</td>\n",
       "      <td>30</td>\n",
       "      <td>57</td>\n",
       "    </tr>\n",
       "    <tr>\n",
       "      <th>41287</th>\n",
       "      <td>5215.0</td>\n",
       "      <td>1</td>\n",
       "      <td>87.000000</td>\n",
       "      <td>1</td>\n",
       "      <td>3.5</td>\n",
       "      <td>0</td>\n",
       "      <td>0.725010</td>\n",
       "      <td>0</td>\n",
       "      <td>0</td>\n",
       "      <td>0</td>\n",
       "      <td>...</td>\n",
       "      <td>0</td>\n",
       "      <td>0</td>\n",
       "      <td>0</td>\n",
       "      <td>0</td>\n",
       "      <td>0</td>\n",
       "      <td>28967</td>\n",
       "      <td>6</td>\n",
       "      <td>0</td>\n",
       "      <td>87</td>\n",
       "      <td>88</td>\n",
       "    </tr>\n",
       "  </tbody>\n",
       "</table>\n",
       "<p>3 rows × 44 columns</p>\n",
       "</div>"
      ],
      "text/plain": [
       "       Ranking  Price Range  Number of Reviews  sample  Rating  \\\n",
       "20809   3538.0           -1          57.642514       1     5.0   \n",
       "44075    749.0            2         314.000000       1     4.5   \n",
       "41287   5215.0            1          87.000000       1     3.5   \n",
       "\n",
       "       Number_of_Reviews_isNAN  newRanking  City_Amsterdam  City_Athens  \\\n",
       "20809                        1    1.307948               0            0   \n",
       "44075                        0    0.104129               0            0   \n",
       "41287                        0    0.725010               0            0   \n",
       "\n",
       "       City_Barcelona  ...  City_Stockholm  City_Vienna  City_Warsaw  \\\n",
       "20809               0  ...               0            0            0   \n",
       "44075               0  ...               0            0            0   \n",
       "41287               0  ...               0            0            0   \n",
       "\n",
       "       City_Zurich  City_nan  Cuisinepopul  Cuisinecnt  revcolor  \\\n",
       "20809            0         0         18988           5         1   \n",
       "44075            0         0         33759           4         1   \n",
       "41287            0         0         28967           6         0   \n",
       "\n",
       "       difffirstlastrev  difflast  \n",
       "20809                 0       105  \n",
       "44075                30        57  \n",
       "41287                87        88  \n",
       "\n",
       "[3 rows x 44 columns]"
      ]
     },
     "execution_count": 237,
     "metadata": {},
     "output_type": "execute_result"
    }
   ],
   "source": [
    "train_data1.sample(3)\n"
   ]
  },
  {
   "cell_type": "code",
   "execution_count": 238,
   "metadata": {},
   "outputs": [
    {
     "ename": "ValueError",
     "evalue": "a must be greater than 0 unless no samples are taken",
     "output_type": "error",
     "traceback": [
      "\u001b[1;31m---------------------------------------------------------------------------\u001b[0m",
      "\u001b[1;31mValueError\u001b[0m                                Traceback (most recent call last)",
      "\u001b[1;32m<ipython-input-238-3df1899d348f>\u001b[0m in \u001b[0;36m<module>\u001b[1;34m\u001b[0m\n\u001b[1;32m----> 1\u001b[1;33m \u001b[0mtest_data1\u001b[0m\u001b[1;33m.\u001b[0m\u001b[0msample\u001b[0m\u001b[1;33m(\u001b[0m\u001b[1;36m3\u001b[0m\u001b[1;33m)\u001b[0m\u001b[1;33m\u001b[0m\u001b[1;33m\u001b[0m\u001b[0m\n\u001b[0m",
      "\u001b[1;32m~\\anaconda3\\lib\\site-packages\\pandas\\core\\generic.py\u001b[0m in \u001b[0;36msample\u001b[1;34m(self, n, frac, replace, weights, random_state, axis)\u001b[0m\n\u001b[0;32m   4991\u001b[0m             )\n\u001b[0;32m   4992\u001b[0m \u001b[1;33m\u001b[0m\u001b[0m\n\u001b[1;32m-> 4993\u001b[1;33m         \u001b[0mlocs\u001b[0m \u001b[1;33m=\u001b[0m \u001b[0mrs\u001b[0m\u001b[1;33m.\u001b[0m\u001b[0mchoice\u001b[0m\u001b[1;33m(\u001b[0m\u001b[0maxis_length\u001b[0m\u001b[1;33m,\u001b[0m \u001b[0msize\u001b[0m\u001b[1;33m=\u001b[0m\u001b[0mn\u001b[0m\u001b[1;33m,\u001b[0m \u001b[0mreplace\u001b[0m\u001b[1;33m=\u001b[0m\u001b[0mreplace\u001b[0m\u001b[1;33m,\u001b[0m \u001b[0mp\u001b[0m\u001b[1;33m=\u001b[0m\u001b[0mweights\u001b[0m\u001b[1;33m)\u001b[0m\u001b[1;33m\u001b[0m\u001b[1;33m\u001b[0m\u001b[0m\n\u001b[0m\u001b[0;32m   4994\u001b[0m         \u001b[1;32mreturn\u001b[0m \u001b[0mself\u001b[0m\u001b[1;33m.\u001b[0m\u001b[0mtake\u001b[0m\u001b[1;33m(\u001b[0m\u001b[0mlocs\u001b[0m\u001b[1;33m,\u001b[0m \u001b[0maxis\u001b[0m\u001b[1;33m=\u001b[0m\u001b[0maxis\u001b[0m\u001b[1;33m)\u001b[0m\u001b[1;33m\u001b[0m\u001b[1;33m\u001b[0m\u001b[0m\n\u001b[0;32m   4995\u001b[0m \u001b[1;33m\u001b[0m\u001b[0m\n",
      "\u001b[1;32mmtrand.pyx\u001b[0m in \u001b[0;36mnumpy.random.mtrand.RandomState.choice\u001b[1;34m()\u001b[0m\n",
      "\u001b[1;31mValueError\u001b[0m: a must be greater than 0 unless no samples are taken"
     ]
    }
   ],
   "source": [
    "test_data1.sample(3)"
   ]
  },
  {
   "cell_type": "code",
   "execution_count": null,
   "metadata": {},
   "outputs": [],
   "source": [
    "y = train_data1['Number of Reviews'].values            # наш таргет\n",
    "X = train_data1.drop(exclcoltmp, axis=1)\n",
    "#print(y,X)\n",
    "X_train, X_test, y_train, y_test = train_test_split(X, y, test_size=0.4, random_state=RANDOM_SEED)\n",
    "test_data.shape, train_data.shape, X.shape, X_train.shape, X_test.shape\n",
    "model = RandomForestRegressor(n_estimators=100, verbose=1, n_jobs=-1, random_state=RANDOM_SEED)\n",
    "model.fit(X_train, y_train)\n",
    "y_pred = model.predict(X_test)\n",
    "print('MAE:', metrics.mean_absolute_error(y_test, y_pred))\n"
   ]
  },
  {
   "cell_type": "code",
   "execution_count": null,
   "metadata": {},
   "outputs": [],
   "source": []
  },
  {
   "cell_type": "code",
   "execution_count": 239,
   "metadata": {
    "execution": {
     "iopub.execute_input": "2021-09-08T16:46:45.595863Z",
     "iopub.status.busy": "2021-09-08T16:46:45.595606Z",
     "iopub.status.idle": "2021-09-08T16:46:45.622989Z",
     "shell.execute_reply": "2021-09-08T16:46:45.622089Z",
     "shell.execute_reply.started": "2021-09-08T16:46:45.595801Z"
    }
   },
   "outputs": [],
   "source": [
    "# Теперь выделим тестовую часть\n",
    "train_data = df_preproc.query('sample == 1').drop(['sample'], axis=1)\n",
    "test_data = df_preproc.query('sample == 0').drop(['sample'], axis=1)\n",
    "\n",
    "y = train_data.Rating.values            # наш таргет\n",
    "X = train_data.drop(['Rating','Number_of_Reviews_isNAN'], axis=1)\n"
   ]
  },
  {
   "cell_type": "markdown",
   "metadata": {},
   "source": [
    "**Перед тем как отправлять наши данные на обучение, разделим данные на еще один тест и трейн, для валидации. \n",
    "Это поможет нам проверить, как хорошо наша модель работает, до отправки submissiona на kaggle.**"
   ]
  },
  {
   "cell_type": "code",
   "execution_count": 240,
   "metadata": {
    "execution": {
     "iopub.execute_input": "2021-09-08T16:46:45.624516Z",
     "iopub.status.busy": "2021-09-08T16:46:45.624298Z",
     "iopub.status.idle": "2021-09-08T16:46:45.639641Z",
     "shell.execute_reply": "2021-09-08T16:46:45.638446Z",
     "shell.execute_reply.started": "2021-09-08T16:46:45.624482Z"
    }
   },
   "outputs": [],
   "source": [
    "# Воспользуемся специальной функцие train_test_split для разбивки тестовых данных\n",
    "# выделим 20% данных на валидацию (параметр test_size)\n",
    "X_train, X_test, y_train, y_test = train_test_split(X, y, test_size=0.2, random_state=RANDOM_SEED)"
   ]
  },
  {
   "cell_type": "code",
   "execution_count": 241,
   "metadata": {
    "execution": {
     "iopub.execute_input": "2021-09-08T16:46:45.641703Z",
     "iopub.status.busy": "2021-09-08T16:46:45.641349Z",
     "iopub.status.idle": "2021-09-08T16:46:45.651994Z",
     "shell.execute_reply": "2021-09-08T16:46:45.650925Z",
     "shell.execute_reply.started": "2021-09-08T16:46:45.641638Z"
    }
   },
   "outputs": [
    {
     "data": {
      "text/plain": [
       "((10000, 43), (40000, 43), (40000, 41), (32000, 41), (8000, 41))"
      ]
     },
     "execution_count": 241,
     "metadata": {},
     "output_type": "execute_result"
    }
   ],
   "source": [
    "# проверяем\n",
    "test_data.shape, train_data.shape, X.shape, X_train.shape, X_test.shape"
   ]
  },
  {
   "cell_type": "code",
   "execution_count": 242,
   "metadata": {},
   "outputs": [
    {
     "data": {
      "text/html": [
       "<div>\n",
       "<style scoped>\n",
       "    .dataframe tbody tr th:only-of-type {\n",
       "        vertical-align: middle;\n",
       "    }\n",
       "\n",
       "    .dataframe tbody tr th {\n",
       "        vertical-align: top;\n",
       "    }\n",
       "\n",
       "    .dataframe thead th {\n",
       "        text-align: right;\n",
       "    }\n",
       "</style>\n",
       "<table border=\"1\" class=\"dataframe\">\n",
       "  <thead>\n",
       "    <tr style=\"text-align: right;\">\n",
       "      <th></th>\n",
       "      <th>Ranking</th>\n",
       "      <th>Price Range</th>\n",
       "      <th>Number of Reviews</th>\n",
       "      <th>newRanking</th>\n",
       "      <th>City_Amsterdam</th>\n",
       "      <th>City_Athens</th>\n",
       "      <th>City_Barcelona</th>\n",
       "      <th>City_Berlin</th>\n",
       "      <th>City_Bratislava</th>\n",
       "      <th>City_Brussels</th>\n",
       "      <th>...</th>\n",
       "      <th>City_Stockholm</th>\n",
       "      <th>City_Vienna</th>\n",
       "      <th>City_Warsaw</th>\n",
       "      <th>City_Zurich</th>\n",
       "      <th>City_nan</th>\n",
       "      <th>Cuisinepopul</th>\n",
       "      <th>Cuisinecnt</th>\n",
       "      <th>revcolor</th>\n",
       "      <th>difffirstlastrev</th>\n",
       "      <th>difflast</th>\n",
       "    </tr>\n",
       "  </thead>\n",
       "  <tbody>\n",
       "    <tr>\n",
       "      <th>25243</th>\n",
       "      <td>325.0</td>\n",
       "      <td>1</td>\n",
       "      <td>530.000000</td>\n",
       "      <td>0.095729</td>\n",
       "      <td>0</td>\n",
       "      <td>0</td>\n",
       "      <td>1</td>\n",
       "      <td>0</td>\n",
       "      <td>0</td>\n",
       "      <td>0</td>\n",
       "      <td>...</td>\n",
       "      <td>0</td>\n",
       "      <td>0</td>\n",
       "      <td>0</td>\n",
       "      <td>0</td>\n",
       "      <td>0</td>\n",
       "      <td>49604</td>\n",
       "      <td>7</td>\n",
       "      <td>0</td>\n",
       "      <td>1</td>\n",
       "      <td>48</td>\n",
       "    </tr>\n",
       "    <tr>\n",
       "      <th>15783</th>\n",
       "      <td>12432.0</td>\n",
       "      <td>-1</td>\n",
       "      <td>129.816488</td>\n",
       "      <td>1.728347</td>\n",
       "      <td>0</td>\n",
       "      <td>0</td>\n",
       "      <td>0</td>\n",
       "      <td>0</td>\n",
       "      <td>0</td>\n",
       "      <td>0</td>\n",
       "      <td>...</td>\n",
       "      <td>0</td>\n",
       "      <td>0</td>\n",
       "      <td>0</td>\n",
       "      <td>0</td>\n",
       "      <td>0</td>\n",
       "      <td>11590</td>\n",
       "      <td>1</td>\n",
       "      <td>1</td>\n",
       "      <td>0</td>\n",
       "      <td>145</td>\n",
       "    </tr>\n",
       "    <tr>\n",
       "      <th>46672</th>\n",
       "      <td>1589.0</td>\n",
       "      <td>-1</td>\n",
       "      <td>6.000000</td>\n",
       "      <td>1.538238</td>\n",
       "      <td>0</td>\n",
       "      <td>0</td>\n",
       "      <td>0</td>\n",
       "      <td>0</td>\n",
       "      <td>0</td>\n",
       "      <td>0</td>\n",
       "      <td>...</td>\n",
       "      <td>1</td>\n",
       "      <td>0</td>\n",
       "      <td>0</td>\n",
       "      <td>0</td>\n",
       "      <td>0</td>\n",
       "      <td>2883</td>\n",
       "      <td>1</td>\n",
       "      <td>0</td>\n",
       "      <td>0</td>\n",
       "      <td>1590</td>\n",
       "    </tr>\n",
       "  </tbody>\n",
       "</table>\n",
       "<p>3 rows × 41 columns</p>\n",
       "</div>"
      ],
      "text/plain": [
       "       Ranking  Price Range  Number of Reviews  newRanking  City_Amsterdam  \\\n",
       "25243    325.0            1         530.000000    0.095729               0   \n",
       "15783  12432.0           -1         129.816488    1.728347               0   \n",
       "46672   1589.0           -1           6.000000    1.538238               0   \n",
       "\n",
       "       City_Athens  City_Barcelona  City_Berlin  City_Bratislava  \\\n",
       "25243            0               1            0                0   \n",
       "15783            0               0            0                0   \n",
       "46672            0               0            0                0   \n",
       "\n",
       "       City_Brussels  ...  City_Stockholm  City_Vienna  City_Warsaw  \\\n",
       "25243              0  ...               0            0            0   \n",
       "15783              0  ...               0            0            0   \n",
       "46672              0  ...               1            0            0   \n",
       "\n",
       "       City_Zurich  City_nan  Cuisinepopul  Cuisinecnt  revcolor  \\\n",
       "25243            0         0         49604           7         0   \n",
       "15783            0         0         11590           1         1   \n",
       "46672            0         0          2883           1         0   \n",
       "\n",
       "       difffirstlastrev  difflast  \n",
       "25243                 1        48  \n",
       "15783                 0       145  \n",
       "46672                 0      1590  \n",
       "\n",
       "[3 rows x 41 columns]"
      ]
     },
     "execution_count": 242,
     "metadata": {},
     "output_type": "execute_result"
    }
   ],
   "source": [
    "X.sample(3)"
   ]
  },
  {
   "cell_type": "markdown",
   "metadata": {},
   "source": [
    "# Model \n",
    "Сам ML"
   ]
  },
  {
   "cell_type": "code",
   "execution_count": 243,
   "metadata": {
    "execution": {
     "iopub.execute_input": "2021-09-08T16:46:45.653613Z",
     "iopub.status.busy": "2021-09-08T16:46:45.653340Z",
     "iopub.status.idle": "2021-09-08T16:46:45.658479Z",
     "shell.execute_reply": "2021-09-08T16:46:45.657599Z",
     "shell.execute_reply.started": "2021-09-08T16:46:45.653565Z"
    }
   },
   "outputs": [],
   "source": [
    "# Импортируем необходимые библиотеки:\n",
    "from sklearn.ensemble import RandomForestRegressor # инструмент для создания и обучения модели\n",
    "from sklearn import metrics # инструменты для оценки точности модели"
   ]
  },
  {
   "cell_type": "code",
   "execution_count": 244,
   "metadata": {
    "execution": {
     "iopub.execute_input": "2021-09-08T16:46:45.659874Z",
     "iopub.status.busy": "2021-09-08T16:46:45.659429Z",
     "iopub.status.idle": "2021-09-08T16:46:45.669148Z",
     "shell.execute_reply": "2021-09-08T16:46:45.668218Z",
     "shell.execute_reply.started": "2021-09-08T16:46:45.659648Z"
    }
   },
   "outputs": [],
   "source": [
    "# Создаём модель (НАСТРОЙКИ НЕ ТРОГАЕМ)\n",
    "model = RandomForestRegressor(n_estimators=100, verbose=1, n_jobs=-1, random_state=RANDOM_SEED)"
   ]
  },
  {
   "cell_type": "code",
   "execution_count": 245,
   "metadata": {
    "execution": {
     "iopub.execute_input": "2021-09-08T16:46:45.670574Z",
     "iopub.status.busy": "2021-09-08T16:46:45.670344Z",
     "iopub.status.idle": "2021-09-08T16:46:54.172503Z",
     "shell.execute_reply": "2021-09-08T16:46:54.171457Z",
     "shell.execute_reply.started": "2021-09-08T16:46:45.670534Z"
    }
   },
   "outputs": [
    {
     "name": "stderr",
     "output_type": "stream",
     "text": [
      "[Parallel(n_jobs=-1)]: Using backend ThreadingBackend with 4 concurrent workers.\n",
      "[Parallel(n_jobs=-1)]: Done  42 tasks      | elapsed:    2.9s\n",
      "[Parallel(n_jobs=-1)]: Done 100 out of 100 | elapsed:    6.4s finished\n",
      "[Parallel(n_jobs=4)]: Using backend ThreadingBackend with 4 concurrent workers.\n",
      "[Parallel(n_jobs=4)]: Done  42 tasks      | elapsed:    0.0s\n",
      "[Parallel(n_jobs=4)]: Done 100 out of 100 | elapsed:    0.0s finished\n"
     ]
    }
   ],
   "source": [
    "# Обучаем модель на тестовом наборе данных\n",
    "model.fit(X_train, y_train)\n",
    "\n",
    "# Используем обученную модель для предсказания рейтинга ресторанов в тестовой выборке.\n",
    "# Предсказанные значения записываем в переменную y_pred\n",
    "y_pred = model.predict(X_test)"
   ]
  },
  {
   "cell_type": "code",
   "execution_count": 246,
   "metadata": {
    "execution": {
     "iopub.execute_input": "2021-09-08T16:46:54.174513Z",
     "iopub.status.busy": "2021-09-08T16:46:54.174159Z",
     "iopub.status.idle": "2021-09-08T16:46:54.181379Z",
     "shell.execute_reply": "2021-09-08T16:46:54.180267Z",
     "shell.execute_reply.started": "2021-09-08T16:46:54.174449Z"
    }
   },
   "outputs": [
    {
     "name": "stdout",
     "output_type": "stream",
     "text": [
      "MAE: 0.2057825\n"
     ]
    }
   ],
   "source": [
    "# Сравниваем предсказанные значения (y_pred) с реальными (y_test), и смотрим насколько они в среднем отличаются\n",
    "# Метрика называется Mean Absolute Error (MAE) и показывает среднее отклонение предсказанных значений от фактических.\n",
    "print('MAE:', metrics.mean_absolute_error(y_test, y_pred))"
   ]
  },
  {
   "cell_type": "code",
   "execution_count": null,
   "metadata": {
    "execution": {
     "iopub.execute_input": "2021-09-08T16:46:54.182999Z",
     "iopub.status.busy": "2021-09-08T16:46:54.182593Z",
     "iopub.status.idle": "2021-09-08T16:46:54.550429Z",
     "shell.execute_reply": "2021-09-08T16:46:54.549756Z",
     "shell.execute_reply.started": "2021-09-08T16:46:54.182938Z"
    }
   },
   "outputs": [],
   "source": [
    "# в RandomForestRegressor есть возможность вывести самые важные признаки для модели\n",
    "plt.rcParams['figure.figsize'] = (10,10)\n",
    "feat_importances = pd.Series(model.feature_importances_, index=X.columns)\n",
    "feat_importances.nlargest(15).plot(kind='barh')"
   ]
  },
  {
   "cell_type": "markdown",
   "metadata": {},
   "source": [
    "# Submission\n",
    "Если все устраевает - готовим Submission на кагл"
   ]
  },
  {
   "cell_type": "code",
   "execution_count": null,
   "metadata": {
    "execution": {
     "iopub.execute_input": "2021-09-08T16:46:54.552348Z",
     "iopub.status.busy": "2021-09-08T16:46:54.551828Z",
     "iopub.status.idle": "2021-09-08T16:46:54.583580Z",
     "shell.execute_reply": "2021-09-08T16:46:54.582631Z",
     "shell.execute_reply.started": "2021-09-08T16:46:54.552291Z"
    }
   },
   "outputs": [],
   "source": [
    "test_data.sample(10)"
   ]
  },
  {
   "cell_type": "code",
   "execution_count": null,
   "metadata": {
    "execution": {
     "iopub.execute_input": "2021-09-08T16:46:54.585592Z",
     "iopub.status.busy": "2021-09-08T16:46:54.585075Z",
     "iopub.status.idle": "2021-09-08T16:46:54.593313Z",
     "shell.execute_reply": "2021-09-08T16:46:54.592408Z",
     "shell.execute_reply.started": "2021-09-08T16:46:54.585536Z"
    }
   },
   "outputs": [],
   "source": [
    "test_data = test_data.drop(['Rating'], axis=1)"
   ]
  },
  {
   "cell_type": "code",
   "execution_count": null,
   "metadata": {
    "execution": {
     "iopub.execute_input": "2021-09-08T16:46:54.595474Z",
     "iopub.status.busy": "2021-09-08T16:46:54.594935Z",
     "iopub.status.idle": "2021-09-08T16:46:54.611966Z",
     "shell.execute_reply": "2021-09-08T16:46:54.610965Z",
     "shell.execute_reply.started": "2021-09-08T16:46:54.595256Z"
    }
   },
   "outputs": [],
   "source": [
    "sample_submission"
   ]
  },
  {
   "cell_type": "code",
   "execution_count": null,
   "metadata": {
    "execution": {
     "iopub.execute_input": "2021-09-08T16:46:54.614149Z",
     "iopub.status.busy": "2021-09-08T16:46:54.613781Z",
     "iopub.status.idle": "2021-09-08T16:46:54.725674Z",
     "shell.execute_reply": "2021-09-08T16:46:54.724931Z",
     "shell.execute_reply.started": "2021-09-08T16:46:54.614087Z"
    }
   },
   "outputs": [],
   "source": [
    "predict_submission = model.predict(test_data)"
   ]
  },
  {
   "cell_type": "code",
   "execution_count": null,
   "metadata": {
    "execution": {
     "iopub.execute_input": "2021-09-08T16:46:54.727397Z",
     "iopub.status.busy": "2021-09-08T16:46:54.727126Z",
     "iopub.status.idle": "2021-09-08T16:46:54.733039Z",
     "shell.execute_reply": "2021-09-08T16:46:54.731955Z",
     "shell.execute_reply.started": "2021-09-08T16:46:54.727348Z"
    }
   },
   "outputs": [],
   "source": [
    "predict_submission"
   ]
  },
  {
   "cell_type": "code",
   "execution_count": null,
   "metadata": {
    "execution": {
     "iopub.execute_input": "2021-09-08T16:46:54.734558Z",
     "iopub.status.busy": "2021-09-08T16:46:54.734220Z",
     "iopub.status.idle": "2021-09-08T16:46:55.246760Z",
     "shell.execute_reply": "2021-09-08T16:46:55.245798Z",
     "shell.execute_reply.started": "2021-09-08T16:46:54.734501Z"
    }
   },
   "outputs": [],
   "source": [
    "sample_submission['Rating'] = predict_submission\n",
    "sample_submission.to_csv('submission.csv', index=False)\n",
    "sample_submission.head(10)"
   ]
  },
  {
   "cell_type": "markdown",
   "metadata": {},
   "source": [
    "# What's next?\n",
    "Или что делать, чтоб улучшить результат:\n",
    "* Обработать оставшиеся признаки в понятный для машины формат\n",
    "* Посмотреть, что еще можно извлечь из признаков\n",
    "* Сгенерировать новые признаки\n",
    "* Подгрузить дополнительные данные, например: по населению или благосостоянию городов\n",
    "* Подобрать состав признаков\n",
    "\n",
    "В общем, процесс творческий и весьма увлекательный! Удачи в соревновании!\n"
   ]
  },
  {
   "cell_type": "code",
   "execution_count": null,
   "metadata": {},
   "outputs": [],
   "source": []
  }
 ],
 "metadata": {
  "kernelspec": {
   "display_name": "Python 3",
   "language": "python",
   "name": "python3"
  },
  "language_info": {
   "codemirror_mode": {
    "name": "ipython",
    "version": 3
   },
   "file_extension": ".py",
   "mimetype": "text/x-python",
   "name": "python",
   "nbconvert_exporter": "python",
   "pygments_lexer": "ipython3",
   "version": "3.8.5"
  }
 },
 "nbformat": 4,
 "nbformat_minor": 4
}
